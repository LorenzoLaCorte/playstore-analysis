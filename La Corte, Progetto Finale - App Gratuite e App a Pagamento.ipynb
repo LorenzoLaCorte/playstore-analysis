{
 "cells": [
  {
   "cell_type": "markdown",
   "metadata": {},
   "source": [
    "# Progetto Finale di Introduzione alla Data Science\n",
    "Autore: **Lorenzo La Corte** - S4784539\n",
    "\n",
    "Dataset: **Google Play Store Apps**\n",
    "\n",
    "--------------------------------------------------------------------------------------------------------------------\n",
    "\n",
    "## Gradimento delle App Gratuite o a Pagamento\n",
    "\n",
    "**Obiettivo dell'analisi:**\n",
    "Studiare le criticità e i punti di forza di app a pagamento e di app gratuite con pubblicità.\n",
    "\n",
    "\n",
    "**Nel dettaglio:**\n",
    "Cerco con questa analisi di capire se è possibile che il prezzo di un'applicazione influenzi la valutazione e il numero di recensioni.\n",
    "\n",
    "Immagino infatti che l'acquirente di un'app a pagamento sia piu' stimolato a lasciare una recensione, per comunicare agli altri se il prodotto valga o meno la spesa.\n",
    "\n",
    "Inoltre credo che l'acquirente di un'applicazione a pagamento **scadente** sia molto piu' propenso a lasciarne una recensione negativa; al contrario penso che un'app deludente ma gratuita sarà probabilmente solo disinstallata. \n",
    "\n",
    "Allo stesso tempo per monetizzare app gratuite sono necessarie **pubblicità**; se queste sono troppe o troppo invasive penso che possano portare a rating negativi.\n",
    "\n",
    "\n",
    "**Ipotesi:**\n",
    "Le ipotesi sono quindi che:\n",
    "1. - le app gratuite siano piu' gradite in generale delle app a pagamento.\n",
    "2. - in proporzione alle installazioni, le app a pagamento siano piu' recensite di quelle gratuite.\n",
    "3. - le pubblicità portino a recensioni negative.\n",
    "\n",
    "\n",
    "--------------------------------------------------------------------------------------------------------------------\n",
    "\n",
    "## Indice\n",
    "\n",
    "* [0.) Operazioni Preliminari](#0)\n",
    "\n",
    "\n",
    "* [1.) Analisi su Rating di App Gratuite o a Pagamento](#1)\n",
    "* [2.) Analisi su Installazioni e Recensioni di App Gratuite o a Pagamento](#2)\n",
    "* [3.) Correlazione tra Pubblicità nelle App e Recensioni Negative](#3)\n",
    "\n",
    "\n",
    "* [4.) Conclusioni Riguardo all'Analisi](#4)\n",
    "\n",
    "\n",
    "* [5.) Predizione dei Sentimenti dalle Recensioni dal Testo (Apprendimento Supervisionato)](#5)   \n",
    "\n",
    "* [6.) Calcolo dei Sentimenti dalle Recensioni (Metodo Manuale)](#6)   "
   ]
  },
  {
   "cell_type": "markdown",
   "metadata": {},
   "source": [
    "## Operazioni Preliminari <a id='0'></a>"
   ]
  },
  {
   "cell_type": "markdown",
   "metadata": {},
   "source": [
    "Importo le librerie di base:"
   ]
  },
  {
   "cell_type": "code",
   "execution_count": 1,
   "metadata": {
    "colab": {
     "base_uri": "https://localhost:8080/"
    },
    "id": "DG6_rz0Y_1Tx",
    "outputId": "3a50a665-11e2-455f-eb48-a7f98e4c3f51"
   },
   "outputs": [],
   "source": [
    "import pandas as pd \n",
    "import matplotlib.pyplot as plt \n",
    "import numpy as np\n",
    "import scipy.stats as stats\n",
    "# !pip install scipy==1.7.0\n",
    "import scipy"
   ]
  },
  {
   "cell_type": "markdown",
   "metadata": {
    "id": "QYXUP9A4_cUe"
   },
   "source": [
    "Importo il dataset e ne visualizzo le prime righe:"
   ]
  },
  {
   "cell_type": "code",
   "execution_count": 2,
   "metadata": {
    "colab": {
     "base_uri": "https://localhost:8080/",
     "height": 302
    },
    "id": "PnExuBeH_YAz",
    "outputId": "a21e9113-e580-4f70-e5c6-49da01da5b79"
   },
   "outputs": [
    {
     "data": {
      "text/html": [
       "<div>\n",
       "<style scoped>\n",
       "    .dataframe tbody tr th:only-of-type {\n",
       "        vertical-align: middle;\n",
       "    }\n",
       "\n",
       "    .dataframe tbody tr th {\n",
       "        vertical-align: top;\n",
       "    }\n",
       "\n",
       "    .dataframe thead th {\n",
       "        text-align: right;\n",
       "    }\n",
       "</style>\n",
       "<table border=\"1\" class=\"dataframe\">\n",
       "  <thead>\n",
       "    <tr style=\"text-align: right;\">\n",
       "      <th></th>\n",
       "      <th>App</th>\n",
       "      <th>Category</th>\n",
       "      <th>Rating</th>\n",
       "      <th>Reviews</th>\n",
       "      <th>Size</th>\n",
       "      <th>Installs</th>\n",
       "      <th>Type</th>\n",
       "      <th>Price</th>\n",
       "      <th>Content Rating</th>\n",
       "      <th>Genres</th>\n",
       "      <th>Last Updated</th>\n",
       "      <th>Current Ver</th>\n",
       "      <th>Android Ver</th>\n",
       "    </tr>\n",
       "  </thead>\n",
       "  <tbody>\n",
       "    <tr>\n",
       "      <th>0</th>\n",
       "      <td>Photo Editor &amp; Candy Camera &amp; Grid &amp; ScrapBook</td>\n",
       "      <td>ART_AND_DESIGN</td>\n",
       "      <td>4.1</td>\n",
       "      <td>159</td>\n",
       "      <td>19M</td>\n",
       "      <td>10,000+</td>\n",
       "      <td>Free</td>\n",
       "      <td>0</td>\n",
       "      <td>Everyone</td>\n",
       "      <td>Art &amp; Design</td>\n",
       "      <td>January 7, 2018</td>\n",
       "      <td>1.0.0</td>\n",
       "      <td>4.0.3 and up</td>\n",
       "    </tr>\n",
       "    <tr>\n",
       "      <th>1</th>\n",
       "      <td>Coloring book moana</td>\n",
       "      <td>ART_AND_DESIGN</td>\n",
       "      <td>3.9</td>\n",
       "      <td>967</td>\n",
       "      <td>14M</td>\n",
       "      <td>500,000+</td>\n",
       "      <td>Free</td>\n",
       "      <td>0</td>\n",
       "      <td>Everyone</td>\n",
       "      <td>Art &amp; Design;Pretend Play</td>\n",
       "      <td>January 15, 2018</td>\n",
       "      <td>2.0.0</td>\n",
       "      <td>4.0.3 and up</td>\n",
       "    </tr>\n",
       "    <tr>\n",
       "      <th>2</th>\n",
       "      <td>U Launcher Lite – FREE Live Cool Themes, Hide ...</td>\n",
       "      <td>ART_AND_DESIGN</td>\n",
       "      <td>4.7</td>\n",
       "      <td>87510</td>\n",
       "      <td>8.7M</td>\n",
       "      <td>5,000,000+</td>\n",
       "      <td>Free</td>\n",
       "      <td>0</td>\n",
       "      <td>Everyone</td>\n",
       "      <td>Art &amp; Design</td>\n",
       "      <td>August 1, 2018</td>\n",
       "      <td>1.2.4</td>\n",
       "      <td>4.0.3 and up</td>\n",
       "    </tr>\n",
       "    <tr>\n",
       "      <th>3</th>\n",
       "      <td>Sketch - Draw &amp; Paint</td>\n",
       "      <td>ART_AND_DESIGN</td>\n",
       "      <td>4.5</td>\n",
       "      <td>215644</td>\n",
       "      <td>25M</td>\n",
       "      <td>50,000,000+</td>\n",
       "      <td>Free</td>\n",
       "      <td>0</td>\n",
       "      <td>Teen</td>\n",
       "      <td>Art &amp; Design</td>\n",
       "      <td>June 8, 2018</td>\n",
       "      <td>Varies with device</td>\n",
       "      <td>4.2 and up</td>\n",
       "    </tr>\n",
       "    <tr>\n",
       "      <th>4</th>\n",
       "      <td>Pixel Draw - Number Art Coloring Book</td>\n",
       "      <td>ART_AND_DESIGN</td>\n",
       "      <td>4.3</td>\n",
       "      <td>967</td>\n",
       "      <td>2.8M</td>\n",
       "      <td>100,000+</td>\n",
       "      <td>Free</td>\n",
       "      <td>0</td>\n",
       "      <td>Everyone</td>\n",
       "      <td>Art &amp; Design;Creativity</td>\n",
       "      <td>June 20, 2018</td>\n",
       "      <td>1.1</td>\n",
       "      <td>4.4 and up</td>\n",
       "    </tr>\n",
       "  </tbody>\n",
       "</table>\n",
       "</div>"
      ],
      "text/plain": [
       "                                                 App        Category  Rating  \\\n",
       "0     Photo Editor & Candy Camera & Grid & ScrapBook  ART_AND_DESIGN     4.1   \n",
       "1                                Coloring book moana  ART_AND_DESIGN     3.9   \n",
       "2  U Launcher Lite – FREE Live Cool Themes, Hide ...  ART_AND_DESIGN     4.7   \n",
       "3                              Sketch - Draw & Paint  ART_AND_DESIGN     4.5   \n",
       "4              Pixel Draw - Number Art Coloring Book  ART_AND_DESIGN     4.3   \n",
       "\n",
       "  Reviews  Size     Installs  Type Price Content Rating  \\\n",
       "0     159   19M      10,000+  Free     0       Everyone   \n",
       "1     967   14M     500,000+  Free     0       Everyone   \n",
       "2   87510  8.7M   5,000,000+  Free     0       Everyone   \n",
       "3  215644   25M  50,000,000+  Free     0           Teen   \n",
       "4     967  2.8M     100,000+  Free     0       Everyone   \n",
       "\n",
       "                      Genres      Last Updated         Current Ver  \\\n",
       "0               Art & Design   January 7, 2018               1.0.0   \n",
       "1  Art & Design;Pretend Play  January 15, 2018               2.0.0   \n",
       "2               Art & Design    August 1, 2018               1.2.4   \n",
       "3               Art & Design      June 8, 2018  Varies with device   \n",
       "4    Art & Design;Creativity     June 20, 2018                 1.1   \n",
       "\n",
       "    Android Ver  \n",
       "0  4.0.3 and up  \n",
       "1  4.0.3 and up  \n",
       "2  4.0.3 and up  \n",
       "3    4.2 and up  \n",
       "4    4.4 and up  "
      ]
     },
     "execution_count": 2,
     "metadata": {},
     "output_type": "execute_result"
    }
   ],
   "source": [
    "playstore = pd.read_csv('googleplaystore.csv')\n",
    "playstore.head()"
   ]
  },
  {
   "cell_type": "markdown",
   "metadata": {},
   "source": [
    "Visualizzo numero di righe e di caratteristiche:"
   ]
  },
  {
   "cell_type": "code",
   "execution_count": 3,
   "metadata": {
    "colab": {
     "base_uri": "https://localhost:8080/"
    },
    "id": "yoJXIEgHFyVc",
    "outputId": "cac9bf25-8d14-455b-82c8-e7ea587d358e"
   },
   "outputs": [
    {
     "name": "stdout",
     "output_type": "stream",
     "text": [
      "(Numero di Righe, Numero di Colonne): (10841, 13)\n"
     ]
    }
   ],
   "source": [
    "print(\"(Numero di Righe, Numero di Colonne): \" + str(playstore.shape))\n",
    "righe_iniziali = playstore.shape[0] # salvo per dopo le righe prima della pulizia"
   ]
  },
  {
   "cell_type": "markdown",
   "metadata": {},
   "source": [
    "## Pulizia del Dataset "
   ]
  },
  {
   "cell_type": "markdown",
   "metadata": {
    "id": "C-3oOC0QO_ZY"
   },
   "source": [
    "Una veloce analisi del dataset mi porta a pensare che le caratteristiche quantitive siano:\n",
    "- Rating,\n",
    "- Reviews,\n",
    "- Size,\n",
    "- Installs,\n",
    "- Price."
   ]
  },
  {
   "cell_type": "markdown",
   "metadata": {
    "id": "rBXiFGHMEPV9"
   },
   "source": [
    "Utilizzo il metodo *describe()* e noto che esso **mi restituisce solo Rating come variabile quantitativa**."
   ]
  },
  {
   "cell_type": "code",
   "execution_count": 4,
   "metadata": {},
   "outputs": [
    {
     "data": {
      "text/html": [
       "<div>\n",
       "<style scoped>\n",
       "    .dataframe tbody tr th:only-of-type {\n",
       "        vertical-align: middle;\n",
       "    }\n",
       "\n",
       "    .dataframe tbody tr th {\n",
       "        vertical-align: top;\n",
       "    }\n",
       "\n",
       "    .dataframe thead th {\n",
       "        text-align: right;\n",
       "    }\n",
       "</style>\n",
       "<table border=\"1\" class=\"dataframe\">\n",
       "  <thead>\n",
       "    <tr style=\"text-align: right;\">\n",
       "      <th></th>\n",
       "      <th>Rating</th>\n",
       "    </tr>\n",
       "  </thead>\n",
       "  <tbody>\n",
       "    <tr>\n",
       "      <th>count</th>\n",
       "      <td>9367.000000</td>\n",
       "    </tr>\n",
       "    <tr>\n",
       "      <th>mean</th>\n",
       "      <td>4.193338</td>\n",
       "    </tr>\n",
       "    <tr>\n",
       "      <th>std</th>\n",
       "      <td>0.537431</td>\n",
       "    </tr>\n",
       "    <tr>\n",
       "      <th>min</th>\n",
       "      <td>1.000000</td>\n",
       "    </tr>\n",
       "    <tr>\n",
       "      <th>25%</th>\n",
       "      <td>4.000000</td>\n",
       "    </tr>\n",
       "    <tr>\n",
       "      <th>50%</th>\n",
       "      <td>4.300000</td>\n",
       "    </tr>\n",
       "    <tr>\n",
       "      <th>75%</th>\n",
       "      <td>4.500000</td>\n",
       "    </tr>\n",
       "    <tr>\n",
       "      <th>max</th>\n",
       "      <td>19.000000</td>\n",
       "    </tr>\n",
       "  </tbody>\n",
       "</table>\n",
       "</div>"
      ],
      "text/plain": [
       "            Rating\n",
       "count  9367.000000\n",
       "mean      4.193338\n",
       "std       0.537431\n",
       "min       1.000000\n",
       "25%       4.000000\n",
       "50%       4.300000\n",
       "75%       4.500000\n",
       "max      19.000000"
      ]
     },
     "execution_count": 4,
     "metadata": {},
     "output_type": "execute_result"
    }
   ],
   "source": [
    "playstore.describe() # mi dovrebbe restituire solo le caratteristiche quantitative"
   ]
  },
  {
   "cell_type": "markdown",
   "metadata": {},
   "source": [
    "Probabilmente devo **pulire il dataset** per rendere 'Reviews', 'Size', 'Installs', 'Price' quantitative.\n",
    "\n",
    "Quindi:\n",
    "- A) Gestire eventuali valori nulli,\n",
    "- B) Convertire Reviews, Installs e Price a quantitative,\n",
    "- C) Eliminazione dei duplicati.\n",
    "\n",
    "Anche la **Size** risulta non quantitativa: la colonna è composta da stringhe; in questo caso **non gestisco questa caratteristica in quanto non mi sembra utile alle analisi**; gestisco invece le altre caratteristiche."
   ]
  },
  {
   "cell_type": "markdown",
   "metadata": {},
   "source": [
    "## Gestione dei Valori Nulli"
   ]
  },
  {
   "cell_type": "markdown",
   "metadata": {},
   "source": [
    "Conto nel dataset tutte le **occorrenze nulle**:"
   ]
  },
  {
   "cell_type": "code",
   "execution_count": 5,
   "metadata": {
    "colab": {
     "base_uri": "https://localhost:8080/"
    },
    "id": "ZZ71CKCxwP1D",
    "outputId": "f591cef0-c43a-411b-e387-6906a092dc7a"
   },
   "outputs": [
    {
     "data": {
      "text/plain": [
       "App                  0\n",
       "Category             0\n",
       "Rating            1474\n",
       "Reviews              0\n",
       "Size                 0\n",
       "Installs             0\n",
       "Type                 1\n",
       "Price                0\n",
       "Content Rating       1\n",
       "Genres               0\n",
       "Last Updated         0\n",
       "Current Ver          8\n",
       "Android Ver          3\n",
       "dtype: int64"
      ]
     },
     "execution_count": 5,
     "metadata": {},
     "output_type": "execute_result"
    }
   ],
   "source": [
    "playstore.isnull().sum()"
   ]
  },
  {
   "cell_type": "markdown",
   "metadata": {
    "id": "oG9kN9Gswrx2"
   },
   "source": [
    "Prendiamo in considerazione quindi la colonna **Rating**. Abbiamo due soluzioni:\n",
    "1. Provare a completare le righe con elementi nulli, in questo caso con la media degli altri valori del dataset, \n",
    "2. Eliminare le righe con elementi nulli.\n",
    "\n",
    "Adottiamo la prima soluzione per la colonna **Rating**, mentre eliminamo le altre righe con occorrenze nulle per altre caratteristiche, che dovrebbero essere molto poche."
   ]
  },
  {
   "cell_type": "code",
   "execution_count": 6,
   "metadata": {
    "colab": {
     "base_uri": "https://localhost:8080/"
    },
    "id": "7M1fTy65xCrk",
    "outputId": "f6f5e5c5-7d8b-4274-e6f6-83268e1d1d05"
   },
   "outputs": [
    {
     "name": "stdout",
     "output_type": "stream",
     "text": [
      "App               0\n",
      "Category          0\n",
      "Rating            0\n",
      "Reviews           0\n",
      "Size              0\n",
      "Installs          0\n",
      "Type              0\n",
      "Price             0\n",
      "Content Rating    0\n",
      "Genres            0\n",
      "Last Updated      0\n",
      "Current Ver       0\n",
      "Android Ver       0\n",
      "dtype: int64\n",
      "Numero di Righe Rimaste: 10829\n"
     ]
    }
   ],
   "source": [
    "# Soluzione 1 (per Rating)\n",
    "average_rating = playstore['Rating'].mean()\n",
    "playstore['Rating'].fillna(average_rating, inplace = True) # completa i mancanti con la media degli altri\n",
    "\n",
    "# Soluzione 2 (per i pochi altri valori nulli)\n",
    "playstore.dropna(how ='any', inplace = True)\n",
    "\n",
    "# Risultato\n",
    "print(playstore.isnull().sum())\n",
    "print(\"Numero di Righe Rimaste: \" + str(playstore.shape[0]))"
   ]
  },
  {
   "cell_type": "markdown",
   "metadata": {},
   "source": [
    "Ho quindi rimosso tutti i valori nulli dal dataset eliminando pochissime righe, cercando di mantenere piu' informazione possibile."
   ]
  },
  {
   "cell_type": "markdown",
   "metadata": {},
   "source": [
    "## Gestione delle Variabili Quantitative\n",
    "Analizzo ora le feature Installs, Reviews, Price e Type; esse **dovrebbero essere quantitative ma non lo sono**.\n",
    "\n",
    "Guardo quindi il loro tipo:"
   ]
  },
  {
   "cell_type": "code",
   "execution_count": 7,
   "metadata": {},
   "outputs": [
    {
     "name": "stdout",
     "output_type": "stream",
     "text": [
      "Tipo di Installs:\t<class 'str'>\n",
      "Tipo di Reviews:\t<class 'str'>\n",
      "Tipo di Price:\t\t<class 'str'>\n",
      "Tipo di Type:\t\t<class 'str'>\n"
     ]
    }
   ],
   "source": [
    "print(\"Tipo di Installs:\\t\" + str(type(playstore['Installs'][0])))\n",
    "print(\"Tipo di Reviews:\\t\" + str(type(playstore['Reviews'][0])))\n",
    "print(\"Tipo di Price:\\t\\t\" + str(type(playstore['Price'][0])))\n",
    "print(\"Tipo di Type:\\t\\t\" + str(type(playstore['Type'][0])))"
   ]
  },
  {
   "cell_type": "markdown",
   "metadata": {},
   "source": [
    "--------------------------------------------------------------------------------------------------\n",
    "\n",
    "Per trasformare Installs in quantitativa ho analizzato i suoi valori e **rimosso ciò che rendeva questa caratteristica una stringa**, ovvero caratteri e valori particolari, per poi fare una conversione ad un tipo numerico:"
   ]
  },
  {
   "cell_type": "code",
   "execution_count": 8,
   "metadata": {},
   "outputs": [
    {
     "data": {
      "text/html": [
       "<div>\n",
       "<style scoped>\n",
       "    .dataframe tbody tr th:only-of-type {\n",
       "        vertical-align: middle;\n",
       "    }\n",
       "\n",
       "    .dataframe tbody tr th {\n",
       "        vertical-align: top;\n",
       "    }\n",
       "\n",
       "    .dataframe thead th {\n",
       "        text-align: right;\n",
       "    }\n",
       "</style>\n",
       "<table border=\"1\" class=\"dataframe\">\n",
       "  <thead>\n",
       "    <tr style=\"text-align: right;\">\n",
       "      <th></th>\n",
       "      <th>Rating</th>\n",
       "      <th>Installs</th>\n",
       "    </tr>\n",
       "  </thead>\n",
       "  <tbody>\n",
       "    <tr>\n",
       "      <th>count</th>\n",
       "      <td>10829.000000</td>\n",
       "      <td>1.082900e+04</td>\n",
       "    </tr>\n",
       "    <tr>\n",
       "      <th>mean</th>\n",
       "      <td>4.192041</td>\n",
       "      <td>1.547990e+07</td>\n",
       "    </tr>\n",
       "    <tr>\n",
       "      <th>std</th>\n",
       "      <td>0.479038</td>\n",
       "      <td>8.507114e+07</td>\n",
       "    </tr>\n",
       "    <tr>\n",
       "      <th>min</th>\n",
       "      <td>1.000000</td>\n",
       "      <td>0.000000e+00</td>\n",
       "    </tr>\n",
       "    <tr>\n",
       "      <th>25%</th>\n",
       "      <td>4.100000</td>\n",
       "      <td>5.000000e+03</td>\n",
       "    </tr>\n",
       "    <tr>\n",
       "      <th>50%</th>\n",
       "      <td>4.200000</td>\n",
       "      <td>1.000000e+05</td>\n",
       "    </tr>\n",
       "    <tr>\n",
       "      <th>75%</th>\n",
       "      <td>4.500000</td>\n",
       "      <td>5.000000e+06</td>\n",
       "    </tr>\n",
       "    <tr>\n",
       "      <th>max</th>\n",
       "      <td>5.000000</td>\n",
       "      <td>1.000000e+09</td>\n",
       "    </tr>\n",
       "  </tbody>\n",
       "</table>\n",
       "</div>"
      ],
      "text/plain": [
       "             Rating      Installs\n",
       "count  10829.000000  1.082900e+04\n",
       "mean       4.192041  1.547990e+07\n",
       "std        0.479038  8.507114e+07\n",
       "min        1.000000  0.000000e+00\n",
       "25%        4.100000  5.000000e+03\n",
       "50%        4.200000  1.000000e+05\n",
       "75%        4.500000  5.000000e+06\n",
       "max        5.000000  1.000000e+09"
      ]
     },
     "execution_count": 8,
     "metadata": {},
     "output_type": "execute_result"
    }
   ],
   "source": [
    "if(type(playstore['Installs'][0]) is str):\n",
    "    playstore = playstore[playstore.Installs != \"Free\"] # rimuovo le righe con questo valore per Installs\n",
    "    playstore['Installs'] = [float(x.replace(\"+\",\"\").replace(\",\",\".\").replace(\".\",\"\")) for x in playstore['Installs']]\n",
    "    \n",
    "playstore.describe()"
   ]
  },
  {
   "cell_type": "markdown",
   "metadata": {},
   "source": [
    "Effettuo quindi la stessa operazione sulle altre caratteristiche, al fine di renderle quantitative:"
   ]
  },
  {
   "cell_type": "code",
   "execution_count": 9,
   "metadata": {},
   "outputs": [
    {
     "data": {
      "text/html": [
       "<div>\n",
       "<style scoped>\n",
       "    .dataframe tbody tr th:only-of-type {\n",
       "        vertical-align: middle;\n",
       "    }\n",
       "\n",
       "    .dataframe tbody tr th {\n",
       "        vertical-align: top;\n",
       "    }\n",
       "\n",
       "    .dataframe thead th {\n",
       "        text-align: right;\n",
       "    }\n",
       "</style>\n",
       "<table border=\"1\" class=\"dataframe\">\n",
       "  <thead>\n",
       "    <tr style=\"text-align: right;\">\n",
       "      <th></th>\n",
       "      <th>Rating</th>\n",
       "      <th>Reviews</th>\n",
       "      <th>Installs</th>\n",
       "      <th>Type</th>\n",
       "      <th>Price</th>\n",
       "    </tr>\n",
       "  </thead>\n",
       "  <tbody>\n",
       "    <tr>\n",
       "      <th>count</th>\n",
       "      <td>10829.000000</td>\n",
       "      <td>1.082900e+04</td>\n",
       "      <td>1.082900e+04</td>\n",
       "      <td>10829.000000</td>\n",
       "      <td>10829.000000</td>\n",
       "    </tr>\n",
       "    <tr>\n",
       "      <th>mean</th>\n",
       "      <td>4.192041</td>\n",
       "      <td>4.446018e+05</td>\n",
       "      <td>1.547990e+07</td>\n",
       "      <td>0.073599</td>\n",
       "      <td>1.028091</td>\n",
       "    </tr>\n",
       "    <tr>\n",
       "      <th>std</th>\n",
       "      <td>0.479038</td>\n",
       "      <td>2.929213e+06</td>\n",
       "      <td>8.507114e+07</td>\n",
       "      <td>0.261129</td>\n",
       "      <td>15.957778</td>\n",
       "    </tr>\n",
       "    <tr>\n",
       "      <th>min</th>\n",
       "      <td>1.000000</td>\n",
       "      <td>0.000000e+00</td>\n",
       "      <td>0.000000e+00</td>\n",
       "      <td>0.000000</td>\n",
       "      <td>0.000000</td>\n",
       "    </tr>\n",
       "    <tr>\n",
       "      <th>25%</th>\n",
       "      <td>4.100000</td>\n",
       "      <td>3.800000e+01</td>\n",
       "      <td>5.000000e+03</td>\n",
       "      <td>0.000000</td>\n",
       "      <td>0.000000</td>\n",
       "    </tr>\n",
       "    <tr>\n",
       "      <th>50%</th>\n",
       "      <td>4.200000</td>\n",
       "      <td>2.100000e+03</td>\n",
       "      <td>1.000000e+05</td>\n",
       "      <td>0.000000</td>\n",
       "      <td>0.000000</td>\n",
       "    </tr>\n",
       "    <tr>\n",
       "      <th>75%</th>\n",
       "      <td>4.500000</td>\n",
       "      <td>5.481500e+04</td>\n",
       "      <td>5.000000e+06</td>\n",
       "      <td>0.000000</td>\n",
       "      <td>0.000000</td>\n",
       "    </tr>\n",
       "    <tr>\n",
       "      <th>max</th>\n",
       "      <td>5.000000</td>\n",
       "      <td>7.815831e+07</td>\n",
       "      <td>1.000000e+09</td>\n",
       "      <td>1.000000</td>\n",
       "      <td>400.000000</td>\n",
       "    </tr>\n",
       "  </tbody>\n",
       "</table>\n",
       "</div>"
      ],
      "text/plain": [
       "             Rating       Reviews      Installs          Type         Price\n",
       "count  10829.000000  1.082900e+04  1.082900e+04  10829.000000  10829.000000\n",
       "mean       4.192041  4.446018e+05  1.547990e+07      0.073599      1.028091\n",
       "std        0.479038  2.929213e+06  8.507114e+07      0.261129     15.957778\n",
       "min        1.000000  0.000000e+00  0.000000e+00      0.000000      0.000000\n",
       "25%        4.100000  3.800000e+01  5.000000e+03      0.000000      0.000000\n",
       "50%        4.200000  2.100000e+03  1.000000e+05      0.000000      0.000000\n",
       "75%        4.500000  5.481500e+04  5.000000e+06      0.000000      0.000000\n",
       "max        5.000000  7.815831e+07  1.000000e+09      1.000000    400.000000"
      ]
     },
     "execution_count": 9,
     "metadata": {},
     "output_type": "execute_result"
    }
   ],
   "source": [
    "if(type(playstore['Reviews'][0]) is str):\n",
    "    playstore['Reviews'] = [float(x.replace(\"M\",\"000000\")) for x in playstore['Reviews']]\n",
    "\n",
    "if(type(playstore['Price'][0]) is str):\n",
    "    playstore = playstore[playstore.Price != \"Everyone\"] # rimuovo le righe con questo valore per Price\n",
    "    playstore['Price'] = [float(x.replace(\"$\",\"\")) for x in playstore['Price']]\n",
    "\n",
    "if(type(playstore['Type'][0]) is str):\n",
    "    playstore['Type'] = [int(x.replace(\"Free\",\"0\").replace(\"Paid\",\"1\")) for x in playstore['Type']]\n",
    "\n",
    "playstore.describe()"
   ]
  },
  {
   "cell_type": "markdown",
   "metadata": {},
   "source": [
    "Ne ho approfittato per **rendere anche Type quantitativa**, in particolare: \n",
    "\n",
    "- le **App Gratuite** avranno come valore **0**,\n",
    "- le **App a Pagamento** avranno come valore **1**."
   ]
  },
  {
   "cell_type": "markdown",
   "metadata": {},
   "source": [
    "## Elimazione Duplicati\n",
    "Infine, guardo se ci sono duplicati nel dataset e nel caso li rimuovo.\n",
    "\n",
    "Inizio osservando tutte le applicazioni che risultano duplicate:"
   ]
  },
  {
   "cell_type": "code",
   "execution_count": 10,
   "metadata": {},
   "outputs": [
    {
     "data": {
      "text/html": [
       "<div>\n",
       "<style scoped>\n",
       "    .dataframe tbody tr th:only-of-type {\n",
       "        vertical-align: middle;\n",
       "    }\n",
       "\n",
       "    .dataframe tbody tr th {\n",
       "        vertical-align: top;\n",
       "    }\n",
       "\n",
       "    .dataframe thead th {\n",
       "        text-align: right;\n",
       "    }\n",
       "</style>\n",
       "<table border=\"1\" class=\"dataframe\">\n",
       "  <thead>\n",
       "    <tr style=\"text-align: right;\">\n",
       "      <th></th>\n",
       "      <th>App</th>\n",
       "      <th>Category</th>\n",
       "      <th>Rating</th>\n",
       "      <th>Reviews</th>\n",
       "      <th>Size</th>\n",
       "      <th>Installs</th>\n",
       "      <th>Type</th>\n",
       "      <th>Price</th>\n",
       "      <th>Content Rating</th>\n",
       "      <th>Genres</th>\n",
       "      <th>Last Updated</th>\n",
       "      <th>Current Ver</th>\n",
       "      <th>Android Ver</th>\n",
       "    </tr>\n",
       "  </thead>\n",
       "  <tbody>\n",
       "    <tr>\n",
       "      <th>229</th>\n",
       "      <td>Quick PDF Scanner + OCR FREE</td>\n",
       "      <td>BUSINESS</td>\n",
       "      <td>4.2</td>\n",
       "      <td>80805.0</td>\n",
       "      <td>Varies with device</td>\n",
       "      <td>5000000.0</td>\n",
       "      <td>0</td>\n",
       "      <td>0.0</td>\n",
       "      <td>Everyone</td>\n",
       "      <td>Business</td>\n",
       "      <td>February 26, 2018</td>\n",
       "      <td>Varies with device</td>\n",
       "      <td>4.0.3 and up</td>\n",
       "    </tr>\n",
       "    <tr>\n",
       "      <th>236</th>\n",
       "      <td>Box</td>\n",
       "      <td>BUSINESS</td>\n",
       "      <td>4.2</td>\n",
       "      <td>159872.0</td>\n",
       "      <td>Varies with device</td>\n",
       "      <td>10000000.0</td>\n",
       "      <td>0</td>\n",
       "      <td>0.0</td>\n",
       "      <td>Everyone</td>\n",
       "      <td>Business</td>\n",
       "      <td>July 31, 2018</td>\n",
       "      <td>Varies with device</td>\n",
       "      <td>Varies with device</td>\n",
       "    </tr>\n",
       "    <tr>\n",
       "      <th>239</th>\n",
       "      <td>Google My Business</td>\n",
       "      <td>BUSINESS</td>\n",
       "      <td>4.4</td>\n",
       "      <td>70991.0</td>\n",
       "      <td>Varies with device</td>\n",
       "      <td>5000000.0</td>\n",
       "      <td>0</td>\n",
       "      <td>0.0</td>\n",
       "      <td>Everyone</td>\n",
       "      <td>Business</td>\n",
       "      <td>July 24, 2018</td>\n",
       "      <td>2.19.0.204537701</td>\n",
       "      <td>4.4 and up</td>\n",
       "    </tr>\n",
       "    <tr>\n",
       "      <th>256</th>\n",
       "      <td>ZOOM Cloud Meetings</td>\n",
       "      <td>BUSINESS</td>\n",
       "      <td>4.4</td>\n",
       "      <td>31614.0</td>\n",
       "      <td>37M</td>\n",
       "      <td>10000000.0</td>\n",
       "      <td>0</td>\n",
       "      <td>0.0</td>\n",
       "      <td>Everyone</td>\n",
       "      <td>Business</td>\n",
       "      <td>July 20, 2018</td>\n",
       "      <td>4.1.28165.0716</td>\n",
       "      <td>4.0 and up</td>\n",
       "    </tr>\n",
       "    <tr>\n",
       "      <th>261</th>\n",
       "      <td>join.me - Simple Meetings</td>\n",
       "      <td>BUSINESS</td>\n",
       "      <td>4.0</td>\n",
       "      <td>6989.0</td>\n",
       "      <td>Varies with device</td>\n",
       "      <td>1000000.0</td>\n",
       "      <td>0</td>\n",
       "      <td>0.0</td>\n",
       "      <td>Everyone</td>\n",
       "      <td>Business</td>\n",
       "      <td>July 16, 2018</td>\n",
       "      <td>4.3.0.508</td>\n",
       "      <td>4.4 and up</td>\n",
       "    </tr>\n",
       "    <tr>\n",
       "      <th>...</th>\n",
       "      <td>...</td>\n",
       "      <td>...</td>\n",
       "      <td>...</td>\n",
       "      <td>...</td>\n",
       "      <td>...</td>\n",
       "      <td>...</td>\n",
       "      <td>...</td>\n",
       "      <td>...</td>\n",
       "      <td>...</td>\n",
       "      <td>...</td>\n",
       "      <td>...</td>\n",
       "      <td>...</td>\n",
       "      <td>...</td>\n",
       "    </tr>\n",
       "    <tr>\n",
       "      <th>10715</th>\n",
       "      <td>FarmersOnly Dating</td>\n",
       "      <td>DATING</td>\n",
       "      <td>3.0</td>\n",
       "      <td>1145.0</td>\n",
       "      <td>1.4M</td>\n",
       "      <td>100000.0</td>\n",
       "      <td>0</td>\n",
       "      <td>0.0</td>\n",
       "      <td>Mature 17+</td>\n",
       "      <td>Dating</td>\n",
       "      <td>February 25, 2016</td>\n",
       "      <td>2.2</td>\n",
       "      <td>4.0 and up</td>\n",
       "    </tr>\n",
       "    <tr>\n",
       "      <th>10720</th>\n",
       "      <td>Firefox Focus: The privacy browser</td>\n",
       "      <td>COMMUNICATION</td>\n",
       "      <td>4.4</td>\n",
       "      <td>36981.0</td>\n",
       "      <td>4.0M</td>\n",
       "      <td>1000000.0</td>\n",
       "      <td>0</td>\n",
       "      <td>0.0</td>\n",
       "      <td>Everyone</td>\n",
       "      <td>Communication</td>\n",
       "      <td>July 6, 2018</td>\n",
       "      <td>5.2</td>\n",
       "      <td>5.0 and up</td>\n",
       "    </tr>\n",
       "    <tr>\n",
       "      <th>10730</th>\n",
       "      <td>FP Notebook</td>\n",
       "      <td>MEDICAL</td>\n",
       "      <td>4.5</td>\n",
       "      <td>410.0</td>\n",
       "      <td>60M</td>\n",
       "      <td>50000.0</td>\n",
       "      <td>0</td>\n",
       "      <td>0.0</td>\n",
       "      <td>Everyone</td>\n",
       "      <td>Medical</td>\n",
       "      <td>March 24, 2018</td>\n",
       "      <td>2.1.0.372</td>\n",
       "      <td>4.4 and up</td>\n",
       "    </tr>\n",
       "    <tr>\n",
       "      <th>10753</th>\n",
       "      <td>Slickdeals: Coupons &amp; Shopping</td>\n",
       "      <td>SHOPPING</td>\n",
       "      <td>4.5</td>\n",
       "      <td>33599.0</td>\n",
       "      <td>12M</td>\n",
       "      <td>1000000.0</td>\n",
       "      <td>0</td>\n",
       "      <td>0.0</td>\n",
       "      <td>Everyone</td>\n",
       "      <td>Shopping</td>\n",
       "      <td>July 30, 2018</td>\n",
       "      <td>3.9</td>\n",
       "      <td>4.4 and up</td>\n",
       "    </tr>\n",
       "    <tr>\n",
       "      <th>10768</th>\n",
       "      <td>AAFP</td>\n",
       "      <td>MEDICAL</td>\n",
       "      <td>3.8</td>\n",
       "      <td>63.0</td>\n",
       "      <td>24M</td>\n",
       "      <td>10000.0</td>\n",
       "      <td>0</td>\n",
       "      <td>0.0</td>\n",
       "      <td>Everyone</td>\n",
       "      <td>Medical</td>\n",
       "      <td>June 22, 2018</td>\n",
       "      <td>2.3.1</td>\n",
       "      <td>5.0 and up</td>\n",
       "    </tr>\n",
       "  </tbody>\n",
       "</table>\n",
       "<p>1181 rows × 13 columns</p>\n",
       "</div>"
      ],
      "text/plain": [
       "                                      App       Category  Rating   Reviews  \\\n",
       "229          Quick PDF Scanner + OCR FREE       BUSINESS     4.2   80805.0   \n",
       "236                                   Box       BUSINESS     4.2  159872.0   \n",
       "239                    Google My Business       BUSINESS     4.4   70991.0   \n",
       "256                   ZOOM Cloud Meetings       BUSINESS     4.4   31614.0   \n",
       "261             join.me - Simple Meetings       BUSINESS     4.0    6989.0   \n",
       "...                                   ...            ...     ...       ...   \n",
       "10715                  FarmersOnly Dating         DATING     3.0    1145.0   \n",
       "10720  Firefox Focus: The privacy browser  COMMUNICATION     4.4   36981.0   \n",
       "10730                         FP Notebook        MEDICAL     4.5     410.0   \n",
       "10753      Slickdeals: Coupons & Shopping       SHOPPING     4.5   33599.0   \n",
       "10768                                AAFP        MEDICAL     3.8      63.0   \n",
       "\n",
       "                     Size    Installs  Type  Price Content Rating  \\\n",
       "229    Varies with device   5000000.0     0    0.0       Everyone   \n",
       "236    Varies with device  10000000.0     0    0.0       Everyone   \n",
       "239    Varies with device   5000000.0     0    0.0       Everyone   \n",
       "256                   37M  10000000.0     0    0.0       Everyone   \n",
       "261    Varies with device   1000000.0     0    0.0       Everyone   \n",
       "...                   ...         ...   ...    ...            ...   \n",
       "10715                1.4M    100000.0     0    0.0     Mature 17+   \n",
       "10720                4.0M   1000000.0     0    0.0       Everyone   \n",
       "10730                 60M     50000.0     0    0.0       Everyone   \n",
       "10753                 12M   1000000.0     0    0.0       Everyone   \n",
       "10768                 24M     10000.0     0    0.0       Everyone   \n",
       "\n",
       "              Genres       Last Updated         Current Ver  \\\n",
       "229         Business  February 26, 2018  Varies with device   \n",
       "236         Business      July 31, 2018  Varies with device   \n",
       "239         Business      July 24, 2018    2.19.0.204537701   \n",
       "256         Business      July 20, 2018      4.1.28165.0716   \n",
       "261         Business      July 16, 2018           4.3.0.508   \n",
       "...              ...                ...                 ...   \n",
       "10715         Dating  February 25, 2016                 2.2   \n",
       "10720  Communication       July 6, 2018                 5.2   \n",
       "10730        Medical     March 24, 2018           2.1.0.372   \n",
       "10753       Shopping      July 30, 2018                 3.9   \n",
       "10768        Medical      June 22, 2018               2.3.1   \n",
       "\n",
       "              Android Ver  \n",
       "229          4.0.3 and up  \n",
       "236    Varies with device  \n",
       "239            4.4 and up  \n",
       "256            4.0 and up  \n",
       "261            4.4 and up  \n",
       "...                   ...  \n",
       "10715          4.0 and up  \n",
       "10720          5.0 and up  \n",
       "10730          4.4 and up  \n",
       "10753          4.4 and up  \n",
       "10768          5.0 and up  \n",
       "\n",
       "[1181 rows x 13 columns]"
      ]
     },
     "execution_count": 10,
     "metadata": {},
     "output_type": "execute_result"
    }
   ],
   "source": [
    "playstore[playstore.duplicated(['App'])]"
   ]
  },
  {
   "cell_type": "markdown",
   "metadata": {},
   "source": [
    "Sembrano essere molte; ne analizzo una:"
   ]
  },
  {
   "cell_type": "code",
   "execution_count": 11,
   "metadata": {
    "scrolled": true
   },
   "outputs": [
    {
     "data": {
      "text/html": [
       "<div>\n",
       "<style scoped>\n",
       "    .dataframe tbody tr th:only-of-type {\n",
       "        vertical-align: middle;\n",
       "    }\n",
       "\n",
       "    .dataframe tbody tr th {\n",
       "        vertical-align: top;\n",
       "    }\n",
       "\n",
       "    .dataframe thead th {\n",
       "        text-align: right;\n",
       "    }\n",
       "</style>\n",
       "<table border=\"1\" class=\"dataframe\">\n",
       "  <thead>\n",
       "    <tr style=\"text-align: right;\">\n",
       "      <th></th>\n",
       "      <th>App</th>\n",
       "      <th>Category</th>\n",
       "      <th>Rating</th>\n",
       "      <th>Reviews</th>\n",
       "      <th>Size</th>\n",
       "      <th>Installs</th>\n",
       "      <th>Type</th>\n",
       "      <th>Price</th>\n",
       "      <th>Content Rating</th>\n",
       "      <th>Genres</th>\n",
       "      <th>Last Updated</th>\n",
       "      <th>Current Ver</th>\n",
       "      <th>Android Ver</th>\n",
       "    </tr>\n",
       "  </thead>\n",
       "  <tbody>\n",
       "    <tr>\n",
       "      <th>213</th>\n",
       "      <td>ZOOM Cloud Meetings</td>\n",
       "      <td>BUSINESS</td>\n",
       "      <td>4.4</td>\n",
       "      <td>31614.0</td>\n",
       "      <td>37M</td>\n",
       "      <td>10000000.0</td>\n",
       "      <td>0</td>\n",
       "      <td>0.0</td>\n",
       "      <td>Everyone</td>\n",
       "      <td>Business</td>\n",
       "      <td>July 20, 2018</td>\n",
       "      <td>4.1.28165.0716</td>\n",
       "      <td>4.0 and up</td>\n",
       "    </tr>\n",
       "    <tr>\n",
       "      <th>256</th>\n",
       "      <td>ZOOM Cloud Meetings</td>\n",
       "      <td>BUSINESS</td>\n",
       "      <td>4.4</td>\n",
       "      <td>31614.0</td>\n",
       "      <td>37M</td>\n",
       "      <td>10000000.0</td>\n",
       "      <td>0</td>\n",
       "      <td>0.0</td>\n",
       "      <td>Everyone</td>\n",
       "      <td>Business</td>\n",
       "      <td>July 20, 2018</td>\n",
       "      <td>4.1.28165.0716</td>\n",
       "      <td>4.0 and up</td>\n",
       "    </tr>\n",
       "  </tbody>\n",
       "</table>\n",
       "</div>"
      ],
      "text/plain": [
       "                     App  Category  Rating  Reviews Size    Installs  Type  \\\n",
       "213  ZOOM Cloud Meetings  BUSINESS     4.4  31614.0  37M  10000000.0     0   \n",
       "256  ZOOM Cloud Meetings  BUSINESS     4.4  31614.0  37M  10000000.0     0   \n",
       "\n",
       "     Price Content Rating    Genres   Last Updated     Current Ver Android Ver  \n",
       "213    0.0       Everyone  Business  July 20, 2018  4.1.28165.0716  4.0 and up  \n",
       "256    0.0       Everyone  Business  July 20, 2018  4.1.28165.0716  4.0 and up  "
      ]
     },
     "execution_count": 11,
     "metadata": {},
     "output_type": "execute_result"
    }
   ],
   "source": [
    "playstore[playstore['App']==\"ZOOM Cloud Meetings\"]"
   ]
  },
  {
   "cell_type": "markdown",
   "metadata": {},
   "source": [
    "E scopro che effettivamente lo è; **elimino quindi tutti i duplicati presenti nel dataset**."
   ]
  },
  {
   "cell_type": "code",
   "execution_count": 12,
   "metadata": {},
   "outputs": [],
   "source": [
    "playstore = playstore.drop_duplicates(keep='last',subset=['App'])"
   ]
  },
  {
   "cell_type": "markdown",
   "metadata": {},
   "source": [
    "Guardo ora il dataset:"
   ]
  },
  {
   "cell_type": "code",
   "execution_count": 13,
   "metadata": {},
   "outputs": [
    {
     "name": "stdout",
     "output_type": "stream",
     "text": [
      "Numero di Righe Rimaste: 9648\n",
      "\n",
      "Ho rimosso: 1193 righe, ovvero l'11.00% del totale.\n",
      "\n",
      "\n",
      "Caratteristiche Quantitative a Disposizione:\n"
     ]
    },
    {
     "data": {
      "text/html": [
       "<div>\n",
       "<style scoped>\n",
       "    .dataframe tbody tr th:only-of-type {\n",
       "        vertical-align: middle;\n",
       "    }\n",
       "\n",
       "    .dataframe tbody tr th {\n",
       "        vertical-align: top;\n",
       "    }\n",
       "\n",
       "    .dataframe thead th {\n",
       "        text-align: right;\n",
       "    }\n",
       "</style>\n",
       "<table border=\"1\" class=\"dataframe\">\n",
       "  <thead>\n",
       "    <tr style=\"text-align: right;\">\n",
       "      <th></th>\n",
       "      <th>Rating</th>\n",
       "      <th>Reviews</th>\n",
       "      <th>Installs</th>\n",
       "      <th>Type</th>\n",
       "      <th>Price</th>\n",
       "    </tr>\n",
       "  </thead>\n",
       "  <tbody>\n",
       "    <tr>\n",
       "      <th>count</th>\n",
       "      <td>9648.000000</td>\n",
       "      <td>9.648000e+03</td>\n",
       "      <td>9.648000e+03</td>\n",
       "      <td>9648.000000</td>\n",
       "      <td>9648.000000</td>\n",
       "    </tr>\n",
       "    <tr>\n",
       "      <th>mean</th>\n",
       "      <td>4.176325</td>\n",
       "      <td>2.168957e+05</td>\n",
       "      <td>7.802970e+06</td>\n",
       "      <td>0.077840</td>\n",
       "      <td>1.098122</td>\n",
       "    </tr>\n",
       "    <tr>\n",
       "      <th>std</th>\n",
       "      <td>0.494198</td>\n",
       "      <td>1.831767e+06</td>\n",
       "      <td>5.379994e+07</td>\n",
       "      <td>0.267933</td>\n",
       "      <td>16.861193</td>\n",
       "    </tr>\n",
       "    <tr>\n",
       "      <th>min</th>\n",
       "      <td>1.000000</td>\n",
       "      <td>0.000000e+00</td>\n",
       "      <td>0.000000e+00</td>\n",
       "      <td>0.000000</td>\n",
       "      <td>0.000000</td>\n",
       "    </tr>\n",
       "    <tr>\n",
       "      <th>25%</th>\n",
       "      <td>4.000000</td>\n",
       "      <td>2.500000e+01</td>\n",
       "      <td>1.000000e+03</td>\n",
       "      <td>0.000000</td>\n",
       "      <td>0.000000</td>\n",
       "    </tr>\n",
       "    <tr>\n",
       "      <th>50%</th>\n",
       "      <td>4.200000</td>\n",
       "      <td>9.740000e+02</td>\n",
       "      <td>1.000000e+05</td>\n",
       "      <td>0.000000</td>\n",
       "      <td>0.000000</td>\n",
       "    </tr>\n",
       "    <tr>\n",
       "      <th>75%</th>\n",
       "      <td>4.500000</td>\n",
       "      <td>2.944925e+04</td>\n",
       "      <td>1.000000e+06</td>\n",
       "      <td>0.000000</td>\n",
       "      <td>0.000000</td>\n",
       "    </tr>\n",
       "    <tr>\n",
       "      <th>max</th>\n",
       "      <td>5.000000</td>\n",
       "      <td>7.812821e+07</td>\n",
       "      <td>1.000000e+09</td>\n",
       "      <td>1.000000</td>\n",
       "      <td>400.000000</td>\n",
       "    </tr>\n",
       "  </tbody>\n",
       "</table>\n",
       "</div>"
      ],
      "text/plain": [
       "            Rating       Reviews      Installs         Type        Price\n",
       "count  9648.000000  9.648000e+03  9.648000e+03  9648.000000  9648.000000\n",
       "mean      4.176325  2.168957e+05  7.802970e+06     0.077840     1.098122\n",
       "std       0.494198  1.831767e+06  5.379994e+07     0.267933    16.861193\n",
       "min       1.000000  0.000000e+00  0.000000e+00     0.000000     0.000000\n",
       "25%       4.000000  2.500000e+01  1.000000e+03     0.000000     0.000000\n",
       "50%       4.200000  9.740000e+02  1.000000e+05     0.000000     0.000000\n",
       "75%       4.500000  2.944925e+04  1.000000e+06     0.000000     0.000000\n",
       "max       5.000000  7.812821e+07  1.000000e+09     1.000000   400.000000"
      ]
     },
     "execution_count": 13,
     "metadata": {},
     "output_type": "execute_result"
    }
   ],
   "source": [
    "print(\"Numero di Righe Rimaste: \" + str(playstore.shape[0]))\n",
    "\n",
    "print(\"\\nHo rimosso: \" + str(righe_iniziali - playstore.shape[0]) + \" righe, ovvero l'\" + str(\"{:.2f}\".format((righe_iniziali - playstore.shape[0])/righe_iniziali*100)) + \"% del totale.\")\n",
    "\n",
    "print(\"\\n\\nCaratteristiche Quantitative a Disposizione:\")\n",
    "playstore.describe()"
   ]
  },
  {
   "cell_type": "markdown",
   "metadata": {},
   "source": [
    "I valori del dataset ora hanno un senso e il dataset è pulito e ordinato: siamo pronti ad una prima analisi delle feature."
   ]
  },
  {
   "cell_type": "markdown",
   "metadata": {},
   "source": [
    "# Analisi delle Feature"
   ]
  },
  {
   "cell_type": "markdown",
   "metadata": {},
   "source": [
    "Cerchiamo di analizzare alcune features, per estrapolare interessanti informazioni su di esse e le loro correlazioni. \n",
    "\n",
    "Andiamo inanzitutto a dare un'occhiata alla tabella delle correlazioni:"
   ]
  },
  {
   "cell_type": "code",
   "execution_count": 14,
   "metadata": {},
   "outputs": [
    {
     "data": {
      "text/html": [
       "<style type=\"text/css\">\n",
       "#T_57275_row0_col0, #T_57275_row1_col1, #T_57275_row2_col2, #T_57275_row3_col3, #T_57275_row4_col4 {\n",
       "  background-color: #08306b;\n",
       "  color: #f1f1f1;\n",
       "}\n",
       "#T_57275_row0_col1 {\n",
       "  background-color: #e7f0fa;\n",
       "  color: #000000;\n",
       "}\n",
       "#T_57275_row0_col2 {\n",
       "  background-color: #e8f1fa;\n",
       "  color: #000000;\n",
       "}\n",
       "#T_57275_row0_col3 {\n",
       "  background-color: #e7f1fa;\n",
       "  color: #000000;\n",
       "}\n",
       "#T_57275_row0_col4, #T_57275_row2_col3, #T_57275_row3_col1, #T_57275_row3_col2, #T_57275_row4_col0 {\n",
       "  background-color: #f7fbff;\n",
       "  color: #000000;\n",
       "}\n",
       "#T_57275_row1_col0 {\n",
       "  background-color: #e9f2fa;\n",
       "  color: #000000;\n",
       "}\n",
       "#T_57275_row1_col2, #T_57275_row2_col1 {\n",
       "  background-color: #3e8ec4;\n",
       "  color: #f1f1f1;\n",
       "}\n",
       "#T_57275_row1_col3, #T_57275_row1_col4, #T_57275_row2_col4 {\n",
       "  background-color: #f5fafe;\n",
       "  color: #000000;\n",
       "}\n",
       "#T_57275_row2_col0 {\n",
       "  background-color: #ecf4fb;\n",
       "  color: #000000;\n",
       "}\n",
       "#T_57275_row3_col0 {\n",
       "  background-color: #ebf3fb;\n",
       "  color: #000000;\n",
       "}\n",
       "#T_57275_row3_col4 {\n",
       "  background-color: #c8dcf0;\n",
       "  color: #000000;\n",
       "}\n",
       "#T_57275_row4_col1 {\n",
       "  background-color: #f2f8fd;\n",
       "  color: #000000;\n",
       "}\n",
       "#T_57275_row4_col2 {\n",
       "  background-color: #f2f7fd;\n",
       "  color: #000000;\n",
       "}\n",
       "#T_57275_row4_col3 {\n",
       "  background-color: #c4daee;\n",
       "  color: #000000;\n",
       "}\n",
       "</style>\n",
       "<table id=\"T_57275_\">\n",
       "  <thead>\n",
       "    <tr>\n",
       "      <th class=\"blank level0\" >&nbsp;</th>\n",
       "      <th class=\"col_heading level0 col0\" >Rating</th>\n",
       "      <th class=\"col_heading level0 col1\" >Reviews</th>\n",
       "      <th class=\"col_heading level0 col2\" >Installs</th>\n",
       "      <th class=\"col_heading level0 col3\" >Type</th>\n",
       "      <th class=\"col_heading level0 col4\" >Price</th>\n",
       "    </tr>\n",
       "  </thead>\n",
       "  <tbody>\n",
       "    <tr>\n",
       "      <th id=\"T_57275_level0_row0\" class=\"row_heading level0 row0\" >Rating</th>\n",
       "      <td id=\"T_57275_row0_col0\" class=\"data row0 col0\" >1.000000</td>\n",
       "      <td id=\"T_57275_row0_col1\" class=\"data row0 col1\" >0.054332</td>\n",
       "      <td id=\"T_57275_row0_col2\" class=\"data row0 col2\" >0.039240</td>\n",
       "      <td id=\"T_57275_row0_col3\" class=\"data row0 col3\" >0.042410</td>\n",
       "      <td id=\"T_57275_row0_col4\" class=\"data row0 col4\" >-0.019331</td>\n",
       "    </tr>\n",
       "    <tr>\n",
       "      <th id=\"T_57275_level0_row1\" class=\"row_heading level0 row1\" >Reviews</th>\n",
       "      <td id=\"T_57275_row1_col0\" class=\"data row1 col0\" >0.054332</td>\n",
       "      <td id=\"T_57275_row1_col1\" class=\"data row1 col1\" >1.000000</td>\n",
       "      <td id=\"T_57275_row1_col2\" class=\"data row1 col2\" >0.625023</td>\n",
       "      <td id=\"T_57275_row1_col3\" class=\"data row1 col3\" >-0.033011</td>\n",
       "      <td id=\"T_57275_row1_col4\" class=\"data row1 col4\" >-0.007594</td>\n",
       "    </tr>\n",
       "    <tr>\n",
       "      <th id=\"T_57275_level0_row2\" class=\"row_heading level0 row2\" >Installs</th>\n",
       "      <td id=\"T_57275_row2_col0\" class=\"data row2 col0\" >0.039240</td>\n",
       "      <td id=\"T_57275_row2_col1\" class=\"data row2 col1\" >0.625023</td>\n",
       "      <td id=\"T_57275_row2_col2\" class=\"data row2 col2\" >1.000000</td>\n",
       "      <td id=\"T_57275_row2_col3\" class=\"data row2 col3\" >-0.041728</td>\n",
       "      <td id=\"T_57275_row2_col4\" class=\"data row2 col4\" >-0.009414</td>\n",
       "    </tr>\n",
       "    <tr>\n",
       "      <th id=\"T_57275_level0_row3\" class=\"row_heading level0 row3\" >Type</th>\n",
       "      <td id=\"T_57275_row3_col0\" class=\"data row3 col0\" >0.042410</td>\n",
       "      <td id=\"T_57275_row3_col1\" class=\"data row3 col1\" >-0.033011</td>\n",
       "      <td id=\"T_57275_row3_col2\" class=\"data row3 col2\" >-0.041728</td>\n",
       "      <td id=\"T_57275_row3_col3\" class=\"data row3 col3\" >1.000000</td>\n",
       "      <td id=\"T_57275_row3_col4\" class=\"data row3 col4\" >0.224175</td>\n",
       "    </tr>\n",
       "    <tr>\n",
       "      <th id=\"T_57275_level0_row4\" class=\"row_heading level0 row4\" >Price</th>\n",
       "      <td id=\"T_57275_row4_col0\" class=\"data row4 col0\" >-0.019331</td>\n",
       "      <td id=\"T_57275_row4_col1\" class=\"data row4 col1\" >-0.007594</td>\n",
       "      <td id=\"T_57275_row4_col2\" class=\"data row4 col2\" >-0.009414</td>\n",
       "      <td id=\"T_57275_row4_col3\" class=\"data row4 col3\" >0.224175</td>\n",
       "      <td id=\"T_57275_row4_col4\" class=\"data row4 col4\" >1.000000</td>\n",
       "    </tr>\n",
       "  </tbody>\n",
       "</table>\n"
      ],
      "text/plain": [
       "<pandas.io.formats.style.Styler at 0x2b21018f730>"
      ]
     },
     "execution_count": 14,
     "metadata": {},
     "output_type": "execute_result"
    }
   ],
   "source": [
    "playstore.corr().style.background_gradient(cmap=\"Blues\")"
   ]
  },
  {
   "cell_type": "markdown",
   "metadata": {},
   "source": [
    "Notiamo:\n",
    "- una **correlazione positiva tra Reviews e Installs** e \n",
    "- una **leggera correlazione positiva tra Prezzo e Tipo dell'applicazione** (gratuita o a pagamento)."
   ]
  },
  {
   "cell_type": "markdown",
   "metadata": {
    "id": "JjbBtPvIPQBR"
   },
   "source": [
    "# 1. Analisi su Rating di App Gratuite o a Pagamento <a id='1'></a>\n",
    "**Ipotesi:** le app gratuite sono piu' gradite in generale delle app a pagamento.\n",
    "\n",
    "In questa prima analisi ci concentriamo principalmente sulle feature Rating e Price, pondendoci 3 domande:\n",
    "\n",
    "1. Qual'è la distribuzione dei Rating?\n",
    "\n",
    "2. Qual'è la percentuale di app a pagamento e app gratuite?\n",
    "\n",
    "3. T-Test: le app gratuite sono piu' gradite di quelle a pagamento?"
   ]
  },
  {
   "cell_type": "markdown",
   "metadata": {},
   "source": [
    "## 1.1. Qual'è la distribuzione dei Rating?"
   ]
  },
  {
   "cell_type": "code",
   "execution_count": 15,
   "metadata": {
    "colab": {
     "base_uri": "https://localhost:8080/",
     "height": 721
    },
    "id": "jfHLGWskIOyA",
    "outputId": "08b94fc8-bb96-4105-8f4a-131420292e01"
   },
   "outputs": [
    {
     "data": {
      "text/plain": [
       "<AxesSubplot:>"
      ]
     },
     "execution_count": 15,
     "metadata": {},
     "output_type": "execute_result"
    },
    {
     "data": {
      "image/png": "[encoded data removed]",
      "text/plain": [
       "<Figure size 432x288 with 1 Axes>"
      ]
     },
     "metadata": {
      "needs_background": "light"
     },
     "output_type": "display_data"
    }
   ],
   "source": [
    "Ratings = playstore['Rating']\n",
    "Ratings = Ratings.value_counts(bins=5, sort=False) # divido in 20 classi di prezzo \n",
    "Ratings.plot(kind = 'bar')"
   ]
  },
  {
   "cell_type": "markdown",
   "metadata": {},
   "source": [
    "Notiamo che **la maggior parte delle valutazioni degli utenti sono positive**.\n",
    "\n",
    "-------------------------------------------------------------------------------\n",
    "\n",
    "## 1.2. Percentuale di App a Pagamento e Gratuite."
   ]
  },
  {
   "cell_type": "code",
   "execution_count": 16,
   "metadata": {
    "colab": {
     "base_uri": "https://localhost:8080/"
    },
    "id": "EtdlSKcqVMTb",
    "outputId": "6b8bbc39-2235-4c09-c306-141af73d4631"
   },
   "outputs": [
    {
     "name": "stdout",
     "output_type": "stream",
     "text": [
      "Percentuale di app gratis: 0.9221600331674958\n",
      "Percentuale di app a pagamento: 0.07783996683250415\n"
     ]
    },
    {
     "data": {
      "image/png": "[encoded data removed]",
      "text/plain": [
       "<Figure size 432x432 with 1 Axes>"
      ]
     },
     "metadata": {},
     "output_type": "display_data"
    }
   ],
   "source": [
    "playstore['Type'].value_counts().plot(kind='pie', figsize=(6,6), labels=['Gratuite','A Pagamento'], title='Percentuale di App a Pagamento e Gratuite', ylabel = '')\n",
    "\n",
    "# creo dei dataset che mi serviranno per le prossime analisi\n",
    "free_apps = playstore[playstore['Type']==0]\n",
    "paid_apps = playstore[playstore['Type']==1]\n",
    "\n",
    "perc_app_gratis = len(free_apps) / playstore.shape[0]\n",
    "perc_app_pagate = len(paid_apps) / playstore.shape[0]\n",
    "\n",
    "print(\"Percentuale di app gratis: \" + str(perc_app_gratis))\n",
    "print(\"Percentuale di app a pagamento: \" + str(perc_app_pagate))"
   ]
  },
  {
   "cell_type": "markdown",
   "metadata": {},
   "source": [
    "Osserviamo che **la maggior parte delle applicazioni sono gratuite**."
   ]
  },
  {
   "cell_type": "markdown",
   "metadata": {
    "id": "yYU_DFA6DK3m"
   },
   "source": [
    "## 1.3. T-Test: le app gratuite sono piu' gradite di quelle a pagamento?\n",
    "\n",
    "Formuliamo ora un'ipotesi circa il gradimento di app gratuite e a pagamento, usando la seguente notazione:\n",
    "\n",
    "H0 = \"il gradimento delle app gratuite è maggiore del gradimento delle app a pagamento\". \n",
    "\n",
    "A questo punto l'ipotesi alternativa è:\n",
    "\n",
    "HA = \"il gradimento delle app gratuite è minore del gradimento delle app a pagamento\". \n",
    "\n",
    "Usiamo un **t-test a una coda** per verificare se l'ipotesi nulla è corretta.\n",
    "\n",
    "Sappiamo che si devono verificare alcune ipotesi:\n",
    "1. Campione con numero di elementi n > 30: **considero un campione di 500 elementi**;\n",
    "2. Popolazione N almeno dieci volte superiore al campione: **N = 9634 > 10\\*500**"
   ]
  },
  {
   "cell_type": "code",
   "execution_count": 43,
   "metadata": {
    "colab": {
     "base_uri": "https://localhost:8080/"
    },
    "id": "UcbzGpcNuErH",
    "outputId": "22da627d-9ed0-403f-e1da-a7cc0d732e94"
   },
   "outputs": [
    {
     "name": "stdout",
     "output_type": "stream",
     "text": [
      "Grandezza campione:\t\t\t\t 500\n",
      "Media sul campione di app gratuite:\t\t 4.163667364150751\n",
      "\n",
      "Popolazione delle app a pagamento:\t\t 741\n",
      "Media sulla popolazione di app a pagamento:\t 4.249204726674903\n"
     ]
    }
   ],
   "source": [
    "campione = free_apps['Rating'].sample(n = 500) # prendo un campione di 500 app scelte casualmente\n",
    "print(\"Grandezza campione:\\t\\t\\t\\t \" + str(campione.shape[0]))\n",
    "print(\"Media sul campione di app gratuite:\\t\\t \" + str(np.mean(campione)))\n",
    "\n",
    "popolazione_pagamento = paid_apps['Rating']\n",
    "print(\"\\nPopolazione delle app a pagamento:\\t\\t \" + str(popolazione_pagamento.shape[0]))\n",
    "print(\"Media sulla popolazione di app a pagamento:\\t \" + str(np.mean(popolazione_pagamento)))"
   ]
  },
  {
   "cell_type": "markdown",
   "metadata": {
    "id": "y4yaqq0QEeKs"
   },
   "source": [
    "Le due condizioni sono verificate; eseguiamo quindi il t-test usando la libreria scipy. \n",
    "\n",
    "Scegliamo un livello di confidenza pari a 95%: il livello di significatività è 0.05."
   ]
  },
  {
   "cell_type": "code",
   "execution_count": 18,
   "metadata": {
    "colab": {
     "base_uri": "https://localhost:8080/"
    },
    "id": "kpHoKGxPEdrb",
    "outputId": "957161f5-c233-4a7f-cf3a-eaeb22d667ce"
   },
   "outputs": [
    {
     "name": "stdout",
     "output_type": "stream",
     "text": [
      "Eseguo un test sulle app gratuite con media dei Rating maggiore (poiché alternative è less) della media delle app a pagamento.\n",
      "Statistica del Test: -3.2766684373165123\n",
      "p-value calcolato: 0.0005617615866273057\n"
     ]
    }
   ],
   "source": [
    "t_statistic, p_value = stats.ttest_1samp(a= campione, popmean= popolazione_pagamento.mean(),alternative='less')\n",
    "print(\"Eseguo un test sulle app gratuite con media dei Rating maggiore (poiché alternative è less) della media delle app a pagamento.\")\n",
    "print(\"Statistica del Test: \" + str(t_statistic))\n",
    "print(\"p-value calcolato: \" + str(p_value))"
   ]
  },
  {
   "cell_type": "markdown",
   "metadata": {
    "id": "eRDb0J-feqjh"
   },
   "source": [
    "***p-value < livello di significatività***\n",
    "\n",
    "H0 è quindi rigettata, mentre accettiamo HA;\n",
    "quindi **il gradimento delle app gratuite è minore del gradimento delle app a pagamento**."
   ]
  },
  {
   "cell_type": "markdown",
   "metadata": {},
   "source": [
    "L'ipotesi iniziale è quindi errata ed abbiamo scoperto che le app a pagamento in media hanno un maggiore gradimento. "
   ]
  },
  {
   "cell_type": "markdown",
   "metadata": {},
   "source": [
    "# 2. Analisi su Installazioni e Recensioni di App Gratuite o a Pagamento. <a id='2'></a>"
   ]
  },
  {
   "cell_type": "markdown",
   "metadata": {},
   "source": [
    "**Ipotesi:** In proporzione alle installazioni, le app a pagamento sono piu' recensite di quelle a pagamento."
   ]
  },
  {
   "cell_type": "markdown",
   "metadata": {},
   "source": [
    "Creo una colonna che indica il **rapporto tra numero di recensioni e numero di installazioni**."
   ]
  },
  {
   "cell_type": "code",
   "execution_count": 19,
   "metadata": {},
   "outputs": [],
   "source": [
    "rew_ratio_values = playstore[\"Reviews\"].div(playstore[\"Installs\"])\n",
    "playstore[\"Review Ratio\"] = rew_ratio_values\n",
    "playstore.dropna(how ='any', inplace = True)"
   ]
  },
  {
   "cell_type": "code",
   "execution_count": 20,
   "metadata": {},
   "outputs": [
    {
     "data": {
      "text/html": [
       "<div>\n",
       "<style scoped>\n",
       "    .dataframe tbody tr th:only-of-type {\n",
       "        vertical-align: middle;\n",
       "    }\n",
       "\n",
       "    .dataframe tbody tr th {\n",
       "        vertical-align: top;\n",
       "    }\n",
       "\n",
       "    .dataframe thead th {\n",
       "        text-align: right;\n",
       "    }\n",
       "</style>\n",
       "<table border=\"1\" class=\"dataframe\">\n",
       "  <thead>\n",
       "    <tr style=\"text-align: right;\">\n",
       "      <th></th>\n",
       "      <th>App</th>\n",
       "      <th>Category</th>\n",
       "      <th>Rating</th>\n",
       "      <th>Reviews</th>\n",
       "      <th>Size</th>\n",
       "      <th>Installs</th>\n",
       "      <th>Type</th>\n",
       "      <th>Price</th>\n",
       "      <th>Content Rating</th>\n",
       "      <th>Genres</th>\n",
       "      <th>Last Updated</th>\n",
       "      <th>Current Ver</th>\n",
       "      <th>Android Ver</th>\n",
       "      <th>Review Ratio</th>\n",
       "    </tr>\n",
       "  </thead>\n",
       "  <tbody>\n",
       "    <tr>\n",
       "      <th>0</th>\n",
       "      <td>Photo Editor &amp; Candy Camera &amp; Grid &amp; ScrapBook</td>\n",
       "      <td>ART_AND_DESIGN</td>\n",
       "      <td>4.1</td>\n",
       "      <td>159.0</td>\n",
       "      <td>19M</td>\n",
       "      <td>10000.0</td>\n",
       "      <td>0</td>\n",
       "      <td>0.0</td>\n",
       "      <td>Everyone</td>\n",
       "      <td>Art &amp; Design</td>\n",
       "      <td>January 7, 2018</td>\n",
       "      <td>1.0.0</td>\n",
       "      <td>4.0.3 and up</td>\n",
       "      <td>0.015900</td>\n",
       "    </tr>\n",
       "    <tr>\n",
       "      <th>2</th>\n",
       "      <td>U Launcher Lite – FREE Live Cool Themes, Hide ...</td>\n",
       "      <td>ART_AND_DESIGN</td>\n",
       "      <td>4.7</td>\n",
       "      <td>87510.0</td>\n",
       "      <td>8.7M</td>\n",
       "      <td>5000000.0</td>\n",
       "      <td>0</td>\n",
       "      <td>0.0</td>\n",
       "      <td>Everyone</td>\n",
       "      <td>Art &amp; Design</td>\n",
       "      <td>August 1, 2018</td>\n",
       "      <td>1.2.4</td>\n",
       "      <td>4.0.3 and up</td>\n",
       "      <td>0.017502</td>\n",
       "    </tr>\n",
       "    <tr>\n",
       "      <th>3</th>\n",
       "      <td>Sketch - Draw &amp; Paint</td>\n",
       "      <td>ART_AND_DESIGN</td>\n",
       "      <td>4.5</td>\n",
       "      <td>215644.0</td>\n",
       "      <td>25M</td>\n",
       "      <td>50000000.0</td>\n",
       "      <td>0</td>\n",
       "      <td>0.0</td>\n",
       "      <td>Teen</td>\n",
       "      <td>Art &amp; Design</td>\n",
       "      <td>June 8, 2018</td>\n",
       "      <td>Varies with device</td>\n",
       "      <td>4.2 and up</td>\n",
       "      <td>0.004313</td>\n",
       "    </tr>\n",
       "    <tr>\n",
       "      <th>4</th>\n",
       "      <td>Pixel Draw - Number Art Coloring Book</td>\n",
       "      <td>ART_AND_DESIGN</td>\n",
       "      <td>4.3</td>\n",
       "      <td>967.0</td>\n",
       "      <td>2.8M</td>\n",
       "      <td>100000.0</td>\n",
       "      <td>0</td>\n",
       "      <td>0.0</td>\n",
       "      <td>Everyone</td>\n",
       "      <td>Art &amp; Design;Creativity</td>\n",
       "      <td>June 20, 2018</td>\n",
       "      <td>1.1</td>\n",
       "      <td>4.4 and up</td>\n",
       "      <td>0.009670</td>\n",
       "    </tr>\n",
       "    <tr>\n",
       "      <th>5</th>\n",
       "      <td>Paper flowers instructions</td>\n",
       "      <td>ART_AND_DESIGN</td>\n",
       "      <td>4.4</td>\n",
       "      <td>167.0</td>\n",
       "      <td>5.6M</td>\n",
       "      <td>50000.0</td>\n",
       "      <td>0</td>\n",
       "      <td>0.0</td>\n",
       "      <td>Everyone</td>\n",
       "      <td>Art &amp; Design</td>\n",
       "      <td>March 26, 2017</td>\n",
       "      <td>1.0</td>\n",
       "      <td>2.3 and up</td>\n",
       "      <td>0.003340</td>\n",
       "    </tr>\n",
       "  </tbody>\n",
       "</table>\n",
       "</div>"
      ],
      "text/plain": [
       "                                                 App        Category  Rating  \\\n",
       "0     Photo Editor & Candy Camera & Grid & ScrapBook  ART_AND_DESIGN     4.1   \n",
       "2  U Launcher Lite – FREE Live Cool Themes, Hide ...  ART_AND_DESIGN     4.7   \n",
       "3                              Sketch - Draw & Paint  ART_AND_DESIGN     4.5   \n",
       "4              Pixel Draw - Number Art Coloring Book  ART_AND_DESIGN     4.3   \n",
       "5                         Paper flowers instructions  ART_AND_DESIGN     4.4   \n",
       "\n",
       "    Reviews  Size    Installs  Type  Price Content Rating  \\\n",
       "0     159.0   19M     10000.0     0    0.0       Everyone   \n",
       "2   87510.0  8.7M   5000000.0     0    0.0       Everyone   \n",
       "3  215644.0   25M  50000000.0     0    0.0           Teen   \n",
       "4     967.0  2.8M    100000.0     0    0.0       Everyone   \n",
       "5     167.0  5.6M     50000.0     0    0.0       Everyone   \n",
       "\n",
       "                    Genres     Last Updated         Current Ver   Android Ver  \\\n",
       "0             Art & Design  January 7, 2018               1.0.0  4.0.3 and up   \n",
       "2             Art & Design   August 1, 2018               1.2.4  4.0.3 and up   \n",
       "3             Art & Design     June 8, 2018  Varies with device    4.2 and up   \n",
       "4  Art & Design;Creativity    June 20, 2018                 1.1    4.4 and up   \n",
       "5             Art & Design   March 26, 2017                 1.0    2.3 and up   \n",
       "\n",
       "   Review Ratio  \n",
       "0      0.015900  \n",
       "2      0.017502  \n",
       "3      0.004313  \n",
       "4      0.009670  \n",
       "5      0.003340  "
      ]
     },
     "execution_count": 20,
     "metadata": {},
     "output_type": "execute_result"
    }
   ],
   "source": [
    "playstore.head()"
   ]
  },
  {
   "cell_type": "markdown",
   "metadata": {},
   "source": [
    "## 2.1. T-Test: le app gratutie hanno un Review Ratio piu' basso di quelle a pagamento?\n",
    "\n",
    "Formuliamo ora un'ipotesi circa il gradimento di app gratuite e a pagamento, usando la seguente notazione:\n",
    "\n",
    "H0 = \"le app gratuite hanno un rapporto Review/Installazioni piu' basso di quelle a pagamento\". \n",
    "\n",
    "A questo punto l'ipotesi alternativa è:\n",
    "\n",
    "HA = \"le app a pagamento hanno un rapporto Review/Installazioni piu' basso di quelle gratuite\". \n",
    "\n",
    "Usiamo un **t-test a una coda** per verificare se l'ipotesi nulla è corretta.\n",
    "\n",
    "Sappiamo che si devono verificare alcune ipotesi:\n",
    "1. Campione con numero di elementi n > 30: **considero un campione di 500 elementi**;\n",
    "2. Popolazione N almeno dieci volte superiore al campione: **N = 9634 > 10\\*500**"
   ]
  },
  {
   "cell_type": "code",
   "execution_count": 21,
   "metadata": {},
   "outputs": [
    {
     "name": "stdout",
     "output_type": "stream",
     "text": [
      "Percentuale di app gratis: \t 0.9230849076188499\n",
      "Percentuale di app a pagamento:\t 0.07691509238115009\n",
      "\n",
      "Grandezza dataset: 9634\n",
      "Media del Review Ratio per le app gratuite: \t 0.03211026203969388\n",
      "Media del Review Ratio per le app a pagamento: \t 0.11017516437246958\n",
      "\n",
      "Grandezza del campione di app gratuite:\t\t 500\n",
      "Media sul campione di app gratuite:\t\t 0.03346600097399995\n",
      "Popolazione di app a pagamento:\t\t\t 741\n",
      "Media sulla popolazione di app a pagamento: \t0.11017516437246958\n",
      "\n",
      "\n",
      "Eseguo un t-test su app gratuite con review ratio minore (poiché alternative è greater) di quelle a pagamento:\n",
      "Statistica del Test: -26.198434136362533\n",
      "p-value calcolato: 1.0\n"
     ]
    }
   ],
   "source": [
    "free_apps = playstore[playstore['Price']==0]\n",
    "paid_apps = playstore[playstore['Price']>0]\n",
    "\n",
    "perc_app_gratis = len(free_apps) / playstore.shape[0]\n",
    "perc_app_pagate = len(paid_apps) / playstore.shape[0]\n",
    "\n",
    "print(\"Percentuale di app gratis: \\t \" + str(perc_app_gratis))\n",
    "print(\"Percentuale di app a pagamento:\\t \" + str(perc_app_pagate))\n",
    "\n",
    "print(\"\\nGrandezza dataset: \" + str(playstore.shape[0]))\n",
    "print(\"Media del Review Ratio per le app gratuite: \\t \" + str(free_apps['Review Ratio'].mean()))\n",
    "print(\"Media del Review Ratio per le app a pagamento: \\t \" + str(paid_apps['Review Ratio'].mean()))\n",
    "\n",
    "campione = free_apps['Review Ratio'].sample(n = 500)\n",
    "print(\"\\nGrandezza del campione di app gratuite:\\t\\t \" + str(campione.shape[0]))\n",
    "print(\"Media sul campione di app gratuite:\\t\\t \" + str(np.mean(campione)))\n",
    "\n",
    "popolazione_restante = paid_apps['Review Ratio']\n",
    "print(\"Popolazione di app a pagamento:\\t\\t\\t \" + str(popolazione_restante.shape[0]))\n",
    "print(\"Media sulla popolazione di app a pagamento: \\t\" + str(np.mean(popolazione_restante)))\n",
    "\n",
    "print(\"\\n\\nEseguo un t-test su app gratuite con review ratio minore (poiché alternative è greater) di quelle a pagamento:\")\n",
    "t_statistic, p_value = stats.ttest_1samp(a= campione, popmean= popolazione_restante.mean(),alternative='greater')\n",
    "print(\"Statistica del Test: \" + str(t_statistic))\n",
    "print(\"p-value calcolato: \" + str(p_value))"
   ]
  },
  {
   "cell_type": "markdown",
   "metadata": {},
   "source": [
    "Abbiamo considerato un campione di 500 app gratuite, e di 741 app a pagamento. \n",
    "\n",
    "Le condizioni del t-test sono quindi verificate, come descritto in precedenza, ed il risultato è che:\n",
    "\n",
    "***p-value > livello di significatività***\n",
    "\n",
    "H0 è quindi accettata, quindi **le app gratutie hanno un rapporto Review/Installazioni piu' basso di quelle a pagamento**.\n",
    "\n",
    "L'ipotesi iniziale è quindi verificata: **le app a pagamento sono piu' recensite in rapporto al numero delle installazioni**."
   ]
  },
  {
   "cell_type": "markdown",
   "metadata": {},
   "source": [
    "# 3. Correlazione tra Pubblicità nelle App e Recensioni Negative <a id='3'></a>"
   ]
  },
  {
   "cell_type": "markdown",
   "metadata": {},
   "source": [
    "**Ipotesi:** le pubblicità portano a recensioni negative.\n",
    "\n",
    "**Nota Importante:** nel dataset non ho la valutazione della singola recensione ma solo un'indicazione sul suo sentimento generale; l'analisi quindi non è del tutto centrata con l'ipotesi iniziale ma cerca di riprenderne il concetto chiave.\n",
    "\n",
    "Vado ora ad effettuare un analisi sulla **pubblicità** nelle applicazioni, ed in particolare al fatto che essa **possa portare a recensioni negative**.\n",
    "\n",
    "Osservo quindi se una data recensione contiene parole inerenti alle pubblicità: se le contiene mi aspetto che la recensione sia negativa.\n",
    "\n",
    "---------------------------------------------------------------------------------\n",
    "\n",
    "## 3.1. Trasformazione del Dataset per l'Analisi\n",
    "Inizio **facendo un *join* tra il dataset delle recensioni e quello generale**:"
   ]
  },
  {
   "cell_type": "code",
   "execution_count": 22,
   "metadata": {},
   "outputs": [
    {
     "data": {
      "text/html": [
       "<div>\n",
       "<style scoped>\n",
       "    .dataframe tbody tr th:only-of-type {\n",
       "        vertical-align: middle;\n",
       "    }\n",
       "\n",
       "    .dataframe tbody tr th {\n",
       "        vertical-align: top;\n",
       "    }\n",
       "\n",
       "    .dataframe thead th {\n",
       "        text-align: right;\n",
       "    }\n",
       "</style>\n",
       "<table border=\"1\" class=\"dataframe\">\n",
       "  <thead>\n",
       "    <tr style=\"text-align: right;\">\n",
       "      <th></th>\n",
       "      <th>App</th>\n",
       "      <th>Category</th>\n",
       "      <th>Rating</th>\n",
       "      <th>Reviews</th>\n",
       "      <th>Size</th>\n",
       "      <th>Installs</th>\n",
       "      <th>Type</th>\n",
       "      <th>Price</th>\n",
       "      <th>Content Rating</th>\n",
       "      <th>Genres</th>\n",
       "      <th>Last Updated</th>\n",
       "      <th>Current Ver</th>\n",
       "      <th>Android Ver</th>\n",
       "      <th>Review Ratio</th>\n",
       "      <th>Translated_Review</th>\n",
       "      <th>Sentiment</th>\n",
       "      <th>Sentiment_Polarity</th>\n",
       "      <th>Sentiment_Subjectivity</th>\n",
       "    </tr>\n",
       "  </thead>\n",
       "  <tbody>\n",
       "    <tr>\n",
       "      <th>8</th>\n",
       "      <td>Garden Coloring Book</td>\n",
       "      <td>ART_AND_DESIGN</td>\n",
       "      <td>4.4</td>\n",
       "      <td>13791.0</td>\n",
       "      <td>33M</td>\n",
       "      <td>1000000.0</td>\n",
       "      <td>0</td>\n",
       "      <td>0.0</td>\n",
       "      <td>Everyone</td>\n",
       "      <td>Art &amp; Design</td>\n",
       "      <td>September 20, 2017</td>\n",
       "      <td>2.9.2</td>\n",
       "      <td>3.0 and up</td>\n",
       "      <td>0.013791</td>\n",
       "      <td>It's...a coloring book ap. And I like adult co...</td>\n",
       "      <td>Positive</td>\n",
       "      <td>2.166667e-01</td>\n",
       "      <td>0.573810</td>\n",
       "    </tr>\n",
       "    <tr>\n",
       "      <th>8</th>\n",
       "      <td>Garden Coloring Book</td>\n",
       "      <td>ART_AND_DESIGN</td>\n",
       "      <td>4.4</td>\n",
       "      <td>13791.0</td>\n",
       "      <td>33M</td>\n",
       "      <td>1000000.0</td>\n",
       "      <td>0</td>\n",
       "      <td>0.0</td>\n",
       "      <td>Everyone</td>\n",
       "      <td>Art &amp; Design</td>\n",
       "      <td>September 20, 2017</td>\n",
       "      <td>2.9.2</td>\n",
       "      <td>3.0 and up</td>\n",
       "      <td>0.013791</td>\n",
       "      <td>wanted access pictures. I denied let app. Don'...</td>\n",
       "      <td>Neutral</td>\n",
       "      <td>0.000000e+00</td>\n",
       "      <td>0.000000</td>\n",
       "    </tr>\n",
       "    <tr>\n",
       "      <th>8</th>\n",
       "      <td>Garden Coloring Book</td>\n",
       "      <td>ART_AND_DESIGN</td>\n",
       "      <td>4.4</td>\n",
       "      <td>13791.0</td>\n",
       "      <td>33M</td>\n",
       "      <td>1000000.0</td>\n",
       "      <td>0</td>\n",
       "      <td>0.0</td>\n",
       "      <td>Everyone</td>\n",
       "      <td>Art &amp; Design</td>\n",
       "      <td>September 20, 2017</td>\n",
       "      <td>2.9.2</td>\n",
       "      <td>3.0 and up</td>\n",
       "      <td>0.013791</td>\n",
       "      <td>Way many ads... im paying 8$USD pictures color...</td>\n",
       "      <td>Positive</td>\n",
       "      <td>3.000000e-01</td>\n",
       "      <td>0.600000</td>\n",
       "    </tr>\n",
       "    <tr>\n",
       "      <th>8</th>\n",
       "      <td>Garden Coloring Book</td>\n",
       "      <td>ART_AND_DESIGN</td>\n",
       "      <td>4.4</td>\n",
       "      <td>13791.0</td>\n",
       "      <td>33M</td>\n",
       "      <td>1000000.0</td>\n",
       "      <td>0</td>\n",
       "      <td>0.0</td>\n",
       "      <td>Everyone</td>\n",
       "      <td>Art &amp; Design</td>\n",
       "      <td>September 20, 2017</td>\n",
       "      <td>2.9.2</td>\n",
       "      <td>3.0 and up</td>\n",
       "      <td>0.013791</td>\n",
       "      <td>good bad color outside lines. like real, tradi...</td>\n",
       "      <td>Positive</td>\n",
       "      <td>2.775558e-17</td>\n",
       "      <td>0.579167</td>\n",
       "    </tr>\n",
       "    <tr>\n",
       "      <th>8</th>\n",
       "      <td>Garden Coloring Book</td>\n",
       "      <td>ART_AND_DESIGN</td>\n",
       "      <td>4.4</td>\n",
       "      <td>13791.0</td>\n",
       "      <td>33M</td>\n",
       "      <td>1000000.0</td>\n",
       "      <td>0</td>\n",
       "      <td>0.0</td>\n",
       "      <td>Everyone</td>\n",
       "      <td>Art &amp; Design</td>\n",
       "      <td>September 20, 2017</td>\n",
       "      <td>2.9.2</td>\n",
       "      <td>3.0 and up</td>\n",
       "      <td>0.013791</td>\n",
       "      <td>I really enjoying application. My complaint sm...</td>\n",
       "      <td>Negative</td>\n",
       "      <td>-3.472222e-02</td>\n",
       "      <td>0.581944</td>\n",
       "    </tr>\n",
       "  </tbody>\n",
       "</table>\n",
       "</div>"
      ],
      "text/plain": [
       "                    App        Category  Rating  Reviews Size   Installs  \\\n",
       "8  Garden Coloring Book  ART_AND_DESIGN     4.4  13791.0  33M  1000000.0   \n",
       "8  Garden Coloring Book  ART_AND_DESIGN     4.4  13791.0  33M  1000000.0   \n",
       "8  Garden Coloring Book  ART_AND_DESIGN     4.4  13791.0  33M  1000000.0   \n",
       "8  Garden Coloring Book  ART_AND_DESIGN     4.4  13791.0  33M  1000000.0   \n",
       "8  Garden Coloring Book  ART_AND_DESIGN     4.4  13791.0  33M  1000000.0   \n",
       "\n",
       "   Type  Price Content Rating        Genres        Last Updated Current Ver  \\\n",
       "8     0    0.0       Everyone  Art & Design  September 20, 2017       2.9.2   \n",
       "8     0    0.0       Everyone  Art & Design  September 20, 2017       2.9.2   \n",
       "8     0    0.0       Everyone  Art & Design  September 20, 2017       2.9.2   \n",
       "8     0    0.0       Everyone  Art & Design  September 20, 2017       2.9.2   \n",
       "8     0    0.0       Everyone  Art & Design  September 20, 2017       2.9.2   \n",
       "\n",
       "  Android Ver  Review Ratio  \\\n",
       "8  3.0 and up      0.013791   \n",
       "8  3.0 and up      0.013791   \n",
       "8  3.0 and up      0.013791   \n",
       "8  3.0 and up      0.013791   \n",
       "8  3.0 and up      0.013791   \n",
       "\n",
       "                                   Translated_Review Sentiment  \\\n",
       "8  It's...a coloring book ap. And I like adult co...  Positive   \n",
       "8  wanted access pictures. I denied let app. Don'...   Neutral   \n",
       "8  Way many ads... im paying 8$USD pictures color...  Positive   \n",
       "8  good bad color outside lines. like real, tradi...  Positive   \n",
       "8  I really enjoying application. My complaint sm...  Negative   \n",
       "\n",
       "   Sentiment_Polarity  Sentiment_Subjectivity  \n",
       "8        2.166667e-01                0.573810  \n",
       "8        0.000000e+00                0.000000  \n",
       "8        3.000000e-01                0.600000  \n",
       "8        2.775558e-17                0.579167  \n",
       "8       -3.472222e-02                0.581944  "
      ]
     },
     "execution_count": 22,
     "metadata": {},
     "output_type": "execute_result"
    }
   ],
   "source": [
    "ps_reviews = pd.read_csv('googleplaystore_user_reviews.csv') #importo il file\n",
    "\n",
    "playstore_with_rev = playstore.join(ps_reviews.set_index('App'), on='App')\n",
    "playstore_with_rev.dropna(how ='any', inplace = True)\n",
    "\n",
    "playstore_with_rev.head()"
   ]
  },
  {
   "cell_type": "markdown",
   "metadata": {},
   "source": [
    "---------------------------------------------------------------------------------\n",
    "\n",
    "**Trasformo Sentiment in caratteristica quantitativa**, convertendo:\n",
    "- Positive in 1,\n",
    "- Neutral in 0.5,\n",
    "- Negative in 0."
   ]
  },
  {
   "cell_type": "code",
   "execution_count": 23,
   "metadata": {},
   "outputs": [
    {
     "data": {
      "text/html": [
       "<div>\n",
       "<style scoped>\n",
       "    .dataframe tbody tr th:only-of-type {\n",
       "        vertical-align: middle;\n",
       "    }\n",
       "\n",
       "    .dataframe tbody tr th {\n",
       "        vertical-align: top;\n",
       "    }\n",
       "\n",
       "    .dataframe thead th {\n",
       "        text-align: right;\n",
       "    }\n",
       "</style>\n",
       "<table border=\"1\" class=\"dataframe\">\n",
       "  <thead>\n",
       "    <tr style=\"text-align: right;\">\n",
       "      <th></th>\n",
       "      <th>Rating</th>\n",
       "      <th>Reviews</th>\n",
       "      <th>Installs</th>\n",
       "      <th>Type</th>\n",
       "      <th>Price</th>\n",
       "      <th>Review Ratio</th>\n",
       "      <th>Sentiment</th>\n",
       "      <th>Sentiment_Polarity</th>\n",
       "      <th>Sentiment_Subjectivity</th>\n",
       "    </tr>\n",
       "  </thead>\n",
       "  <tbody>\n",
       "    <tr>\n",
       "      <th>count</th>\n",
       "      <td>35929.000000</td>\n",
       "      <td>3.592900e+04</td>\n",
       "      <td>3.592900e+04</td>\n",
       "      <td>35929.000000</td>\n",
       "      <td>35929.000000</td>\n",
       "      <td>35929.000000</td>\n",
       "      <td>35929.000000</td>\n",
       "      <td>35929.000000</td>\n",
       "      <td>35929.000000</td>\n",
       "    </tr>\n",
       "    <tr>\n",
       "      <th>mean</th>\n",
       "      <td>4.297261</td>\n",
       "      <td>1.413317e+06</td>\n",
       "      <td>4.375691e+07</td>\n",
       "      <td>0.011578</td>\n",
       "      <td>0.109197</td>\n",
       "      <td>0.032909</td>\n",
       "      <td>0.709691</td>\n",
       "      <td>0.180904</td>\n",
       "      <td>0.493767</td>\n",
       "    </tr>\n",
       "    <tr>\n",
       "      <th>std</th>\n",
       "      <td>0.302842</td>\n",
       "      <td>5.731737e+06</td>\n",
       "      <td>1.453465e+08</td>\n",
       "      <td>0.106980</td>\n",
       "      <td>1.302471</td>\n",
       "      <td>0.041932</td>\n",
       "      <td>0.415067</td>\n",
       "      <td>0.350080</td>\n",
       "      <td>0.258053</td>\n",
       "    </tr>\n",
       "    <tr>\n",
       "      <th>min</th>\n",
       "      <td>2.600000</td>\n",
       "      <td>4.600000e+01</td>\n",
       "      <td>1.000000e+03</td>\n",
       "      <td>0.000000</td>\n",
       "      <td>0.000000</td>\n",
       "      <td>0.000289</td>\n",
       "      <td>0.000000</td>\n",
       "      <td>-1.000000</td>\n",
       "      <td>0.000000</td>\n",
       "    </tr>\n",
       "    <tr>\n",
       "      <th>25%</th>\n",
       "      <td>4.100000</td>\n",
       "      <td>1.024700e+04</td>\n",
       "      <td>1.000000e+06</td>\n",
       "      <td>0.000000</td>\n",
       "      <td>0.000000</td>\n",
       "      <td>0.010375</td>\n",
       "      <td>0.500000</td>\n",
       "      <td>0.000000</td>\n",
       "      <td>0.361111</td>\n",
       "    </tr>\n",
       "    <tr>\n",
       "      <th>50%</th>\n",
       "      <td>4.300000</td>\n",
       "      <td>6.362400e+04</td>\n",
       "      <td>5.000000e+06</td>\n",
       "      <td>0.000000</td>\n",
       "      <td>0.000000</td>\n",
       "      <td>0.020846</td>\n",
       "      <td>1.000000</td>\n",
       "      <td>0.150000</td>\n",
       "      <td>0.514835</td>\n",
       "    </tr>\n",
       "    <tr>\n",
       "      <th>75%</th>\n",
       "      <td>4.500000</td>\n",
       "      <td>5.152400e+05</td>\n",
       "      <td>1.000000e+07</td>\n",
       "      <td>0.000000</td>\n",
       "      <td>0.000000</td>\n",
       "      <td>0.037815</td>\n",
       "      <td>1.000000</td>\n",
       "      <td>0.400000</td>\n",
       "      <td>0.650000</td>\n",
       "    </tr>\n",
       "    <tr>\n",
       "      <th>max</th>\n",
       "      <td>4.900000</td>\n",
       "      <td>7.812821e+07</td>\n",
       "      <td>1.000000e+09</td>\n",
       "      <td>1.000000</td>\n",
       "      <td>29.990000</td>\n",
       "      <td>0.448814</td>\n",
       "      <td>1.000000</td>\n",
       "      <td>1.000000</td>\n",
       "      <td>1.000000</td>\n",
       "    </tr>\n",
       "  </tbody>\n",
       "</table>\n",
       "</div>"
      ],
      "text/plain": [
       "             Rating       Reviews      Installs          Type         Price  \\\n",
       "count  35929.000000  3.592900e+04  3.592900e+04  35929.000000  35929.000000   \n",
       "mean       4.297261  1.413317e+06  4.375691e+07      0.011578      0.109197   \n",
       "std        0.302842  5.731737e+06  1.453465e+08      0.106980      1.302471   \n",
       "min        2.600000  4.600000e+01  1.000000e+03      0.000000      0.000000   \n",
       "25%        4.100000  1.024700e+04  1.000000e+06      0.000000      0.000000   \n",
       "50%        4.300000  6.362400e+04  5.000000e+06      0.000000      0.000000   \n",
       "75%        4.500000  5.152400e+05  1.000000e+07      0.000000      0.000000   \n",
       "max        4.900000  7.812821e+07  1.000000e+09      1.000000     29.990000   \n",
       "\n",
       "       Review Ratio     Sentiment  Sentiment_Polarity  Sentiment_Subjectivity  \n",
       "count  35929.000000  35929.000000        35929.000000            35929.000000  \n",
       "mean       0.032909      0.709691            0.180904                0.493767  \n",
       "std        0.041932      0.415067            0.350080                0.258053  \n",
       "min        0.000289      0.000000           -1.000000                0.000000  \n",
       "25%        0.010375      0.500000            0.000000                0.361111  \n",
       "50%        0.020846      1.000000            0.150000                0.514835  \n",
       "75%        0.037815      1.000000            0.400000                0.650000  \n",
       "max        0.448814      1.000000            1.000000                1.000000  "
      ]
     },
     "execution_count": 23,
     "metadata": {},
     "output_type": "execute_result"
    },
    {
     "data": {
      "image/png": "[encoded data removed]",
      "text/plain": [
       "<Figure size 432x432 with 1 Axes>"
      ]
     },
     "metadata": {},
     "output_type": "display_data"
    }
   ],
   "source": [
    "playstore_with_rev['Sentiment'] = [float(x.replace(\"Positive\",\"1\").replace(\"Neutral\",\"0.5\").replace(\"Negative\",\"0\")) for x in playstore_with_rev['Sentiment']]\n",
    "    \n",
    "playstore_with_rev['Sentiment'].value_counts().plot(kind='pie', figsize=(6,6), labels=['Positiva','Negativa', 'Neutrale'], title='Distribuzioni dei Sentimenti delle Recensioni', ylabel = '')\n",
    "playstore_with_rev.describe()"
   ]
  },
  {
   "cell_type": "markdown",
   "metadata": {},
   "source": [
    "---------------------------------------------------------------------------------\n",
    "\n",
    "Creo quindi una **nuova caratteristica**, che **ha valore 1 se la recensione contiene una parola inerente alla pubblicità**."
   ]
  },
  {
   "cell_type": "code",
   "execution_count": 24,
   "metadata": {},
   "outputs": [
    {
     "data": {
      "text/html": [
       "<div>\n",
       "<style scoped>\n",
       "    .dataframe tbody tr th:only-of-type {\n",
       "        vertical-align: middle;\n",
       "    }\n",
       "\n",
       "    .dataframe tbody tr th {\n",
       "        vertical-align: top;\n",
       "    }\n",
       "\n",
       "    .dataframe thead th {\n",
       "        text-align: right;\n",
       "    }\n",
       "</style>\n",
       "<table border=\"1\" class=\"dataframe\">\n",
       "  <thead>\n",
       "    <tr style=\"text-align: right;\">\n",
       "      <th></th>\n",
       "      <th>Rating</th>\n",
       "      <th>Reviews</th>\n",
       "      <th>Installs</th>\n",
       "      <th>Type</th>\n",
       "      <th>Price</th>\n",
       "      <th>Review Ratio</th>\n",
       "      <th>Sentiment</th>\n",
       "      <th>Sentiment_Polarity</th>\n",
       "      <th>Sentiment_Subjectivity</th>\n",
       "      <th>Complains_Adv</th>\n",
       "    </tr>\n",
       "  </thead>\n",
       "  <tbody>\n",
       "    <tr>\n",
       "      <th>count</th>\n",
       "      <td>35929.000000</td>\n",
       "      <td>3.592900e+04</td>\n",
       "      <td>3.592900e+04</td>\n",
       "      <td>35929.000000</td>\n",
       "      <td>35929.000000</td>\n",
       "      <td>35929.000000</td>\n",
       "      <td>35929.000000</td>\n",
       "      <td>35929.000000</td>\n",
       "      <td>35929.000000</td>\n",
       "      <td>35929.000000</td>\n",
       "    </tr>\n",
       "    <tr>\n",
       "      <th>mean</th>\n",
       "      <td>4.297261</td>\n",
       "      <td>1.413317e+06</td>\n",
       "      <td>4.375691e+07</td>\n",
       "      <td>0.011578</td>\n",
       "      <td>0.109197</td>\n",
       "      <td>0.032909</td>\n",
       "      <td>0.709691</td>\n",
       "      <td>0.180904</td>\n",
       "      <td>0.493767</td>\n",
       "      <td>0.041471</td>\n",
       "    </tr>\n",
       "    <tr>\n",
       "      <th>std</th>\n",
       "      <td>0.302842</td>\n",
       "      <td>5.731737e+06</td>\n",
       "      <td>1.453465e+08</td>\n",
       "      <td>0.106980</td>\n",
       "      <td>1.302471</td>\n",
       "      <td>0.041932</td>\n",
       "      <td>0.415067</td>\n",
       "      <td>0.350080</td>\n",
       "      <td>0.258053</td>\n",
       "      <td>0.199379</td>\n",
       "    </tr>\n",
       "    <tr>\n",
       "      <th>min</th>\n",
       "      <td>2.600000</td>\n",
       "      <td>4.600000e+01</td>\n",
       "      <td>1.000000e+03</td>\n",
       "      <td>0.000000</td>\n",
       "      <td>0.000000</td>\n",
       "      <td>0.000289</td>\n",
       "      <td>0.000000</td>\n",
       "      <td>-1.000000</td>\n",
       "      <td>0.000000</td>\n",
       "      <td>0.000000</td>\n",
       "    </tr>\n",
       "    <tr>\n",
       "      <th>25%</th>\n",
       "      <td>4.100000</td>\n",
       "      <td>1.024700e+04</td>\n",
       "      <td>1.000000e+06</td>\n",
       "      <td>0.000000</td>\n",
       "      <td>0.000000</td>\n",
       "      <td>0.010375</td>\n",
       "      <td>0.500000</td>\n",
       "      <td>0.000000</td>\n",
       "      <td>0.361111</td>\n",
       "      <td>0.000000</td>\n",
       "    </tr>\n",
       "    <tr>\n",
       "      <th>50%</th>\n",
       "      <td>4.300000</td>\n",
       "      <td>6.362400e+04</td>\n",
       "      <td>5.000000e+06</td>\n",
       "      <td>0.000000</td>\n",
       "      <td>0.000000</td>\n",
       "      <td>0.020846</td>\n",
       "      <td>1.000000</td>\n",
       "      <td>0.150000</td>\n",
       "      <td>0.514835</td>\n",
       "      <td>0.000000</td>\n",
       "    </tr>\n",
       "    <tr>\n",
       "      <th>75%</th>\n",
       "      <td>4.500000</td>\n",
       "      <td>5.152400e+05</td>\n",
       "      <td>1.000000e+07</td>\n",
       "      <td>0.000000</td>\n",
       "      <td>0.000000</td>\n",
       "      <td>0.037815</td>\n",
       "      <td>1.000000</td>\n",
       "      <td>0.400000</td>\n",
       "      <td>0.650000</td>\n",
       "      <td>0.000000</td>\n",
       "    </tr>\n",
       "    <tr>\n",
       "      <th>max</th>\n",
       "      <td>4.900000</td>\n",
       "      <td>7.812821e+07</td>\n",
       "      <td>1.000000e+09</td>\n",
       "      <td>1.000000</td>\n",
       "      <td>29.990000</td>\n",
       "      <td>0.448814</td>\n",
       "      <td>1.000000</td>\n",
       "      <td>1.000000</td>\n",
       "      <td>1.000000</td>\n",
       "      <td>1.000000</td>\n",
       "    </tr>\n",
       "  </tbody>\n",
       "</table>\n",
       "</div>"
      ],
      "text/plain": [
       "             Rating       Reviews      Installs          Type         Price  \\\n",
       "count  35929.000000  3.592900e+04  3.592900e+04  35929.000000  35929.000000   \n",
       "mean       4.297261  1.413317e+06  4.375691e+07      0.011578      0.109197   \n",
       "std        0.302842  5.731737e+06  1.453465e+08      0.106980      1.302471   \n",
       "min        2.600000  4.600000e+01  1.000000e+03      0.000000      0.000000   \n",
       "25%        4.100000  1.024700e+04  1.000000e+06      0.000000      0.000000   \n",
       "50%        4.300000  6.362400e+04  5.000000e+06      0.000000      0.000000   \n",
       "75%        4.500000  5.152400e+05  1.000000e+07      0.000000      0.000000   \n",
       "max        4.900000  7.812821e+07  1.000000e+09      1.000000     29.990000   \n",
       "\n",
       "       Review Ratio     Sentiment  Sentiment_Polarity  Sentiment_Subjectivity  \\\n",
       "count  35929.000000  35929.000000        35929.000000            35929.000000   \n",
       "mean       0.032909      0.709691            0.180904                0.493767   \n",
       "std        0.041932      0.415067            0.350080                0.258053   \n",
       "min        0.000289      0.000000           -1.000000                0.000000   \n",
       "25%        0.010375      0.500000            0.000000                0.361111   \n",
       "50%        0.020846      1.000000            0.150000                0.514835   \n",
       "75%        0.037815      1.000000            0.400000                0.650000   \n",
       "max        0.448814      1.000000            1.000000                1.000000   \n",
       "\n",
       "       Complains_Adv  \n",
       "count   35929.000000  \n",
       "mean        0.041471  \n",
       "std         0.199379  \n",
       "min         0.000000  \n",
       "25%         0.000000  \n",
       "50%         0.000000  \n",
       "75%         0.000000  \n",
       "max         1.000000  "
      ]
     },
     "execution_count": 24,
     "metadata": {},
     "output_type": "execute_result"
    }
   ],
   "source": [
    "words = [\"ad\", \"ads\", \"advert\", \"advertising\", \"publicity\"]\n",
    "\n",
    "# riempio la colonna di zeri\n",
    "playstore_with_rev['Complains_Adv'] = [0] * playstore_with_rev.shape[0]\n",
    "\n",
    "# inserisco 1 se la recensione contiene una delle parole indicate\n",
    "for i, row in playstore_with_rev.iterrows():\n",
    "\n",
    "    isPresent = 0\n",
    "\n",
    "    for word in words:\n",
    "        if word in str(row['Translated_Review']).split():\n",
    "            isPresent = 1\n",
    "            # print(\"\\n\" + str(row['Translated_Review']) + \"\\n\" + str(row['Sentiment']) + \"\\n\")\n",
    "\n",
    "    playstore_with_rev.loc[i, \"Complains_Adv\"] = isPresent\n",
    "    \n",
    "playstore_with_rev['Complains_Adv'] = [int(x) for x in playstore_with_rev['Complains_Adv']]\n",
    "    \n",
    "playstore_with_rev.describe()"
   ]
  },
  {
   "cell_type": "markdown",
   "metadata": {},
   "source": [
    "Notiamo dalla media che **il 4% circa delle recensioni parlano di pubblicità**."
   ]
  },
  {
   "cell_type": "markdown",
   "metadata": {},
   "source": [
    "## 3.2. Le Recensioni che Parlano di Pubblicità sono Effettivamente di App Gratuite?"
   ]
  },
  {
   "cell_type": "code",
   "execution_count": 25,
   "metadata": {
    "scrolled": true
   },
   "outputs": [
    {
     "data": {
      "text/plain": [
       "0    1490\n",
       "Name: Type, dtype: int64"
      ]
     },
     "execution_count": 25,
     "metadata": {},
     "output_type": "execute_result"
    }
   ],
   "source": [
    "complains_adv = playstore_with_rev[playstore_with_rev['Complains_Adv']==1]\n",
    "\n",
    "complains_adv['Type'].value_counts()"
   ]
  },
  {
   "cell_type": "markdown",
   "metadata": {},
   "source": [
    "Sì, **il 100% delle recensioni che parlano di pubblicità sono di app gratuite**; nessuna applicazione a pagamento del dataset ha ricevuto recensioni riguardanti le pubblicità."
   ]
  },
  {
   "cell_type": "markdown",
   "metadata": {},
   "source": [
    "## 3.3 Correlazione tra Pubblicità e Rating\n",
    "Cerco di vedere quindi se ci sia una correlazione tra pubblicità e rating:"
   ]
  },
  {
   "cell_type": "code",
   "execution_count": 26,
   "metadata": {},
   "outputs": [
    {
     "data": {
      "text/html": [
       "<style type=\"text/css\">\n",
       "#T_b953e_row0_col0, #T_b953e_row1_col1, #T_b953e_row2_col2, #T_b953e_row3_col3, #T_b953e_row4_col4, #T_b953e_row5_col5, #T_b953e_row6_col6, #T_b953e_row7_col7, #T_b953e_row8_col8, #T_b953e_row9_col9 {\n",
       "  background-color: #08306b;\n",
       "  color: #f1f1f1;\n",
       "}\n",
       "#T_b953e_row0_col1 {\n",
       "  background-color: #dbe9f6;\n",
       "  color: #000000;\n",
       "}\n",
       "#T_b953e_row0_col2, #T_b953e_row9_col6 {\n",
       "  background-color: #e9f2fa;\n",
       "  color: #000000;\n",
       "}\n",
       "#T_b953e_row0_col3, #T_b953e_row3_col9, #T_b953e_row5_col8, #T_b953e_row9_col1 {\n",
       "  background-color: #eff6fc;\n",
       "  color: #000000;\n",
       "}\n",
       "#T_b953e_row0_col4, #T_b953e_row4_col8, #T_b953e_row6_col2 {\n",
       "  background-color: #f5f9fe;\n",
       "  color: #000000;\n",
       "}\n",
       "#T_b953e_row0_col5 {\n",
       "  background-color: #add0e6;\n",
       "  color: #000000;\n",
       "}\n",
       "#T_b953e_row0_col6 {\n",
       "  background-color: #d9e8f5;\n",
       "  color: #000000;\n",
       "}\n",
       "#T_b953e_row0_col7 {\n",
       "  background-color: #d7e6f5;\n",
       "  color: #000000;\n",
       "}\n",
       "#T_b953e_row0_col8 {\n",
       "  background-color: #e8f1fa;\n",
       "  color: #000000;\n",
       "}\n",
       "#T_b953e_row0_col9, #T_b953e_row5_col7, #T_b953e_row9_col2 {\n",
       "  background-color: #f1f7fd;\n",
       "  color: #000000;\n",
       "}\n",
       "#T_b953e_row1_col0 {\n",
       "  background-color: #e3eef8;\n",
       "  color: #000000;\n",
       "}\n",
       "#T_b953e_row1_col2 {\n",
       "  background-color: #4e9acb;\n",
       "  color: #f1f1f1;\n",
       "}\n",
       "#T_b953e_row1_col3, #T_b953e_row1_col4, #T_b953e_row6_col1, #T_b953e_row9_col4 {\n",
       "  background-color: #f6faff;\n",
       "  color: #000000;\n",
       "}\n",
       "#T_b953e_row1_col5 {\n",
       "  background-color: #a4cce3;\n",
       "  color: #000000;\n",
       "}\n",
       "#T_b953e_row1_col6, #T_b953e_row1_col7, #T_b953e_row1_col8, #T_b953e_row2_col3, #T_b953e_row2_col4, #T_b953e_row2_col8, #T_b953e_row5_col9, #T_b953e_row7_col1, #T_b953e_row7_col2, #T_b953e_row9_col0, #T_b953e_row9_col5 {\n",
       "  background-color: #f7fbff;\n",
       "  color: #000000;\n",
       "}\n",
       "#T_b953e_row1_col9, #T_b953e_row2_col6, #T_b953e_row4_col2, #T_b953e_row8_col4 {\n",
       "  background-color: #f2f7fd;\n",
       "  color: #000000;\n",
       "}\n",
       "#T_b953e_row2_col0, #T_b953e_row3_col1, #T_b953e_row4_col9, #T_b953e_row5_col2, #T_b953e_row6_col4, #T_b953e_row7_col3, #T_b953e_row7_col4, #T_b953e_row8_col2 {\n",
       "  background-color: #eef5fc;\n",
       "  color: #000000;\n",
       "}\n",
       "#T_b953e_row2_col1 {\n",
       "  background-color: #4b98ca;\n",
       "  color: #f1f1f1;\n",
       "}\n",
       "#T_b953e_row2_col5, #T_b953e_row4_col1, #T_b953e_row5_col6, #T_b953e_row6_col3 {\n",
       "  background-color: #ecf4fb;\n",
       "  color: #000000;\n",
       "}\n",
       "#T_b953e_row2_col7, #T_b953e_row4_col0 {\n",
       "  background-color: #f3f8fe;\n",
       "  color: #000000;\n",
       "}\n",
       "#T_b953e_row2_col9, #T_b953e_row3_col0, #T_b953e_row7_col9, #T_b953e_row8_col3 {\n",
       "  background-color: #f0f6fd;\n",
       "  color: #000000;\n",
       "}\n",
       "#T_b953e_row3_col2 {\n",
       "  background-color: #f2f8fd;\n",
       "  color: #000000;\n",
       "}\n",
       "#T_b953e_row3_col4 {\n",
       "  background-color: #1b69af;\n",
       "  color: #f1f1f1;\n",
       "}\n",
       "#T_b953e_row3_col5, #T_b953e_row5_col0 {\n",
       "  background-color: #b4d3e9;\n",
       "  color: #000000;\n",
       "}\n",
       "#T_b953e_row3_col6, #T_b953e_row4_col6, #T_b953e_row8_col5 {\n",
       "  background-color: #e5eff9;\n",
       "  color: #000000;\n",
       "}\n",
       "#T_b953e_row3_col7 {\n",
       "  background-color: #e6f0f9;\n",
       "  color: #000000;\n",
       "}\n",
       "#T_b953e_row3_col8, #T_b953e_row7_col5 {\n",
       "  background-color: #f4f9fe;\n",
       "  color: #000000;\n",
       "}\n",
       "#T_b953e_row4_col3 {\n",
       "  background-color: #1a68ae;\n",
       "  color: #f1f1f1;\n",
       "}\n",
       "#T_b953e_row4_col5 {\n",
       "  background-color: #c8dcf0;\n",
       "  color: #000000;\n",
       "}\n",
       "#T_b953e_row4_col7, #T_b953e_row8_col0 {\n",
       "  background-color: #e4eff9;\n",
       "  color: #000000;\n",
       "}\n",
       "#T_b953e_row5_col1 {\n",
       "  background-color: #a1cbe2;\n",
       "  color: #000000;\n",
       "}\n",
       "#T_b953e_row5_col3 {\n",
       "  background-color: #bcd7eb;\n",
       "  color: #000000;\n",
       "}\n",
       "#T_b953e_row5_col4 {\n",
       "  background-color: #cde0f1;\n",
       "  color: #000000;\n",
       "}\n",
       "#T_b953e_row6_col0, #T_b953e_row7_col0 {\n",
       "  background-color: #dfecf7;\n",
       "  color: #000000;\n",
       "}\n",
       "#T_b953e_row6_col5, #T_b953e_row9_col7 {\n",
       "  background-color: #edf4fc;\n",
       "  color: #000000;\n",
       "}\n",
       "#T_b953e_row6_col7 {\n",
       "  background-color: #1c6bb0;\n",
       "  color: #f1f1f1;\n",
       "}\n",
       "#T_b953e_row6_col8 {\n",
       "  background-color: #d3e3f3;\n",
       "  color: #000000;\n",
       "}\n",
       "#T_b953e_row6_col9, #T_b953e_row8_col1 {\n",
       "  background-color: #eaf3fb;\n",
       "  color: #000000;\n",
       "}\n",
       "#T_b953e_row7_col6 {\n",
       "  background-color: #1d6cb1;\n",
       "  color: #f1f1f1;\n",
       "}\n",
       "#T_b953e_row7_col8 {\n",
       "  background-color: #c1d9ed;\n",
       "  color: #000000;\n",
       "}\n",
       "#T_b953e_row8_col6 {\n",
       "  background-color: #caddf0;\n",
       "  color: #000000;\n",
       "}\n",
       "#T_b953e_row8_col7 {\n",
       "  background-color: #b2d2e8;\n",
       "  color: #000000;\n",
       "}\n",
       "#T_b953e_row8_col9 {\n",
       "  background-color: #ebf3fb;\n",
       "  color: #000000;\n",
       "}\n",
       "#T_b953e_row9_col3, #T_b953e_row9_col8 {\n",
       "  background-color: #f5fafe;\n",
       "  color: #000000;\n",
       "}\n",
       "</style>\n",
       "<table id=\"T_b953e_\">\n",
       "  <thead>\n",
       "    <tr>\n",
       "      <th class=\"blank level0\" >&nbsp;</th>\n",
       "      <th class=\"col_heading level0 col0\" >Rating</th>\n",
       "      <th class=\"col_heading level0 col1\" >Reviews</th>\n",
       "      <th class=\"col_heading level0 col2\" >Installs</th>\n",
       "      <th class=\"col_heading level0 col3\" >Type</th>\n",
       "      <th class=\"col_heading level0 col4\" >Price</th>\n",
       "      <th class=\"col_heading level0 col5\" >Review Ratio</th>\n",
       "      <th class=\"col_heading level0 col6\" >Sentiment</th>\n",
       "      <th class=\"col_heading level0 col7\" >Sentiment_Polarity</th>\n",
       "      <th class=\"col_heading level0 col8\" >Sentiment_Subjectivity</th>\n",
       "      <th class=\"col_heading level0 col9\" >Complains_Adv</th>\n",
       "    </tr>\n",
       "  </thead>\n",
       "  <tbody>\n",
       "    <tr>\n",
       "      <th id=\"T_b953e_level0_row0\" class=\"row_heading level0 row0\" >Rating</th>\n",
       "      <td id=\"T_b953e_row0_col0\" class=\"data row0 col0\" >1.000000</td>\n",
       "      <td id=\"T_b953e_row0_col1\" class=\"data row0 col1\" >0.075785</td>\n",
       "      <td id=\"T_b953e_row0_col2\" class=\"data row0 col2\" >0.019964</td>\n",
       "      <td id=\"T_b953e_row0_col3\" class=\"data row0 col3\" >0.008883</td>\n",
       "      <td id=\"T_b953e_row0_col4\" class=\"data row0 col4\" >-0.010083</td>\n",
       "      <td id=\"T_b953e_row0_col5\" class=\"data row0 col5\" >0.286071</td>\n",
       "      <td id=\"T_b953e_row0_col6\" class=\"data row0 col6\" >0.091491</td>\n",
       "      <td id=\"T_b953e_row0_col7\" class=\"data row0 col7\" >0.093348</td>\n",
       "      <td id=\"T_b953e_row0_col8\" class=\"data row0 col8\" >0.068765</td>\n",
       "      <td id=\"T_b953e_row0_col9\" class=\"data row0 col9\" >-0.030387</td>\n",
       "    </tr>\n",
       "    <tr>\n",
       "      <th id=\"T_b953e_level0_row1\" class=\"row_heading level0 row1\" >Reviews</th>\n",
       "      <td id=\"T_b953e_row1_col0\" class=\"data row1 col0\" >0.075785</td>\n",
       "      <td id=\"T_b953e_row1_col1\" class=\"data row1 col1\" >1.000000</td>\n",
       "      <td id=\"T_b953e_row1_col2\" class=\"data row1 col2\" >0.564232</td>\n",
       "      <td id=\"T_b953e_row1_col3\" class=\"data row1 col3\" >-0.026381</td>\n",
       "      <td id=\"T_b953e_row1_col4\" class=\"data row1 col4\" >-0.020592</td>\n",
       "      <td id=\"T_b953e_row1_col5\" class=\"data row1 col5\" >0.313742</td>\n",
       "      <td id=\"T_b953e_row1_col6\" class=\"data row1 col6\" >-0.071745</td>\n",
       "      <td id=\"T_b953e_row1_col7\" class=\"data row1 col7\" >-0.080049</td>\n",
       "      <td id=\"T_b953e_row1_col8\" class=\"data row1 col8\" >-0.009319</td>\n",
       "      <td id=\"T_b953e_row1_col9\" class=\"data row1 col9\" >-0.034826</td>\n",
       "    </tr>\n",
       "    <tr>\n",
       "      <th id=\"T_b953e_level0_row2\" class=\"row_heading level0 row2\" >Installs</th>\n",
       "      <td id=\"T_b953e_row2_col0\" class=\"data row2 col0\" >0.019964</td>\n",
       "      <td id=\"T_b953e_row2_col1\" class=\"data row2 col1\" >0.564232</td>\n",
       "      <td id=\"T_b953e_row2_col2\" class=\"data row2 col2\" >1.000000</td>\n",
       "      <td id=\"T_b953e_row2_col3\" class=\"data row2 col3\" >-0.032436</td>\n",
       "      <td id=\"T_b953e_row2_col4\" class=\"data row2 col4\" >-0.025201</td>\n",
       "      <td id=\"T_b953e_row2_col5\" class=\"data row2 col5\" >-0.004381</td>\n",
       "      <td id=\"T_b953e_row2_col6\" class=\"data row2 col6\" >-0.042383</td>\n",
       "      <td id=\"T_b953e_row2_col7\" class=\"data row2 col7\" >-0.057868</td>\n",
       "      <td id=\"T_b953e_row2_col8\" class=\"data row2 col8\" >-0.006320</td>\n",
       "      <td id=\"T_b953e_row2_col9\" class=\"data row2 col9\" >-0.023467</td>\n",
       "    </tr>\n",
       "    <tr>\n",
       "      <th id=\"T_b953e_level0_row3\" class=\"row_heading level0 row3\" >Type</th>\n",
       "      <td id=\"T_b953e_row3_col0\" class=\"data row3 col0\" >0.008883</td>\n",
       "      <td id=\"T_b953e_row3_col1\" class=\"data row3 col1\" >-0.026381</td>\n",
       "      <td id=\"T_b953e_row3_col2\" class=\"data row3 col2\" >-0.032436</td>\n",
       "      <td id=\"T_b953e_row3_col3\" class=\"data row3 col3\" >1.000000</td>\n",
       "      <td id=\"T_b953e_row3_col4\" class=\"data row3 col4\" >0.774633</td>\n",
       "      <td id=\"T_b953e_row3_col5\" class=\"data row3 col5\" >0.260697</td>\n",
       "      <td id=\"T_b953e_row3_col6\" class=\"data row3 col6\" >0.027435</td>\n",
       "      <td id=\"T_b953e_row3_col7\" class=\"data row3 col7\" >0.014730</td>\n",
       "      <td id=\"T_b953e_row3_col8\" class=\"data row3 col8\" >0.007334</td>\n",
       "      <td id=\"T_b953e_row3_col9\" class=\"data row3 col9\" >-0.022512</td>\n",
       "    </tr>\n",
       "    <tr>\n",
       "      <th id=\"T_b953e_level0_row4\" class=\"row_heading level0 row4\" >Price</th>\n",
       "      <td id=\"T_b953e_row4_col0\" class=\"data row4 col0\" >-0.010083</td>\n",
       "      <td id=\"T_b953e_row4_col1\" class=\"data row4 col1\" >-0.020592</td>\n",
       "      <td id=\"T_b953e_row4_col2\" class=\"data row4 col2\" >-0.025201</td>\n",
       "      <td id=\"T_b953e_row4_col3\" class=\"data row4 col3\" >0.774633</td>\n",
       "      <td id=\"T_b953e_row4_col4\" class=\"data row4 col4\" >1.000000</td>\n",
       "      <td id=\"T_b953e_row4_col5\" class=\"data row4 col5\" >0.192184</td>\n",
       "      <td id=\"T_b953e_row4_col6\" class=\"data row4 col6\" >0.025730</td>\n",
       "      <td id=\"T_b953e_row4_col7\" class=\"data row4 col7\" >0.024148</td>\n",
       "      <td id=\"T_b953e_row4_col8\" class=\"data row4 col8\" >0.003182</td>\n",
       "      <td id=\"T_b953e_row4_col9\" class=\"data row4 col9\" >-0.017439</td>\n",
       "    </tr>\n",
       "    <tr>\n",
       "      <th id=\"T_b953e_level0_row5\" class=\"row_heading level0 row5\" >Review Ratio</th>\n",
       "      <td id=\"T_b953e_row5_col0\" class=\"data row5 col0\" >0.286071</td>\n",
       "      <td id=\"T_b953e_row5_col1\" class=\"data row5 col1\" >0.313742</td>\n",
       "      <td id=\"T_b953e_row5_col2\" class=\"data row5 col2\" >-0.004381</td>\n",
       "      <td id=\"T_b953e_row5_col3\" class=\"data row5 col3\" >0.260697</td>\n",
       "      <td id=\"T_b953e_row5_col4\" class=\"data row5 col4\" >0.192184</td>\n",
       "      <td id=\"T_b953e_row5_col5\" class=\"data row5 col5\" >1.000000</td>\n",
       "      <td id=\"T_b953e_row5_col6\" class=\"data row5 col6\" >-0.009726</td>\n",
       "      <td id=\"T_b953e_row5_col7\" class=\"data row5 col7\" >-0.045599</td>\n",
       "      <td id=\"T_b953e_row5_col8\" class=\"data row5 col8\" >0.031601</td>\n",
       "      <td id=\"T_b953e_row5_col9\" class=\"data row5 col9\" >-0.064764</td>\n",
       "    </tr>\n",
       "    <tr>\n",
       "      <th id=\"T_b953e_level0_row6\" class=\"row_heading level0 row6\" >Sentiment</th>\n",
       "      <td id=\"T_b953e_row6_col0\" class=\"data row6 col0\" >0.091491</td>\n",
       "      <td id=\"T_b953e_row6_col1\" class=\"data row6 col1\" >-0.071745</td>\n",
       "      <td id=\"T_b953e_row6_col2\" class=\"data row6 col2\" >-0.042383</td>\n",
       "      <td id=\"T_b953e_row6_col3\" class=\"data row6 col3\" >0.027435</td>\n",
       "      <td id=\"T_b953e_row6_col4\" class=\"data row6 col4\" >0.025730</td>\n",
       "      <td id=\"T_b953e_row6_col5\" class=\"data row6 col5\" >-0.009726</td>\n",
       "      <td id=\"T_b953e_row6_col6\" class=\"data row6 col6\" >1.000000</td>\n",
       "      <td id=\"T_b953e_row6_col7\" class=\"data row6 col7\" >0.751681</td>\n",
       "      <td id=\"T_b953e_row6_col8\" class=\"data row6 col8\" >0.176329</td>\n",
       "      <td id=\"T_b953e_row6_col9\" class=\"data row6 col9\" >0.003888</td>\n",
       "    </tr>\n",
       "    <tr>\n",
       "      <th id=\"T_b953e_level0_row7\" class=\"row_heading level0 row7\" >Sentiment_Polarity</th>\n",
       "      <td id=\"T_b953e_row7_col0\" class=\"data row7 col0\" >0.093348</td>\n",
       "      <td id=\"T_b953e_row7_col1\" class=\"data row7 col1\" >-0.080049</td>\n",
       "      <td id=\"T_b953e_row7_col2\" class=\"data row7 col2\" >-0.057868</td>\n",
       "      <td id=\"T_b953e_row7_col3\" class=\"data row7 col3\" >0.014730</td>\n",
       "      <td id=\"T_b953e_row7_col4\" class=\"data row7 col4\" >0.024148</td>\n",
       "      <td id=\"T_b953e_row7_col5\" class=\"data row7 col5\" >-0.045599</td>\n",
       "      <td id=\"T_b953e_row7_col6\" class=\"data row7 col6\" >0.751681</td>\n",
       "      <td id=\"T_b953e_row7_col7\" class=\"data row7 col7\" >1.000000</td>\n",
       "      <td id=\"T_b953e_row7_col8\" class=\"data row7 col8\" >0.259668</td>\n",
       "      <td id=\"T_b953e_row7_col9\" class=\"data row7 col9\" >-0.024217</td>\n",
       "    </tr>\n",
       "    <tr>\n",
       "      <th id=\"T_b953e_level0_row8\" class=\"row_heading level0 row8\" >Sentiment_Subjectivity</th>\n",
       "      <td id=\"T_b953e_row8_col0\" class=\"data row8 col0\" >0.068765</td>\n",
       "      <td id=\"T_b953e_row8_col1\" class=\"data row8 col1\" >-0.009319</td>\n",
       "      <td id=\"T_b953e_row8_col2\" class=\"data row8 col2\" >-0.006320</td>\n",
       "      <td id=\"T_b953e_row8_col3\" class=\"data row8 col3\" >0.007334</td>\n",
       "      <td id=\"T_b953e_row8_col4\" class=\"data row8 col4\" >0.003182</td>\n",
       "      <td id=\"T_b953e_row8_col5\" class=\"data row8 col5\" >0.031601</td>\n",
       "      <td id=\"T_b953e_row8_col6\" class=\"data row8 col6\" >0.176329</td>\n",
       "      <td id=\"T_b953e_row8_col7\" class=\"data row8 col7\" >0.259668</td>\n",
       "      <td id=\"T_b953e_row8_col8\" class=\"data row8 col8\" >1.000000</td>\n",
       "      <td id=\"T_b953e_row8_col9\" class=\"data row8 col9\" >0.000654</td>\n",
       "    </tr>\n",
       "    <tr>\n",
       "      <th id=\"T_b953e_level0_row9\" class=\"row_heading level0 row9\" >Complains_Adv</th>\n",
       "      <td id=\"T_b953e_row9_col0\" class=\"data row9 col0\" >-0.030387</td>\n",
       "      <td id=\"T_b953e_row9_col1\" class=\"data row9 col1\" >-0.034826</td>\n",
       "      <td id=\"T_b953e_row9_col2\" class=\"data row9 col2\" >-0.023467</td>\n",
       "      <td id=\"T_b953e_row9_col3\" class=\"data row9 col3\" >-0.022512</td>\n",
       "      <td id=\"T_b953e_row9_col4\" class=\"data row9 col4\" >-0.017439</td>\n",
       "      <td id=\"T_b953e_row9_col5\" class=\"data row9 col5\" >-0.064764</td>\n",
       "      <td id=\"T_b953e_row9_col6\" class=\"data row9 col6\" >0.003888</td>\n",
       "      <td id=\"T_b953e_row9_col7\" class=\"data row9 col7\" >-0.024217</td>\n",
       "      <td id=\"T_b953e_row9_col8\" class=\"data row9 col8\" >0.000654</td>\n",
       "      <td id=\"T_b953e_row9_col9\" class=\"data row9 col9\" >1.000000</td>\n",
       "    </tr>\n",
       "  </tbody>\n",
       "</table>\n"
      ],
      "text/plain": [
       "<pandas.io.formats.style.Styler at 0x2b21051df10>"
      ]
     },
     "execution_count": 26,
     "metadata": {},
     "output_type": "execute_result"
    }
   ],
   "source": [
    "playstore_with_rev.corr().style.background_gradient(cmap=\"Blues\")"
   ]
  },
  {
   "cell_type": "markdown",
   "metadata": {},
   "source": [
    "Notiamo che **non c'è correlazione tra Sentiment e Complains_Adv**.\n",
    "\n",
    "---------------------------------------------------------------------------------\n",
    "\n",
    "Per confermarlo analizzo le distribuzioni dei Sentimenti sulle recensioni che parlano di pubblicità e delle recensioni in generale."
   ]
  },
  {
   "cell_type": "code",
   "execution_count": 27,
   "metadata": {},
   "outputs": [
    {
     "name": "stdout",
     "output_type": "stream",
     "text": [
      "Sentimento Negativo sul Totale: 22.28005232541958%\n",
      "Sentimento Neutrale sul Totale: 13.5016282111943%\n",
      "Sentimento Positivo sul Totale: 64.21831946338612%\n",
      "\n",
      "Sentimento Negativo sugli Adv: 23.288590604026847%\n",
      "Sentimento Neutrale sugli Adv: 9.93288590604027%\n",
      "Sentimento Positivo sugli Adv: 66.77852348993288%\n"
     ]
    }
   ],
   "source": [
    "s_negative = playstore_with_rev[playstore_with_rev['Sentiment']==0]\n",
    "s_neutral = playstore_with_rev[playstore_with_rev['Sentiment']==0.5]\n",
    "s_positive = playstore_with_rev[playstore_with_rev['Sentiment']==1]\n",
    "\n",
    "s_negative_add = complains_adv[complains_adv['Sentiment']==0]\n",
    "s_neutral_add = complains_adv[complains_adv['Sentiment']==0.5]\n",
    "s_positive_add = complains_adv[complains_adv['Sentiment']==1]\n",
    "\n",
    "perc_negative_ds = len(s_negative)/playstore_with_rev.shape[0]*100\n",
    "perc_neutral_ds = len(s_neutral)/playstore_with_rev.shape[0]*100\n",
    "perc_positive_ds = len(s_positive)/playstore_with_rev.shape[0]*100\n",
    "\n",
    "print(\"Sentimento Negativo sul Totale: \" + str(perc_negative_ds) + \"%\")\n",
    "print(\"Sentimento Neutrale sul Totale: \" + str(perc_neutral_ds) + \"%\")\n",
    "print(\"Sentimento Positivo sul Totale: \" + str(perc_positive_ds) + \"%\")\n",
    "\n",
    "print(\"\\nSentimento Negativo sugli Adv: \" + str(len(s_negative_add)/len(complains_adv)*100) + \"%\")\n",
    "print(\"Sentimento Neutrale sugli Adv: \" + str(len(s_neutral_add)/len(complains_adv)*100) + \"%\")\n",
    "print(\"Sentimento Positivo sugli Adv: \" + str(len(s_positive_add)/len(complains_adv)*100) + \"%\")"
   ]
  },
  {
   "cell_type": "markdown",
   "metadata": {},
   "source": [
    "Le distribuzioni mi sembrano molto simili; per conferma eseguo un **test del chi-quadrato**, con:\n",
    "- Distribuzione **prevista**: Sentimenti sul Totale,\n",
    "- Distribuzione **osservata**: Sentimenti sulle Recensioni con Pubblicità."
   ]
  },
  {
   "cell_type": "markdown",
   "metadata": {},
   "source": [
    "### Test del Chi-Quadrato dell’Idoneità\n",
    "\n",
    "H0 = I sentimenti sul totale delle recensioni e su quelle inerenti alle pubblicità hanno le stesse distribuzioni.\n",
    "\n",
    "HA = Le distribuzioni dei sentimenti sono diverse."
   ]
  },
  {
   "cell_type": "code",
   "execution_count": 28,
   "metadata": {},
   "outputs": [
    {
     "name": "stdout",
     "output_type": "stream",
     "text": [
      "Dimensioni della Popolazione (N): 1490\n",
      "Dimensioni del campione (n): 140\n"
     ]
    }
   ],
   "source": [
    "chi_campione = playstore_with_rev.sample(n=140, random_state=500)\n",
    "\n",
    "chi_s_negative = chi_campione[chi_campione['Sentiment']==0]\n",
    "chi_s_neutral = chi_campione[chi_campione['Sentiment']==0.5]\n",
    "chi_s_positive = chi_campione[chi_campione['Sentiment']==1]\n",
    "\n",
    "print(\"Dimensioni della Popolazione (N): \" + str(complains_adv.shape[0]))\n",
    "print(\"Dimensioni del campione (n): \" + str(chi_campione.shape[0]))"
   ]
  },
  {
   "cell_type": "markdown",
   "metadata": {},
   "source": [
    "Le precondizioni per il test sono verificate, infatti:\n",
    "- 1) Abbiamo almeno 5 conteggi;\n",
    "- 2) Le singole osservazioni sono indipendenti;\n",
    "- 3) Le dimensioni della popolazione sono pari ad almeno 10 volte quelle del campione (10n < N)."
   ]
  },
  {
   "cell_type": "code",
   "execution_count": 44,
   "metadata": {},
   "outputs": [
    {
     "name": "stdout",
     "output_type": "stream",
     "text": [
      "          Negative  Neutrali  Positive\n",
      "Observed        29        19        92\n",
      "Expected        33        14        93\n",
      "\n",
      "Statistica del Test: 2.281315458734814\n",
      "p-value calcolato: 0.31960873661635664\n"
     ]
    }
   ],
   "source": [
    "adv_perc = [0.2328859, 0.099328859, 0.6677852349]\n",
    "\n",
    "total_passengers = chi_campione.shape[0]\n",
    "classi_Attese = [int(np.round(total_passengers*adv_perc[0])),int(np.round(total_passengers*adv_perc[1])),int(total_passengers*adv_perc[2])]\n",
    "\n",
    "chi_data = {'Negative': [len(chi_s_negative),classi_Attese[0]], 'Neutrali': [len(chi_s_neutral), classi_Attese[1]], 'Positive': [len(chi_s_positive), classi_Attese[2]]}\n",
    "chi_df = pd.DataFrame(chi_data)\n",
    "chi_df.index = ['Observed', 'Expected']\n",
    "print(chi_df)\n",
    "\n",
    "observed = [chi_df['Negative'][0],chi_df['Neutrali'][0],chi_df['Positive'][0]]\n",
    "expected = [chi_df['Negative'][1],chi_df['Neutrali'][1],chi_df['Positive'][1]]\n",
    "chi_squared, p_value = stats.chisquare(f_obs= observed, f_exp= expected)\n",
    "\n",
    "print(\"\\nStatistica del Test: \" + str(chi_squared))\n",
    "print(\"p-value calcolato: \" + str(p_value))"
   ]
  },
  {
   "cell_type": "markdown",
   "metadata": {},
   "source": [
    "*p-value > livello di significatività*\n",
    "\n",
    "H0 è quindi accettata, quindi **i sentimenti sul totale delle recensioni e su quelle inerenti alle pubblicità hanno le stesse distribuzioni**.\n",
    "\n",
    "L'ipotesi iniziale è quindi errata: **non è detto che le recensioni che parlano di pubblicità abbiano sentimento negativo**."
   ]
  },
  {
   "cell_type": "markdown",
   "metadata": {},
   "source": [
    "# 4. Conclusioni <a id='4'></a>\n",
    "Da quest'analisi abbiamo tratto le seguenti conclusioni, ispirate alle ipotesi iniziali:"
   ]
  },
  {
   "cell_type": "markdown",
   "metadata": {},
   "source": [
    "1. - **Le app gratuite NON sono piu' gradite in generale delle app a pagamento**; nell'analisi abbiamo trovato che:\n",
    "    - la maggior parte delle valutazioni degli utenti sono positive,\n",
    "    - la maggior parte delle applicazioni sono gratuite,\n",
    "    - il gradimento delle app gratuite è minore del gradimento delle app a pagamento.\n",
    "\n",
    "    L'ipotesi iniziale sembra quindi NON essere verificata.\n",
    "\n",
    "------------------------------------------------------------------------------------------------------------------\n",
    "\n",
    "2. - **In proporzione alle installazioni, le app a pagamento risultano essere piu' recensite di quelle gratuite**, infatti:\n",
    "    - le app a pagamento hanno un rapporto Review/Installazioni piu' alto di quelle gratuite.\n",
    "\n",
    "    L'ipotesi iniziale sembra quindi essere verificata.\n",
    "\n",
    "------------------------------------------------------------------------------------------------------------------\n",
    "\n",
    "3. - **Le recensioni che si riferiscono alle pubblicità NON hanno generalmente un sentimento piu' negativo rispetto alle recensioni in generale**; in quest'analisi abbiamo trovato che:\n",
    "    - il 4% circa delle recensioni si riferiscono alle pubblicità,\n",
    "    - tutte le recensioni che fanno riferimento alle pubblicità sono di app gratuite,\n",
    "    - i sentimenti sul totale delle recensioni e su quelle inerenti alle pubblicità hanno le stesse distribuzioni.\n",
    "    \n",
    "    Purtroppo l'analisi non è del tutto incentrata sull'ipotesi iniziale, poiché il dataset non riporta direttamente la valutazione della singola recensione ma solo il suo sentimento."
   ]
  },
  {
   "cell_type": "markdown",
   "metadata": {},
   "source": [
    "# 5. Predizione dei Sentimenti delle Recensioni dal Testo <a id='5'></a>\n",
    "## Apprendimento Supervisionato\n",
    "\n",
    "**Obiettivo dell'Elaborato:** Sviluppare una **regressione logistica** al fine di **prevedere la probabilità che una recensione** con testo in inglese **appartenga** ad una certa **classe**, ovvero quella **delle recensioni con sentimento positivo**.\n",
    "\n",
    "**Nel dettaglio:** Escludiamo le recensioni con sentimento neutrale (circa 4 delle 35 mila) per avere un **problema di classificazione binaria**.\n",
    "Consideriamo quindi le 1000 parole piu' utilizzate in inglese (escluse le *stop words*) e utilizziamole come base per la nostra regressione."
   ]
  },
  {
   "cell_type": "code",
   "execution_count": 30,
   "metadata": {},
   "outputs": [
    {
     "name": "stdout",
     "output_type": "stream",
     "text": [
      "Score del modello di regressione logistica: 0.911969111969112\n"
     ]
    }
   ],
   "source": [
    "# creiamo un nuovo DataFrame con le sole recensioni con sentimento positivo o negativo (escludiamo il sentimento neutrale)\n",
    "ps_sentiment = playstore_with_rev[playstore_with_rev['Sentiment'] != 0.5]\n",
    "\n",
    "# creiamo adesso un dataset per il problema di classificazione binaria in cui vogliamo provare a \n",
    "# capire se il sentimento della recensione è positivo o negativo sulla base del testo della recensione\n",
    "X = ps_sentiment.Translated_Review\n",
    "y = ps_sentiment.Sentiment == 1 # quando il sentimento è positivo\n",
    "\n",
    "# contiamo il numero di parole nei testi, eliminando le stop_words come a, an, the, ...\n",
    "# provando ad usare solo le 1000 parole più usate\n",
    "from sklearn.feature_extraction.text import CountVectorizer\n",
    "vect = CountVectorizer(stop_words='english', max_features=1000)\n",
    "\n",
    "# trasformiamo il testo in formato Document Term Matrix\n",
    "X_dtm = vect.fit_transform(X)\n",
    "\n",
    "# estraiamo a caso i dati per organizzarli in un insieme di training e validazione\n",
    "import sklearn.model_selection as ms\n",
    "\n",
    "X_train, X_test, y_train, y_test = ms.train_test_split(X_dtm, y, random_state=1000)\n",
    "\n",
    "# proviamo a vedere che cosa succede applicando la regressione logistica\n",
    "from sklearn.linear_model import LogisticRegression\n",
    "lr = LogisticRegression()\n",
    "\n",
    "# Alleniamo il modello di Regressione Logistica sui nostri dati\n",
    "Model = lr.fit(X_train, y_train)\n",
    "\n",
    "# Valutiamo il modello ottenuto sui dati di validazione\n",
    "scr = lr.score(X_test, y_test)\n",
    "print(\"Score del modello di regressione logistica: \" + str(scr))"
   ]
  },
  {
   "cell_type": "markdown",
   "metadata": {},
   "source": [
    "Nel 91% dei casi la recensione è stata classificata correttamente.\n",
    "\n",
    "--------------------------------------------------------------------------------------------------------------\n",
    "\n",
    "## Modello Nullo\n",
    "Verifico che il modello sia valido confrontandolo con il modello nullo.\n",
    "\n",
    "**Nel caso della classificazione, il modello nullo è il risultato piu' comune**, quindi, in questo caso, possiamo contare il numero di occorrenze della caratteristica."
   ]
  },
  {
   "cell_type": "code",
   "execution_count": 31,
   "metadata": {},
   "outputs": [
    {
     "name": "stdout",
     "output_type": "stream",
     "text": [
      "Numero di Recensioni Positive: 23073\n",
      "in Percentuale al totale: 0.7424222922968016%\n",
      "\n",
      "Numero di Recensioni Negative: 8005\n",
      "in Percentuale al totale: 0.2575777077031984%\n"
     ]
    }
   ],
   "source": [
    "positive_rev = ps_sentiment[ps_sentiment['Sentiment'] == 1]\n",
    "negative_rev = ps_sentiment[ps_sentiment['Sentiment'] == 0]\n",
    "\n",
    "print(\"Numero di Recensioni Positive: \" + str(positive_rev.shape[0]))\n",
    "print(\"in Percentuale al totale: \" + str(positive_rev.shape[0] / ps_sentiment.shape[0]) + \"%\")\n",
    "\n",
    "print(\"\\nNumero di Recensioni Negative: \" + str(negative_rev.shape[0]))\n",
    "print(\"in Percentuale al totale: \" + str(negative_rev.shape[0] / ps_sentiment.shape[0]) + \"%\")"
   ]
  },
  {
   "cell_type": "markdown",
   "metadata": {},
   "source": [
    "**Assegnando come classe sempre Positive oppure sempre Negative non si otterrebbe mai un punteggio superiore al 74.24%**; nel nostro modello otteniamo invece un punteggio del 91%."
   ]
  },
  {
   "cell_type": "markdown",
   "metadata": {},
   "source": [
    "## Test su Recensioni Singole\n",
    "\n",
    "Provo dunque a passare in input una recensione dal **sentimento chiaramente positivo** e applico il modello svolto:\n",
    "![img-whats.png](img-whats.png)"
   ]
  },
  {
   "cell_type": "markdown",
   "metadata": {},
   "source": [
    "Per farlo creo una funzione che mi aiuterà a valutare le recensioni singole, aggiungendole in fondo al dataframe per poi darle in input alla ***Model.predict*, che restituirà se appartengono o meno alla classe delle recensioni con sentimento positivo**.\n",
    "\n",
    "Per non rischiare di falsare l'esperimento escludo la recensione da valutare dall'allenamento del modello."
   ]
  },
  {
   "cell_type": "code",
   "execution_count": 32,
   "metadata": {},
   "outputs": [
    {
     "name": "stdout",
     "output_type": "stream",
     "text": [
      "Risultato della prediction sull'appartenenza alla classe dei sentimenti positivi: True\n"
     ]
    }
   ],
   "source": [
    "def eval_rev(rev_text):\n",
    "    ps_sentiment = playstore_with_rev[playstore_with_rev['Sentiment'] != 0.5]\n",
    "\n",
    "    # aggiungo al DataFrame (in fondo) la nuova recensione TO-DO\n",
    "    the_rev = {'Translated_Review': rev_text}\n",
    "    ps_sentiment = ps_sentiment.append(the_rev, ignore_index = True)\n",
    "\n",
    "    X = ps_sentiment.Translated_Review\n",
    "    y = ps_sentiment.Sentiment == 1 # quando è positivo\n",
    "\n",
    "    from sklearn.feature_extraction.text import CountVectorizer\n",
    "    vect = CountVectorizer(stop_words='english', max_features=1000)\n",
    "    X_dtm = vect.fit_transform(X)\n",
    "\n",
    "    import sklearn.model_selection as ms\n",
    "    # rimuovo la recensione aggiunta per non falsare l'esperimento\n",
    "    X_train, X_test, y_train, y_test = ms.train_test_split(X_dtm[:-1], y[:-1], random_state=100)\n",
    "\n",
    "    from sklearn.linear_model import LogisticRegression\n",
    "    lr = LogisticRegression()\n",
    "\n",
    "    Model = lr.fit(X_train, y_train)\n",
    "\n",
    "    # faccio la prediction sulla recensione\n",
    "    res = Model.predict(X_dtm[-1])\n",
    "    print(\"Risultato della prediction sull'appartenenza alla classe dei sentimenti positivi: \" + str(res[0]))\n",
    "\n",
    "the_rev_text = \"Whatsapp is awesome, you can mute whichever number you so choose for a certain amount of time (hours to days). To changing the wallpaper in chat rooms and light mode theme. Though, i would love it if they added the option to change the text bubble! I see that it's an option for other phones (ive looked up how to change bubble text color but the option simply isnt there. Very minor detail but would like for it to be added) Asside from that! Whatsapp is great 10/10.\"\n",
    "eval_rev(the_rev_text)"
   ]
  },
  {
   "cell_type": "markdown",
   "metadata": {},
   "source": [
    "Il risultato è corretto.\n",
    "\n",
    "--------------------------------------------------------------------------------------------------------------\n",
    "Provo dunque a passare in input una recensione dal **sentimento chiaramente negativo** e applico il modello svolto:\n",
    "![img-inst.png](img-inst.png)"
   ]
  },
  {
   "cell_type": "code",
   "execution_count": 33,
   "metadata": {},
   "outputs": [
    {
     "name": "stdout",
     "output_type": "stream",
     "text": [
      "Risultato della prediction sull'appartenenza alla classe dei sentimenti positivi: False\n"
     ]
    }
   ],
   "source": [
    "the_rev_text = \"The app is really buggy to the point where it is almost unusable. Sometimes the chat bar disappears and I'm unable to type in the DM's, or I am able to type but the send button is gone so I can't even send the message. Whenever I want to make a post, the options to change the brightness, contrast, etc. are completely GONE. And sometimes the photos would swap places with each other or all of them would become the same photo. This app is TRASH.\"\n",
    "eval_rev(the_rev_text)"
   ]
  },
  {
   "cell_type": "markdown",
   "metadata": {},
   "source": [
    "Il risultato è corretto.\n",
    "\n",
    "--------------------------------------------------------------------------------------------------------------\n",
    "Provo dunque a passare in input una recensione dal **sentimento dubbio** e applico il modello svolto:\n",
    "![img-twitter.png](img-twitter.png)"
   ]
  },
  {
   "cell_type": "code",
   "execution_count": 34,
   "metadata": {},
   "outputs": [
    {
     "name": "stdout",
     "output_type": "stream",
     "text": [
      "Risultato della prediction sull'appartenenza alla classe dei sentimenti positivi: True\n"
     ]
    }
   ],
   "source": [
    "the_rev_text = \"Before the update it was pretty good. No glitches and stuff but ever since, the most annoying thing are the random reloadings. Like if you go to click on a post and leave it. The app brings you right back to the tippy top. Or when your scrolling someone's page and click a picture or tweet to see better. Then you leave/back space out of it, your right back to the tippy top of their page again! Like man I like to slowly read post from the bottom and work my way up. Especially if it's my feed.\"\n",
    "eval_rev(the_rev_text)"
   ]
  },
  {
   "cell_type": "markdown",
   "metadata": {},
   "source": [
    "Troviamo in questo caso un sentimento positivo; il risultato non sorprende in quanto il sentimento neutrale è stato rimosso dal modello e la recensione contiene molte parole positive."
   ]
  },
  {
   "cell_type": "markdown",
   "metadata": {},
   "source": [
    "## Commento dei Risultati Ottenuti\n",
    "\n",
    "- 1) il **modello di regressione logistica ha uno score del 91%**, che risulta alto anche confrontato con il modello nullo, che ha uno score del 74% circa.\n",
    "    \n",
    "\n",
    "- 2) Il modello **si comporta correttamente anche nei test sulle singole recensioni** dubbie oppure visibilmente positive o negative."
   ]
  },
  {
   "cell_type": "markdown",
   "metadata": {},
   "source": [
    "# 6. Calcolo dei Sentimenti delle Recensioni <a id='6'></a>\n",
    "## Metodo Manuale\n",
    "\n",
    "**Obiettivo dell'Elaborato:** Sviluppare un **metodo manuale che, a partire dal testo di una recensione**, **calcoli** se essa ha **sentimento** positivo o negativo.\n",
    "\n",
    "**Nel dettaglio:** **Valutiamo ogni recensione assegnando ad ogni parola che è presente in essa un punteggio**: \n",
    "- **negativo** (da -1 a -5) se la parola ha sentimento lievemente o fortemente negativo;\n",
    "- **positivo** (da 1 a 5) se la parola ha sentimento lievemente o fortemente positivo.\n",
    "\n",
    "Facendo la somma dei punteggi delle parole otteniamo una **valutazione del sentimento della recensione**: a questo punto la classifichiamo come Positiva o Negativa in base ad essa."
   ]
  },
  {
   "cell_type": "markdown",
   "metadata": {},
   "source": [
    "## Uno Sguardo alle Parole.."
   ]
  },
  {
   "cell_type": "code",
   "execution_count": 35,
   "metadata": {},
   "outputs": [
    {
     "name": "stdout",
     "output_type": "stream",
     "text": [
      "Ci sono 4145893 parole nel totale delle recensioni.\n"
     ]
    },
    {
     "data": {
      "image/png": "[encoded data removed]",
      "text/plain": [
       "<Figure size 1152x1152 with 1 Axes>"
      ]
     },
     "metadata": {
      "needs_background": "light"
     },
     "output_type": "display_data"
    }
   ],
   "source": [
    "# per installare wordcloud, da anaconda prompt: conda install -c conda-forge wordcloud=1.8.1\n",
    "from wordcloud import WordCloud, STOPWORDS, ImageColorGenerator\n",
    "\n",
    "text = \" \".join(review for review in playstore_with_rev.Translated_Review)\n",
    "print (\"Ci sono {} parole nel totale delle recensioni.\".format(len(text)))\n",
    "\n",
    "wordcloud = WordCloud(  stopwords=STOPWORDS, \n",
    "                        width = 2800, height = 800,\n",
    "                        background_color ='white',\n",
    "                        min_font_size = 20).generate(text)\n",
    "\n",
    "plt.figure(figsize = (16, 16), facecolor = None)\n",
    "plt.imshow(wordcloud, interpolation='bilinear')\n",
    "plt.show()"
   ]
  },
  {
   "cell_type": "markdown",
   "metadata": {},
   "source": [
    "Notiamo che **tra le piu' frequenti molte possono essere usate per un analisi sentimentale**: *love, great, problem, excellent, good, better, cute, best, ...* \n",
    "\n",
    "Proviamo quindi a creare un metodo manuale che studi il sentimento, confrontandolo poi con le occorrenze del nostro dataset."
   ]
  },
  {
   "cell_type": "markdown",
   "metadata": {},
   "source": [
    "## Metodo Implementato"
   ]
  },
  {
   "cell_type": "markdown",
   "metadata": {},
   "source": [
    "Nel metodo utilizzo **AFINN**, che assegna ad ogni parola un punteggio che va da -5 (se è molto negativa) a +5 (se è molto positiva). \n",
    "\n",
    "Per la lingua inglese ci sono 2,477 parole con assegnato un punteggio."
   ]
  },
  {
   "cell_type": "code",
   "execution_count": 36,
   "metadata": {},
   "outputs": [],
   "source": [
    "# per installare afinn, da terminale pip install afinn\n",
    "from afinn import Afinn\n",
    "afinn = Afinn(language='en')\n",
    "\n",
    "# creo una lista che conterrà i valori per la colonna\n",
    "computed_sentiment_values = []\n",
    "\n",
    "# riempio la lista di valori che poi andranno nella nuova colonna\n",
    "for i, row in playstore_with_rev.iterrows():\n",
    "    translated_rev = row.Translated_Review\n",
    "    \n",
    "    score = 0\n",
    "\n",
    "    words = translated_rev.split()\n",
    "\n",
    "    for word in words:\n",
    "        score += afinn.score(word)\n",
    "        \n",
    "    if score < 0:\n",
    "        computed_sentiment_values.append(0)\n",
    "\n",
    "    elif score > 0:\n",
    "        computed_sentiment_values.append(1)\n",
    "\n",
    "    elif score == 0:\n",
    "        computed_sentiment_values.append(0.5)\n",
    "\n",
    "\n",
    "playstore_with_rev['Computed_Sentiment'] = computed_sentiment_values\n",
    "\n",
    "# calcolo una colonna per valutare i risultati\n",
    "sentiment_score_values = playstore_with_rev[\"Sentiment\"] - playstore_with_rev[\"Computed_Sentiment\"]\n",
    "playstore_with_rev[\"Sentiment Score\"] = sentiment_score_values"
   ]
  },
  {
   "cell_type": "markdown",
   "metadata": {},
   "source": [
    "Valuto i risultati ottenuti:"
   ]
  },
  {
   "cell_type": "code",
   "execution_count": 55,
   "metadata": {},
   "outputs": [
    {
     "name": "stdout",
     "output_type": "stream",
     "text": [
      "Numero di Recensioni in cui il Sentiment corrisponde a quello del dataset: 26935\n",
      "In percentuale al totale: 74.96729661276407%\n",
      "\n",
      "Percentuali delle Recensioni con Sentimento Negativo che hanno un match: \t58.675827607745155%\n",
      "\n",
      "Percentuali delle Recensioni con Sentimento Neutrale che hanno un match: \t55.06081220366935%\n",
      "\n",
      "Percentuali delle Recensioni con Sentimento Postivo che hanno un match: \t84.80475014085728%\n"
     ]
    },
    {
     "data": {
      "image/png": "[encoded data removed]",
      "text/plain": [
       "<Figure size 432x432 with 1 Axes>"
      ]
     },
     "metadata": {},
     "output_type": "display_data"
    }
   ],
   "source": [
    "computed_negative_sentiment = playstore_with_rev[playstore_with_rev['Computed_Sentiment'] == 0]\n",
    "computed_neutral_sentiment = playstore_with_rev[playstore_with_rev['Computed_Sentiment'] == 0.5]\n",
    "computed_positive_sentiment = playstore_with_rev[playstore_with_rev['Computed_Sentiment'] == 1]\n",
    "\n",
    "matching_sentiment = playstore_with_rev[playstore_with_rev['Sentiment Score'] == 0]\n",
    "print(\"Numero di Recensioni in cui il Sentiment corrisponde a quello del dataset: \" + str(matching_sentiment.shape[0]))\n",
    "print(\"In percentuale al totale: \" + str(matching_sentiment.shape[0] / playstore_with_rev.shape[0] * 100) + \"%\")\n",
    "\n",
    "matching_sentiment_neg = matching_sentiment[matching_sentiment['Sentiment'] == 0]\n",
    "print(\"\\nPercentuali delle Recensioni con Sentimento Negativo che hanno un match: \\t\" + str(matching_sentiment_neg.shape[0] / len(s_negative) * 100) + \"%\")\n",
    "\n",
    "matching_sentiment_neu = matching_sentiment[matching_sentiment['Sentiment'] == 0.5]\n",
    "print(\"\\nPercentuali delle Recensioni con Sentimento Neutrale che hanno un match: \\t\" + str(matching_sentiment_neu.shape[0] / len(s_neutral) * 100) + \"%\")\n",
    "\n",
    "matching_sentiment_pos = matching_sentiment[matching_sentiment['Sentiment'] == 1]\n",
    "print(\"\\nPercentuali delle Recensioni con Sentimento Postivo che hanno un match: \\t\" + str(matching_sentiment_pos.shape[0] / len(s_positive) * 100) + \"%\")\n",
    "\n",
    "perc_negative = len(computed_negative_sentiment)/playstore_with_rev.shape[0]*100\n",
    "perc_neutral = len(computed_neutral_sentiment)/playstore_with_rev.shape[0]*100\n",
    "perc_positive = len(computed_positive_sentiment)/playstore_with_rev.shape[0]*100\n",
    "\n",
    "playstore_with_rev['Sentiment Score'].value_counts().plot(kind='pie', figsize=(6,6), labels=['Sentimento Uguale','Discordante di 0.5', 'Discordante di -0.5', 'Discordante di -1', 'Discordante di 1'], title='Distribuzione delle Differenze tra i Sentimenti', ylabel = '');"
   ]
  },
  {
   "cell_type": "markdown",
   "metadata": {},
   "source": [
    "Noto che **il metodo ha risultati corretti nel 75% dei casi, e calcola molto bene soprattutto le recensioni positive**, che sono anche quelle piu' significative in termini numerici.\n",
    "\n",
    "**Le discordanze**, positive se il sentimento nel dataset è maggiore di quello calcolato e negative viceversa, **sono equidistribuite**, questo vedremo che porterà ad una buona distribuzione dei sentimenti.\n",
    "\n",
    "----------------------------------------------------------------------------\n",
    "\n",
    "Guardiamo ora le distribuzioni dei sentimenti:"
   ]
  },
  {
   "cell_type": "code",
   "execution_count": 46,
   "metadata": {},
   "outputs": [
    {
     "name": "stdout",
     "output_type": "stream",
     "text": [
      "\n",
      "Dal Dataset:\n",
      "Sentimento Negativo sul Totale: 22.28005232541958%\n",
      "Sentimento Neutrale sul Totale: 13.5016282111943%\n",
      "Sentimento Positivo sul Totale: 64.21831946338612%\n",
      "\n",
      "Dal Metodo Implementato:\n",
      "Sentimento Negativo sul Totale: 20.05065545937822%\n",
      "Sentimento Neutrale sul Totale: 15.847922291185393%\n",
      "Sentimento Positivo sul Totale: 64.1014222494364%\n"
     ]
    },
    {
     "data": {
      "image/png": "[encoded data removed]",
      "text/plain": [
       "<Figure size 432x288 with 1 Axes>"
      ]
     },
     "metadata": {
      "needs_background": "light"
     },
     "output_type": "display_data"
    },
    {
     "name": "stdout",
     "output_type": "stream",
     "text": [
      "\n",
      "Media delle Differenze tra i Sentimenti: 0.0\n"
     ]
    },
    {
     "data": {
      "text/html": [
       "<div>\n",
       "<style scoped>\n",
       "    .dataframe tbody tr th:only-of-type {\n",
       "        vertical-align: middle;\n",
       "    }\n",
       "\n",
       "    .dataframe tbody tr th {\n",
       "        vertical-align: top;\n",
       "    }\n",
       "\n",
       "    .dataframe thead th {\n",
       "        text-align: right;\n",
       "    }\n",
       "</style>\n",
       "<table border=\"1\" class=\"dataframe\">\n",
       "  <thead>\n",
       "    <tr style=\"text-align: right;\">\n",
       "      <th></th>\n",
       "      <th>Rating</th>\n",
       "      <th>Reviews</th>\n",
       "      <th>Installs</th>\n",
       "      <th>Type</th>\n",
       "      <th>Price</th>\n",
       "      <th>Review Ratio</th>\n",
       "      <th>Sentiment</th>\n",
       "      <th>Sentiment_Polarity</th>\n",
       "      <th>Sentiment_Subjectivity</th>\n",
       "      <th>Complains_Adv</th>\n",
       "      <th>Computed_Sentiment</th>\n",
       "      <th>Sentiment Score</th>\n",
       "    </tr>\n",
       "  </thead>\n",
       "  <tbody>\n",
       "    <tr>\n",
       "      <th>count</th>\n",
       "      <td>35929.000000</td>\n",
       "      <td>3.592900e+04</td>\n",
       "      <td>3.592900e+04</td>\n",
       "      <td>35929.000000</td>\n",
       "      <td>35929.000000</td>\n",
       "      <td>35929.000000</td>\n",
       "      <td>35929.000000</td>\n",
       "      <td>35929.000000</td>\n",
       "      <td>35929.000000</td>\n",
       "      <td>35929.000000</td>\n",
       "      <td>35929.000000</td>\n",
       "      <td>35929.000000</td>\n",
       "    </tr>\n",
       "    <tr>\n",
       "      <th>mean</th>\n",
       "      <td>4.297261</td>\n",
       "      <td>1.413317e+06</td>\n",
       "      <td>4.375691e+07</td>\n",
       "      <td>0.011578</td>\n",
       "      <td>0.109197</td>\n",
       "      <td>0.032909</td>\n",
       "      <td>0.709691</td>\n",
       "      <td>0.180904</td>\n",
       "      <td>0.493767</td>\n",
       "      <td>0.041471</td>\n",
       "      <td>0.720254</td>\n",
       "      <td>-0.010562</td>\n",
       "    </tr>\n",
       "    <tr>\n",
       "      <th>std</th>\n",
       "      <td>0.302842</td>\n",
       "      <td>5.731737e+06</td>\n",
       "      <td>1.453465e+08</td>\n",
       "      <td>0.106980</td>\n",
       "      <td>1.302471</td>\n",
       "      <td>0.041932</td>\n",
       "      <td>0.415067</td>\n",
       "      <td>0.350080</td>\n",
       "      <td>0.258053</td>\n",
       "      <td>0.199379</td>\n",
       "      <td>0.402334</td>\n",
       "      <td>0.376310</td>\n",
       "    </tr>\n",
       "    <tr>\n",
       "      <th>min</th>\n",
       "      <td>2.600000</td>\n",
       "      <td>4.600000e+01</td>\n",
       "      <td>1.000000e+03</td>\n",
       "      <td>0.000000</td>\n",
       "      <td>0.000000</td>\n",
       "      <td>0.000289</td>\n",
       "      <td>0.000000</td>\n",
       "      <td>-1.000000</td>\n",
       "      <td>0.000000</td>\n",
       "      <td>0.000000</td>\n",
       "      <td>0.000000</td>\n",
       "      <td>-1.000000</td>\n",
       "    </tr>\n",
       "    <tr>\n",
       "      <th>25%</th>\n",
       "      <td>4.100000</td>\n",
       "      <td>1.024700e+04</td>\n",
       "      <td>1.000000e+06</td>\n",
       "      <td>0.000000</td>\n",
       "      <td>0.000000</td>\n",
       "      <td>0.010375</td>\n",
       "      <td>0.500000</td>\n",
       "      <td>0.000000</td>\n",
       "      <td>0.361111</td>\n",
       "      <td>0.000000</td>\n",
       "      <td>0.500000</td>\n",
       "      <td>0.000000</td>\n",
       "    </tr>\n",
       "    <tr>\n",
       "      <th>50%</th>\n",
       "      <td>4.300000</td>\n",
       "      <td>6.362400e+04</td>\n",
       "      <td>5.000000e+06</td>\n",
       "      <td>0.000000</td>\n",
       "      <td>0.000000</td>\n",
       "      <td>0.020846</td>\n",
       "      <td>1.000000</td>\n",
       "      <td>0.150000</td>\n",
       "      <td>0.514835</td>\n",
       "      <td>0.000000</td>\n",
       "      <td>1.000000</td>\n",
       "      <td>0.000000</td>\n",
       "    </tr>\n",
       "    <tr>\n",
       "      <th>75%</th>\n",
       "      <td>4.500000</td>\n",
       "      <td>5.152400e+05</td>\n",
       "      <td>1.000000e+07</td>\n",
       "      <td>0.000000</td>\n",
       "      <td>0.000000</td>\n",
       "      <td>0.037815</td>\n",
       "      <td>1.000000</td>\n",
       "      <td>0.400000</td>\n",
       "      <td>0.650000</td>\n",
       "      <td>0.000000</td>\n",
       "      <td>1.000000</td>\n",
       "      <td>0.000000</td>\n",
       "    </tr>\n",
       "    <tr>\n",
       "      <th>max</th>\n",
       "      <td>4.900000</td>\n",
       "      <td>7.812821e+07</td>\n",
       "      <td>1.000000e+09</td>\n",
       "      <td>1.000000</td>\n",
       "      <td>29.990000</td>\n",
       "      <td>0.448814</td>\n",
       "      <td>1.000000</td>\n",
       "      <td>1.000000</td>\n",
       "      <td>1.000000</td>\n",
       "      <td>1.000000</td>\n",
       "      <td>1.000000</td>\n",
       "      <td>1.000000</td>\n",
       "    </tr>\n",
       "  </tbody>\n",
       "</table>\n",
       "</div>"
      ],
      "text/plain": [
       "             Rating       Reviews      Installs          Type         Price  \\\n",
       "count  35929.000000  3.592900e+04  3.592900e+04  35929.000000  35929.000000   \n",
       "mean       4.297261  1.413317e+06  4.375691e+07      0.011578      0.109197   \n",
       "std        0.302842  5.731737e+06  1.453465e+08      0.106980      1.302471   \n",
       "min        2.600000  4.600000e+01  1.000000e+03      0.000000      0.000000   \n",
       "25%        4.100000  1.024700e+04  1.000000e+06      0.000000      0.000000   \n",
       "50%        4.300000  6.362400e+04  5.000000e+06      0.000000      0.000000   \n",
       "75%        4.500000  5.152400e+05  1.000000e+07      0.000000      0.000000   \n",
       "max        4.900000  7.812821e+07  1.000000e+09      1.000000     29.990000   \n",
       "\n",
       "       Review Ratio     Sentiment  Sentiment_Polarity  Sentiment_Subjectivity  \\\n",
       "count  35929.000000  35929.000000        35929.000000            35929.000000   \n",
       "mean       0.032909      0.709691            0.180904                0.493767   \n",
       "std        0.041932      0.415067            0.350080                0.258053   \n",
       "min        0.000289      0.000000           -1.000000                0.000000   \n",
       "25%        0.010375      0.500000            0.000000                0.361111   \n",
       "50%        0.020846      1.000000            0.150000                0.514835   \n",
       "75%        0.037815      1.000000            0.400000                0.650000   \n",
       "max        0.448814      1.000000            1.000000                1.000000   \n",
       "\n",
       "       Complains_Adv  Computed_Sentiment  Sentiment Score  \n",
       "count   35929.000000        35929.000000     35929.000000  \n",
       "mean        0.041471            0.720254        -0.010562  \n",
       "std         0.199379            0.402334         0.376310  \n",
       "min         0.000000            0.000000        -1.000000  \n",
       "25%         0.000000            0.500000         0.000000  \n",
       "50%         0.000000            1.000000         0.000000  \n",
       "75%         0.000000            1.000000         0.000000  \n",
       "max         1.000000            1.000000         1.000000  "
      ]
     },
     "execution_count": 46,
     "metadata": {},
     "output_type": "execute_result"
    }
   ],
   "source": [
    "print(\"\\nDal Dataset:\")\n",
    "print(\"Sentimento Negativo sul Totale: \" + str(perc_negative_ds) + \"%\")\n",
    "print(\"Sentimento Neutrale sul Totale: \" + str(perc_neutral_ds) + \"%\")\n",
    "print(\"Sentimento Positivo sul Totale: \" + str(perc_positive_ds) + \"%\")\n",
    "\n",
    "print(\"\\nDal Metodo Implementato:\")\n",
    "print(\"Sentimento Negativo sul Totale: \" + str(perc_negative) + \"%\")\n",
    "print(\"Sentimento Neutrale sul Totale: \" + str(perc_neutral) + \"%\")\n",
    "print(\"Sentimento Positivo sul Totale: \" + str(perc_positive) + \"%\")\n",
    "\n",
    "plt.style.use('seaborn-deep')\n",
    "\n",
    "x = playstore_with_rev['Sentiment']\n",
    "y = playstore_with_rev['Computed_Sentiment']\n",
    "bins = np.linspace(0, 1, 6)\n",
    "\n",
    "plt.hist([x, y], bins, label=['Sentimenti del Dataset', 'Sentimenti Calcolati'])\n",
    "plt.legend(loc='upper left')\n",
    "plt.show()\n",
    "\n",
    "print(\"\\nMedia delle Differenze tra i Sentimenti: \" + str(matching_sentiment['Sentiment Score'].mean()))\n",
    "\n",
    "playstore_with_rev.describe()"
   ]
  },
  {
   "cell_type": "markdown",
   "metadata": {},
   "source": [
    "*notiamo dalla cella della tabella che in verità la Media delle Differenze tra i Sentimenti è -0.010562 e non proprio 0* "
   ]
  },
  {
   "cell_type": "markdown",
   "metadata": {},
   "source": [
    "## Commento dei Risultati Ottenuti\n",
    "\n",
    "- 1) il **metodo implementato risulta corretto nel 75% circa delle occorrenze**, ed in particolare:\n",
    "     - risulta essere molto **efficace nel riconoscimento di recensioni con sentimento positivo**,\n",
    "     - risulta essere meno accurato nel riconoscimento di recensioni con sentimento negativo e neutrale, che però allo stesso tempo sono molte meno e di conseguenza hanno un peso minore nella percentuale di correttezza generale del metodo.\n",
    "\n",
    "    Un'ipotesi che deriva dalle osservazioni fatte è che forse il metodo riconosca bene le recensioni positive ma spesso scambi una recensione neutrale per una negativa e viceversa.\n",
    "\n",
    "\n",
    "- 2) la **distribuzione dei sentimenti calcolata segue quella dei sentimenti presenti nel dataset**, questo è anche confermato dal fatto che la media delle Differenze tra i Sentimenti (calcolato e atteso) è vicina a 0.    "
   ]
  }
 ],
 "metadata": {
  "colab": {
   "collapsed_sections": [],
   "name": "IDS_lab1.ipynb",
   "provenance": []
  },
  "kernelspec": {
   "display_name": "Python 3 (ipykernel)",
   "language": "python",
   "name": "python3"
  },
  "language_info": {
   "codemirror_mode": {
    "name": "ipython",
    "version": 3
   },
   "file_extension": ".py",
   "mimetype": "text/x-python",
   "name": "python",
   "nbconvert_exporter": "python",
   "pygments_lexer": "ipython3",
   "version": "3.9.7"
  }
 },
 "nbformat": 4,
 "nbformat_minor": 1
}
