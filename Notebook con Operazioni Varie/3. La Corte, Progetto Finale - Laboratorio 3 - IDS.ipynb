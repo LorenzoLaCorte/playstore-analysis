{
 "cells": [
  {
   "cell_type": "markdown",
   "metadata": {},
   "source": [
    "# Partecipanti al Gruppo:\n",
    "Lorenzo Brizzi - S4865720\n",
    "\n",
    "Lorenzo La Corte - S4784539\n",
    "\n",
    "Davide Scarrà - S4798949"
   ]
  },
  {
   "cell_type": "code",
   "execution_count": 75,
   "metadata": {
    "id": "8RBBmMNQhql2"
   },
   "outputs": [
    {
     "name": "stdout",
     "output_type": "stream",
     "text": [
      "1.8.0\n"
     ]
    }
   ],
   "source": [
    "import pandas as pd \n",
    "import matplotlib.pyplot as plt \n",
    "from sklearn import metrics\n",
    "import numpy as np\n",
    "from sklearn.model_selection import train_test_split\n",
    "import scipy.stats as stats\n",
    "import scipy\n",
    "print (scipy.__version__)\n",
    "from sklearn.linear_model import LinearRegression\n",
    "import math"
   ]
  },
  {
   "cell_type": "markdown",
   "metadata": {
    "id": "FYV-HXlH84yG"
   },
   "source": [
    "# Dataset Abalone\n",
    "\n",
    "\n",
    "L'eta' di un abalone e' determinata tagliando il guscio attraverso il cono e contanto il numero di anelli presenti, usando un microscopio. \n",
    "Una procedura noiosa e time-consuming. \n",
    "\n",
    "Forse come data scientists, possiamo trovare altre caratteristiche piu' semplici da ottenere, che possano fornirci una stima dell'eta' dell'abalone in un modo piu' immediato. "
   ]
  },
  {
   "cell_type": "code",
   "execution_count": 76,
   "metadata": {
    "id": "fU3Bh_RKhwgk"
   },
   "outputs": [
    {
     "data": {
      "text/html": [
       "<div>\n",
       "<style scoped>\n",
       "    .dataframe tbody tr th:only-of-type {\n",
       "        vertical-align: middle;\n",
       "    }\n",
       "\n",
       "    .dataframe tbody tr th {\n",
       "        vertical-align: top;\n",
       "    }\n",
       "\n",
       "    .dataframe thead th {\n",
       "        text-align: right;\n",
       "    }\n",
       "</style>\n",
       "<table border=\"1\" class=\"dataframe\">\n",
       "  <thead>\n",
       "    <tr style=\"text-align: right;\">\n",
       "      <th></th>\n",
       "      <th>Sex</th>\n",
       "      <th>Length</th>\n",
       "      <th>Diameter</th>\n",
       "      <th>Height</th>\n",
       "      <th>Whole weight</th>\n",
       "      <th>Shucked weight</th>\n",
       "      <th>Viscera weight</th>\n",
       "      <th>Shell weight</th>\n",
       "      <th>Rings</th>\n",
       "    </tr>\n",
       "  </thead>\n",
       "  <tbody>\n",
       "    <tr>\n",
       "      <th>0</th>\n",
       "      <td>M</td>\n",
       "      <td>0.455</td>\n",
       "      <td>0.365</td>\n",
       "      <td>0.095</td>\n",
       "      <td>0.5140</td>\n",
       "      <td>0.2245</td>\n",
       "      <td>0.1010</td>\n",
       "      <td>0.150</td>\n",
       "      <td>15</td>\n",
       "    </tr>\n",
       "    <tr>\n",
       "      <th>1</th>\n",
       "      <td>M</td>\n",
       "      <td>0.350</td>\n",
       "      <td>0.265</td>\n",
       "      <td>0.090</td>\n",
       "      <td>0.2255</td>\n",
       "      <td>0.0995</td>\n",
       "      <td>0.0485</td>\n",
       "      <td>0.070</td>\n",
       "      <td>7</td>\n",
       "    </tr>\n",
       "    <tr>\n",
       "      <th>2</th>\n",
       "      <td>F</td>\n",
       "      <td>0.530</td>\n",
       "      <td>0.420</td>\n",
       "      <td>0.135</td>\n",
       "      <td>0.6770</td>\n",
       "      <td>0.2565</td>\n",
       "      <td>0.1415</td>\n",
       "      <td>0.210</td>\n",
       "      <td>9</td>\n",
       "    </tr>\n",
       "    <tr>\n",
       "      <th>3</th>\n",
       "      <td>M</td>\n",
       "      <td>0.440</td>\n",
       "      <td>0.365</td>\n",
       "      <td>0.125</td>\n",
       "      <td>0.5160</td>\n",
       "      <td>0.2155</td>\n",
       "      <td>0.1140</td>\n",
       "      <td>0.155</td>\n",
       "      <td>10</td>\n",
       "    </tr>\n",
       "    <tr>\n",
       "      <th>4</th>\n",
       "      <td>I</td>\n",
       "      <td>0.330</td>\n",
       "      <td>0.255</td>\n",
       "      <td>0.080</td>\n",
       "      <td>0.2050</td>\n",
       "      <td>0.0895</td>\n",
       "      <td>0.0395</td>\n",
       "      <td>0.055</td>\n",
       "      <td>7</td>\n",
       "    </tr>\n",
       "  </tbody>\n",
       "</table>\n",
       "</div>"
      ],
      "text/plain": [
       "  Sex  Length  Diameter  Height  Whole weight  Shucked weight  Viscera weight  \\\n",
       "0   M   0.455     0.365   0.095        0.5140          0.2245          0.1010   \n",
       "1   M   0.350     0.265   0.090        0.2255          0.0995          0.0485   \n",
       "2   F   0.530     0.420   0.135        0.6770          0.2565          0.1415   \n",
       "3   M   0.440     0.365   0.125        0.5160          0.2155          0.1140   \n",
       "4   I   0.330     0.255   0.080        0.2050          0.0895          0.0395   \n",
       "\n",
       "   Shell weight  Rings  \n",
       "0         0.150     15  \n",
       "1         0.070      7  \n",
       "2         0.210      9  \n",
       "3         0.155     10  \n",
       "4         0.055      7  "
      ]
     },
     "execution_count": 76,
     "metadata": {},
     "output_type": "execute_result"
    }
   ],
   "source": [
    "#codice qui \n",
    "abalone = pd.read_csv('abalone_converted.csv') \n",
    "abalone.head()"
   ]
  },
  {
   "cell_type": "markdown",
   "metadata": {
    "id": "cr5ORj2_74QQ"
   },
   "source": [
    "Estraiamo informazioni di base sul nostro dataset. Completiamo eventuali caratteristiche con dati mancanti.  "
   ]
  },
  {
   "cell_type": "code",
   "execution_count": 77,
   "metadata": {
    "id": "dGq9p-0778Cm"
   },
   "outputs": [
    {
     "data": {
      "text/html": [
       "<div>\n",
       "<style scoped>\n",
       "    .dataframe tbody tr th:only-of-type {\n",
       "        vertical-align: middle;\n",
       "    }\n",
       "\n",
       "    .dataframe tbody tr th {\n",
       "        vertical-align: top;\n",
       "    }\n",
       "\n",
       "    .dataframe thead th {\n",
       "        text-align: right;\n",
       "    }\n",
       "</style>\n",
       "<table border=\"1\" class=\"dataframe\">\n",
       "  <thead>\n",
       "    <tr style=\"text-align: right;\">\n",
       "      <th></th>\n",
       "      <th>Length</th>\n",
       "      <th>Diameter</th>\n",
       "      <th>Height</th>\n",
       "      <th>Whole weight</th>\n",
       "      <th>Shucked weight</th>\n",
       "      <th>Viscera weight</th>\n",
       "      <th>Shell weight</th>\n",
       "      <th>Rings</th>\n",
       "    </tr>\n",
       "  </thead>\n",
       "  <tbody>\n",
       "    <tr>\n",
       "      <th>count</th>\n",
       "      <td>4177.000000</td>\n",
       "      <td>4177.000000</td>\n",
       "      <td>4177.000000</td>\n",
       "      <td>4177.000000</td>\n",
       "      <td>4177.000000</td>\n",
       "      <td>4177.000000</td>\n",
       "      <td>4177.000000</td>\n",
       "      <td>4177.000000</td>\n",
       "    </tr>\n",
       "    <tr>\n",
       "      <th>mean</th>\n",
       "      <td>0.523992</td>\n",
       "      <td>0.407881</td>\n",
       "      <td>0.139516</td>\n",
       "      <td>0.828742</td>\n",
       "      <td>0.359367</td>\n",
       "      <td>0.180594</td>\n",
       "      <td>0.238831</td>\n",
       "      <td>9.933684</td>\n",
       "    </tr>\n",
       "    <tr>\n",
       "      <th>std</th>\n",
       "      <td>0.120093</td>\n",
       "      <td>0.099240</td>\n",
       "      <td>0.041827</td>\n",
       "      <td>0.490389</td>\n",
       "      <td>0.221963</td>\n",
       "      <td>0.109614</td>\n",
       "      <td>0.139203</td>\n",
       "      <td>3.224169</td>\n",
       "    </tr>\n",
       "    <tr>\n",
       "      <th>min</th>\n",
       "      <td>0.075000</td>\n",
       "      <td>0.055000</td>\n",
       "      <td>0.000000</td>\n",
       "      <td>0.002000</td>\n",
       "      <td>0.001000</td>\n",
       "      <td>0.000500</td>\n",
       "      <td>0.001500</td>\n",
       "      <td>1.000000</td>\n",
       "    </tr>\n",
       "    <tr>\n",
       "      <th>25%</th>\n",
       "      <td>0.450000</td>\n",
       "      <td>0.350000</td>\n",
       "      <td>0.115000</td>\n",
       "      <td>0.441500</td>\n",
       "      <td>0.186000</td>\n",
       "      <td>0.093500</td>\n",
       "      <td>0.130000</td>\n",
       "      <td>8.000000</td>\n",
       "    </tr>\n",
       "    <tr>\n",
       "      <th>50%</th>\n",
       "      <td>0.545000</td>\n",
       "      <td>0.425000</td>\n",
       "      <td>0.140000</td>\n",
       "      <td>0.799500</td>\n",
       "      <td>0.336000</td>\n",
       "      <td>0.171000</td>\n",
       "      <td>0.234000</td>\n",
       "      <td>9.000000</td>\n",
       "    </tr>\n",
       "    <tr>\n",
       "      <th>75%</th>\n",
       "      <td>0.615000</td>\n",
       "      <td>0.480000</td>\n",
       "      <td>0.165000</td>\n",
       "      <td>1.153000</td>\n",
       "      <td>0.502000</td>\n",
       "      <td>0.253000</td>\n",
       "      <td>0.329000</td>\n",
       "      <td>11.000000</td>\n",
       "    </tr>\n",
       "    <tr>\n",
       "      <th>max</th>\n",
       "      <td>0.815000</td>\n",
       "      <td>0.650000</td>\n",
       "      <td>1.130000</td>\n",
       "      <td>2.825500</td>\n",
       "      <td>1.488000</td>\n",
       "      <td>0.760000</td>\n",
       "      <td>1.005000</td>\n",
       "      <td>29.000000</td>\n",
       "    </tr>\n",
       "  </tbody>\n",
       "</table>\n",
       "</div>"
      ],
      "text/plain": [
       "            Length     Diameter       Height  Whole weight  Shucked weight  \\\n",
       "count  4177.000000  4177.000000  4177.000000   4177.000000     4177.000000   \n",
       "mean      0.523992     0.407881     0.139516      0.828742        0.359367   \n",
       "std       0.120093     0.099240     0.041827      0.490389        0.221963   \n",
       "min       0.075000     0.055000     0.000000      0.002000        0.001000   \n",
       "25%       0.450000     0.350000     0.115000      0.441500        0.186000   \n",
       "50%       0.545000     0.425000     0.140000      0.799500        0.336000   \n",
       "75%       0.615000     0.480000     0.165000      1.153000        0.502000   \n",
       "max       0.815000     0.650000     1.130000      2.825500        1.488000   \n",
       "\n",
       "       Viscera weight  Shell weight        Rings  \n",
       "count     4177.000000   4177.000000  4177.000000  \n",
       "mean         0.180594      0.238831     9.933684  \n",
       "std          0.109614      0.139203     3.224169  \n",
       "min          0.000500      0.001500     1.000000  \n",
       "25%          0.093500      0.130000     8.000000  \n",
       "50%          0.171000      0.234000     9.000000  \n",
       "75%          0.253000      0.329000    11.000000  \n",
       "max          0.760000      1.005000    29.000000  "
      ]
     },
     "execution_count": 77,
     "metadata": {},
     "output_type": "execute_result"
    }
   ],
   "source": [
    "#codice qui\n",
    "abalone.describe()"
   ]
  },
  {
   "cell_type": "markdown",
   "metadata": {
    "id": "q5E7Icp_8HbQ"
   },
   "source": [
    "quanti dati e quante caratteristiche abbiamo a disposizione?"
   ]
  },
  {
   "cell_type": "code",
   "execution_count": 78,
   "metadata": {
    "id": "e53BcV4Y8H08"
   },
   "outputs": [
    {
     "data": {
      "text/plain": [
       "(4177, 9)"
      ]
     },
     "execution_count": 78,
     "metadata": {},
     "output_type": "execute_result"
    }
   ],
   "source": [
    "#codice qui\n",
    "abalone.shape"
   ]
  },
  {
   "cell_type": "markdown",
   "metadata": {
    "id": "biPCqZkL9g1F"
   },
   "source": [
    "Quale modello di machine learning possiamo utilizzare per stimare una funzione che preveda l'eta' (quale caratteristica la indica?) in funzione di uno o piu' degli altri descrittori a disposizione?\n",
    "\n",
    "Dobbiamo determinare una relazione tra predittori e una variabile di risposta (che possiamo considerare continua). \n",
    "\n",
    "Possiamo quindi utilizzare un modello di **Regressione lineare**. \n",
    "\n",
    "Cominciamo considerando soltanto la caratteristica *Diameter*. \n",
    "\n",
    "Esercizio:\n",
    "\n",
    " * Usiamo una tecnica di visualizzazione opportuna per verificare se esiste una qualche relazione tra diametro e numero di anelli.\n",
    "\n"
   ]
  },
  {
   "cell_type": "code",
   "execution_count": 79,
   "metadata": {
    "id": "fJRRLaov-GaD"
   },
   "outputs": [
    {
     "data": {
      "text/plain": [
       "<matplotlib.collections.PathCollection at 0x1821a77e020>"
      ]
     },
     "execution_count": 79,
     "metadata": {},
     "output_type": "execute_result"
    },
    {
     "data": {
      "image/png": "[encoded data removed]",
      "text/plain": [
       "<Figure size 432x288 with 1 Axes>"
      ]
     },
     "metadata": {
      "needs_background": "light"
     },
     "output_type": "display_data"
    }
   ],
   "source": [
    "#codice qui \n",
    "plt.scatter(abalone['Diameter'],abalone['Rings'],color='b')"
   ]
  },
  {
   "cell_type": "markdown",
   "metadata": {
    "id": "PR8COaPvuJzf"
   },
   "source": [
    "* Sembra che diametro ed eta' siano correlati. Verifichiamo con il calcolo del coefficiente di correlazione di Pearson "
   ]
  },
  {
   "cell_type": "code",
   "execution_count": 80,
   "metadata": {
    "id": "3V2M12BIuRV7"
   },
   "outputs": [
    {
     "data": {
      "text/html": [
       "<div>\n",
       "<style scoped>\n",
       "    .dataframe tbody tr th:only-of-type {\n",
       "        vertical-align: middle;\n",
       "    }\n",
       "\n",
       "    .dataframe tbody tr th {\n",
       "        vertical-align: top;\n",
       "    }\n",
       "\n",
       "    .dataframe thead th {\n",
       "        text-align: right;\n",
       "    }\n",
       "</style>\n",
       "<table border=\"1\" class=\"dataframe\">\n",
       "  <thead>\n",
       "    <tr style=\"text-align: right;\">\n",
       "      <th></th>\n",
       "      <th>Length</th>\n",
       "      <th>Diameter</th>\n",
       "      <th>Height</th>\n",
       "      <th>Whole weight</th>\n",
       "      <th>Shucked weight</th>\n",
       "      <th>Viscera weight</th>\n",
       "      <th>Shell weight</th>\n",
       "      <th>Rings</th>\n",
       "    </tr>\n",
       "  </thead>\n",
       "  <tbody>\n",
       "    <tr>\n",
       "      <th>Length</th>\n",
       "      <td>1.000000</td>\n",
       "      <td>0.986812</td>\n",
       "      <td>0.827554</td>\n",
       "      <td>0.925261</td>\n",
       "      <td>0.897914</td>\n",
       "      <td>0.903018</td>\n",
       "      <td>0.897706</td>\n",
       "      <td>0.556720</td>\n",
       "    </tr>\n",
       "    <tr>\n",
       "      <th>Diameter</th>\n",
       "      <td>0.986812</td>\n",
       "      <td>1.000000</td>\n",
       "      <td>0.833684</td>\n",
       "      <td>0.925452</td>\n",
       "      <td>0.893162</td>\n",
       "      <td>0.899724</td>\n",
       "      <td>0.905330</td>\n",
       "      <td>0.574660</td>\n",
       "    </tr>\n",
       "    <tr>\n",
       "      <th>Height</th>\n",
       "      <td>0.827554</td>\n",
       "      <td>0.833684</td>\n",
       "      <td>1.000000</td>\n",
       "      <td>0.819221</td>\n",
       "      <td>0.774972</td>\n",
       "      <td>0.798319</td>\n",
       "      <td>0.817338</td>\n",
       "      <td>0.557467</td>\n",
       "    </tr>\n",
       "    <tr>\n",
       "      <th>Whole weight</th>\n",
       "      <td>0.925261</td>\n",
       "      <td>0.925452</td>\n",
       "      <td>0.819221</td>\n",
       "      <td>1.000000</td>\n",
       "      <td>0.969405</td>\n",
       "      <td>0.966375</td>\n",
       "      <td>0.955355</td>\n",
       "      <td>0.540390</td>\n",
       "    </tr>\n",
       "    <tr>\n",
       "      <th>Shucked weight</th>\n",
       "      <td>0.897914</td>\n",
       "      <td>0.893162</td>\n",
       "      <td>0.774972</td>\n",
       "      <td>0.969405</td>\n",
       "      <td>1.000000</td>\n",
       "      <td>0.931961</td>\n",
       "      <td>0.882617</td>\n",
       "      <td>0.420884</td>\n",
       "    </tr>\n",
       "    <tr>\n",
       "      <th>Viscera weight</th>\n",
       "      <td>0.903018</td>\n",
       "      <td>0.899724</td>\n",
       "      <td>0.798319</td>\n",
       "      <td>0.966375</td>\n",
       "      <td>0.931961</td>\n",
       "      <td>1.000000</td>\n",
       "      <td>0.907656</td>\n",
       "      <td>0.503819</td>\n",
       "    </tr>\n",
       "    <tr>\n",
       "      <th>Shell weight</th>\n",
       "      <td>0.897706</td>\n",
       "      <td>0.905330</td>\n",
       "      <td>0.817338</td>\n",
       "      <td>0.955355</td>\n",
       "      <td>0.882617</td>\n",
       "      <td>0.907656</td>\n",
       "      <td>1.000000</td>\n",
       "      <td>0.627574</td>\n",
       "    </tr>\n",
       "    <tr>\n",
       "      <th>Rings</th>\n",
       "      <td>0.556720</td>\n",
       "      <td>0.574660</td>\n",
       "      <td>0.557467</td>\n",
       "      <td>0.540390</td>\n",
       "      <td>0.420884</td>\n",
       "      <td>0.503819</td>\n",
       "      <td>0.627574</td>\n",
       "      <td>1.000000</td>\n",
       "    </tr>\n",
       "  </tbody>\n",
       "</table>\n",
       "</div>"
      ],
      "text/plain": [
       "                  Length  Diameter    Height  Whole weight  Shucked weight  \\\n",
       "Length          1.000000  0.986812  0.827554      0.925261        0.897914   \n",
       "Diameter        0.986812  1.000000  0.833684      0.925452        0.893162   \n",
       "Height          0.827554  0.833684  1.000000      0.819221        0.774972   \n",
       "Whole weight    0.925261  0.925452  0.819221      1.000000        0.969405   \n",
       "Shucked weight  0.897914  0.893162  0.774972      0.969405        1.000000   \n",
       "Viscera weight  0.903018  0.899724  0.798319      0.966375        0.931961   \n",
       "Shell weight    0.897706  0.905330  0.817338      0.955355        0.882617   \n",
       "Rings           0.556720  0.574660  0.557467      0.540390        0.420884   \n",
       "\n",
       "                Viscera weight  Shell weight     Rings  \n",
       "Length                0.903018      0.897706  0.556720  \n",
       "Diameter              0.899724      0.905330  0.574660  \n",
       "Height                0.798319      0.817338  0.557467  \n",
       "Whole weight          0.966375      0.955355  0.540390  \n",
       "Shucked weight        0.931961      0.882617  0.420884  \n",
       "Viscera weight        1.000000      0.907656  0.503819  \n",
       "Shell weight          0.907656      1.000000  0.627574  \n",
       "Rings                 0.503819      0.627574  1.000000  "
      ]
     },
     "execution_count": 80,
     "metadata": {},
     "output_type": "execute_result"
    }
   ],
   "source": [
    "#codice qui \n",
    "abalone.corr()"
   ]
  },
  {
   "cell_type": "markdown",
   "metadata": {
    "id": "0vG2LHVsuit1"
   },
   "source": [
    "## Modello di regressione lineare\n",
    "\n",
    "Ok, ora implementiamo e alleniamo un modello di regressione lineare. \n",
    "Ricordate che dobbiamo dividere il dataset a disposizione in due diversi gruppi:\n",
    "\n",
    "* **Training Set** -> porzione di dati che utilizziamo per il training del nostro modello (i parametri della retta) di regressione lineare;\n",
    "\n",
    "* **Validation Set** -> porzione di dati che utilizziamo per valutare il nostro modello precedentemente allenato.\n",
    "\n",
    "Non esiste un unico modo per dividere il dataset in training e test, normalmente, si utilizza un random split con una certa percentuale (per esempio 70/30 per training/test {rispetto ai 4k iniziali}).\n",
    "\n",
    "\n",
    "Usiamo la libreria scikit-learn, lo schema che dovrete usare e' il seguente:\n",
    "\n",
    "1. Definire le caratteristiche da usare;\n",
    "2. Definire X e y; \n",
    "3. Dividere il dataset in training e test; \n",
    "4. Istanziare un oggetto della classe LinearRegression;\n",
    "5. Allenare usando la funzione fit invocata sull'oggetto istanziato (passando il training set!);\n",
    "6. Visualizzare i coefficienti imparati: useremo gli attributi *intercept_=* e *coef_* sull'oggetto ottenuto come output della funzione fit.\n",
    "\n",
    "In scikit-learn esiste la funzione:\n",
    "\n",
    "    X_train, X_valid, y_train, y_valid = train_test_split(X, y)\n",
    "\n",
    "che effettua per noi lo splitting."
   ]
  },
  {
   "cell_type": "code",
   "execution_count": 81,
   "metadata": {
    "id": "mYbnsfY__L5-"
   },
   "outputs": [
    {
     "name": "stdout",
     "output_type": "stream",
     "text": [
      "(1254, 1)\n",
      "(2923, 1)\n",
      "2.199231408935792\n",
      "[18.90543913]\n"
     ]
    },
    {
     "data": {
      "text/plain": [
       "<matplotlib.collections.PathCollection at 0x1821a7f2080>"
      ]
     },
     "execution_count": 81,
     "metadata": {},
     "output_type": "execute_result"
    },
    {
     "data": {
      "image/png": "[encoded data removed]",
      "text/plain": [
       "<Figure size 432x288 with 1 Axes>"
      ]
     },
     "metadata": {
      "needs_background": "light"
     },
     "output_type": "display_data"
    }
   ],
   "source": [
    "from sklearn.linear_model import LinearRegression\n",
    "\n",
    "features = ['Diameter']\n",
    "\n",
    "X= abalone[features]\n",
    "y= abalone['Rings']\n",
    "\n",
    "X_train, X_valid, y_train, y_valid = train_test_split(X, y, train_size= 0.7)\n",
    "\n",
    "print(X_valid.shape)\n",
    "print(X_train.shape)\n",
    "\n",
    "regressor = LinearRegression()\n",
    "regressor = regressor.fit(X_train, y_train)\n",
    "\n",
    "print(regressor.intercept_)\n",
    "print(regressor.coef_)\n",
    "\n",
    "plt.scatter(X_train, y_train)\n",
    "plt.scatter(X_train, regressor.coef_*X_train+regressor.intercept_, color='r')\n"
   ]
  },
  {
   "cell_type": "markdown",
   "metadata": {
    "id": "HQq0M9OAvVfA"
   },
   "source": [
    "Adesso possiamo usare il modello imparato, per effettuare predizioni sul validation set. E' sufficiente usare la funzione predict sull'oggetto restituito da fit, passando come argomento X_valid"
   ]
  },
  {
   "cell_type": "code",
   "execution_count": 82,
   "metadata": {
    "id": "dLgw3-Q1Ay5i"
   },
   "outputs": [
    {
     "data": {
      "text/plain": [
       "(1254,)"
      ]
     },
     "execution_count": 82,
     "metadata": {},
     "output_type": "execute_result"
    }
   ],
   "source": [
    "y_pred = regressor.predict(X_valid)\n",
    "y_pred.shape"
   ]
  },
  {
   "cell_type": "markdown",
   "metadata": {},
   "source": [
    "sono tutti punti che giacciono sulla retta"
   ]
  },
  {
   "cell_type": "markdown",
   "metadata": {
    "id": "kkwCBz00wWlA"
   },
   "source": [
    "## Stimare la Precisione della Funzione\n",
    "\n",
    "Ora, come possiamo stimare la precisione della funzione che abbiamo imparato?\n",
    "\n",
    "Sappiamo che non esiste una soluzione perfetta, ma possiamo trovare la soluzione migliore possibile, con i dati a disposizione. Per trovarla, useremo stime degli errori. \n",
    "\n",
    "Abbiamo visto che ci sono tre metriche per valutare i modelli a regressione di machine learning: \n",
    "\n",
    "* l’errore quadratico medio (MSE - Mean Squared Error); \n",
    "* lo scarto medio assoluto (MAE - Mean Absolute Error); \n",
    "* la radice dell’errore quadratico medio (RMSE - Root of Mean Squared Error).\n",
    "\n",
    "ESERCIZIO: scrivete una funzione che implementi ciascuna delle tre metriche sopra descritte. \n",
    "\n"
   ]
  },
  {
   "cell_type": "code",
   "execution_count": 83,
   "metadata": {
    "id": "KUw4APSlxzxO"
   },
   "outputs": [],
   "source": [
    "def MSE (y_pred,y_true):\n",
    "    return 1/y_pred.shape[0]*np.sum((y_pred-y_true)**2)\n",
    "    \n",
    "def MAE (y_pred,y_true):\n",
    "    return 1/y_pred.shape[0]*np.sum(abs(y_pred-y_true))\n",
    "\n",
    "def RMSE (y_pred,y_true):\n",
    "    return math.sqrt(MSE(y_pred,y_true))\n"
   ]
  },
  {
   "cell_type": "markdown",
   "metadata": {
    "id": "R-vTiXwNynuw"
   },
   "source": [
    "usate le tre funzioni appena definite, per calcolare le tre metriche sul modello di regressione lineare appena ottenuto, usando l'intero set di abalone. "
   ]
  },
  {
   "cell_type": "code",
   "execution_count": 84,
   "metadata": {
    "id": "WjmZ_RX2yw0I"
   },
   "outputs": [
    {
     "name": "stdout",
     "output_type": "stream",
     "text": [
      "MAE: 1.9285232347315222\n",
      "MSE: 6.888347778440481\n",
      "RMSE: 2.624566207669466\n"
     ]
    }
   ],
   "source": [
    "# calcolate le predizioni sul validation set (y_pred)\n",
    "\n",
    "#MAE\n",
    "\n",
    "print('MAE:', MAE(y_pred,y_valid))\n",
    "\n",
    "#MSE\n",
    "print('MSE:', MSE(y_pred,y_valid))\n",
    "\n",
    "\n",
    "#replicate stampa per MSE e RMSE\n",
    "print('RMSE:', RMSE(y_pred,y_valid))"
   ]
  },
  {
   "cell_type": "markdown",
   "metadata": {
    "id": "yMyMd03bzn9T"
   },
   "source": [
    "Possiamo anche direttamente utilizzare le implementazioni messe a dispozione da scikit-learn"
   ]
  },
  {
   "cell_type": "code",
   "execution_count": 85,
   "metadata": {
    "id": "KOk8E7xZzrlv"
   },
   "outputs": [
    {
     "name": "stdout",
     "output_type": "stream",
     "text": [
      "MAE: 1.9285232347315222\n",
      "MSE: 6.888347778440481\n",
      "RMSE: 2.624566207669466\n"
     ]
    }
   ],
   "source": [
    "print ('MAE:', metrics.mean_absolute_error(y_valid, y_pred))\n",
    "print ('MSE:', metrics.mean_squared_error(y_valid, y_pred))\n",
    "print ('RMSE:', np.sqrt(metrics.mean_squared_error(y_valid, y_pred)))"
   ]
  },
  {
   "cell_type": "markdown",
   "metadata": {
    "id": "vxu5eRvbCe6F"
   },
   "source": [
    "Come faccio a sapere se questo risultato e' un buon risultato oppure no? \n",
    "\n",
    "Determiniamo il **modello nullo**.\n",
    "\n",
    "il modello nullo rappresenta in modo efficace il fatto di tirare a indovinare più e più volte il risultato atteso, e vedere l’efficacia del modello.\n",
    "\n",
    "Nella regressione, possiamo sostituire tutti i valori della feature diametro con la media sull'intero dataset. "
   ]
  },
  {
   "cell_type": "code",
   "execution_count": 86,
   "metadata": {
    "id": "3rZoMgkUCxbf"
   },
   "outputs": [
    {
     "name": "stdout",
     "output_type": "stream",
     "text": [
      "MAE: 2.3328045012961156\n",
      "MSE: 9.921268408884433\n",
      "RMSE: 3.1498045032802326\n"
     ]
    }
   ],
   "source": [
    "#codice qui \n",
    "\n",
    "#calcolate il diametro medio\n",
    "mean_rings = abalone['Rings'].mean()\n",
    "#print(mean_rings)\n",
    "# create la nuova x con lo stesso numero di campioni del dataset originale, e con tutti i valori uguali al valore medio del diametro appena calcolato\n",
    "null_model_y = [mean_rings] * X_valid.shape[0]\n",
    "#print(null_model_y)\n",
    "\n",
    "# valutate il modello nullo usando le funzioni implementate \n",
    "print ('MAE:', metrics.mean_absolute_error(y_valid, null_model_y))\n",
    "print ('MSE:', metrics.mean_squared_error(y_valid, null_model_y))\n",
    "print ('RMSE:', np.sqrt(metrics.mean_squared_error(y_valid, null_model_y)))\n"
   ]
  },
  {
   "cell_type": "markdown",
   "metadata": {
    "id": "9GVmwl6U0nhq"
   },
   "source": [
    "## Facciamo lo stesso procedimento su tutte le features (al posto del diametro)\n",
    "\n",
    "ESERCIZIO.\n",
    "\n",
    "* Adesso, usate l'errore RMSE appena implementato per valutare quali features sono utili per predire l'eta', in modo da ottenere un modello quanto piu' preciso possibile. \n",
    "\n",
    "* Nel dettaglio, provate a considerare una una feature alla volta, ogni volta verificando l'utilita' della stessa, attraverso il calcolo del RMSE.\n",
    "\n",
    "* Riguardate pero' il dataframe, escludereste qualche feature a priori? **no, sono tutti dimensioni e pesi e quindi presumiamo possano essere collegati con l'età**\n",
    "\n",
    "* A questo punto, prendete tutte le features e replicate il tutto usandole insieme. Cosa succede al vostro modello? **ipotiziamo che tutto assieme dia una stima migliore**"
   ]
  },
  {
   "cell_type": "code",
   "execution_count": 87,
   "metadata": {
    "id": "JFrdWzAl1It4"
   },
   "outputs": [
    {
     "name": "stdout",
     "output_type": "stream",
     "text": [
      "RMSE Length \t\t - \t 2.5869216440083576\n",
      "RMSE Diameter \t\t - \t 2.5852323534285757\n",
      "RMSE Height \t\t - \t 2.993189378027595\n",
      "RMSE Whole weight \t\t - \t 2.6832428315947117\n",
      "RMSE Shucked weight \t\t - \t 2.962870368357641\n",
      "RMSE Viscera weight \t\t - \t 2.76973225604774\n",
      "RMSE Shell weight \t\t - \t 2.557034838302365\n",
      "RMSE All Together \t\t - \t 2.226411345619669\n"
     ]
    }
   ],
   "source": [
    "#codice qui per una feature alla volta\n",
    "\n",
    "for i in range(1, abalone.shape[1]-1):\n",
    "\n",
    "    features = abalone.columns[i]\n",
    "    X = abalone[[features]] #2 \n",
    "    y = abalone['Rings'] #2\n",
    "\n",
    "    X_train, X_valid, y_train, y_valid = train_test_split(X, y, train_size=0.7) #3\n",
    "    # print(X_valid.shape)\n",
    "    # print(X_train.shape)\n",
    "\n",
    "    regressor = LinearRegression() #4\n",
    "\n",
    "    regressor = regressor.fit(X_train, y_train) #5\n",
    "\n",
    "    #print(regressor.intercept_)\n",
    "    #print(regressor.coef_)\n",
    "    \n",
    "    y_pred = regressor.predict(X_valid)\n",
    "               \n",
    "    print ('RMSE', features, '\\t\\t - \\t', np.sqrt(metrics.mean_squared_error(y_pred, y_valid)))\n",
    "\n",
    "    \n",
    "# A questo punto, prendete tutte le features e replicate il tutto usandole insieme.\n",
    "features = np.asarray(list(abalone.columns))[1:-1] # sesso e età si saltano perché non han senso\n",
    "\n",
    "X = abalone[features] #2 \n",
    "y = abalone['Rings'] #2\n",
    "\n",
    "X_train, X_valid, y_train, y_valid = train_test_split(X, y, train_size=0.7) #3\n",
    "# print(X_valid.shape)\n",
    "# print(X_train.shape)\n",
    "\n",
    "regressor = LinearRegression() #4\n",
    "\n",
    "regressor = regressor.fit(X_train, y_train) #5\n",
    "\n",
    "#print(regressor.intercept_)\n",
    "#print(regressor.coef_)\n",
    "\n",
    "y_pred = regressor.predict(X_valid)\n",
    "\n",
    "print ('RMSE All Together \\t\\t - \\t', np.sqrt(metrics.mean_squared_error(y_pred, y_valid)))\n"
   ]
  },
  {
   "cell_type": "markdown",
   "metadata": {
    "id": "ihwUFec67aJD"
   },
   "source": [
    "Sembra che il nostro errore diminusca aggiungendo tutti i descrittori. Quindi, effettivamente, tutti i descrittori assieme sono utili per predire l'eta' di un abalone. In seguito, verificheremo questa ipotesi valutando la correlazione tra queste features. \n"
   ]
  },
  {
   "cell_type": "markdown",
   "metadata": {
    "id": "SdnTSGnz_iM0"
   },
   "source": [
    "Quindi, in generale, usando tutte le features a disposizione abbiamo un RMSE circa pari a due anelli. \n",
    "\n"
   ]
  },
  {
   "cell_type": "markdown",
   "metadata": {
    "id": "wD6ILIzSBVm6"
   },
   "source": [
    "Vediamo ora se esiste correlazione tra le varie features del nostro dataset."
   ]
  },
  {
   "cell_type": "code",
   "execution_count": 88,
   "metadata": {
    "id": "1Nafar4D_xD5"
   },
   "outputs": [
    {
     "data": {
      "text/html": [
       "<div>\n",
       "<style scoped>\n",
       "    .dataframe tbody tr th:only-of-type {\n",
       "        vertical-align: middle;\n",
       "    }\n",
       "\n",
       "    .dataframe tbody tr th {\n",
       "        vertical-align: top;\n",
       "    }\n",
       "\n",
       "    .dataframe thead th {\n",
       "        text-align: right;\n",
       "    }\n",
       "</style>\n",
       "<table border=\"1\" class=\"dataframe\">\n",
       "  <thead>\n",
       "    <tr style=\"text-align: right;\">\n",
       "      <th></th>\n",
       "      <th>Length</th>\n",
       "      <th>Diameter</th>\n",
       "      <th>Height</th>\n",
       "      <th>Whole weight</th>\n",
       "      <th>Shucked weight</th>\n",
       "      <th>Viscera weight</th>\n",
       "      <th>Shell weight</th>\n",
       "      <th>Rings</th>\n",
       "    </tr>\n",
       "  </thead>\n",
       "  <tbody>\n",
       "    <tr>\n",
       "      <th>Length</th>\n",
       "      <td>1.000000</td>\n",
       "      <td>0.986812</td>\n",
       "      <td>0.827554</td>\n",
       "      <td>0.925261</td>\n",
       "      <td>0.897914</td>\n",
       "      <td>0.903018</td>\n",
       "      <td>0.897706</td>\n",
       "      <td>0.556720</td>\n",
       "    </tr>\n",
       "    <tr>\n",
       "      <th>Diameter</th>\n",
       "      <td>0.986812</td>\n",
       "      <td>1.000000</td>\n",
       "      <td>0.833684</td>\n",
       "      <td>0.925452</td>\n",
       "      <td>0.893162</td>\n",
       "      <td>0.899724</td>\n",
       "      <td>0.905330</td>\n",
       "      <td>0.574660</td>\n",
       "    </tr>\n",
       "    <tr>\n",
       "      <th>Height</th>\n",
       "      <td>0.827554</td>\n",
       "      <td>0.833684</td>\n",
       "      <td>1.000000</td>\n",
       "      <td>0.819221</td>\n",
       "      <td>0.774972</td>\n",
       "      <td>0.798319</td>\n",
       "      <td>0.817338</td>\n",
       "      <td>0.557467</td>\n",
       "    </tr>\n",
       "    <tr>\n",
       "      <th>Whole weight</th>\n",
       "      <td>0.925261</td>\n",
       "      <td>0.925452</td>\n",
       "      <td>0.819221</td>\n",
       "      <td>1.000000</td>\n",
       "      <td>0.969405</td>\n",
       "      <td>0.966375</td>\n",
       "      <td>0.955355</td>\n",
       "      <td>0.540390</td>\n",
       "    </tr>\n",
       "    <tr>\n",
       "      <th>Shucked weight</th>\n",
       "      <td>0.897914</td>\n",
       "      <td>0.893162</td>\n",
       "      <td>0.774972</td>\n",
       "      <td>0.969405</td>\n",
       "      <td>1.000000</td>\n",
       "      <td>0.931961</td>\n",
       "      <td>0.882617</td>\n",
       "      <td>0.420884</td>\n",
       "    </tr>\n",
       "    <tr>\n",
       "      <th>Viscera weight</th>\n",
       "      <td>0.903018</td>\n",
       "      <td>0.899724</td>\n",
       "      <td>0.798319</td>\n",
       "      <td>0.966375</td>\n",
       "      <td>0.931961</td>\n",
       "      <td>1.000000</td>\n",
       "      <td>0.907656</td>\n",
       "      <td>0.503819</td>\n",
       "    </tr>\n",
       "    <tr>\n",
       "      <th>Shell weight</th>\n",
       "      <td>0.897706</td>\n",
       "      <td>0.905330</td>\n",
       "      <td>0.817338</td>\n",
       "      <td>0.955355</td>\n",
       "      <td>0.882617</td>\n",
       "      <td>0.907656</td>\n",
       "      <td>1.000000</td>\n",
       "      <td>0.627574</td>\n",
       "    </tr>\n",
       "    <tr>\n",
       "      <th>Rings</th>\n",
       "      <td>0.556720</td>\n",
       "      <td>0.574660</td>\n",
       "      <td>0.557467</td>\n",
       "      <td>0.540390</td>\n",
       "      <td>0.420884</td>\n",
       "      <td>0.503819</td>\n",
       "      <td>0.627574</td>\n",
       "      <td>1.000000</td>\n",
       "    </tr>\n",
       "  </tbody>\n",
       "</table>\n",
       "</div>"
      ],
      "text/plain": [
       "                  Length  Diameter    Height  Whole weight  Shucked weight  \\\n",
       "Length          1.000000  0.986812  0.827554      0.925261        0.897914   \n",
       "Diameter        0.986812  1.000000  0.833684      0.925452        0.893162   \n",
       "Height          0.827554  0.833684  1.000000      0.819221        0.774972   \n",
       "Whole weight    0.925261  0.925452  0.819221      1.000000        0.969405   \n",
       "Shucked weight  0.897914  0.893162  0.774972      0.969405        1.000000   \n",
       "Viscera weight  0.903018  0.899724  0.798319      0.966375        0.931961   \n",
       "Shell weight    0.897706  0.905330  0.817338      0.955355        0.882617   \n",
       "Rings           0.556720  0.574660  0.557467      0.540390        0.420884   \n",
       "\n",
       "                Viscera weight  Shell weight     Rings  \n",
       "Length                0.903018      0.897706  0.556720  \n",
       "Diameter              0.899724      0.905330  0.574660  \n",
       "Height                0.798319      0.817338  0.557467  \n",
       "Whole weight          0.966375      0.955355  0.540390  \n",
       "Shucked weight        0.931961      0.882617  0.420884  \n",
       "Viscera weight        1.000000      0.907656  0.503819  \n",
       "Shell weight          0.907656      1.000000  0.627574  \n",
       "Rings                 0.503819      0.627574  1.000000  "
      ]
     },
     "execution_count": 88,
     "metadata": {},
     "output_type": "execute_result"
    }
   ],
   "source": [
    "#codice qui \n",
    "abalone.corr()"
   ]
  },
  {
   "cell_type": "markdown",
   "metadata": {},
   "source": [
    "Il peso delle viscere sembra essere molto correlato alla lunghezza dell'abalone. "
   ]
  },
  {
   "cell_type": "markdown",
   "metadata": {
    "id": "WircXJUT7wpk"
   },
   "source": [
    "## Modello di Regressione Lineare\n",
    "### Stimare il Diametro a partire dal Peso delle Viscere\n",
    "\n",
    "1. Provate ora a utilizzare un modello di regressione lineare per stimare proprio il diametro a partire dal peso delle viscere.\n",
    "2. Calcolate anche il corrispondente errore.\n",
    "3. Rappresentate la linea di best fit imparata e i dati in un grafico a dispersione\n",
    "4. COMPITO A CASA: Definite un modello nullo per avere informazioni sull'errore in caso di random guess (seguite quanto fatto nell'esercizio precedente).  \n"
   ]
  },
  {
   "cell_type": "markdown",
   "metadata": {},
   "source": [
    "### Modello di regressione lineare"
   ]
  },
  {
   "cell_type": "code",
   "execution_count": 89,
   "metadata": {
    "id": "T14l3SJ48A03"
   },
   "outputs": [
    {
     "name": "stdout",
     "output_type": "stream",
     "text": [
      "0.260850385003219\n",
      "[0.81814879]\n"
     ]
    },
    {
     "data": {
      "text/plain": [
       "<matplotlib.collections.PathCollection at 0x1821a861420>"
      ]
     },
     "execution_count": 89,
     "metadata": {},
     "output_type": "execute_result"
    },
    {
     "data": {
      "image/png": "[encoded data removed]",
      "text/plain": [
       "<Figure size 432x288 with 1 Axes>"
      ]
     },
     "metadata": {
      "needs_background": "light"
     },
     "output_type": "display_data"
    }
   ],
   "source": [
    "#codice qui \n",
    "features = ['Viscera weight'] #1\n",
    "\n",
    "X = abalone[features] #2 \n",
    "y = abalone['Diameter'] #2\n",
    "\n",
    "X_train, X_valid, y_train, y_valid = train_test_split(X, y, train_size=0.7) #3\n",
    "# print(X_valid.shape)\n",
    "# print(X_train.shape)\n",
    "\n",
    "regressor = LinearRegression() #4\n",
    "\n",
    "regressor = regressor.fit(X_train, y_train) #5\n",
    "\n",
    "print(regressor.intercept_)\n",
    "print(regressor.coef_)\n",
    "\n",
    "plt.scatter(X_train, y_train)\n",
    "plt.scatter(X_train, regressor.coef_*X_train + regressor.intercept_, color='r')    \n"
   ]
  },
  {
   "cell_type": "markdown",
   "metadata": {},
   "source": [
    "Dal grafico ci risulta che le due misure sembrano correlate tra loro."
   ]
  },
  {
   "cell_type": "markdown",
   "metadata": {},
   "source": [
    "### Calcolo del corrispondente errore\n",
    "\n"
   ]
  },
  {
   "cell_type": "code",
   "execution_count": 90,
   "metadata": {},
   "outputs": [
    {
     "name": "stdout",
     "output_type": "stream",
     "text": [
      "RMSE: 0.045476796153122216\n"
     ]
    }
   ],
   "source": [
    "y_pred = regressor.predict(X_valid)\n",
    "\n",
    "print ('RMSE:', np.sqrt(metrics.mean_squared_error(y_valid, y_pred)))"
   ]
  },
  {
   "cell_type": "markdown",
   "metadata": {},
   "source": [
    "### Modello Nullo\n",
    "Il modello nullo rappresenta in modo efficace il fatto di tirare a indovinare più e più volte il risultato atteso, e vedere l’efficacia del modello: possiamo costruire il nostro modello nullo sostituendo tutti i valori con la media sull'intero dataset."
   ]
  },
  {
   "cell_type": "code",
   "execution_count": 91,
   "metadata": {},
   "outputs": [
    {
     "name": "stdout",
     "output_type": "stream",
     "text": [
      "RMSE: 0.10239462746165927\n"
     ]
    }
   ],
   "source": [
    "#calcolate il diametro medio\n",
    "mean_diameter = abalone['Diameter'].mean()\n",
    "\n",
    "# create la nuova x con lo stesso numero di campioni del dataset originale, e con tutti i valori uguali al valore medio del diametro appena calcolato\n",
    "null_model_y = [mean_diameter] * X_valid.shape[0]\n",
    "\n",
    "# valutate il modello nullo usando le funzioni implementate \n",
    "print ('RMSE:', np.sqrt(metrics.mean_squared_error(y_valid, null_model_y)))"
   ]
  },
  {
   "cell_type": "markdown",
   "metadata": {},
   "source": [
    "L'errore del modello nullo è molto maggiore di quello del modello di regressione lineare, che risulta quindi valido."
   ]
  },
  {
   "cell_type": "markdown",
   "metadata": {
    "id": "lssi3n0U9JXJ"
   },
   "source": [
    "# Regressione Logistica\n",
    "\n",
    "Adesso, proviamo a risolvere un problema di classificazione, utilizzando la regressione logistica, come visto a lezione. \n",
    "\n",
    "\n",
    "Riuscite a trasformare il nostro problema di stimare eta' a partire da altri descrittori, da regressione a classificazione? \n",
    "\n",
    "**tip** create una nuova colonna e provate a creare la caratteristica *above_average* che sia:\n",
    "\n",
    "- 1    se rings > mean(rings);\n",
    "- 0    altrimenti. \n",
    "\n",
    "Vi ricordo che abbiamo gia' calcolato questo valore medio sugli anelli, nella variabile *mean_rings*"
   ]
  },
  {
   "cell_type": "code",
   "execution_count": 92,
   "metadata": {
    "id": "g29YcRKvH3-y"
   },
   "outputs": [],
   "source": [
    "abalone['above_average'] = abalone['Rings']>=mean_rings #codice qui, selezionate solo i dati con anelli maggiori della media \n",
    "# metterà true se maggiore, false se minore"
   ]
  },
  {
   "cell_type": "markdown",
   "metadata": {
    "id": "O7N32uB1IiaG"
   },
   "source": [
    "Nel caso della classificazione, il modello nullo sarebbe il risultato piu' comune. \n",
    "Quindi, in questo caso, possiamo contare il numero di occorrenze della nuova caratteristica creata. "
   ]
  },
  {
   "cell_type": "code",
   "execution_count": 93,
   "metadata": {
    "id": "EgFrXDpqJZE_"
   },
   "outputs": [
    {
     "data": {
      "text/plain": [
       "False    0.501796\n",
       "True     0.498204\n",
       "Name: above_average, dtype: float64"
      ]
     },
     "execution_count": 93,
     "metadata": {},
     "output_type": "execute_result"
    }
   ],
   "source": [
    "abalone['above_average'].value_counts(normalize=True)"
   ]
  },
  {
   "cell_type": "markdown",
   "metadata": {
    "id": "NoEWugEaJiD7"
   },
   "source": [
    "## Predire se il numero di anelli e' superiore alla media, in base al diametro\n",
    "Ora usiamo la funzione logistic regression di scikit-learn per predire se il numero di anelli e' superiore alla media, in base al diametro"
   ]
  },
  {
   "cell_type": "code",
   "execution_count": 94,
   "metadata": {
    "id": "XLpLiPFSKivg"
   },
   "outputs": [],
   "source": [
    "from sklearn.linear_model import LogisticRegression"
   ]
  },
  {
   "cell_type": "markdown",
   "metadata": {
    "id": "Bt_bTXbdKlZy"
   },
   "source": [
    "Passi da eseguire (molto simile a quanto gia' fatto):\n",
    "\n",
    "1. Splittare dataset in training e test;\n",
    "2. Istanziare un oggetto della classe LogisticRegression;\n",
    "3. Fare fit su training set;\n",
    "4. Usare la funzione score che fornisce l'accuratezza intesa come numero di volte in cui abbiamo predetto correttamente la classe rispetto al totale. "
   ]
  },
  {
   "cell_type": "code",
   "execution_count": 95,
   "metadata": {
    "id": "JeAOKSrYKSxD"
   },
   "outputs": [
    {
     "data": {
      "text/plain": [
       "0.7358851674641148"
      ]
     },
     "execution_count": 95,
     "metadata": {},
     "output_type": "execute_result"
    }
   ],
   "source": [
    "features=['Diameter']\n",
    "X=abalone[features]\n",
    "y=abalone['above_average']\n",
    "\n",
    "X_train, X_test, y_train, y_test = train_test_split(X, y, random_state=2) # Splittare dataset in training e test\n",
    "\n",
    "regressor=LogisticRegression() # Istanziare un oggetto della classe LogisticRegression\n",
    "\n",
    "regressor.fit(X_train, y_train) # Fare fit su training set;\n",
    "\n",
    "# Usare la funzione score che fornisce l'accuratezza intesa come numero di volte in cui abbiamo predetto correttamente la classe\n",
    "# rispetto al totale. \n",
    "regressor.score(X_test, y_test)"
   ]
  },
  {
   "cell_type": "markdown",
   "metadata": {},
   "source": [
    "Il 73% delle volte viene predetta correttamente la classe degli abaloni con un numero degli anelli superiore della media, basandosi sul diametro"
   ]
  },
  {
   "cell_type": "markdown",
   "metadata": {
    "id": "Iv2FD9pnLLx_"
   },
   "source": [
    "Ora, usate tutte le features, e verificate se riusciamo ad aumentare l'accuratezza corrispondente. "
   ]
  },
  {
   "cell_type": "code",
   "execution_count": 96,
   "metadata": {
    "id": "YJEbtwIULTB8"
   },
   "outputs": [
    {
     "data": {
      "text/plain": [
       "0.7904306220095694"
      ]
     },
     "execution_count": 96,
     "metadata": {},
     "output_type": "execute_result"
    }
   ],
   "source": [
    "features=list(abalone.columns[1:-2])\n",
    "X=abalone[features]\n",
    "y=abalone['above_average']\n",
    "\n",
    "X_train, X_test, y_train, y_test = train_test_split(X, y, random_state=2)\n",
    "regressor=LogisticRegression()\n",
    "regressor.fit(X_train, y_train)\n",
    "regressor.score(X_test, y_test)"
   ]
  },
  {
   "cell_type": "markdown",
   "metadata": {
    "id": "NGdfF2zXLmMC"
   },
   "source": [
    "Benissimo, siamo riusciti a raggiungere un'accuratezza del 79% con un modello di logistic regression. "
   ]
  },
  {
   "cell_type": "markdown",
   "metadata": {
    "id": "8GJ8Fpl0LsNs"
   },
   "source": [
    "Compito per casa.\n",
    "\n",
    "1. Trasformate il problema di determinare il peso delle viscere in base al diametro (precedentemente affrontato), in un problema di classificazione. \n",
    "\n",
    "Ripetete tutto il procedimento, ottenete il modello nullo e testate accuratezza sul validation set (in pratica replicando quanto appena fatto sull'esercizio precedente). "
   ]
  },
  {
   "cell_type": "markdown",
   "metadata": {},
   "source": [
    "# Compito per Casa: Regressione Logistica\n",
    "## Determinare il Peso delle Viscere in base al Diametro\n",
    "\n",
    "Creiamo una nuova colonna e *viscera_above_average* che sia:\n",
    "\n",
    "- 1    se Viscera weight > mean(Viscera weight);\n",
    "- 0    altrimenti. "
   ]
  },
  {
   "cell_type": "code",
   "execution_count": 97,
   "metadata": {},
   "outputs": [
    {
     "data": {
      "text/plain": [
       "False    0.534834\n",
       "True     0.465166\n",
       "Name: viscera_above_average, dtype: float64"
      ]
     },
     "execution_count": 97,
     "metadata": {},
     "output_type": "execute_result"
    }
   ],
   "source": [
    "abalone['viscera_above_average'] = abalone['Viscera weight']>=abalone['Viscera weight'].mean()\n",
    "\n",
    "abalone['viscera_above_average'].value_counts(normalize=True)"
   ]
  },
  {
   "cell_type": "markdown",
   "metadata": {},
   "source": [
    "## Predire se il peso delle viscere e' superiore alla media, in base al diametro\n",
    "Passi da eseguire:\n",
    "\n",
    "1. Splittare dataset in training e test;\n",
    "2. Istanziare un oggetto della classe LogisticRegression;\n",
    "3. Fare fit su training set;\n",
    "4. Usare la funzione score che fornisce l'accuratezza intesa come numero di volte in cui abbiamo predetto correttamente la classe rispetto al totale."
   ]
  },
  {
   "cell_type": "code",
   "execution_count": 98,
   "metadata": {},
   "outputs": [
    {
     "data": {
      "text/plain": [
       "0.9062200956937799"
      ]
     },
     "execution_count": 98,
     "metadata": {},
     "output_type": "execute_result"
    }
   ],
   "source": [
    "features=['Diameter']\n",
    "X=abalone[features]\n",
    "y=abalone['viscera_above_average']\n",
    "\n",
    "X_train, X_test, y_train, y_test = train_test_split(X, y, random_state=2) # Splittare dataset in training e test\n",
    "\n",
    "regressor=LogisticRegression() # Istanziare un oggetto della classe LogisticRegression\n",
    "\n",
    "regressor.fit(X_train, y_train) # Fare fit su training set;\n",
    "\n",
    "# Usare la funzione score che fornisce l'accuratezza intesa come numero di volte in cui abbiamo predetto correttamente la classe\n",
    "# rispetto al totale. \n",
    "regressor.score(X_test, y_test)"
   ]
  },
  {
   "cell_type": "markdown",
   "metadata": {},
   "source": [
    "Siamo riusciti a raggiungere un'accuratezza del 90% con un modello di logistic regression, quindi vuol dire che il diametro è un parametro molto adatto a predire se un abalone ha un peso delle viscere maggiore del normale."
   ]
  }
 ],
 "metadata": {
  "colab": {
   "collapsed_sections": [],
   "name": "Lab3.ipynb",
   "provenance": []
  },
  "kernelspec": {
   "display_name": "Python 3 (ipykernel)",
   "language": "python",
   "name": "python3"
  },
  "language_info": {
   "codemirror_mode": {
    "name": "ipython",
    "version": 3
   },
   "file_extension": ".py",
   "mimetype": "text/x-python",
   "name": "python",
   "nbconvert_exporter": "python",
   "pygments_lexer": "ipython3",
   "version": "3.9.7"
  }
 },
 "nbformat": 4,
 "nbformat_minor": 1
}
