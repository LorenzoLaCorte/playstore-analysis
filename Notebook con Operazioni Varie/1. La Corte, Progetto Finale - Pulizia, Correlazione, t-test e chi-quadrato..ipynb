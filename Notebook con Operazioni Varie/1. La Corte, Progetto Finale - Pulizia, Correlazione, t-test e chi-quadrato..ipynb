{
 "cells": [
  {
   "cell_type": "markdown",
   "metadata": {},
   "source": [
    "# Progetto Finale di Introduzione alla Data Science\n",
    "\n",
    "Autore: Lorenzo La Corte - S4784539\n",
    "\n",
    "Dataset: **Google Play Store Apps**"
   ]
  },
  {
   "cell_type": "markdown",
   "metadata": {},
   "source": [
    "## Operazioni Preliminari"
   ]
  },
  {
   "cell_type": "markdown",
   "metadata": {},
   "source": [
    "Importo le librerie di base:"
   ]
  },
  {
   "cell_type": "code",
   "execution_count": 29,
   "metadata": {
    "colab": {
     "base_uri": "https://localhost:8080/"
    },
    "id": "DG6_rz0Y_1Tx",
    "outputId": "3a50a665-11e2-455f-eb48-a7f98e4c3f51"
   },
   "outputs": [
    {
     "name": "stdout",
     "output_type": "stream",
     "text": [
      "1.7.1\n"
     ]
    }
   ],
   "source": [
    "import pandas as pd \n",
    "import matplotlib.pyplot as plt \n",
    "import numpy as np\n",
    "import scipy.stats as stats\n",
    "# !pip install scipy==1.7.0\n",
    "import scipy\n",
    "print (scipy.__version__)"
   ]
  },
  {
   "cell_type": "markdown",
   "metadata": {
    "id": "QYXUP9A4_cUe"
   },
   "source": [
    "Importo il dataset:"
   ]
  },
  {
   "cell_type": "code",
   "execution_count": 36,
   "metadata": {
    "colab": {
     "base_uri": "https://localhost:8080/",
     "height": 302
    },
    "id": "PnExuBeH_YAz",
    "outputId": "a21e9113-e580-4f70-e5c6-49da01da5b79"
   },
   "outputs": [
    {
     "data": {
      "text/html": [
       "<div>\n",
       "<style scoped>\n",
       "    .dataframe tbody tr th:only-of-type {\n",
       "        vertical-align: middle;\n",
       "    }\n",
       "\n",
       "    .dataframe tbody tr th {\n",
       "        vertical-align: top;\n",
       "    }\n",
       "\n",
       "    .dataframe thead th {\n",
       "        text-align: right;\n",
       "    }\n",
       "</style>\n",
       "<table border=\"1\" class=\"dataframe\">\n",
       "  <thead>\n",
       "    <tr style=\"text-align: right;\">\n",
       "      <th></th>\n",
       "      <th>App</th>\n",
       "      <th>Category</th>\n",
       "      <th>Rating</th>\n",
       "      <th>Reviews</th>\n",
       "      <th>Size</th>\n",
       "      <th>Installs</th>\n",
       "      <th>Type</th>\n",
       "      <th>Price</th>\n",
       "      <th>Content Rating</th>\n",
       "      <th>Genres</th>\n",
       "      <th>Last Updated</th>\n",
       "      <th>Current Ver</th>\n",
       "      <th>Android Ver</th>\n",
       "    </tr>\n",
       "  </thead>\n",
       "  <tbody>\n",
       "    <tr>\n",
       "      <th>0</th>\n",
       "      <td>Photo Editor &amp; Candy Camera &amp; Grid &amp; ScrapBook</td>\n",
       "      <td>ART_AND_DESIGN</td>\n",
       "      <td>4.1</td>\n",
       "      <td>159</td>\n",
       "      <td>19M</td>\n",
       "      <td>10,000+</td>\n",
       "      <td>Free</td>\n",
       "      <td>0</td>\n",
       "      <td>Everyone</td>\n",
       "      <td>Art &amp; Design</td>\n",
       "      <td>January 7, 2018</td>\n",
       "      <td>1.0.0</td>\n",
       "      <td>4.0.3 and up</td>\n",
       "    </tr>\n",
       "    <tr>\n",
       "      <th>1</th>\n",
       "      <td>Coloring book moana</td>\n",
       "      <td>ART_AND_DESIGN</td>\n",
       "      <td>3.9</td>\n",
       "      <td>967</td>\n",
       "      <td>14M</td>\n",
       "      <td>500,000+</td>\n",
       "      <td>Free</td>\n",
       "      <td>0</td>\n",
       "      <td>Everyone</td>\n",
       "      <td>Art &amp; Design;Pretend Play</td>\n",
       "      <td>January 15, 2018</td>\n",
       "      <td>2.0.0</td>\n",
       "      <td>4.0.3 and up</td>\n",
       "    </tr>\n",
       "    <tr>\n",
       "      <th>2</th>\n",
       "      <td>U Launcher Lite – FREE Live Cool Themes, Hide ...</td>\n",
       "      <td>ART_AND_DESIGN</td>\n",
       "      <td>4.7</td>\n",
       "      <td>87510</td>\n",
       "      <td>8.7M</td>\n",
       "      <td>5,000,000+</td>\n",
       "      <td>Free</td>\n",
       "      <td>0</td>\n",
       "      <td>Everyone</td>\n",
       "      <td>Art &amp; Design</td>\n",
       "      <td>August 1, 2018</td>\n",
       "      <td>1.2.4</td>\n",
       "      <td>4.0.3 and up</td>\n",
       "    </tr>\n",
       "    <tr>\n",
       "      <th>3</th>\n",
       "      <td>Sketch - Draw &amp; Paint</td>\n",
       "      <td>ART_AND_DESIGN</td>\n",
       "      <td>4.5</td>\n",
       "      <td>215644</td>\n",
       "      <td>25M</td>\n",
       "      <td>50,000,000+</td>\n",
       "      <td>Free</td>\n",
       "      <td>0</td>\n",
       "      <td>Teen</td>\n",
       "      <td>Art &amp; Design</td>\n",
       "      <td>June 8, 2018</td>\n",
       "      <td>Varies with device</td>\n",
       "      <td>4.2 and up</td>\n",
       "    </tr>\n",
       "    <tr>\n",
       "      <th>4</th>\n",
       "      <td>Pixel Draw - Number Art Coloring Book</td>\n",
       "      <td>ART_AND_DESIGN</td>\n",
       "      <td>4.3</td>\n",
       "      <td>967</td>\n",
       "      <td>2.8M</td>\n",
       "      <td>100,000+</td>\n",
       "      <td>Free</td>\n",
       "      <td>0</td>\n",
       "      <td>Everyone</td>\n",
       "      <td>Art &amp; Design;Creativity</td>\n",
       "      <td>June 20, 2018</td>\n",
       "      <td>1.1</td>\n",
       "      <td>4.4 and up</td>\n",
       "    </tr>\n",
       "  </tbody>\n",
       "</table>\n",
       "</div>"
      ],
      "text/plain": [
       "                                                 App        Category  Rating  \\\n",
       "0     Photo Editor & Candy Camera & Grid & ScrapBook  ART_AND_DESIGN     4.1   \n",
       "1                                Coloring book moana  ART_AND_DESIGN     3.9   \n",
       "2  U Launcher Lite – FREE Live Cool Themes, Hide ...  ART_AND_DESIGN     4.7   \n",
       "3                              Sketch - Draw & Paint  ART_AND_DESIGN     4.5   \n",
       "4              Pixel Draw - Number Art Coloring Book  ART_AND_DESIGN     4.3   \n",
       "\n",
       "  Reviews  Size     Installs  Type Price Content Rating  \\\n",
       "0     159   19M      10,000+  Free     0       Everyone   \n",
       "1     967   14M     500,000+  Free     0       Everyone   \n",
       "2   87510  8.7M   5,000,000+  Free     0       Everyone   \n",
       "3  215644   25M  50,000,000+  Free     0           Teen   \n",
       "4     967  2.8M     100,000+  Free     0       Everyone   \n",
       "\n",
       "                      Genres      Last Updated         Current Ver  \\\n",
       "0               Art & Design   January 7, 2018               1.0.0   \n",
       "1  Art & Design;Pretend Play  January 15, 2018               2.0.0   \n",
       "2               Art & Design    August 1, 2018               1.2.4   \n",
       "3               Art & Design      June 8, 2018  Varies with device   \n",
       "4    Art & Design;Creativity     June 20, 2018                 1.1   \n",
       "\n",
       "    Android Ver  \n",
       "0  4.0.3 and up  \n",
       "1  4.0.3 and up  \n",
       "2  4.0.3 and up  \n",
       "3    4.2 and up  \n",
       "4    4.4 and up  "
      ]
     },
     "execution_count": 36,
     "metadata": {},
     "output_type": "execute_result"
    }
   ],
   "source": [
    "playstore = pd.read_csv('googleplaystore.csv') #importo il file\n",
    "playstore.head() # visualizza le prime entry del dataset"
   ]
  },
  {
   "cell_type": "markdown",
   "metadata": {},
   "source": [
    "Visualizzo numero di righe e di caratteristiche."
   ]
  },
  {
   "cell_type": "code",
   "execution_count": 37,
   "metadata": {
    "colab": {
     "base_uri": "https://localhost:8080/"
    },
    "id": "yoJXIEgHFyVc",
    "outputId": "cac9bf25-8d14-455b-82c8-e7ea587d358e"
   },
   "outputs": [
    {
     "data": {
      "text/plain": [
       "(10841, 13)"
      ]
     },
     "execution_count": 37,
     "metadata": {},
     "output_type": "execute_result"
    }
   ],
   "source": [
    "playstore.shape # restituisce (numero di righe, numero di colonne)\n"
   ]
  },
  {
   "cell_type": "markdown",
   "metadata": {},
   "source": [
    "## Pulizia del Dataset "
   ]
  },
  {
   "cell_type": "markdown",
   "metadata": {
    "id": "C-3oOC0QO_ZY"
   },
   "source": [
    "Divido il dataset in features qualitative e quantitative:"
   ]
  },
  {
   "cell_type": "code",
   "execution_count": 38,
   "metadata": {
    "id": "t_gQkwbRFlx-"
   },
   "outputs": [],
   "source": [
    "# la [[]] crea dataframe con sezioni di caratteristiche\n",
    "quantitative_playstore = playstore[['Rating','Reviews','Size','Installs','Price']] \n",
    "qualitative_playstore = playstore[['App','Category','Type','Content Rating','Genres', 'Last Updated', 'Current Ver', 'Android Ver']]"
   ]
  },
  {
   "cell_type": "markdown",
   "metadata": {
    "id": "rBXiFGHMEPV9"
   },
   "source": [
    "Adesso utilizzo il metodo describe() e noto che esso mi restituisce solo Rating come variabile quantitativa.\n",
    "\n"
   ]
  },
  {
   "cell_type": "code",
   "execution_count": 39,
   "metadata": {},
   "outputs": [
    {
     "data": {
      "text/html": [
       "<div>\n",
       "<style scoped>\n",
       "    .dataframe tbody tr th:only-of-type {\n",
       "        vertical-align: middle;\n",
       "    }\n",
       "\n",
       "    .dataframe tbody tr th {\n",
       "        vertical-align: top;\n",
       "    }\n",
       "\n",
       "    .dataframe thead th {\n",
       "        text-align: right;\n",
       "    }\n",
       "</style>\n",
       "<table border=\"1\" class=\"dataframe\">\n",
       "  <thead>\n",
       "    <tr style=\"text-align: right;\">\n",
       "      <th></th>\n",
       "      <th>Rating</th>\n",
       "    </tr>\n",
       "  </thead>\n",
       "  <tbody>\n",
       "    <tr>\n",
       "      <th>count</th>\n",
       "      <td>9367.000000</td>\n",
       "    </tr>\n",
       "    <tr>\n",
       "      <th>mean</th>\n",
       "      <td>4.193338</td>\n",
       "    </tr>\n",
       "    <tr>\n",
       "      <th>std</th>\n",
       "      <td>0.537431</td>\n",
       "    </tr>\n",
       "    <tr>\n",
       "      <th>min</th>\n",
       "      <td>1.000000</td>\n",
       "    </tr>\n",
       "    <tr>\n",
       "      <th>25%</th>\n",
       "      <td>4.000000</td>\n",
       "    </tr>\n",
       "    <tr>\n",
       "      <th>50%</th>\n",
       "      <td>4.300000</td>\n",
       "    </tr>\n",
       "    <tr>\n",
       "      <th>75%</th>\n",
       "      <td>4.500000</td>\n",
       "    </tr>\n",
       "    <tr>\n",
       "      <th>max</th>\n",
       "      <td>19.000000</td>\n",
       "    </tr>\n",
       "  </tbody>\n",
       "</table>\n",
       "</div>"
      ],
      "text/plain": [
       "            Rating\n",
       "count  9367.000000\n",
       "mean      4.193338\n",
       "std       0.537431\n",
       "min       1.000000\n",
       "25%       4.000000\n",
       "50%       4.300000\n",
       "75%       4.500000\n",
       "max      19.000000"
      ]
     },
     "execution_count": 39,
     "metadata": {},
     "output_type": "execute_result"
    }
   ],
   "source": [
    "# quantitative_playstore.describe()\n",
    "playstore.describe() # mi dovrebbe dare la stessa cosa (solo le quantitative)"
   ]
  },
  {
   "cell_type": "markdown",
   "metadata": {},
   "source": [
    "Probabilmente devo pulire la tabella in modo da rendere 'Reviews', 'Size', 'Installs', 'Price' quantitative.\n",
    "\n",
    "Quindi:\n",
    "1. Convertire la size delle app a MB per semplificare la visualizzazione\n",
    "2. Rimuovere il '+' da 'Installs' per renderlo quantitativo\n",
    "3. Scoprire perché reviews e price non sono quantitative\n",
    "4. Gestire i valori nulli se ci sono\n"
   ]
  },
  {
   "cell_type": "markdown",
   "metadata": {},
   "source": [
    "## Gestione delle Variabili Quantitative\n",
    "\n",
    "La size risulta non quantitativa: la colonna è composta da stringhe.\n",
    "\n",
    "Converto quindi queste stringhe in interi per rendere questa caratteristica quantitativa e poi converto la size delle app a MB per semplificare la visualizzazione:"
   ]
  },
  {
   "cell_type": "markdown",
   "metadata": {},
   "source": [
    "Rimuovo il '+' da 'Installs' per renderlo quantitativo:"
   ]
  },
  {
   "cell_type": "code",
   "execution_count": 41,
   "metadata": {},
   "outputs": [
    {
     "ename": "TypeError",
     "evalue": "replace() argument 2 must be str, not float",
     "output_type": "error",
     "traceback": [
      "\u001b[1;31m---------------------------------------------------------------------------\u001b[0m",
      "\u001b[1;31mTypeError\u001b[0m                                 Traceback (most recent call last)",
      "\u001b[1;32m~\\AppData\\Local\\Temp/ipykernel_17976/3136826286.py\u001b[0m in \u001b[0;36m<module>\u001b[1;34m\u001b[0m\n\u001b[0;32m      3\u001b[0m     \u001b[1;31m# prendo una media delle Size che non sono Varies with device\u001b[0m\u001b[1;33m\u001b[0m\u001b[1;33m\u001b[0m\u001b[0m\n\u001b[0;32m      4\u001b[0m \u001b[1;33m\u001b[0m\u001b[0m\n\u001b[1;32m----> 5\u001b[1;33m     \u001b[0mplaystore\u001b[0m\u001b[1;33m[\u001b[0m\u001b[1;34m'Size'\u001b[0m\u001b[1;33m]\u001b[0m \u001b[1;33m=\u001b[0m \u001b[1;33m[\u001b[0m\u001b[0mfloat\u001b[0m\u001b[1;33m(\u001b[0m\u001b[0mx\u001b[0m\u001b[1;33m.\u001b[0m\u001b[0mreplace\u001b[0m\u001b[1;33m(\u001b[0m\u001b[1;34m\"Varies with device\"\u001b[0m\u001b[1;33m,\u001b[0m \u001b[0mnp\u001b[0m\u001b[1;33m.\u001b[0m\u001b[0mnan\u001b[0m\u001b[1;33m)\u001b[0m\u001b[1;33m.\u001b[0m\u001b[0mreplace\u001b[0m\u001b[1;33m(\u001b[0m\u001b[1;34m\",\"\u001b[0m\u001b[1;33m,\u001b[0m\u001b[1;34m\".\"\u001b[0m\u001b[1;33m)\u001b[0m\u001b[1;33m.\u001b[0m\u001b[0mreplace\u001b[0m\u001b[1;33m(\u001b[0m\u001b[1;34m\"+\"\u001b[0m\u001b[1;33m,\u001b[0m\u001b[1;34m\"\"\u001b[0m\u001b[1;33m)\u001b[0m\u001b[1;33m.\u001b[0m\u001b[0mreplace\u001b[0m\u001b[1;33m(\u001b[0m\u001b[1;34m\"M\"\u001b[0m\u001b[1;33m,\u001b[0m\u001b[1;34m\"000000\"\u001b[0m\u001b[1;33m)\u001b[0m\u001b[1;33m.\u001b[0m\u001b[0mreplace\u001b[0m\u001b[1;33m(\u001b[0m\u001b[1;34m\"k\"\u001b[0m\u001b[1;33m,\u001b[0m\u001b[1;34m\"000\"\u001b[0m\u001b[1;33m)\u001b[0m\u001b[1;33m)\u001b[0m \u001b[1;32mfor\u001b[0m \u001b[0mx\u001b[0m \u001b[1;32min\u001b[0m \u001b[0mplaystore\u001b[0m\u001b[1;33m[\u001b[0m\u001b[1;34m'Size'\u001b[0m\u001b[1;33m]\u001b[0m\u001b[1;33m]\u001b[0m\u001b[1;33m\u001b[0m\u001b[1;33m\u001b[0m\u001b[0m\n\u001b[0m\u001b[0;32m      6\u001b[0m \u001b[1;33m\u001b[0m\u001b[0m\n\u001b[0;32m      7\u001b[0m     \u001b[0mplaystore\u001b[0m\u001b[1;33m[\u001b[0m\u001b[1;34m'Size'\u001b[0m\u001b[1;33m]\u001b[0m \u001b[1;33m=\u001b[0m \u001b[1;33m[\u001b[0m\u001b[0mx\u001b[0m\u001b[1;33m.\u001b[0m\u001b[0mreplace\u001b[0m\u001b[1;33m(\u001b[0m\u001b[1;32mNone\u001b[0m\u001b[1;33m,\u001b[0m\u001b[0mstr\u001b[0m\u001b[1;33m(\u001b[0m\u001b[0mplaystore\u001b[0m\u001b[1;33m[\u001b[0m\u001b[1;34m'Size'\u001b[0m\u001b[1;33m]\u001b[0m\u001b[1;33m.\u001b[0m\u001b[0mmean\u001b[0m\u001b[1;33m(\u001b[0m\u001b[1;33m)\u001b[0m\u001b[1;33m)\u001b[0m\u001b[1;33m)\u001b[0m \u001b[1;32mfor\u001b[0m \u001b[0mx\u001b[0m \u001b[1;32min\u001b[0m \u001b[0mplaystore\u001b[0m\u001b[1;33m[\u001b[0m\u001b[1;34m'Size'\u001b[0m\u001b[1;33m]\u001b[0m\u001b[1;33m]\u001b[0m\u001b[1;33m\u001b[0m\u001b[1;33m\u001b[0m\u001b[0m\n",
      "\u001b[1;32m~\\AppData\\Local\\Temp/ipykernel_17976/3136826286.py\u001b[0m in \u001b[0;36m<listcomp>\u001b[1;34m(.0)\u001b[0m\n\u001b[0;32m      3\u001b[0m     \u001b[1;31m# prendo una media delle Size che non sono Varies with device\u001b[0m\u001b[1;33m\u001b[0m\u001b[1;33m\u001b[0m\u001b[0m\n\u001b[0;32m      4\u001b[0m \u001b[1;33m\u001b[0m\u001b[0m\n\u001b[1;32m----> 5\u001b[1;33m     \u001b[0mplaystore\u001b[0m\u001b[1;33m[\u001b[0m\u001b[1;34m'Size'\u001b[0m\u001b[1;33m]\u001b[0m \u001b[1;33m=\u001b[0m \u001b[1;33m[\u001b[0m\u001b[0mfloat\u001b[0m\u001b[1;33m(\u001b[0m\u001b[0mx\u001b[0m\u001b[1;33m.\u001b[0m\u001b[0mreplace\u001b[0m\u001b[1;33m(\u001b[0m\u001b[1;34m\"Varies with device\"\u001b[0m\u001b[1;33m,\u001b[0m \u001b[0mnp\u001b[0m\u001b[1;33m.\u001b[0m\u001b[0mnan\u001b[0m\u001b[1;33m)\u001b[0m\u001b[1;33m.\u001b[0m\u001b[0mreplace\u001b[0m\u001b[1;33m(\u001b[0m\u001b[1;34m\",\"\u001b[0m\u001b[1;33m,\u001b[0m\u001b[1;34m\".\"\u001b[0m\u001b[1;33m)\u001b[0m\u001b[1;33m.\u001b[0m\u001b[0mreplace\u001b[0m\u001b[1;33m(\u001b[0m\u001b[1;34m\"+\"\u001b[0m\u001b[1;33m,\u001b[0m\u001b[1;34m\"\"\u001b[0m\u001b[1;33m)\u001b[0m\u001b[1;33m.\u001b[0m\u001b[0mreplace\u001b[0m\u001b[1;33m(\u001b[0m\u001b[1;34m\"M\"\u001b[0m\u001b[1;33m,\u001b[0m\u001b[1;34m\"000000\"\u001b[0m\u001b[1;33m)\u001b[0m\u001b[1;33m.\u001b[0m\u001b[0mreplace\u001b[0m\u001b[1;33m(\u001b[0m\u001b[1;34m\"k\"\u001b[0m\u001b[1;33m,\u001b[0m\u001b[1;34m\"000\"\u001b[0m\u001b[1;33m)\u001b[0m\u001b[1;33m)\u001b[0m \u001b[1;32mfor\u001b[0m \u001b[0mx\u001b[0m \u001b[1;32min\u001b[0m \u001b[0mplaystore\u001b[0m\u001b[1;33m[\u001b[0m\u001b[1;34m'Size'\u001b[0m\u001b[1;33m]\u001b[0m\u001b[1;33m]\u001b[0m\u001b[1;33m\u001b[0m\u001b[1;33m\u001b[0m\u001b[0m\n\u001b[0m\u001b[0;32m      6\u001b[0m \u001b[1;33m\u001b[0m\u001b[0m\n\u001b[0;32m      7\u001b[0m     \u001b[0mplaystore\u001b[0m\u001b[1;33m[\u001b[0m\u001b[1;34m'Size'\u001b[0m\u001b[1;33m]\u001b[0m \u001b[1;33m=\u001b[0m \u001b[1;33m[\u001b[0m\u001b[0mx\u001b[0m\u001b[1;33m.\u001b[0m\u001b[0mreplace\u001b[0m\u001b[1;33m(\u001b[0m\u001b[1;32mNone\u001b[0m\u001b[1;33m,\u001b[0m\u001b[0mstr\u001b[0m\u001b[1;33m(\u001b[0m\u001b[0mplaystore\u001b[0m\u001b[1;33m[\u001b[0m\u001b[1;34m'Size'\u001b[0m\u001b[1;33m]\u001b[0m\u001b[1;33m.\u001b[0m\u001b[0mmean\u001b[0m\u001b[1;33m(\u001b[0m\u001b[1;33m)\u001b[0m\u001b[1;33m)\u001b[0m\u001b[1;33m)\u001b[0m \u001b[1;32mfor\u001b[0m \u001b[0mx\u001b[0m \u001b[1;32min\u001b[0m \u001b[0mplaystore\u001b[0m\u001b[1;33m[\u001b[0m\u001b[1;34m'Size'\u001b[0m\u001b[1;33m]\u001b[0m\u001b[1;33m]\u001b[0m\u001b[1;33m\u001b[0m\u001b[1;33m\u001b[0m\u001b[0m\n",
      "\u001b[1;31mTypeError\u001b[0m: replace() argument 2 must be str, not float"
     ]
    }
   ],
   "source": [
    "if(type(playstore['Size'][0]) is str):\n",
    "    \n",
    "    # prendo una media delle Size che non sono Varies with device\n",
    "\n",
    "    playstore['Size'] = [float(x.replace(\"Varies with device\", np.nan).replace(\",\",\".\").replace(\"+\",\"\").replace(\"M\",\"000000\").replace(\"k\",\"000\")) for x in playstore['Size']]\n",
    "    \n",
    "    playstore['Size'] = [x.replace(None,str(playstore['Size'].mean())) for x in playstore['Size']]\n",
    "\n",
    "    playstore['Size'] = [(x / 10**6) for x in playstore['Size']]\n",
    "    \n",
    "playstore.describe()"
   ]
  },
  {
   "cell_type": "code",
   "execution_count": 7,
   "metadata": {},
   "outputs": [
    {
     "data": {
      "text/html": [
       "<div>\n",
       "<style scoped>\n",
       "    .dataframe tbody tr th:only-of-type {\n",
       "        vertical-align: middle;\n",
       "    }\n",
       "\n",
       "    .dataframe tbody tr th {\n",
       "        vertical-align: top;\n",
       "    }\n",
       "\n",
       "    .dataframe thead th {\n",
       "        text-align: right;\n",
       "    }\n",
       "</style>\n",
       "<table border=\"1\" class=\"dataframe\">\n",
       "  <thead>\n",
       "    <tr style=\"text-align: right;\">\n",
       "      <th></th>\n",
       "      <th>Rating</th>\n",
       "      <th>Size</th>\n",
       "      <th>Installs</th>\n",
       "    </tr>\n",
       "  </thead>\n",
       "  <tbody>\n",
       "    <tr>\n",
       "      <th>count</th>\n",
       "      <td>9366.000000</td>\n",
       "      <td>10840.000000</td>\n",
       "      <td>1.084000e+04</td>\n",
       "    </tr>\n",
       "    <tr>\n",
       "      <th>mean</th>\n",
       "      <td>4.191757</td>\n",
       "      <td>19.577147</td>\n",
       "      <td>1.546434e+07</td>\n",
       "    </tr>\n",
       "    <tr>\n",
       "      <th>std</th>\n",
       "      <td>0.515219</td>\n",
       "      <td>22.083796</td>\n",
       "      <td>8.502936e+07</td>\n",
       "    </tr>\n",
       "    <tr>\n",
       "      <th>min</th>\n",
       "      <td>1.000000</td>\n",
       "      <td>0.000001</td>\n",
       "      <td>0.000000e+00</td>\n",
       "    </tr>\n",
       "    <tr>\n",
       "      <th>25%</th>\n",
       "      <td>4.000000</td>\n",
       "      <td>0.000007</td>\n",
       "      <td>1.000000e+03</td>\n",
       "    </tr>\n",
       "    <tr>\n",
       "      <th>50%</th>\n",
       "      <td>4.300000</td>\n",
       "      <td>18.000000</td>\n",
       "      <td>1.000000e+05</td>\n",
       "    </tr>\n",
       "    <tr>\n",
       "      <th>75%</th>\n",
       "      <td>4.500000</td>\n",
       "      <td>26.000000</td>\n",
       "      <td>5.000000e+06</td>\n",
       "    </tr>\n",
       "    <tr>\n",
       "      <th>max</th>\n",
       "      <td>5.000000</td>\n",
       "      <td>100.000000</td>\n",
       "      <td>1.000000e+09</td>\n",
       "    </tr>\n",
       "  </tbody>\n",
       "</table>\n",
       "</div>"
      ],
      "text/plain": [
       "            Rating          Size      Installs\n",
       "count  9366.000000  10840.000000  1.084000e+04\n",
       "mean      4.191757     19.577147  1.546434e+07\n",
       "std       0.515219     22.083796  8.502936e+07\n",
       "min       1.000000      0.000001  0.000000e+00\n",
       "25%       4.000000      0.000007  1.000000e+03\n",
       "50%       4.300000     18.000000  1.000000e+05\n",
       "75%       4.500000     26.000000  5.000000e+06\n",
       "max       5.000000    100.000000  1.000000e+09"
      ]
     },
     "execution_count": 7,
     "metadata": {},
     "output_type": "execute_result"
    }
   ],
   "source": [
    "if(type(playstore['Installs'][0]) is str):\n",
    "    playstore = playstore[playstore.Installs != \"Free\"] # rimuovo le righe con questo valore per Installs\n",
    "    playstore['Installs'] = [float(x.replace(\"+\",\"\").replace(\",\",\".\").replace(\".\",\"\")) for x in playstore['Installs']]\n",
    "    \n",
    "playstore.describe()"
   ]
  },
  {
   "cell_type": "markdown",
   "metadata": {},
   "source": [
    "Analizzo ora le feature Reviews e P"
   ]
  },
  {
   "cell_type": "code",
   "execution_count": 8,
   "metadata": {},
   "outputs": [
    {
     "name": "stdout",
     "output_type": "stream",
     "text": [
      "<class 'str'>\n",
      "<class 'str'>\n"
     ]
    }
   ],
   "source": [
    "print(type(playstore['Reviews'][0]))\n",
    "print(type(playstore['Price'][0]))\n"
   ]
  },
  {
   "cell_type": "markdown",
   "metadata": {},
   "source": [
    "Devo convertire anche loro al fine di renderli quantitativi"
   ]
  },
  {
   "cell_type": "code",
   "execution_count": 9,
   "metadata": {},
   "outputs": [
    {
     "data": {
      "text/html": [
       "<div>\n",
       "<style scoped>\n",
       "    .dataframe tbody tr th:only-of-type {\n",
       "        vertical-align: middle;\n",
       "    }\n",
       "\n",
       "    .dataframe tbody tr th {\n",
       "        vertical-align: top;\n",
       "    }\n",
       "\n",
       "    .dataframe thead th {\n",
       "        text-align: right;\n",
       "    }\n",
       "</style>\n",
       "<table border=\"1\" class=\"dataframe\">\n",
       "  <thead>\n",
       "    <tr style=\"text-align: right;\">\n",
       "      <th></th>\n",
       "      <th>Rating</th>\n",
       "      <th>Reviews</th>\n",
       "      <th>Size</th>\n",
       "      <th>Installs</th>\n",
       "      <th>Price</th>\n",
       "    </tr>\n",
       "  </thead>\n",
       "  <tbody>\n",
       "    <tr>\n",
       "      <th>count</th>\n",
       "      <td>9366.000000</td>\n",
       "      <td>1.084000e+04</td>\n",
       "      <td>10840.000000</td>\n",
       "      <td>1.084000e+04</td>\n",
       "      <td>10840.000000</td>\n",
       "    </tr>\n",
       "    <tr>\n",
       "      <th>mean</th>\n",
       "      <td>4.191757</td>\n",
       "      <td>4.441529e+05</td>\n",
       "      <td>19.577147</td>\n",
       "      <td>1.546434e+07</td>\n",
       "      <td>1.027368</td>\n",
       "    </tr>\n",
       "    <tr>\n",
       "      <th>std</th>\n",
       "      <td>0.515219</td>\n",
       "      <td>2.927761e+06</td>\n",
       "      <td>22.083796</td>\n",
       "      <td>8.502936e+07</td>\n",
       "      <td>15.949703</td>\n",
       "    </tr>\n",
       "    <tr>\n",
       "      <th>min</th>\n",
       "      <td>1.000000</td>\n",
       "      <td>0.000000e+00</td>\n",
       "      <td>0.000001</td>\n",
       "      <td>0.000000e+00</td>\n",
       "      <td>0.000000</td>\n",
       "    </tr>\n",
       "    <tr>\n",
       "      <th>25%</th>\n",
       "      <td>4.000000</td>\n",
       "      <td>3.800000e+01</td>\n",
       "      <td>0.000007</td>\n",
       "      <td>1.000000e+03</td>\n",
       "      <td>0.000000</td>\n",
       "    </tr>\n",
       "    <tr>\n",
       "      <th>50%</th>\n",
       "      <td>4.300000</td>\n",
       "      <td>2.094000e+03</td>\n",
       "      <td>18.000000</td>\n",
       "      <td>1.000000e+05</td>\n",
       "      <td>0.000000</td>\n",
       "    </tr>\n",
       "    <tr>\n",
       "      <th>75%</th>\n",
       "      <td>4.500000</td>\n",
       "      <td>5.477550e+04</td>\n",
       "      <td>26.000000</td>\n",
       "      <td>5.000000e+06</td>\n",
       "      <td>0.000000</td>\n",
       "    </tr>\n",
       "    <tr>\n",
       "      <th>max</th>\n",
       "      <td>5.000000</td>\n",
       "      <td>7.815831e+07</td>\n",
       "      <td>100.000000</td>\n",
       "      <td>1.000000e+09</td>\n",
       "      <td>400.000000</td>\n",
       "    </tr>\n",
       "  </tbody>\n",
       "</table>\n",
       "</div>"
      ],
      "text/plain": [
       "            Rating       Reviews          Size      Installs         Price\n",
       "count  9366.000000  1.084000e+04  10840.000000  1.084000e+04  10840.000000\n",
       "mean      4.191757  4.441529e+05     19.577147  1.546434e+07      1.027368\n",
       "std       0.515219  2.927761e+06     22.083796  8.502936e+07     15.949703\n",
       "min       1.000000  0.000000e+00      0.000001  0.000000e+00      0.000000\n",
       "25%       4.000000  3.800000e+01      0.000007  1.000000e+03      0.000000\n",
       "50%       4.300000  2.094000e+03     18.000000  1.000000e+05      0.000000\n",
       "75%       4.500000  5.477550e+04     26.000000  5.000000e+06      0.000000\n",
       "max       5.000000  7.815831e+07    100.000000  1.000000e+09    400.000000"
      ]
     },
     "execution_count": 9,
     "metadata": {},
     "output_type": "execute_result"
    }
   ],
   "source": [
    "if(type(playstore['Reviews'][0]) is str):\n",
    "    playstore['Reviews'] = [float(x.replace(\"M\",\"000000\")) for x in playstore['Reviews']]\n",
    "\n",
    "if(type(playstore['Price'][0]) is str):\n",
    "    playstore = playstore[playstore.Price != \"Everyone\"] # rimuovo le righe con questo valore per Price\n",
    "    playstore['Price'] = [float(x.replace(\"$\",\"\")) for x in playstore['Price']]\n",
    "\n",
    "playstore.describe()"
   ]
  },
  {
   "cell_type": "markdown",
   "metadata": {},
   "source": [
    "## Gestione dei Valori Nulli"
   ]
  },
  {
   "cell_type": "code",
   "execution_count": 10,
   "metadata": {
    "colab": {
     "base_uri": "https://localhost:8080/",
     "height": 175
    },
    "id": "6MKNES8mF-kX",
    "outputId": "046bcfbe-5610-49fb-9d68-6fb772e1961a"
   },
   "outputs": [
    {
     "data": {
      "text/html": [
       "<div>\n",
       "<style scoped>\n",
       "    .dataframe tbody tr th:only-of-type {\n",
       "        vertical-align: middle;\n",
       "    }\n",
       "\n",
       "    .dataframe tbody tr th {\n",
       "        vertical-align: top;\n",
       "    }\n",
       "\n",
       "    .dataframe thead th {\n",
       "        text-align: right;\n",
       "    }\n",
       "</style>\n",
       "<table border=\"1\" class=\"dataframe\">\n",
       "  <thead>\n",
       "    <tr style=\"text-align: right;\">\n",
       "      <th></th>\n",
       "      <th>App</th>\n",
       "      <th>Category</th>\n",
       "      <th>Type</th>\n",
       "      <th>Content Rating</th>\n",
       "      <th>Genres</th>\n",
       "      <th>Last Updated</th>\n",
       "      <th>Current Ver</th>\n",
       "      <th>Android Ver</th>\n",
       "    </tr>\n",
       "  </thead>\n",
       "  <tbody>\n",
       "    <tr>\n",
       "      <th>count</th>\n",
       "      <td>10841</td>\n",
       "      <td>10841</td>\n",
       "      <td>10840</td>\n",
       "      <td>10840</td>\n",
       "      <td>10841</td>\n",
       "      <td>10841</td>\n",
       "      <td>10833</td>\n",
       "      <td>10838</td>\n",
       "    </tr>\n",
       "    <tr>\n",
       "      <th>unique</th>\n",
       "      <td>9660</td>\n",
       "      <td>34</td>\n",
       "      <td>3</td>\n",
       "      <td>6</td>\n",
       "      <td>120</td>\n",
       "      <td>1378</td>\n",
       "      <td>2832</td>\n",
       "      <td>33</td>\n",
       "    </tr>\n",
       "    <tr>\n",
       "      <th>top</th>\n",
       "      <td>ROBLOX</td>\n",
       "      <td>FAMILY</td>\n",
       "      <td>Free</td>\n",
       "      <td>Everyone</td>\n",
       "      <td>Tools</td>\n",
       "      <td>August 3, 2018</td>\n",
       "      <td>Varies with device</td>\n",
       "      <td>4.1 and up</td>\n",
       "    </tr>\n",
       "    <tr>\n",
       "      <th>freq</th>\n",
       "      <td>9</td>\n",
       "      <td>1972</td>\n",
       "      <td>10039</td>\n",
       "      <td>8714</td>\n",
       "      <td>842</td>\n",
       "      <td>326</td>\n",
       "      <td>1459</td>\n",
       "      <td>2451</td>\n",
       "    </tr>\n",
       "  </tbody>\n",
       "</table>\n",
       "</div>"
      ],
      "text/plain": [
       "           App Category   Type Content Rating Genres    Last Updated  \\\n",
       "count    10841    10841  10840          10840  10841           10841   \n",
       "unique    9660       34      3              6    120            1378   \n",
       "top     ROBLOX   FAMILY   Free       Everyone  Tools  August 3, 2018   \n",
       "freq         9     1972  10039           8714    842             326   \n",
       "\n",
       "               Current Ver Android Ver  \n",
       "count                10833       10838  \n",
       "unique                2832          33  \n",
       "top     Varies with device  4.1 and up  \n",
       "freq                  1459        2451  "
      ]
     },
     "execution_count": 10,
     "metadata": {},
     "output_type": "execute_result"
    }
   ],
   "source": [
    "qualitative_playstore.describe()"
   ]
  },
  {
   "cell_type": "markdown",
   "metadata": {
    "id": "3z7KAOD4v7Cb"
   },
   "source": [
    "Notiamo che le colonne hanno piu' o meno tutte lo stesso valore per count, quindi possiamo immaginare ci siano pochi valori nulli per le variabili quantitative, mentre i rating sembrano essere circa mille in meno; verifichiamo con:"
   ]
  },
  {
   "cell_type": "code",
   "execution_count": 11,
   "metadata": {
    "colab": {
     "base_uri": "https://localhost:8080/"
    },
    "id": "ZZ71CKCxwP1D",
    "outputId": "f591cef0-c43a-411b-e387-6906a092dc7a"
   },
   "outputs": [
    {
     "data": {
      "text/plain": [
       "App                  0\n",
       "Category             0\n",
       "Rating            1474\n",
       "Reviews              0\n",
       "Size                 0\n",
       "Installs             0\n",
       "Type                 1\n",
       "Price                0\n",
       "Content Rating       0\n",
       "Genres               0\n",
       "Last Updated         0\n",
       "Current Ver          8\n",
       "Android Ver          2\n",
       "dtype: int64"
      ]
     },
     "execution_count": 11,
     "metadata": {},
     "output_type": "execute_result"
    }
   ],
   "source": [
    "# dobbiamo verificare che le entry siano nulle e non NaN o qualcos'altro\n",
    "playstore.isnull().sum() # ci da tutte le occorrenze nulle"
   ]
  },
  {
   "cell_type": "markdown",
   "metadata": {
    "id": "oG9kN9Gswrx2"
   },
   "source": [
    "Prendiamo in considerazione quindi la colonna \"Rating\". Abbiamo due soluzioni:\n",
    "1. Eliminare le righe con elementi nulli oppure\n",
    "2. Provare a completarle. "
   ]
  },
  {
   "cell_type": "code",
   "execution_count": 12,
   "metadata": {
    "colab": {
     "base_uri": "https://localhost:8080/"
    },
    "id": "7M1fTy65xCrk",
    "outputId": "f6f5e5c5-7d8b-4274-e6f6-83268e1d1d05"
   },
   "outputs": [
    {
     "name": "stdout",
     "output_type": "stream",
     "text": [
      "4.191757420456978\n"
     ]
    },
    {
     "data": {
      "text/plain": [
       "App               0\n",
       "Category          0\n",
       "Rating            0\n",
       "Reviews           0\n",
       "Size              0\n",
       "Installs          0\n",
       "Type              0\n",
       "Price             0\n",
       "Content Rating    0\n",
       "Genres            0\n",
       "Last Updated      0\n",
       "Current Ver       0\n",
       "Android Ver       0\n",
       "dtype: int64"
      ]
     },
     "execution_count": 12,
     "metadata": {},
     "output_type": "execute_result"
    }
   ],
   "source": [
    "# Soluzione 2 (per Rating)\n",
    "average_rating = playstore['Rating'].mean()\n",
    "print(average_rating)\n",
    "playstore['Rating'].fillna(average_rating, inplace = True) # completa i mancanti con la media degli altri\n",
    "\n",
    "# Soluzione 1 (per i pochi altri valori nulli)\n",
    "playstore.dropna(how ='any', inplace = True)\n",
    "\n",
    "# Risultato\n",
    "playstore.isnull().sum()"
   ]
  },
  {
   "cell_type": "markdown",
   "metadata": {},
   "source": [
    "Ho quindi adottato la soluzione del completamento per Rating e di eliminazione per gli altri valori nulli."
   ]
  },
  {
   "cell_type": "markdown",
   "metadata": {},
   "source": [
    "## Elimazione Duplicati\n",
    "Come ultimo guardo se ci sono duplicati nel dataset e nel caso li rimuovo."
   ]
  },
  {
   "cell_type": "code",
   "execution_count": 13,
   "metadata": {},
   "outputs": [
    {
     "data": {
      "text/html": [
       "<div>\n",
       "<style scoped>\n",
       "    .dataframe tbody tr th:only-of-type {\n",
       "        vertical-align: middle;\n",
       "    }\n",
       "\n",
       "    .dataframe tbody tr th {\n",
       "        vertical-align: top;\n",
       "    }\n",
       "\n",
       "    .dataframe thead th {\n",
       "        text-align: right;\n",
       "    }\n",
       "</style>\n",
       "<table border=\"1\" class=\"dataframe\">\n",
       "  <thead>\n",
       "    <tr style=\"text-align: right;\">\n",
       "      <th></th>\n",
       "      <th>App</th>\n",
       "      <th>Category</th>\n",
       "      <th>Rating</th>\n",
       "      <th>Reviews</th>\n",
       "      <th>Size</th>\n",
       "      <th>Installs</th>\n",
       "      <th>Type</th>\n",
       "      <th>Price</th>\n",
       "      <th>Content Rating</th>\n",
       "      <th>Genres</th>\n",
       "      <th>Last Updated</th>\n",
       "      <th>Current Ver</th>\n",
       "      <th>Android Ver</th>\n",
       "    </tr>\n",
       "  </thead>\n",
       "  <tbody>\n",
       "    <tr>\n",
       "      <th>229</th>\n",
       "      <td>Quick PDF Scanner + OCR FREE</td>\n",
       "      <td>BUSINESS</td>\n",
       "      <td>4.2</td>\n",
       "      <td>80805.0</td>\n",
       "      <td>19.575341</td>\n",
       "      <td>5000000.0</td>\n",
       "      <td>Free</td>\n",
       "      <td>0.0</td>\n",
       "      <td>Everyone</td>\n",
       "      <td>Business</td>\n",
       "      <td>February 26, 2018</td>\n",
       "      <td>Varies with device</td>\n",
       "      <td>4.0.3 and up</td>\n",
       "    </tr>\n",
       "    <tr>\n",
       "      <th>236</th>\n",
       "      <td>Box</td>\n",
       "      <td>BUSINESS</td>\n",
       "      <td>4.2</td>\n",
       "      <td>159872.0</td>\n",
       "      <td>19.575341</td>\n",
       "      <td>10000000.0</td>\n",
       "      <td>Free</td>\n",
       "      <td>0.0</td>\n",
       "      <td>Everyone</td>\n",
       "      <td>Business</td>\n",
       "      <td>July 31, 2018</td>\n",
       "      <td>Varies with device</td>\n",
       "      <td>Varies with device</td>\n",
       "    </tr>\n",
       "    <tr>\n",
       "      <th>239</th>\n",
       "      <td>Google My Business</td>\n",
       "      <td>BUSINESS</td>\n",
       "      <td>4.4</td>\n",
       "      <td>70991.0</td>\n",
       "      <td>19.575341</td>\n",
       "      <td>5000000.0</td>\n",
       "      <td>Free</td>\n",
       "      <td>0.0</td>\n",
       "      <td>Everyone</td>\n",
       "      <td>Business</td>\n",
       "      <td>July 24, 2018</td>\n",
       "      <td>2.19.0.204537701</td>\n",
       "      <td>4.4 and up</td>\n",
       "    </tr>\n",
       "    <tr>\n",
       "      <th>256</th>\n",
       "      <td>ZOOM Cloud Meetings</td>\n",
       "      <td>BUSINESS</td>\n",
       "      <td>4.4</td>\n",
       "      <td>31614.0</td>\n",
       "      <td>37.000000</td>\n",
       "      <td>10000000.0</td>\n",
       "      <td>Free</td>\n",
       "      <td>0.0</td>\n",
       "      <td>Everyone</td>\n",
       "      <td>Business</td>\n",
       "      <td>July 20, 2018</td>\n",
       "      <td>4.1.28165.0716</td>\n",
       "      <td>4.0 and up</td>\n",
       "    </tr>\n",
       "    <tr>\n",
       "      <th>261</th>\n",
       "      <td>join.me - Simple Meetings</td>\n",
       "      <td>BUSINESS</td>\n",
       "      <td>4.0</td>\n",
       "      <td>6989.0</td>\n",
       "      <td>19.575341</td>\n",
       "      <td>1000000.0</td>\n",
       "      <td>Free</td>\n",
       "      <td>0.0</td>\n",
       "      <td>Everyone</td>\n",
       "      <td>Business</td>\n",
       "      <td>July 16, 2018</td>\n",
       "      <td>4.3.0.508</td>\n",
       "      <td>4.4 and up</td>\n",
       "    </tr>\n",
       "    <tr>\n",
       "      <th>...</th>\n",
       "      <td>...</td>\n",
       "      <td>...</td>\n",
       "      <td>...</td>\n",
       "      <td>...</td>\n",
       "      <td>...</td>\n",
       "      <td>...</td>\n",
       "      <td>...</td>\n",
       "      <td>...</td>\n",
       "      <td>...</td>\n",
       "      <td>...</td>\n",
       "      <td>...</td>\n",
       "      <td>...</td>\n",
       "      <td>...</td>\n",
       "    </tr>\n",
       "    <tr>\n",
       "      <th>10715</th>\n",
       "      <td>FarmersOnly Dating</td>\n",
       "      <td>DATING</td>\n",
       "      <td>3.0</td>\n",
       "      <td>1145.0</td>\n",
       "      <td>0.000001</td>\n",
       "      <td>100000.0</td>\n",
       "      <td>Free</td>\n",
       "      <td>0.0</td>\n",
       "      <td>Mature 17+</td>\n",
       "      <td>Dating</td>\n",
       "      <td>February 25, 2016</td>\n",
       "      <td>2.2</td>\n",
       "      <td>4.0 and up</td>\n",
       "    </tr>\n",
       "    <tr>\n",
       "      <th>10720</th>\n",
       "      <td>Firefox Focus: The privacy browser</td>\n",
       "      <td>COMMUNICATION</td>\n",
       "      <td>4.4</td>\n",
       "      <td>36981.0</td>\n",
       "      <td>0.000004</td>\n",
       "      <td>1000000.0</td>\n",
       "      <td>Free</td>\n",
       "      <td>0.0</td>\n",
       "      <td>Everyone</td>\n",
       "      <td>Communication</td>\n",
       "      <td>July 6, 2018</td>\n",
       "      <td>5.2</td>\n",
       "      <td>5.0 and up</td>\n",
       "    </tr>\n",
       "    <tr>\n",
       "      <th>10730</th>\n",
       "      <td>FP Notebook</td>\n",
       "      <td>MEDICAL</td>\n",
       "      <td>4.5</td>\n",
       "      <td>410.0</td>\n",
       "      <td>60.000000</td>\n",
       "      <td>50000.0</td>\n",
       "      <td>Free</td>\n",
       "      <td>0.0</td>\n",
       "      <td>Everyone</td>\n",
       "      <td>Medical</td>\n",
       "      <td>March 24, 2018</td>\n",
       "      <td>2.1.0.372</td>\n",
       "      <td>4.4 and up</td>\n",
       "    </tr>\n",
       "    <tr>\n",
       "      <th>10753</th>\n",
       "      <td>Slickdeals: Coupons &amp; Shopping</td>\n",
       "      <td>SHOPPING</td>\n",
       "      <td>4.5</td>\n",
       "      <td>33599.0</td>\n",
       "      <td>12.000000</td>\n",
       "      <td>1000000.0</td>\n",
       "      <td>Free</td>\n",
       "      <td>0.0</td>\n",
       "      <td>Everyone</td>\n",
       "      <td>Shopping</td>\n",
       "      <td>July 30, 2018</td>\n",
       "      <td>3.9</td>\n",
       "      <td>4.4 and up</td>\n",
       "    </tr>\n",
       "    <tr>\n",
       "      <th>10768</th>\n",
       "      <td>AAFP</td>\n",
       "      <td>MEDICAL</td>\n",
       "      <td>3.8</td>\n",
       "      <td>63.0</td>\n",
       "      <td>24.000000</td>\n",
       "      <td>10000.0</td>\n",
       "      <td>Free</td>\n",
       "      <td>0.0</td>\n",
       "      <td>Everyone</td>\n",
       "      <td>Medical</td>\n",
       "      <td>June 22, 2018</td>\n",
       "      <td>2.3.1</td>\n",
       "      <td>5.0 and up</td>\n",
       "    </tr>\n",
       "  </tbody>\n",
       "</table>\n",
       "<p>1181 rows × 13 columns</p>\n",
       "</div>"
      ],
      "text/plain": [
       "                                      App       Category  Rating   Reviews  \\\n",
       "229          Quick PDF Scanner + OCR FREE       BUSINESS     4.2   80805.0   \n",
       "236                                   Box       BUSINESS     4.2  159872.0   \n",
       "239                    Google My Business       BUSINESS     4.4   70991.0   \n",
       "256                   ZOOM Cloud Meetings       BUSINESS     4.4   31614.0   \n",
       "261             join.me - Simple Meetings       BUSINESS     4.0    6989.0   \n",
       "...                                   ...            ...     ...       ...   \n",
       "10715                  FarmersOnly Dating         DATING     3.0    1145.0   \n",
       "10720  Firefox Focus: The privacy browser  COMMUNICATION     4.4   36981.0   \n",
       "10730                         FP Notebook        MEDICAL     4.5     410.0   \n",
       "10753      Slickdeals: Coupons & Shopping       SHOPPING     4.5   33599.0   \n",
       "10768                                AAFP        MEDICAL     3.8      63.0   \n",
       "\n",
       "            Size    Installs  Type  Price Content Rating         Genres  \\\n",
       "229    19.575341   5000000.0  Free    0.0       Everyone       Business   \n",
       "236    19.575341  10000000.0  Free    0.0       Everyone       Business   \n",
       "239    19.575341   5000000.0  Free    0.0       Everyone       Business   \n",
       "256    37.000000  10000000.0  Free    0.0       Everyone       Business   \n",
       "261    19.575341   1000000.0  Free    0.0       Everyone       Business   \n",
       "...          ...         ...   ...    ...            ...            ...   \n",
       "10715   0.000001    100000.0  Free    0.0     Mature 17+         Dating   \n",
       "10720   0.000004   1000000.0  Free    0.0       Everyone  Communication   \n",
       "10730  60.000000     50000.0  Free    0.0       Everyone        Medical   \n",
       "10753  12.000000   1000000.0  Free    0.0       Everyone       Shopping   \n",
       "10768  24.000000     10000.0  Free    0.0       Everyone        Medical   \n",
       "\n",
       "            Last Updated         Current Ver         Android Ver  \n",
       "229    February 26, 2018  Varies with device        4.0.3 and up  \n",
       "236        July 31, 2018  Varies with device  Varies with device  \n",
       "239        July 24, 2018    2.19.0.204537701          4.4 and up  \n",
       "256        July 20, 2018      4.1.28165.0716          4.0 and up  \n",
       "261        July 16, 2018           4.3.0.508          4.4 and up  \n",
       "...                  ...                 ...                 ...  \n",
       "10715  February 25, 2016                 2.2          4.0 and up  \n",
       "10720       July 6, 2018                 5.2          5.0 and up  \n",
       "10730     March 24, 2018           2.1.0.372          4.4 and up  \n",
       "10753      July 30, 2018                 3.9          4.4 and up  \n",
       "10768      June 22, 2018               2.3.1          5.0 and up  \n",
       "\n",
       "[1181 rows x 13 columns]"
      ]
     },
     "execution_count": 13,
     "metadata": {},
     "output_type": "execute_result"
    }
   ],
   "source": [
    "playstore[playstore.duplicated(['App'])]"
   ]
  },
  {
   "cell_type": "markdown",
   "metadata": {},
   "source": [
    "Senbrano esserci molte app duplicate; ne analizzo una:"
   ]
  },
  {
   "cell_type": "code",
   "execution_count": 14,
   "metadata": {
    "scrolled": true
   },
   "outputs": [
    {
     "data": {
      "text/html": [
       "<div>\n",
       "<style scoped>\n",
       "    .dataframe tbody tr th:only-of-type {\n",
       "        vertical-align: middle;\n",
       "    }\n",
       "\n",
       "    .dataframe tbody tr th {\n",
       "        vertical-align: top;\n",
       "    }\n",
       "\n",
       "    .dataframe thead th {\n",
       "        text-align: right;\n",
       "    }\n",
       "</style>\n",
       "<table border=\"1\" class=\"dataframe\">\n",
       "  <thead>\n",
       "    <tr style=\"text-align: right;\">\n",
       "      <th></th>\n",
       "      <th>App</th>\n",
       "      <th>Category</th>\n",
       "      <th>Rating</th>\n",
       "      <th>Reviews</th>\n",
       "      <th>Size</th>\n",
       "      <th>Installs</th>\n",
       "      <th>Type</th>\n",
       "      <th>Price</th>\n",
       "      <th>Content Rating</th>\n",
       "      <th>Genres</th>\n",
       "      <th>Last Updated</th>\n",
       "      <th>Current Ver</th>\n",
       "      <th>Android Ver</th>\n",
       "    </tr>\n",
       "  </thead>\n",
       "  <tbody>\n",
       "    <tr>\n",
       "      <th>213</th>\n",
       "      <td>ZOOM Cloud Meetings</td>\n",
       "      <td>BUSINESS</td>\n",
       "      <td>4.4</td>\n",
       "      <td>31614.0</td>\n",
       "      <td>37.0</td>\n",
       "      <td>10000000.0</td>\n",
       "      <td>Free</td>\n",
       "      <td>0.0</td>\n",
       "      <td>Everyone</td>\n",
       "      <td>Business</td>\n",
       "      <td>July 20, 2018</td>\n",
       "      <td>4.1.28165.0716</td>\n",
       "      <td>4.0 and up</td>\n",
       "    </tr>\n",
       "    <tr>\n",
       "      <th>256</th>\n",
       "      <td>ZOOM Cloud Meetings</td>\n",
       "      <td>BUSINESS</td>\n",
       "      <td>4.4</td>\n",
       "      <td>31614.0</td>\n",
       "      <td>37.0</td>\n",
       "      <td>10000000.0</td>\n",
       "      <td>Free</td>\n",
       "      <td>0.0</td>\n",
       "      <td>Everyone</td>\n",
       "      <td>Business</td>\n",
       "      <td>July 20, 2018</td>\n",
       "      <td>4.1.28165.0716</td>\n",
       "      <td>4.0 and up</td>\n",
       "    </tr>\n",
       "  </tbody>\n",
       "</table>\n",
       "</div>"
      ],
      "text/plain": [
       "                     App  Category  Rating  Reviews  Size    Installs  Type  \\\n",
       "213  ZOOM Cloud Meetings  BUSINESS     4.4  31614.0  37.0  10000000.0  Free   \n",
       "256  ZOOM Cloud Meetings  BUSINESS     4.4  31614.0  37.0  10000000.0  Free   \n",
       "\n",
       "     Price Content Rating    Genres   Last Updated     Current Ver Android Ver  \n",
       "213    0.0       Everyone  Business  July 20, 2018  4.1.28165.0716  4.0 and up  \n",
       "256    0.0       Everyone  Business  July 20, 2018  4.1.28165.0716  4.0 and up  "
      ]
     },
     "execution_count": 14,
     "metadata": {},
     "output_type": "execute_result"
    }
   ],
   "source": [
    "playstore[playstore['App']==\"ZOOM Cloud Meetings\"]\n"
   ]
  },
  {
   "cell_type": "markdown",
   "metadata": {},
   "source": [
    "Effettivamente lo è; elimino quindi tutti i duplicati presenti nel dataset."
   ]
  },
  {
   "cell_type": "code",
   "execution_count": 15,
   "metadata": {},
   "outputs": [],
   "source": [
    "playstore = playstore.drop_duplicates(keep='last',subset=['App'])"
   ]
  },
  {
   "cell_type": "markdown",
   "metadata": {},
   "source": [
    "Guardo ora il datastet:"
   ]
  },
  {
   "cell_type": "code",
   "execution_count": 16,
   "metadata": {},
   "outputs": [
    {
     "name": "stdout",
     "output_type": "stream",
     "text": [
      "(9648, 13)\n"
     ]
    },
    {
     "data": {
      "text/html": [
       "<div>\n",
       "<style scoped>\n",
       "    .dataframe tbody tr th:only-of-type {\n",
       "        vertical-align: middle;\n",
       "    }\n",
       "\n",
       "    .dataframe tbody tr th {\n",
       "        vertical-align: top;\n",
       "    }\n",
       "\n",
       "    .dataframe thead th {\n",
       "        text-align: right;\n",
       "    }\n",
       "</style>\n",
       "<table border=\"1\" class=\"dataframe\">\n",
       "  <thead>\n",
       "    <tr style=\"text-align: right;\">\n",
       "      <th></th>\n",
       "      <th>Rating</th>\n",
       "      <th>Reviews</th>\n",
       "      <th>Size</th>\n",
       "      <th>Installs</th>\n",
       "      <th>Price</th>\n",
       "    </tr>\n",
       "  </thead>\n",
       "  <tbody>\n",
       "    <tr>\n",
       "      <th>count</th>\n",
       "      <td>9648.000000</td>\n",
       "      <td>9.648000e+03</td>\n",
       "      <td>9648.000000</td>\n",
       "      <td>9.648000e+03</td>\n",
       "      <td>9648.000000</td>\n",
       "    </tr>\n",
       "    <tr>\n",
       "      <th>mean</th>\n",
       "      <td>4.176086</td>\n",
       "      <td>2.168957e+05</td>\n",
       "      <td>18.542551</td>\n",
       "      <td>7.802970e+06</td>\n",
       "      <td>1.098122</td>\n",
       "    </tr>\n",
       "    <tr>\n",
       "      <th>std</th>\n",
       "      <td>0.494191</td>\n",
       "      <td>1.831767e+06</td>\n",
       "      <td>21.773745</td>\n",
       "      <td>5.379994e+07</td>\n",
       "      <td>16.861193</td>\n",
       "    </tr>\n",
       "    <tr>\n",
       "      <th>min</th>\n",
       "      <td>1.000000</td>\n",
       "      <td>0.000000e+00</td>\n",
       "      <td>0.000001</td>\n",
       "      <td>0.000000e+00</td>\n",
       "      <td>0.000000</td>\n",
       "    </tr>\n",
       "    <tr>\n",
       "      <th>25%</th>\n",
       "      <td>4.000000</td>\n",
       "      <td>2.500000e+01</td>\n",
       "      <td>0.000006</td>\n",
       "      <td>1.000000e+03</td>\n",
       "      <td>0.000000</td>\n",
       "    </tr>\n",
       "    <tr>\n",
       "      <th>50%</th>\n",
       "      <td>4.200000</td>\n",
       "      <td>9.740000e+02</td>\n",
       "      <td>16.000000</td>\n",
       "      <td>1.000000e+05</td>\n",
       "      <td>0.000000</td>\n",
       "    </tr>\n",
       "    <tr>\n",
       "      <th>75%</th>\n",
       "      <td>4.500000</td>\n",
       "      <td>2.944925e+04</td>\n",
       "      <td>25.000000</td>\n",
       "      <td>1.000000e+06</td>\n",
       "      <td>0.000000</td>\n",
       "    </tr>\n",
       "    <tr>\n",
       "      <th>max</th>\n",
       "      <td>5.000000</td>\n",
       "      <td>7.812821e+07</td>\n",
       "      <td>100.000000</td>\n",
       "      <td>1.000000e+09</td>\n",
       "      <td>400.000000</td>\n",
       "    </tr>\n",
       "  </tbody>\n",
       "</table>\n",
       "</div>"
      ],
      "text/plain": [
       "            Rating       Reviews         Size      Installs        Price\n",
       "count  9648.000000  9.648000e+03  9648.000000  9.648000e+03  9648.000000\n",
       "mean      4.176086  2.168957e+05    18.542551  7.802970e+06     1.098122\n",
       "std       0.494191  1.831767e+06    21.773745  5.379994e+07    16.861193\n",
       "min       1.000000  0.000000e+00     0.000001  0.000000e+00     0.000000\n",
       "25%       4.000000  2.500000e+01     0.000006  1.000000e+03     0.000000\n",
       "50%       4.200000  9.740000e+02    16.000000  1.000000e+05     0.000000\n",
       "75%       4.500000  2.944925e+04    25.000000  1.000000e+06     0.000000\n",
       "max       5.000000  7.812821e+07   100.000000  1.000000e+09   400.000000"
      ]
     },
     "execution_count": 16,
     "metadata": {},
     "output_type": "execute_result"
    }
   ],
   "source": [
    "print(playstore.shape)\n",
    "\n",
    "playstore.describe()"
   ]
  },
  {
   "cell_type": "markdown",
   "metadata": {},
   "source": [
    "Abbiamo rimosso circa duemila righe ma i valori ora hanno un senso e il dataset è pulito e ordinato: siamo pronti ad una prima analisi delle feature."
   ]
  },
  {
   "cell_type": "code",
   "execution_count": 17,
   "metadata": {},
   "outputs": [],
   "source": [
    "playstore.to_csv(\"googleplaystore_clean.csv\")"
   ]
  },
  {
   "cell_type": "markdown",
   "metadata": {},
   "source": [
    "# Analisi delle Feature"
   ]
  },
  {
   "cell_type": "markdown",
   "metadata": {},
   "source": [
    "Cerchiamo di analizzare alcune features, per estrapolare interessanti informazioni su di esse e le loro correlazioni. \n",
    "\n",
    "Andiamo inanzitutto a dare un'occhiata alla tabella delle correlazioni."
   ]
  },
  {
   "cell_type": "code",
   "execution_count": 18,
   "metadata": {},
   "outputs": [
    {
     "data": {
      "text/html": [
       "<style type=\"text/css\">\n",
       "#T_d23c8_row0_col0, #T_d23c8_row1_col1, #T_d23c8_row2_col2, #T_d23c8_row3_col3, #T_d23c8_row4_col4 {\n",
       "  background-color: #08306b;\n",
       "  color: #f1f1f1;\n",
       "}\n",
       "#T_d23c8_row0_col1 {\n",
       "  background-color: #ebf3fb;\n",
       "  color: #000000;\n",
       "}\n",
       "#T_d23c8_row0_col2 {\n",
       "  background-color: #e8f1fa;\n",
       "  color: #000000;\n",
       "}\n",
       "#T_d23c8_row0_col3 {\n",
       "  background-color: #eef5fc;\n",
       "  color: #000000;\n",
       "}\n",
       "#T_d23c8_row0_col4, #T_d23c8_row2_col4, #T_d23c8_row4_col0, #T_d23c8_row4_col1, #T_d23c8_row4_col2, #T_d23c8_row4_col3 {\n",
       "  background-color: #f7fbff;\n",
       "  color: #000000;\n",
       "}\n",
       "#T_d23c8_row1_col0, #T_d23c8_row2_col0 {\n",
       "  background-color: #e9f2fa;\n",
       "  color: #000000;\n",
       "}\n",
       "#T_d23c8_row1_col2 {\n",
       "  background-color: #e2edf8;\n",
       "  color: #000000;\n",
       "}\n",
       "#T_d23c8_row1_col3, #T_d23c8_row3_col1 {\n",
       "  background-color: #4191c6;\n",
       "  color: #f1f1f1;\n",
       "}\n",
       "#T_d23c8_row1_col4, #T_d23c8_row3_col4 {\n",
       "  background-color: #f5f9fe;\n",
       "  color: #000000;\n",
       "}\n",
       "#T_d23c8_row2_col1 {\n",
       "  background-color: #e5eff9;\n",
       "  color: #000000;\n",
       "}\n",
       "#T_d23c8_row2_col3 {\n",
       "  background-color: #eaf2fb;\n",
       "  color: #000000;\n",
       "}\n",
       "#T_d23c8_row3_col0 {\n",
       "  background-color: #ecf4fb;\n",
       "  color: #000000;\n",
       "}\n",
       "#T_d23c8_row3_col2 {\n",
       "  background-color: #e7f1fa;\n",
       "  color: #000000;\n",
       "}\n",
       "</style>\n",
       "<table id=\"T_d23c8_\">\n",
       "  <thead>\n",
       "    <tr>\n",
       "      <th class=\"blank level0\" >&nbsp;</th>\n",
       "      <th class=\"col_heading level0 col0\" >Rating</th>\n",
       "      <th class=\"col_heading level0 col1\" >Reviews</th>\n",
       "      <th class=\"col_heading level0 col2\" >Size</th>\n",
       "      <th class=\"col_heading level0 col3\" >Installs</th>\n",
       "      <th class=\"col_heading level0 col4\" >Price</th>\n",
       "    </tr>\n",
       "  </thead>\n",
       "  <tbody>\n",
       "    <tr>\n",
       "      <th id=\"T_d23c8_level0_row0\" class=\"row_heading level0 row0\" >Rating</th>\n",
       "      <td id=\"T_d23c8_row0_col0\" class=\"data row0 col0\" >1.000000</td>\n",
       "      <td id=\"T_d23c8_row0_col1\" class=\"data row0 col1\" >0.054390</td>\n",
       "      <td id=\"T_d23c8_row0_col2\" class=\"data row0 col2\" >0.053694</td>\n",
       "      <td id=\"T_d23c8_row0_col3\" class=\"data row0 col3\" >0.039311</td>\n",
       "      <td id=\"T_d23c8_row0_col4\" class=\"data row0 col4\" >-0.019341</td>\n",
       "    </tr>\n",
       "    <tr>\n",
       "      <th id=\"T_d23c8_level0_row1\" class=\"row_heading level0 row1\" >Reviews</th>\n",
       "      <td id=\"T_d23c8_row1_col0\" class=\"data row1 col0\" >0.054390</td>\n",
       "      <td id=\"T_d23c8_row1_col1\" class=\"data row1 col1\" >1.000000</td>\n",
       "      <td id=\"T_d23c8_row1_col2\" class=\"data row1 col2\" >0.086658</td>\n",
       "      <td id=\"T_d23c8_row1_col3\" class=\"data row1 col3\" >0.625023</td>\n",
       "      <td id=\"T_d23c8_row1_col4\" class=\"data row1 col4\" >-0.007594</td>\n",
       "    </tr>\n",
       "    <tr>\n",
       "      <th id=\"T_d23c8_level0_row2\" class=\"row_heading level0 row2\" >Size</th>\n",
       "      <td id=\"T_d23c8_row2_col0\" class=\"data row2 col0\" >0.053694</td>\n",
       "      <td id=\"T_d23c8_row2_col1\" class=\"data row2 col1\" >0.086658</td>\n",
       "      <td id=\"T_d23c8_row2_col2\" class=\"data row2 col2\" >1.000000</td>\n",
       "      <td id=\"T_d23c8_row2_col3\" class=\"data row2 col3\" >0.061339</td>\n",
       "      <td id=\"T_d23c8_row2_col4\" class=\"data row2 col4\" >-0.022441</td>\n",
       "    </tr>\n",
       "    <tr>\n",
       "      <th id=\"T_d23c8_level0_row3\" class=\"row_heading level0 row3\" >Installs</th>\n",
       "      <td id=\"T_d23c8_row3_col0\" class=\"data row3 col0\" >0.039311</td>\n",
       "      <td id=\"T_d23c8_row3_col1\" class=\"data row3 col1\" >0.625023</td>\n",
       "      <td id=\"T_d23c8_row3_col2\" class=\"data row3 col2\" >0.061339</td>\n",
       "      <td id=\"T_d23c8_row3_col3\" class=\"data row3 col3\" >1.000000</td>\n",
       "      <td id=\"T_d23c8_row3_col4\" class=\"data row3 col4\" >-0.009414</td>\n",
       "    </tr>\n",
       "    <tr>\n",
       "      <th id=\"T_d23c8_level0_row4\" class=\"row_heading level0 row4\" >Price</th>\n",
       "      <td id=\"T_d23c8_row4_col0\" class=\"data row4 col0\" >-0.019341</td>\n",
       "      <td id=\"T_d23c8_row4_col1\" class=\"data row4 col1\" >-0.007594</td>\n",
       "      <td id=\"T_d23c8_row4_col2\" class=\"data row4 col2\" >-0.022441</td>\n",
       "      <td id=\"T_d23c8_row4_col3\" class=\"data row4 col3\" >-0.009414</td>\n",
       "      <td id=\"T_d23c8_row4_col4\" class=\"data row4 col4\" >1.000000</td>\n",
       "    </tr>\n",
       "  </tbody>\n",
       "</table>\n"
      ],
      "text/plain": [
       "<pandas.io.formats.style.Styler at 0x2cd26a4d850>"
      ]
     },
     "execution_count": 18,
     "metadata": {},
     "output_type": "execute_result"
    }
   ],
   "source": [
    "playstore.corr().style.background_gradient(cmap=\"Blues\")"
   ]
  },
  {
   "cell_type": "markdown",
   "metadata": {},
   "source": [
    "Notiamo una correlazione tra Reviews e Installs."
   ]
  },
  {
   "cell_type": "markdown",
   "metadata": {
    "id": "JjbBtPvIPQBR"
   },
   "source": [
    "# Analisi su Rating di App Gratuite o a Pagamento\n",
    "In questa prima analisi ci concentriamo principalmente sulle feature Rating e Price, pondendoci 3 domande:\n",
    "\n",
    "1. qual'è la distribuzione dei Rating?\n",
    "\n",
    "2. qual'è la percentuale di app a pagamento e app gratuite?\n",
    "\n",
    "3. T-Test: le app gratuite sono piu' gradite di quelle a pagamento?\n",
    "\n"
   ]
  },
  {
   "cell_type": "code",
   "execution_count": 19,
   "metadata": {
    "colab": {
     "base_uri": "https://localhost:8080/",
     "height": 721
    },
    "id": "jfHLGWskIOyA",
    "outputId": "08b94fc8-bb96-4105-8f4a-131420292e01"
   },
   "outputs": [
    {
     "name": "stdout",
     "output_type": "stream",
     "text": [
      "(0.995, 1.8]      43\n",
      "(1.8, 2.6]       127\n",
      "(2.6, 3.4]       546\n",
      "(3.4, 4.2]      4595\n",
      "(4.2, 5.0]      4337\n",
      "Name: Rating, dtype: int64\n"
     ]
    },
    {
     "data": {
      "text/plain": [
       "<AxesSubplot:>"
      ]
     },
     "execution_count": 19,
     "metadata": {},
     "output_type": "execute_result"
    },
    {
     "data": {
      "image/png": "[encoded data removed]",
      "text/plain": [
       "<Figure size 432x288 with 1 Axes>"
      ]
     },
     "metadata": {
      "needs_background": "light"
     },
     "output_type": "display_data"
    }
   ],
   "source": [
    "Ratings = playstore['Rating']\n",
    "Ratings = Ratings.value_counts(bins=5, sort=False) # divido in 20 classi di prezzo \n",
    "print(Ratings)\n",
    "Ratings.plot(kind = 'bar')"
   ]
  },
  {
   "cell_type": "markdown",
   "metadata": {},
   "source": [
    "Notiamo che la maggior parte delle valutazioni degli utenti sono positive.\n",
    "\n",
    "Andiamo ora ad osservare la percentuale di app a pagamento e app gratuite."
   ]
  },
  {
   "cell_type": "code",
   "execution_count": 20,
   "metadata": {
    "colab": {
     "base_uri": "https://localhost:8080/"
    },
    "id": "EtdlSKcqVMTb",
    "outputId": "6b8bbc39-2235-4c09-c306-141af73d4631"
   },
   "outputs": [
    {
     "name": "stdout",
     "output_type": "stream",
     "text": [
      "Percentuale di app gratis: 0.9221600331674958\n",
      "Percentuale di app a pagamento: 0.07783996683250415\n"
     ]
    }
   ],
   "source": [
    "free_apps = playstore[playstore['Price']==0]\n",
    "paid_apps = playstore[playstore['Price']>0]\n",
    "\n",
    "perc_app_gratis = len(free_apps) / playstore.shape[0]\n",
    "perc_app_pagate = len(paid_apps) / playstore.shape[0]\n",
    "\n",
    "print(\"Percentuale di app gratis: \" + str(perc_app_gratis))\n",
    "print(\"Percentuale di app a pagamento: \" + str(perc_app_pagate))"
   ]
  },
  {
   "cell_type": "markdown",
   "metadata": {
    "id": "yYU_DFA6DK3m"
   },
   "source": [
    "### T-Test: le app gratuite sono piu' gradite di quelle a pagamento?\n",
    "\n",
    "Formuliamo ora un'ipotesi circa il gradimento di app gratuite e a pagamento, usando la seguente notazione:\n",
    "\n",
    "H0 = \"il gradimento delle app gratuite è maggiore del gradimento delle app a pagamento\". \n",
    "\n",
    "A questo punto l'ipotesi alternativa è:\n",
    "\n",
    "HA = \"il gradimento delle app gratuite è minore o uguale del gradimento delle app a pagamento\". \n",
    "\n",
    "\n",
    "Ritengo un app gradita se ha almeno 3.5 di media tra le sue recensioni.\n",
    "\n",
    "\n",
    "Usiamo un **t-test a una coda** per verificare se l'ipotesi nulla è corretta.\n",
    "\n",
    "Sappiamo che si devono verificare alcune ipotesi:\n",
    "1. Campione con numero di elementi n > 30;\n",
    "2. Popolazione N almeno dieci volte superiore al campione N > 10*n."
   ]
  },
  {
   "cell_type": "code",
   "execution_count": 21,
   "metadata": {
    "colab": {
     "base_uri": "https://localhost:8080/"
    },
    "id": "UcbzGpcNuErH",
    "outputId": "22da627d-9ed0-403f-e1da-a7cc0d732e94"
   },
   "outputs": [
    {
     "name": "stdout",
     "output_type": "stream",
     "text": [
      "Grandezza campione:\t\t (500,)\n",
      "Media sul campione:\t\t 4.145415246636766\n",
      "Popolazione restante:\t\t (751,)\n",
      "Media sulla popolazione restante: 4.24814297002532\n"
     ]
    }
   ],
   "source": [
    "campione = free_apps['Rating'].sample(n = 500) # prendo un campione di 500 app scelte casualmente\n",
    "print(\"Grandezza campione:\\t\\t \" + str(campione.shape))\n",
    "print(\"Media sul campione:\\t\\t \" + str(np.mean(campione)))\n",
    "\n",
    "popolazione_restante = paid_apps['Rating']\n",
    "print(\"Popolazione restante:\\t\\t \" + str(popolazione_restante.shape))\n",
    "print(\"Media sulla popolazione restante: \" + str(np.mean(popolazione_restante)))"
   ]
  },
  {
   "cell_type": "markdown",
   "metadata": {
    "id": "y4yaqq0QEeKs"
   },
   "source": [
    "Abbiamo considerato un campione di 500 app gratuite, e di 721 app a pagamento. \n",
    "\n",
    "Le condizioni del t-test sono quindi verificate, infatti:\n",
    "\n",
    "Campione = 500 app gratuite;\n",
    "Popolazione totale = 9135\n",
    "\n",
    "Quindi le due condizioni sono verificate. \n",
    "Eseguiamo il t-test usando la libreria scipy. Scegliamo un intervallo di confidenza pari a 0.95. "
   ]
  },
  {
   "cell_type": "code",
   "execution_count": 22,
   "metadata": {
    "colab": {
     "base_uri": "https://localhost:8080/"
    },
    "id": "kpHoKGxPEdrb",
    "outputId": "957161f5-c233-4a7f-cf3a-eaeb22d667ce"
   },
   "outputs": [
    {
     "name": "stdout",
     "output_type": "stream",
     "text": [
      "-4.225919584543793\n",
      "0.9999858501246547\n"
     ]
    }
   ],
   "source": [
    "t_statistic, p_value = stats.ttest_1samp(a= campione, popmean= popolazione_restante.mean(),alternative='greater')\n",
    "print(t_statistic)\n",
    "print(p_value)"
   ]
  },
  {
   "cell_type": "markdown",
   "metadata": {
    "id": "eRDb0J-feqjh"
   },
   "source": [
    "*p-value > livello di confidenza*, infatti: 0.99 > 0.05\n",
    "\n",
    "H0 è quindi accettata, quindi **il gradimento delle app gratuite è maggiore del gradimento delle app a pagamento**.\n"
   ]
  },
  {
   "cell_type": "markdown",
   "metadata": {},
   "source": [
    "# Analisi su Installazioni e Categorie\n",
    "In questa seconda analisi ci concentriamo principalmente sulle feature Category e Installs, pondendoci varie domande:\n",
    "\n",
    "1. quali sono le categorie con piu' app sullo store?\n",
    "\n",
    "2. quali sono le categorie con piu' installazioni?\n",
    "\n",
    "3. t-test: le app di social network e messaggistica sono piu' installate di qualsiasi altra categoria?"
   ]
  },
  {
   "cell_type": "markdown",
   "metadata": {},
   "source": [
    "### Categorie con il maggior numero di App sullo Store"
   ]
  },
  {
   "cell_type": "code",
   "execution_count": 23,
   "metadata": {
    "scrolled": true
   },
   "outputs": [
    {
     "data": {
      "text/plain": [
       "<AxesSubplot:>"
      ]
     },
     "execution_count": 23,
     "metadata": {},
     "output_type": "execute_result"
    },
    {
     "data": {
      "image/png": "[encoded data removed]",
      "text/plain": [
       "<Figure size 432x288 with 1 Axes>"
      ]
     },
     "metadata": {
      "needs_background": "light"
     },
     "output_type": "display_data"
    }
   ],
   "source": [
    "playstore['Category'].value_counts().plot.bar()"
   ]
  },
  {
   "cell_type": "markdown",
   "metadata": {},
   "source": [
    "### Categorie con il maggior numero di Installazioni"
   ]
  },
  {
   "cell_type": "code",
   "execution_count": 24,
   "metadata": {},
   "outputs": [
    {
     "data": {
      "text/plain": [
       "<AxesSubplot:xlabel='Category'>"
      ]
     },
     "execution_count": 24,
     "metadata": {},
     "output_type": "execute_result"
    },
    {
     "data": {
      "image/png": "[encoded data removed]",
      "text/plain": [
       "<Figure size 432x288 with 1 Axes>"
      ]
     },
     "metadata": {
      "needs_background": "light"
     },
     "output_type": "display_data"
    }
   ],
   "source": [
    "most_installed_cat = playstore.groupby([\"Category\"]).count()\n",
    "most_installed_cat.sort_values(\"App\", ascending=False)[\"App\"].plot.bar()"
   ]
  },
  {
   "cell_type": "markdown",
   "metadata": {},
   "source": [
    "### 100 App piu' installate e le loro categorie\n",
    "Visualizziamo ora le 100 app piu' installate e su di esse proviamo a ripetere la statistica delle categorie e vedere se è conforme."
   ]
  },
  {
   "cell_type": "code",
   "execution_count": 25,
   "metadata": {},
   "outputs": [
    {
     "data": {
      "text/plain": [
       "<AxesSubplot:xlabel='Category'>"
      ]
     },
     "execution_count": 25,
     "metadata": {},
     "output_type": "execute_result"
    },
    {
     "data": {
      "image/png": "[encoded data removed]",
      "text/plain": [
       "<Figure size 432x288 with 1 Axes>"
      ]
     },
     "metadata": {
      "needs_background": "light"
     },
     "output_type": "display_data"
    }
   ],
   "source": [
    "most_installed = playstore.nlargest(100, ['Installs'])\n",
    "\n",
    "most_installed_cat = most_installed.groupby([\"Category\"]).count()\n",
    "\n",
    "most_installed_cat.sort_values(\"App\", ascending=False)[\"App\"].plot.bar()"
   ]
  },
  {
   "cell_type": "markdown",
   "metadata": {},
   "source": [
    "### 20 App piu' installate e le loro categorie\n",
    "Visualizziamo ora le 20 app piu' installate e su di esse proviamo a ripetere la statistica delle categorie e vedere se è conforme."
   ]
  },
  {
   "cell_type": "code",
   "execution_count": 26,
   "metadata": {},
   "outputs": [
    {
     "data": {
      "text/plain": [
       "<AxesSubplot:xlabel='Category'>"
      ]
     },
     "execution_count": 26,
     "metadata": {},
     "output_type": "execute_result"
    },
    {
     "data": {
      "image/png": "[encoded data removed]",
      "text/plain": [
       "<Figure size 432x288 with 1 Axes>"
      ]
     },
     "metadata": {
      "needs_background": "light"
     },
     "output_type": "display_data"
    }
   ],
   "source": [
    "most_installed = playstore.nlargest(20, ['Installs'])\n",
    "\n",
    "most_installed_cat = most_installed.groupby([\"Category\"]).count()\n",
    "\n",
    "most_installed_cat.sort_values(\"App\", ascending=False)[\"App\"].plot.bar()"
   ]
  },
  {
   "cell_type": "markdown",
   "metadata": {},
   "source": [
    "### T-Test:  le 20 app piu' installate hanno gradimento maggiore rispetto alle altre app?\n",
    "\n",
    "Formuliamo ora un'ipotesi circa il numero di installazioni di app di networking e messaggistica, usando la seguente notazione:\n",
    "\n",
    "H0 = \"il gradimento delle 20 app piu' installate è maggiore del gradimento delle app in generale\". \n",
    "\n",
    "A questo punto l'ipotesi alternativa è:\n",
    "\n",
    "H0 = \"il gradimento delle 20 app piu' installate è minore o uguale del gradimento delle app in generale\". \n",
    "\n",
    "Usiamo un **t-test a una coda** per verificare se l'ipotesi nulla è corretta.\n",
    "\n",
    "Sappiamo che si devono verificare alcune ipotesi:\n",
    "1. Campione con numero di elementi n > 30;\n",
    "2. Popolazione N almeno dieci volte superiore al campione N > 10*n."
   ]
  },
  {
   "cell_type": "markdown",
   "metadata": {},
   "source": [
    "# Analisi su Prezzo e Categorie\n",
    "In questa terza analisi ci concentriamo principalmente sulle feature Genres e Price:\n",
    "Ci interessa scoprire se la distribuzione di app gratuite o a pagamento è circa la stessa nelle varie categorie; prendiamo per esempio la categoria con piu' app (Family) e quella con piu' installazioni (Game),\n",
    "\n",
    "Eseguiamo un **test del chi-quadrato**, con le seguenti ipotesi:\n",
    "\n",
    "H0 = Il prezzo delle applicazioni nella categoria Game (observed) segue la stessa statistica della categoria Family (expected).\n",
    "\n",
    "HA = La distribuzione dei prezzi e' diversa. "
   ]
  },
  {
   "cell_type": "code",
   "execution_count": 27,
   "metadata": {
    "scrolled": true
   },
   "outputs": [
    {
     "name": "stdout",
     "output_type": "stream",
     "text": [
      "Valori per Family: [1718, 184]\n",
      "Valori per Game: [1733.5723542116632, 168.42764578833686]\n",
      "Valore del Chi-Quadrato: 1.579660320202722\n",
      "Valore del p-value: 0.2088096284086815\n"
     ]
    }
   ],
   "source": [
    "# da generalizzare a tutte le categorie\n",
    "\n",
    "free_apps_game = playstore[(playstore['Price']==0) & (playstore['Category']==\"GAME\")]\n",
    "paid_apps_game = playstore[(playstore['Price']>0) & (playstore['Category']==\"GAME\")]\n",
    "\n",
    "perc_free_apps_game = len(free_apps_game) / (len(free_apps_game)+len(paid_apps_game))\n",
    "perc_paid_apps_game = 1 - perc_free_apps_game \n",
    "\n",
    "game_free = len(playstore[playstore['Category']==\"FAMILY\"]) * perc_free_apps_game\n",
    "game_paid = len(playstore[playstore['Category']==\"FAMILY\"]) * perc_paid_apps_game\n",
    "\n",
    "free_apps_fam = playstore[(playstore['Price']==0) & (playstore['Category']==\"FAMILY\")]\n",
    "paid_apps_fam = playstore[(playstore['Price']>0) & (playstore['Category']==\"FAMILY\")]\n",
    "\n",
    "fam_free = len(free_apps_fam)\n",
    "fam_paid = len(paid_apps_fam)\n",
    "\n",
    "fam = [fam_free,fam_paid]\n",
    "game = [game_free,game_paid]\n",
    "\n",
    "print(\"Valori per Family: \" + str(fam))\n",
    "print(\"Valori per Game: \" + str(game))\n",
    "\n",
    "chi_squared, p_value = stats.chisquare(f_obs= fam, f_exp= game)\n",
    "\n",
    "print(\"Valore del Chi-Quadrato: \" + str(chi_squared))\n",
    "print(\"Valore del p-value: \" + str(p_value))"
   ]
  },
  {
   "cell_type": "code",
   "execution_count": null,
   "metadata": {},
   "outputs": [],
   "source": []
  }
 ],
 "metadata": {
  "colab": {
   "collapsed_sections": [],
   "name": "IDS_lab1.ipynb",
   "provenance": []
  },
  "kernelspec": {
   "display_name": "Python 3 (ipykernel)",
   "language": "python",
   "name": "python3"
  },
  "language_info": {
   "codemirror_mode": {
    "name": "ipython",
    "version": 3
   },
   "file_extension": ".py",
   "mimetype": "text/x-python",
   "name": "python",
   "nbconvert_exporter": "python",
   "pygments_lexer": "ipython3",
   "version": "3.9.7"
  }
 },
 "nbformat": 4,
 "nbformat_minor": 1
}
