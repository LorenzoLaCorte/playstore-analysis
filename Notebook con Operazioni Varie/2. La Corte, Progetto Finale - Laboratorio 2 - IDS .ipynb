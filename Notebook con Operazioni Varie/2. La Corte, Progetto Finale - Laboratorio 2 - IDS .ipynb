{
 "cells": [
  {
   "cell_type": "markdown",
   "metadata": {},
   "source": [
    "# Progetto Finale di Introduzione alla Data Science\n",
    "\n",
    "Autore: Lorenzo La Corte - S4784539\n",
    "\n",
    "Dataset: **Google Play Store Apps**"
   ]
  },
  {
   "cell_type": "markdown",
   "metadata": {},
   "source": [
    "Importo le librerie di base:"
   ]
  },
  {
   "cell_type": "code",
   "execution_count": 1,
   "metadata": {
    "id": "DG6_rz0Y_1Tx"
   },
   "outputs": [
    {
     "name": "stdout",
     "output_type": "stream",
     "text": [
      "1.7.1\n"
     ]
    }
   ],
   "source": [
    "import pandas as pd \n",
    "import matplotlib.pyplot as plt \n",
    "import numpy as np\n",
    "import scipy.stats as stats\n",
    "# !pip install scipy==1.7.0\n",
    "import scipy\n",
    "print (scipy.__version__)"
   ]
  },
  {
   "cell_type": "markdown",
   "metadata": {
    "id": "QYXUP9A4_cUe"
   },
   "source": [
    "Importo il dataset pulito:"
   ]
  },
  {
   "cell_type": "code",
   "execution_count": 3,
   "metadata": {
    "id": "PnExuBeH_YAz"
   },
   "outputs": [],
   "source": [
    "playstore = pd.read_csv('googleplaystore_clean.csv') "
   ]
  },
  {
   "cell_type": "markdown",
   "metadata": {
    "id": "AXkL6FTpKqJG"
   },
   "source": [
    "## Comunicare con i Dati\n",
    "\n",
    "Abbiamo visto che esistono diverse modalita' di visualizzazione dei dati. \n",
    "\n",
    "In base al tipo di dato, alcune sono appropriate, altre possono non esserlo. \n",
    "\n",
    "La visualizzazione dei dati dipende da cosa vogliamo **comunicare**\n",
    "con i dati. \n",
    "\n",
    "Cominciamo con un'informazione di base. Riusciamo a capire quale e' la **distribuzione** dei premi vinti dagli studenti? \n",
    "\n",
    "Dobbiamo fare un conteggio, e poi visualizzare nel modo opportuno. \n",
    "\n",
    "**tip** Anche qui, potete riguardare lo scorso laboratorio. "
   ]
  },
  {
   "cell_type": "code",
   "execution_count": 59,
   "metadata": {
    "id": "guV7phfxLnSU"
   },
   "outputs": [
    {
     "data": {
      "text/plain": [
       "<AxesSubplot:>"
      ]
     },
     "execution_count": 59,
     "metadata": {},
     "output_type": "execute_result"
    },
    {
     "data": {
      "image/png": "[encoded data removed]",
      "text/plain": [
       "<Figure size 432x288 with 1 Axes>"
      ]
     },
     "metadata": {
      "needs_background": "light"
     },
     "output_type": "display_data"
    }
   ],
   "source": [
    "# codice qui\n",
    "num_awards = Awards['num_awards'].value_counts(normalize=True).reindex(np.asarray(range(7)))\n",
    "num_awards.plot(kind = 'bar')"
   ]
  },
  {
   "cell_type": "markdown",
   "metadata": {
    "id": "CGfK7rP_UQkP"
   },
   "source": [
    "#### E' un diagramma a barre perché sto considerando una variabile e ne sto rappresentando la frequenza.\n",
    "Esistono altri due metodi per fare questo plot. \n",
    "\n",
    "Ne vediamo uno insieme."
   ]
  },
  {
   "cell_type": "code",
   "execution_count": 60,
   "metadata": {
    "id": "YaPdB9vHUWfz"
   },
   "outputs": [
    {
     "data": {
      "text/plain": [
       "<BarContainer object of 7 artists>"
      ]
     },
     "execution_count": 60,
     "metadata": {},
     "output_type": "execute_result"
    },
    {
     "data": {
      "image/png": "[encoded data removed]",
      "text/plain": [
       "<Figure size 432x288 with 1 Axes>"
      ]
     },
     "metadata": {
      "needs_background": "light"
     },
     "output_type": "display_data"
    }
   ],
   "source": [
    "histo = np.histogram(Awards['num_awards'],bins=7)\n",
    "plt.bar(x=np.asarray(range(7)),height=histo[0])"
   ]
  },
  {
   "cell_type": "markdown",
   "metadata": {
    "id": "GR8NFZvgUg89"
   },
   "source": [
    "L'altro consiste nell'usare la funzione 'hist' della libreria matplotlib. Provate a farlo!"
   ]
  },
  {
   "cell_type": "code",
   "execution_count": 61,
   "metadata": {
    "id": "BZwIz7rxUlZ-"
   },
   "outputs": [
    {
     "data": {
      "text/plain": [
       "(array([71., 91.,  0., 20.,  0., 13.,  2.,  0.,  2.,  1.]),\n",
       " array([0. , 0.6, 1.2, 1.8, 2.4, 3. , 3.6, 4.2, 4.8, 5.4, 6. ]),\n",
       " <BarContainer object of 10 artists>)"
      ]
     },
     "execution_count": 61,
     "metadata": {},
     "output_type": "execute_result"
    },
    {
     "data": {
      "image/png": "[encoded data removed]",
      "text/plain": [
       "<Figure size 432x288 with 1 Axes>"
      ]
     },
     "metadata": {
      "needs_background": "light"
     },
     "output_type": "display_data"
    }
   ],
   "source": [
    "#codice qui \n",
    "plt.hist(Awards['num_awards'])"
   ]
  },
  {
   "cell_type": "markdown",
   "metadata": {
    "id": "U0Vjj-W_Y1lH"
   },
   "source": [
    "## Correlazione tra: punteggio in matematica e numero di awards vinti\n",
    "\n",
    "Ora vi chiediamo. Esiste una correlazione tra punteggio in matematica e numero di awards vinti? \n",
    "Cercate una visualizzazione appropriata, e provate a dare una risposta. \n",
    "\n",
    "\n",
    "* Visualizzate la relazione esistente tra voto in matematica e numero di premi vinti, utilizzando un grafico a dispersione, e commentate se questa modalita' possa essere appropriata oppure no.  "
   ]
  },
  {
   "cell_type": "markdown",
   "metadata": {},
   "source": [
    "### Grafico a dispersione: numero di premi vinti in relazione al punteggio di matematica"
   ]
  },
  {
   "cell_type": "code",
   "execution_count": 62,
   "metadata": {
    "id": "joBBAobIZA70"
   },
   "outputs": [
    {
     "data": {
      "text/plain": [
       "<matplotlib.collections.PathCollection at 0x229168856d0>"
      ]
     },
     "execution_count": 62,
     "metadata": {},
     "output_type": "execute_result"
    },
    {
     "data": {
      "image/png": "[encoded data removed]",
      "text/plain": [
       "<Figure size 432x288 with 1 Axes>"
      ]
     },
     "metadata": {
      "needs_background": "light"
     },
     "output_type": "display_data"
    }
   ],
   "source": [
    "#codice qui \n",
    "plt.scatter(Awards['num_awards'], Awards['math'], color = 'y') # crea un grafico a dispersione (asse x, asse y)"
   ]
  },
  {
   "cell_type": "markdown",
   "metadata": {},
   "source": [
    "#### Ipotesi\n",
    "Sembrerebbe che all'aumentare del numero di premi si diminuisca la variabilità dei voti in matematica:\n",
    "chi ne ha vinti 0 ha un range grandissimo di voto, chi ne ha vinti tanti tendenzialmente ha un buon voto.\n",
    "\n",
    "Possiamo dire che probabilmente ci sia correlazione ma non causalità: lo studente che ha vinto 6 premi ha un voto di matematica minore dello studenti con il miglior voto che ne ha vinti 0."
   ]
  },
  {
   "cell_type": "markdown",
   "metadata": {
    "id": "3z7KAOD4v7Cb"
   },
   "source": [
    "Bene, abbiamo tratto le nostre conclusioni. Cerchiamo una rappresentazione alternativa, usando un grafico a barre. \n",
    "\n",
    "**tip** potete visualizzare la media' del voto in matematica, **raggruppando** gli studenti per numero di awards vinti. \n",
    "\n",
    "\n",
    "In pandas, la funzione da utilizzare (come visto lo scorso lab) e' groupby(series_to_group).series_of_interest.mean().plot(...)"
   ]
  },
  {
   "cell_type": "markdown",
   "metadata": {},
   "source": [
    "### Grafico a barre: media del voto in matematica in funzione del numero di premi vinti"
   ]
  },
  {
   "cell_type": "code",
   "execution_count": 63,
   "metadata": {
    "id": "ZZ71CKCxwP1D"
   },
   "outputs": [
    {
     "data": {
      "text/plain": [
       "<AxesSubplot:xlabel='num_awards'>"
      ]
     },
     "execution_count": 63,
     "metadata": {},
     "output_type": "execute_result"
    },
    {
     "data": {
      "image/png": "[encoded data removed]",
      "text/plain": [
       "<Figure size 432x288 with 1 Axes>"
      ]
     },
     "metadata": {
      "needs_background": "light"
     },
     "output_type": "display_data"
    }
   ],
   "source": [
    "Awards.groupby('num_awards').math.mean().plot(kind = 'bar') #codice qui "
   ]
  },
  {
   "cell_type": "markdown",
   "metadata": {},
   "source": [
    "Evinciamo che la media di chi ha vinto 6 premi sia maggiore di quella di chi ne ha vinti 0, ma ad esempio quella di chi ha vinto 3 premi è minore di quella di chi ne ha vinti 2.\n",
    "\n",
    "Verifichiamo con la correlazione. "
   ]
  },
  {
   "cell_type": "markdown",
   "metadata": {},
   "source": [
    "## Correlazione\n",
    "\n",
    "Verifichiamolo, calcolando l'**indice di correlazione di Pearson** tra le varie features a disposizione. "
   ]
  },
  {
   "cell_type": "code",
   "execution_count": 64,
   "metadata": {
    "id": "7M1fTy65xCrk"
   },
   "outputs": [
    {
     "data": {
      "text/html": [
       "<div>\n",
       "<style scoped>\n",
       "    .dataframe tbody tr th:only-of-type {\n",
       "        vertical-align: middle;\n",
       "    }\n",
       "\n",
       "    .dataframe tbody tr th {\n",
       "        vertical-align: top;\n",
       "    }\n",
       "\n",
       "    .dataframe thead th {\n",
       "        text-align: right;\n",
       "    }\n",
       "</style>\n",
       "<table border=\"1\" class=\"dataframe\">\n",
       "  <thead>\n",
       "    <tr style=\"text-align: right;\">\n",
       "      <th></th>\n",
       "      <th>id</th>\n",
       "      <th>num_awards</th>\n",
       "      <th>prog</th>\n",
       "      <th>math</th>\n",
       "    </tr>\n",
       "  </thead>\n",
       "  <tbody>\n",
       "    <tr>\n",
       "      <th>id</th>\n",
       "      <td>1.000000</td>\n",
       "      <td>0.033111</td>\n",
       "      <td>-0.058029</td>\n",
       "      <td>0.219234</td>\n",
       "    </tr>\n",
       "    <tr>\n",
       "      <th>num_awards</th>\n",
       "      <td>0.033111</td>\n",
       "      <td>1.000000</td>\n",
       "      <td>0.098431</td>\n",
       "      <td>0.335234</td>\n",
       "    </tr>\n",
       "    <tr>\n",
       "      <th>prog</th>\n",
       "      <td>-0.058029</td>\n",
       "      <td>0.098431</td>\n",
       "      <td>1.000000</td>\n",
       "      <td>-0.150104</td>\n",
       "    </tr>\n",
       "    <tr>\n",
       "      <th>math</th>\n",
       "      <td>0.219234</td>\n",
       "      <td>0.335234</td>\n",
       "      <td>-0.150104</td>\n",
       "      <td>1.000000</td>\n",
       "    </tr>\n",
       "  </tbody>\n",
       "</table>\n",
       "</div>"
      ],
      "text/plain": [
       "                  id  num_awards      prog      math\n",
       "id          1.000000    0.033111 -0.058029  0.219234\n",
       "num_awards  0.033111    1.000000  0.098431  0.335234\n",
       "prog       -0.058029    0.098431  1.000000 -0.150104\n",
       "math        0.219234    0.335234 -0.150104  1.000000"
      ]
     },
     "execution_count": 64,
     "metadata": {},
     "output_type": "execute_result"
    }
   ],
   "source": [
    "#codice qui\n",
    "Awards.corr()"
   ]
  },
  {
   "cell_type": "markdown",
   "metadata": {},
   "source": [
    "Abbiamo conformato che ci sia una relazione tra il numero dei premi vinti e il voto in matematica."
   ]
  },
  {
   "cell_type": "markdown",
   "metadata": {
    "id": "AHnrM4NfNUBQ"
   },
   "source": [
    "## Box Plot\n",
    "\n",
    "Esiste un modo alternativo di visualizzare la stessa cosa, ma prendendo non solo la media? \n",
    "\n",
    "Usate i box plot per vedere la distribuzione del dato.\n",
    "\n",
    "funzione pandas boxplot (argomenti: column = 'colonna da visualizzare', by ='colonna rispetto a cui dividere').\n",
    "\n",
    "Utilizzando l'attributo vert=False, potete visualizzare il diagramma a baffi. Fate anche questo!"
   ]
  },
  {
   "cell_type": "code",
   "execution_count": 65,
   "metadata": {
    "id": "O4jR4bZHRNgF"
   },
   "outputs": [
    {
     "data": {
      "text/plain": [
       "<AxesSubplot:title={'center':'math'}, xlabel='num_awards'>"
      ]
     },
     "execution_count": 65,
     "metadata": {},
     "output_type": "execute_result"
    },
    {
     "data": {
      "image/png": "[encoded data removed]",
      "text/plain": [
       "<Figure size 432x288 with 1 Axes>"
      ]
     },
     "metadata": {
      "needs_background": "light"
     },
     "output_type": "display_data"
    }
   ],
   "source": [
    "#codice qui\n",
    "Awards.boxplot(column = 'math', by ='num_awards')"
   ]
  },
  {
   "cell_type": "markdown",
   "metadata": {},
   "source": [
    "Questo box-plot ci da informazioni piu' ricche rispetto al'istogramma e piu' leggibili del grafico a dispersione.\n",
    "\n",
    "Le scatole a sinistra sono piu' grandi quindi vuol dire che c'è piu' variabilità, che per i 4-5-6 premi vinti manca.\n",
    "\n",
    "Inoltre i box non si intersecano troppo: il 4 e lo 0 ad esempio non si toccano."
   ]
  },
  {
   "cell_type": "markdown",
   "metadata": {
    "id": "JjbBtPvIPQBR"
   },
   "source": [
    "I box plot ci danno informazioni sulla distribuzione, non solo sulla media. Ad occhio, vi sembra che ci possano essere gruppi con differenze statistiche significative? \n",
    "trovate due coppie. Una in cui vi aspettate differenza statistica significativa e una in cui non vi aspettate tale differenza. Eseguite quindi un t-test. "
   ]
  },
  {
   "cell_type": "markdown",
   "metadata": {
    "id": "ESkvC_P7YQGT"
   },
   "source": [
    "**PRECISAZIONE T-TEST**\n",
    "\n",
    "Ricordate, quando calcolate il p-value dovete confrontarlo con il valore di significativita' statistica. \n",
    "Quindi, se scegliete una confidenza di 0.95, dovete confrontare il p-value con 0.05. \n",
    "Lo stesso per altri valori. \n",
    "Questo vale sia per il t-test a una coda, che per il t-test a due code. \n",
    "Se il p-value e' maggiore della significativita', accetto l'ipotesi nulla.\n",
    "Se il p-value e' minore, rigetto l'ipotesi nulla. "
   ]
  },
  {
   "cell_type": "markdown",
   "metadata": {},
   "source": [
    "## T-Test\n",
    "\n",
    "Formuliamo ora un'ipotesi:\n",
    "\n",
    "H0 = \"Non ci sono differenze statistiche tra le medie matematiche di chi ha vinto un premio e di chi ne ha vinti zero\".\n",
    "\n",
    "A questo punto, l'ipotesi alternativa:\n",
    "\n",
    "HA = \"Ci sono differenze statistiche tra le medie matematiche di chi ha vinto un premio e di chi ne ha vinti zero\"\n",
    "\n",
    "Usiamo un t-test per verificare se questa ipotesi e' corretta."
   ]
  },
  {
   "cell_type": "code",
   "execution_count": 81,
   "metadata": {
    "id": "lgT7ShU5RcLg"
   },
   "outputs": [
    {
     "name": "stdout",
     "output_type": "stream",
     "text": [
      "-0.03765051772292881\n",
      "0.9700734982387319\n"
     ]
    }
   ],
   "source": [
    "#codice qui \n",
    "t_statistic, p_value = stats.ttest_1samp(a= Awards['math'][Awards['num_awards']==0], popmean= Awards['math'][Awards['num_awards']==1].mean(), alternative='two-sided')\n",
    "print(t_statistic)\n",
    "print(p_value)"
   ]
  },
  {
   "cell_type": "markdown",
   "metadata": {},
   "source": [
    "#### 0.97 > 0.95 quindi accetto quindi l'ipotesi nulla."
   ]
  },
  {
   "cell_type": "markdown",
   "metadata": {
    "id": "5umcfrbGRQQd"
   },
   "source": [
    "## Un altro Dataset\n",
    "\n",
    "Adesso, spostiamoci su un altro dataset. \n",
    "\n",
    "Il dataset birthweight, contiene informazioni su neonati (settimana di gestazione alla nascita', peso, altezza, circonferenza cranica) e informazioni sui genitori (eta' madre, padre, altezza, fumatori, numero di sigarette fumate).\n",
    "\n",
    "Importate il dataset. Chiamiamolo birth.\n"
   ]
  },
  {
   "cell_type": "code",
   "execution_count": 82,
   "metadata": {
    "id": "jfHLGWskIOyA"
   },
   "outputs": [
    {
     "data": {
      "text/html": [
       "<div>\n",
       "<style scoped>\n",
       "    .dataframe tbody tr th:only-of-type {\n",
       "        vertical-align: middle;\n",
       "    }\n",
       "\n",
       "    .dataframe tbody tr th {\n",
       "        vertical-align: top;\n",
       "    }\n",
       "\n",
       "    .dataframe thead th {\n",
       "        text-align: right;\n",
       "    }\n",
       "</style>\n",
       "<table border=\"1\" class=\"dataframe\">\n",
       "  <thead>\n",
       "    <tr style=\"text-align: right;\">\n",
       "      <th></th>\n",
       "      <th>ID</th>\n",
       "      <th>Length</th>\n",
       "      <th>Birthweight</th>\n",
       "      <th>Headcirc</th>\n",
       "      <th>Gestation</th>\n",
       "      <th>smoker</th>\n",
       "      <th>mage</th>\n",
       "      <th>mnocig</th>\n",
       "      <th>mheight</th>\n",
       "      <th>mppwt</th>\n",
       "      <th>fage</th>\n",
       "      <th>fedyrs</th>\n",
       "      <th>fnocig</th>\n",
       "      <th>fheight</th>\n",
       "      <th>lowbwt</th>\n",
       "      <th>mage35</th>\n",
       "    </tr>\n",
       "  </thead>\n",
       "  <tbody>\n",
       "    <tr>\n",
       "      <th>0</th>\n",
       "      <td>1360</td>\n",
       "      <td>56</td>\n",
       "      <td>4.55</td>\n",
       "      <td>34</td>\n",
       "      <td>44</td>\n",
       "      <td>0</td>\n",
       "      <td>20</td>\n",
       "      <td>0</td>\n",
       "      <td>162</td>\n",
       "      <td>57</td>\n",
       "      <td>23</td>\n",
       "      <td>10</td>\n",
       "      <td>35</td>\n",
       "      <td>179</td>\n",
       "      <td>0</td>\n",
       "      <td>0</td>\n",
       "    </tr>\n",
       "    <tr>\n",
       "      <th>1</th>\n",
       "      <td>1016</td>\n",
       "      <td>53</td>\n",
       "      <td>4.32</td>\n",
       "      <td>36</td>\n",
       "      <td>40</td>\n",
       "      <td>0</td>\n",
       "      <td>19</td>\n",
       "      <td>0</td>\n",
       "      <td>171</td>\n",
       "      <td>62</td>\n",
       "      <td>19</td>\n",
       "      <td>12</td>\n",
       "      <td>0</td>\n",
       "      <td>183</td>\n",
       "      <td>0</td>\n",
       "      <td>0</td>\n",
       "    </tr>\n",
       "    <tr>\n",
       "      <th>2</th>\n",
       "      <td>462</td>\n",
       "      <td>58</td>\n",
       "      <td>4.10</td>\n",
       "      <td>39</td>\n",
       "      <td>41</td>\n",
       "      <td>0</td>\n",
       "      <td>35</td>\n",
       "      <td>0</td>\n",
       "      <td>172</td>\n",
       "      <td>58</td>\n",
       "      <td>31</td>\n",
       "      <td>16</td>\n",
       "      <td>25</td>\n",
       "      <td>185</td>\n",
       "      <td>0</td>\n",
       "      <td>1</td>\n",
       "    </tr>\n",
       "    <tr>\n",
       "      <th>3</th>\n",
       "      <td>1187</td>\n",
       "      <td>53</td>\n",
       "      <td>4.07</td>\n",
       "      <td>38</td>\n",
       "      <td>44</td>\n",
       "      <td>0</td>\n",
       "      <td>20</td>\n",
       "      <td>0</td>\n",
       "      <td>174</td>\n",
       "      <td>68</td>\n",
       "      <td>26</td>\n",
       "      <td>14</td>\n",
       "      <td>25</td>\n",
       "      <td>189</td>\n",
       "      <td>0</td>\n",
       "      <td>0</td>\n",
       "    </tr>\n",
       "    <tr>\n",
       "      <th>4</th>\n",
       "      <td>553</td>\n",
       "      <td>54</td>\n",
       "      <td>3.94</td>\n",
       "      <td>37</td>\n",
       "      <td>42</td>\n",
       "      <td>0</td>\n",
       "      <td>24</td>\n",
       "      <td>0</td>\n",
       "      <td>175</td>\n",
       "      <td>66</td>\n",
       "      <td>30</td>\n",
       "      <td>12</td>\n",
       "      <td>0</td>\n",
       "      <td>184</td>\n",
       "      <td>0</td>\n",
       "      <td>0</td>\n",
       "    </tr>\n",
       "  </tbody>\n",
       "</table>\n",
       "</div>"
      ],
      "text/plain": [
       "     ID  Length  Birthweight  Headcirc  Gestation  smoker  mage  mnocig  \\\n",
       "0  1360      56         4.55        34         44       0    20       0   \n",
       "1  1016      53         4.32        36         40       0    19       0   \n",
       "2   462      58         4.10        39         41       0    35       0   \n",
       "3  1187      53         4.07        38         44       0    20       0   \n",
       "4   553      54         3.94        37         42       0    24       0   \n",
       "\n",
       "   mheight  mppwt  fage  fedyrs  fnocig  fheight  lowbwt  mage35  \n",
       "0      162     57    23      10      35      179       0       0  \n",
       "1      171     62    19      12       0      183       0       0  \n",
       "2      172     58    31      16      25      185       0       1  \n",
       "3      174     68    26      14      25      189       0       0  \n",
       "4      175     66    30      12       0      184       0       0  "
      ]
     },
     "execution_count": 82,
     "metadata": {},
     "output_type": "execute_result"
    }
   ],
   "source": [
    "#codice qui \n",
    "birth = pd.read_csv('Birthweight_reduced_kg_R.csv') \n",
    "birth.head()"
   ]
  },
  {
   "cell_type": "markdown",
   "metadata": {
    "id": "abL8y-LhU9JH"
   },
   "source": [
    "Visualizziamo informazioni di base."
   ]
  },
  {
   "cell_type": "code",
   "execution_count": 83,
   "metadata": {
    "id": "v_C4C0V-U_Dr"
   },
   "outputs": [
    {
     "data": {
      "text/html": [
       "<div>\n",
       "<style scoped>\n",
       "    .dataframe tbody tr th:only-of-type {\n",
       "        vertical-align: middle;\n",
       "    }\n",
       "\n",
       "    .dataframe tbody tr th {\n",
       "        vertical-align: top;\n",
       "    }\n",
       "\n",
       "    .dataframe thead th {\n",
       "        text-align: right;\n",
       "    }\n",
       "</style>\n",
       "<table border=\"1\" class=\"dataframe\">\n",
       "  <thead>\n",
       "    <tr style=\"text-align: right;\">\n",
       "      <th></th>\n",
       "      <th>ID</th>\n",
       "      <th>Length</th>\n",
       "      <th>Birthweight</th>\n",
       "      <th>Headcirc</th>\n",
       "      <th>Gestation</th>\n",
       "      <th>smoker</th>\n",
       "      <th>mage</th>\n",
       "      <th>mnocig</th>\n",
       "      <th>mheight</th>\n",
       "      <th>mppwt</th>\n",
       "      <th>fage</th>\n",
       "      <th>fedyrs</th>\n",
       "      <th>fnocig</th>\n",
       "      <th>fheight</th>\n",
       "      <th>lowbwt</th>\n",
       "      <th>mage35</th>\n",
       "    </tr>\n",
       "  </thead>\n",
       "  <tbody>\n",
       "    <tr>\n",
       "      <th>count</th>\n",
       "      <td>42.000000</td>\n",
       "      <td>42.000000</td>\n",
       "      <td>42.000000</td>\n",
       "      <td>42.000000</td>\n",
       "      <td>42.000000</td>\n",
       "      <td>42.000000</td>\n",
       "      <td>42.000000</td>\n",
       "      <td>42.000000</td>\n",
       "      <td>42.000000</td>\n",
       "      <td>42.000000</td>\n",
       "      <td>42.000000</td>\n",
       "      <td>42.000000</td>\n",
       "      <td>42.000000</td>\n",
       "      <td>42.000000</td>\n",
       "      <td>42.000000</td>\n",
       "      <td>42.000000</td>\n",
       "    </tr>\n",
       "    <tr>\n",
       "      <th>mean</th>\n",
       "      <td>894.071429</td>\n",
       "      <td>51.333333</td>\n",
       "      <td>3.312857</td>\n",
       "      <td>34.595238</td>\n",
       "      <td>39.190476</td>\n",
       "      <td>0.523810</td>\n",
       "      <td>25.547619</td>\n",
       "      <td>9.428571</td>\n",
       "      <td>164.452381</td>\n",
       "      <td>57.500000</td>\n",
       "      <td>28.904762</td>\n",
       "      <td>13.666667</td>\n",
       "      <td>17.190476</td>\n",
       "      <td>180.500000</td>\n",
       "      <td>0.142857</td>\n",
       "      <td>0.095238</td>\n",
       "    </tr>\n",
       "    <tr>\n",
       "      <th>std</th>\n",
       "      <td>467.616186</td>\n",
       "      <td>2.935624</td>\n",
       "      <td>0.603895</td>\n",
       "      <td>2.399792</td>\n",
       "      <td>2.643336</td>\n",
       "      <td>0.505487</td>\n",
       "      <td>5.666342</td>\n",
       "      <td>12.511737</td>\n",
       "      <td>6.504041</td>\n",
       "      <td>7.198408</td>\n",
       "      <td>6.863866</td>\n",
       "      <td>2.160247</td>\n",
       "      <td>17.308165</td>\n",
       "      <td>6.978189</td>\n",
       "      <td>0.354169</td>\n",
       "      <td>0.297102</td>\n",
       "    </tr>\n",
       "    <tr>\n",
       "      <th>min</th>\n",
       "      <td>27.000000</td>\n",
       "      <td>43.000000</td>\n",
       "      <td>1.920000</td>\n",
       "      <td>30.000000</td>\n",
       "      <td>33.000000</td>\n",
       "      <td>0.000000</td>\n",
       "      <td>18.000000</td>\n",
       "      <td>0.000000</td>\n",
       "      <td>149.000000</td>\n",
       "      <td>45.000000</td>\n",
       "      <td>19.000000</td>\n",
       "      <td>10.000000</td>\n",
       "      <td>0.000000</td>\n",
       "      <td>169.000000</td>\n",
       "      <td>0.000000</td>\n",
       "      <td>0.000000</td>\n",
       "    </tr>\n",
       "    <tr>\n",
       "      <th>25%</th>\n",
       "      <td>537.250000</td>\n",
       "      <td>50.000000</td>\n",
       "      <td>2.940000</td>\n",
       "      <td>33.000000</td>\n",
       "      <td>38.000000</td>\n",
       "      <td>0.000000</td>\n",
       "      <td>20.250000</td>\n",
       "      <td>0.000000</td>\n",
       "      <td>161.000000</td>\n",
       "      <td>52.250000</td>\n",
       "      <td>23.000000</td>\n",
       "      <td>12.000000</td>\n",
       "      <td>0.000000</td>\n",
       "      <td>175.250000</td>\n",
       "      <td>0.000000</td>\n",
       "      <td>0.000000</td>\n",
       "    </tr>\n",
       "    <tr>\n",
       "      <th>50%</th>\n",
       "      <td>821.000000</td>\n",
       "      <td>52.000000</td>\n",
       "      <td>3.295000</td>\n",
       "      <td>34.000000</td>\n",
       "      <td>39.500000</td>\n",
       "      <td>1.000000</td>\n",
       "      <td>24.000000</td>\n",
       "      <td>4.500000</td>\n",
       "      <td>164.500000</td>\n",
       "      <td>57.000000</td>\n",
       "      <td>29.500000</td>\n",
       "      <td>14.000000</td>\n",
       "      <td>18.500000</td>\n",
       "      <td>180.500000</td>\n",
       "      <td>0.000000</td>\n",
       "      <td>0.000000</td>\n",
       "    </tr>\n",
       "    <tr>\n",
       "      <th>75%</th>\n",
       "      <td>1269.500000</td>\n",
       "      <td>53.000000</td>\n",
       "      <td>3.647500</td>\n",
       "      <td>36.000000</td>\n",
       "      <td>41.000000</td>\n",
       "      <td>1.000000</td>\n",
       "      <td>29.000000</td>\n",
       "      <td>15.750000</td>\n",
       "      <td>169.500000</td>\n",
       "      <td>62.000000</td>\n",
       "      <td>32.000000</td>\n",
       "      <td>16.000000</td>\n",
       "      <td>25.000000</td>\n",
       "      <td>184.750000</td>\n",
       "      <td>0.000000</td>\n",
       "      <td>0.000000</td>\n",
       "    </tr>\n",
       "    <tr>\n",
       "      <th>max</th>\n",
       "      <td>1764.000000</td>\n",
       "      <td>58.000000</td>\n",
       "      <td>4.570000</td>\n",
       "      <td>39.000000</td>\n",
       "      <td>45.000000</td>\n",
       "      <td>1.000000</td>\n",
       "      <td>41.000000</td>\n",
       "      <td>50.000000</td>\n",
       "      <td>181.000000</td>\n",
       "      <td>78.000000</td>\n",
       "      <td>46.000000</td>\n",
       "      <td>16.000000</td>\n",
       "      <td>50.000000</td>\n",
       "      <td>200.000000</td>\n",
       "      <td>1.000000</td>\n",
       "      <td>1.000000</td>\n",
       "    </tr>\n",
       "  </tbody>\n",
       "</table>\n",
       "</div>"
      ],
      "text/plain": [
       "                ID     Length  Birthweight   Headcirc  Gestation     smoker  \\\n",
       "count    42.000000  42.000000    42.000000  42.000000  42.000000  42.000000   \n",
       "mean    894.071429  51.333333     3.312857  34.595238  39.190476   0.523810   \n",
       "std     467.616186   2.935624     0.603895   2.399792   2.643336   0.505487   \n",
       "min      27.000000  43.000000     1.920000  30.000000  33.000000   0.000000   \n",
       "25%     537.250000  50.000000     2.940000  33.000000  38.000000   0.000000   \n",
       "50%     821.000000  52.000000     3.295000  34.000000  39.500000   1.000000   \n",
       "75%    1269.500000  53.000000     3.647500  36.000000  41.000000   1.000000   \n",
       "max    1764.000000  58.000000     4.570000  39.000000  45.000000   1.000000   \n",
       "\n",
       "            mage     mnocig     mheight      mppwt       fage     fedyrs  \\\n",
       "count  42.000000  42.000000   42.000000  42.000000  42.000000  42.000000   \n",
       "mean   25.547619   9.428571  164.452381  57.500000  28.904762  13.666667   \n",
       "std     5.666342  12.511737    6.504041   7.198408   6.863866   2.160247   \n",
       "min    18.000000   0.000000  149.000000  45.000000  19.000000  10.000000   \n",
       "25%    20.250000   0.000000  161.000000  52.250000  23.000000  12.000000   \n",
       "50%    24.000000   4.500000  164.500000  57.000000  29.500000  14.000000   \n",
       "75%    29.000000  15.750000  169.500000  62.000000  32.000000  16.000000   \n",
       "max    41.000000  50.000000  181.000000  78.000000  46.000000  16.000000   \n",
       "\n",
       "          fnocig     fheight     lowbwt     mage35  \n",
       "count  42.000000   42.000000  42.000000  42.000000  \n",
       "mean   17.190476  180.500000   0.142857   0.095238  \n",
       "std    17.308165    6.978189   0.354169   0.297102  \n",
       "min     0.000000  169.000000   0.000000   0.000000  \n",
       "25%     0.000000  175.250000   0.000000   0.000000  \n",
       "50%    18.500000  180.500000   0.000000   0.000000  \n",
       "75%    25.000000  184.750000   0.000000   0.000000  \n",
       "max    50.000000  200.000000   1.000000   1.000000  "
      ]
     },
     "execution_count": 83,
     "metadata": {},
     "output_type": "execute_result"
    }
   ],
   "source": [
    "birth.describe()"
   ]
  },
  {
   "cell_type": "markdown",
   "metadata": {
    "id": "A4C69ZogxaAc"
   },
   "source": [
    "## Distribuzione della settimana di gestazione al parto e del peso\n",
    "\n",
    "Visualizziamo la distribuzione della settimana di gestazione al parto e la distribuzione del peso; per farlo utilizziamo un grafico a barre."
   ]
  },
  {
   "cell_type": "code",
   "execution_count": 86,
   "metadata": {
    "id": "OvVuMioexcBA"
   },
   "outputs": [
    {
     "data": {
      "text/plain": [
       "<AxesSubplot:>"
      ]
     },
     "execution_count": 86,
     "metadata": {},
     "output_type": "execute_result"
    },
    {
     "data": {
      "image/png": "[encoded data removed]",
      "text/plain": [
       "<Figure size 432x288 with 1 Axes>"
      ]
     },
     "metadata": {
      "needs_background": "light"
     },
     "output_type": "display_data"
    },
    {
     "data": {
      "image/png": "[encoded data removed]",
      "text/plain": [
       "<Figure size 432x288 with 1 Axes>"
      ]
     },
     "metadata": {
      "needs_background": "light"
     },
     "output_type": "display_data"
    }
   ],
   "source": [
    "#codice qui \n",
    "gest = birth['Gestation'].value_counts(normalize=True).reindex(np.asarray(range(33,46)))\n",
    "gest.plot(kind = 'bar')\n",
    "\n",
    "plt.figure()\n",
    "\n",
    "gest = birth['Birthweight'].value_counts(normalize=True,bins=10, sort=False)\n",
    "gest.plot(kind = 'bar')"
   ]
  },
  {
   "cell_type": "markdown",
   "metadata": {},
   "source": [
    "Notiamo che la distribuzione delle nascite ha il picco intorno alle 40 settimane di gestazione (circa 9 mesi), mentre il picco della distribuzione del peso è circa a 3kg."
   ]
  },
  {
   "cell_type": "markdown",
   "metadata": {
    "id": "M5XZ_ss6Vkph"
   },
   "source": [
    "## Grafico a Dispersione: Peso del bambino in funzione della settimana di gestazione\n",
    "\n",
    "Visualizziamo ora il peso del bambino in funzione della settimana di gestazione. \n",
    "\n",
    "**Che tipo di visualizzazione usereste?**\n",
    "\n",
    "un plot a barre, un istogramma, un grafico a dispersione o a linee? Utilizziamo un grafico a dispersione in quanto evidenzia la relazione tra 2 variabili."
   ]
  },
  {
   "cell_type": "code",
   "execution_count": 87,
   "metadata": {
    "id": "3YHp2iIYVseI"
   },
   "outputs": [
    {
     "data": {
      "text/plain": [
       "<matplotlib.collections.PathCollection at 0x22916a55790>"
      ]
     },
     "execution_count": 87,
     "metadata": {},
     "output_type": "execute_result"
    },
    {
     "data": {
      "image/png": "[encoded data removed]",
      "text/plain": [
       "<Figure size 432x288 with 1 Axes>"
      ]
     },
     "metadata": {
      "needs_background": "light"
     },
     "output_type": "display_data"
    }
   ],
   "source": [
    "#codice qui \n",
    "plt.scatter(birth['Gestation'],birth['Birthweight'],color='r')"
   ]
  },
  {
   "cell_type": "markdown",
   "metadata": {
    "id": "pPj78EP9QPQ3"
   },
   "source": [
    "Questo e' un classico esempio dove un grafico a dispersione aiuta la comunicazione di un risultato. In effetti, ci si aspetta un aumento medio del peso di un bambino all'aumentare della settimana di gestazione a cui nasce. Ora plottiamo **sullo stesso grafico** anche la lunghezza alla nascita"
   ]
  },
  {
   "cell_type": "code",
   "execution_count": 74,
   "metadata": {
    "id": "NeMXeNDlWgcv"
   },
   "outputs": [
    {
     "data": {
      "text/plain": [
       "<matplotlib.collections.PathCollection at 0x22917bab1f0>"
      ]
     },
     "execution_count": 74,
     "metadata": {},
     "output_type": "execute_result"
    },
    {
     "data": {
      "image/png": "[encoded data removed]",
      "text/plain": [
       "<Figure size 432x288 with 1 Axes>"
      ]
     },
     "metadata": {
      "needs_background": "light"
     },
     "output_type": "display_data"
    }
   ],
   "source": [
    "plt.scatter(birth['Gestation'],birth['Birthweight'],color='r')\n",
    "#plt.figure()\n",
    "plt.scatter(birth['Gestation'],birth['Length'],color='r')"
   ]
  },
  {
   "cell_type": "markdown",
   "metadata": {
    "id": "3u5Q1OmRXa3G"
   },
   "source": [
    "### Standardizzazione dei due Grafici\n",
    "\n",
    "Serve qualcosa prima di poter rappresentare i dati insieme, non trovate? \n",
    "Le scale sono molto diverse (cm e kg), dunque, occorre **standardizzare** il nostro dataframe. \n",
    "\n",
    "Fatelo, e ripetete il tutto.\n",
    "\n",
    "**tip** Potete prendere il codice dallo scorso laboratorio. "
   ]
  },
  {
   "cell_type": "code",
   "execution_count": 88,
   "metadata": {
    "id": "blRi7Z8mXeqJ"
   },
   "outputs": [
    {
     "data": {
      "text/plain": [
       "<matplotlib.collections.PathCollection at 0x22917e5b730>"
      ]
     },
     "execution_count": 88,
     "metadata": {},
     "output_type": "execute_result"
    },
    {
     "data": {
      "image/png": "[encoded data removed]",
      "text/plain": [
       "<Figure size 432x288 with 1 Axes>"
      ]
     },
     "metadata": {
      "needs_background": "light"
     },
     "output_type": "display_data"
    }
   ],
   "source": [
    "#codice qui \n",
    "from sklearn import preprocessing \n",
    "example_z_score = birth\n",
    "df_scaled = pd.DataFrame(preprocessing.scale(example_z_score))\n",
    "\n",
    "plt.scatter(df_scaled[4],df_scaled[1],color='b')\n",
    "plt.scatter(df_scaled[4],df_scaled[2],color='r')"
   ]
  },
  {
   "cell_type": "markdown",
   "metadata": {
    "id": "nEVc1HyBaUQ0"
   },
   "source": [
    "Facciamo la stessa cosa per la circonferenza della testa "
   ]
  },
  {
   "cell_type": "code",
   "execution_count": 89,
   "metadata": {
    "id": "DNYT4PIoaWzR"
   },
   "outputs": [
    {
     "data": {
      "text/plain": [
       "<matplotlib.collections.PathCollection at 0x22917f8dc40>"
      ]
     },
     "execution_count": 89,
     "metadata": {},
     "output_type": "execute_result"
    },
    {
     "data": {
      "image/png": "[encoded data removed]",
      "text/plain": [
       "<Figure size 432x288 with 1 Axes>"
      ]
     },
     "metadata": {
      "needs_background": "light"
     },
     "output_type": "display_data"
    }
   ],
   "source": [
    "#codice qui \n",
    "plt.scatter(df_scaled[4],df_scaled[1],color='b')\n",
    "plt.scatter(df_scaled[4],df_scaled[2],color='r')\n",
    "plt.scatter(df_scaled[4],df_scaled[3],color='y')"
   ]
  },
  {
   "cell_type": "markdown",
   "metadata": {
    "id": "-QiL6LMDabqi"
   },
   "source": [
    "Vediamo che anche qui l'andamento, a livello qualitativo, e' confermato. \n"
   ]
  }
 ],
 "metadata": {
  "colab": {
   "collapsed_sections": [],
   "name": "IDS_lab2.ipynb",
   "provenance": []
  },
  "kernelspec": {
   "display_name": "Python 3 (ipykernel)",
   "language": "python",
   "name": "python3"
  },
  "language_info": {
   "codemirror_mode": {
    "name": "ipython",
    "version": 3
   },
   "file_extension": ".py",
   "mimetype": "text/x-python",
   "name": "python",
   "nbconvert_exporter": "python",
   "pygments_lexer": "ipython3",
   "version": "3.9.7"
  }
 },
 "nbformat": 4,
 "nbformat_minor": 1
}
