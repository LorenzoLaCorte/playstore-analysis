{
 "cells": [
  {
   "cell_type": "markdown",
   "metadata": {},
   "source": [
    "# Progetto Finale di Introduzione alla Data Science\n",
    "\n",
    "Autore: Lorenzo La Corte - S4784539\n",
    "\n",
    "Dataset: **Google Play Store Apps**"
   ]
  },
  {
   "cell_type": "markdown",
   "metadata": {},
   "source": [
    "## Operazioni Preliminari"
   ]
  },
  {
   "cell_type": "markdown",
   "metadata": {},
   "source": [
    "Importo le librerie di base:"
   ]
  },
  {
   "cell_type": "code",
   "execution_count": 1,
   "metadata": {
    "colab": {
     "base_uri": "https://localhost:8080/"
    },
    "id": "DG6_rz0Y_1Tx",
    "outputId": "3a50a665-11e2-455f-eb48-a7f98e4c3f51"
   },
   "outputs": [
    {
     "name": "stdout",
     "output_type": "stream",
     "text": [
      "1.7.1\n"
     ]
    }
   ],
   "source": [
    "import pandas as pd \n",
    "import matplotlib.pyplot as plt \n",
    "import numpy as np\n",
    "import scipy.stats as stats\n",
    "# !pip install scipy==1.7.0\n",
    "import scipy\n",
    "print (scipy.__version__)"
   ]
  },
  {
   "cell_type": "markdown",
   "metadata": {
    "id": "QYXUP9A4_cUe"
   },
   "source": [
    "Importo il dataset:"
   ]
  },
  {
   "cell_type": "code",
   "execution_count": 2,
   "metadata": {
    "colab": {
     "base_uri": "https://localhost:8080/",
     "height": 302
    },
    "id": "PnExuBeH_YAz",
    "outputId": "a21e9113-e580-4f70-e5c6-49da01da5b79"
   },
   "outputs": [
    {
     "data": {
      "text/html": [
       "<div>\n",
       "<style scoped>\n",
       "    .dataframe tbody tr th:only-of-type {\n",
       "        vertical-align: middle;\n",
       "    }\n",
       "\n",
       "    .dataframe tbody tr th {\n",
       "        vertical-align: top;\n",
       "    }\n",
       "\n",
       "    .dataframe thead th {\n",
       "        text-align: right;\n",
       "    }\n",
       "</style>\n",
       "<table border=\"1\" class=\"dataframe\">\n",
       "  <thead>\n",
       "    <tr style=\"text-align: right;\">\n",
       "      <th></th>\n",
       "      <th>App</th>\n",
       "      <th>Category</th>\n",
       "      <th>Rating</th>\n",
       "      <th>Reviews</th>\n",
       "      <th>Size</th>\n",
       "      <th>Installs</th>\n",
       "      <th>Type</th>\n",
       "      <th>Price</th>\n",
       "      <th>Content Rating</th>\n",
       "      <th>Genres</th>\n",
       "      <th>Last Updated</th>\n",
       "      <th>Current Ver</th>\n",
       "      <th>Android Ver</th>\n",
       "    </tr>\n",
       "  </thead>\n",
       "  <tbody>\n",
       "    <tr>\n",
       "      <th>0</th>\n",
       "      <td>Photo Editor &amp; Candy Camera &amp; Grid &amp; ScrapBook</td>\n",
       "      <td>ART_AND_DESIGN</td>\n",
       "      <td>4.1</td>\n",
       "      <td>159</td>\n",
       "      <td>19M</td>\n",
       "      <td>10,000+</td>\n",
       "      <td>Free</td>\n",
       "      <td>0</td>\n",
       "      <td>Everyone</td>\n",
       "      <td>Art &amp; Design</td>\n",
       "      <td>January 7, 2018</td>\n",
       "      <td>1.0.0</td>\n",
       "      <td>4.0.3 and up</td>\n",
       "    </tr>\n",
       "    <tr>\n",
       "      <th>1</th>\n",
       "      <td>Coloring book moana</td>\n",
       "      <td>ART_AND_DESIGN</td>\n",
       "      <td>3.9</td>\n",
       "      <td>967</td>\n",
       "      <td>14M</td>\n",
       "      <td>500,000+</td>\n",
       "      <td>Free</td>\n",
       "      <td>0</td>\n",
       "      <td>Everyone</td>\n",
       "      <td>Art &amp; Design;Pretend Play</td>\n",
       "      <td>January 15, 2018</td>\n",
       "      <td>2.0.0</td>\n",
       "      <td>4.0.3 and up</td>\n",
       "    </tr>\n",
       "    <tr>\n",
       "      <th>2</th>\n",
       "      <td>U Launcher Lite – FREE Live Cool Themes, Hide ...</td>\n",
       "      <td>ART_AND_DESIGN</td>\n",
       "      <td>4.7</td>\n",
       "      <td>87510</td>\n",
       "      <td>8.7M</td>\n",
       "      <td>5,000,000+</td>\n",
       "      <td>Free</td>\n",
       "      <td>0</td>\n",
       "      <td>Everyone</td>\n",
       "      <td>Art &amp; Design</td>\n",
       "      <td>August 1, 2018</td>\n",
       "      <td>1.2.4</td>\n",
       "      <td>4.0.3 and up</td>\n",
       "    </tr>\n",
       "    <tr>\n",
       "      <th>3</th>\n",
       "      <td>Sketch - Draw &amp; Paint</td>\n",
       "      <td>ART_AND_DESIGN</td>\n",
       "      <td>4.5</td>\n",
       "      <td>215644</td>\n",
       "      <td>25M</td>\n",
       "      <td>50,000,000+</td>\n",
       "      <td>Free</td>\n",
       "      <td>0</td>\n",
       "      <td>Teen</td>\n",
       "      <td>Art &amp; Design</td>\n",
       "      <td>June 8, 2018</td>\n",
       "      <td>Varies with device</td>\n",
       "      <td>4.2 and up</td>\n",
       "    </tr>\n",
       "    <tr>\n",
       "      <th>4</th>\n",
       "      <td>Pixel Draw - Number Art Coloring Book</td>\n",
       "      <td>ART_AND_DESIGN</td>\n",
       "      <td>4.3</td>\n",
       "      <td>967</td>\n",
       "      <td>2.8M</td>\n",
       "      <td>100,000+</td>\n",
       "      <td>Free</td>\n",
       "      <td>0</td>\n",
       "      <td>Everyone</td>\n",
       "      <td>Art &amp; Design;Creativity</td>\n",
       "      <td>June 20, 2018</td>\n",
       "      <td>1.1</td>\n",
       "      <td>4.4 and up</td>\n",
       "    </tr>\n",
       "  </tbody>\n",
       "</table>\n",
       "</div>"
      ],
      "text/plain": [
       "                                                 App        Category  Rating  \\\n",
       "0     Photo Editor & Candy Camera & Grid & ScrapBook  ART_AND_DESIGN     4.1   \n",
       "1                                Coloring book moana  ART_AND_DESIGN     3.9   \n",
       "2  U Launcher Lite – FREE Live Cool Themes, Hide ...  ART_AND_DESIGN     4.7   \n",
       "3                              Sketch - Draw & Paint  ART_AND_DESIGN     4.5   \n",
       "4              Pixel Draw - Number Art Coloring Book  ART_AND_DESIGN     4.3   \n",
       "\n",
       "  Reviews  Size     Installs  Type Price Content Rating  \\\n",
       "0     159   19M      10,000+  Free     0       Everyone   \n",
       "1     967   14M     500,000+  Free     0       Everyone   \n",
       "2   87510  8.7M   5,000,000+  Free     0       Everyone   \n",
       "3  215644   25M  50,000,000+  Free     0           Teen   \n",
       "4     967  2.8M     100,000+  Free     0       Everyone   \n",
       "\n",
       "                      Genres      Last Updated         Current Ver  \\\n",
       "0               Art & Design   January 7, 2018               1.0.0   \n",
       "1  Art & Design;Pretend Play  January 15, 2018               2.0.0   \n",
       "2               Art & Design    August 1, 2018               1.2.4   \n",
       "3               Art & Design      June 8, 2018  Varies with device   \n",
       "4    Art & Design;Creativity     June 20, 2018                 1.1   \n",
       "\n",
       "    Android Ver  \n",
       "0  4.0.3 and up  \n",
       "1  4.0.3 and up  \n",
       "2  4.0.3 and up  \n",
       "3    4.2 and up  \n",
       "4    4.4 and up  "
      ]
     },
     "execution_count": 2,
     "metadata": {},
     "output_type": "execute_result"
    }
   ],
   "source": [
    "playstore = pd.read_csv('googleplaystore.csv') #importo il file\n",
    "playstore.head() # visualizza le prime entry del dataset"
   ]
  },
  {
   "cell_type": "markdown",
   "metadata": {},
   "source": [
    "Visualizzo numero di righe e di caratteristiche."
   ]
  },
  {
   "cell_type": "code",
   "execution_count": 3,
   "metadata": {
    "colab": {
     "base_uri": "https://localhost:8080/"
    },
    "id": "yoJXIEgHFyVc",
    "outputId": "cac9bf25-8d14-455b-82c8-e7ea587d358e"
   },
   "outputs": [
    {
     "data": {
      "text/plain": [
       "(10841, 13)"
      ]
     },
     "execution_count": 3,
     "metadata": {},
     "output_type": "execute_result"
    }
   ],
   "source": [
    "playstore.shape # restituisce (numero di righe, numero di colonne)"
   ]
  },
  {
   "cell_type": "markdown",
   "metadata": {},
   "source": [
    "## Pulizia del Dataset "
   ]
  },
  {
   "cell_type": "markdown",
   "metadata": {
    "id": "C-3oOC0QO_ZY"
   },
   "source": [
    "Divido il dataset in features qualitative e quantitative:"
   ]
  },
  {
   "cell_type": "code",
   "execution_count": 4,
   "metadata": {
    "id": "t_gQkwbRFlx-"
   },
   "outputs": [],
   "source": [
    "# la [[]] crea dataframe con sezioni di caratteristiche\n",
    "quantitative_playstore = playstore[['Rating','Reviews','Size','Installs','Price']] \n",
    "qualitative_playstore = playstore[['App','Category','Type','Content Rating','Genres', 'Last Updated', 'Current Ver', 'Android Ver']]"
   ]
  },
  {
   "cell_type": "markdown",
   "metadata": {
    "id": "rBXiFGHMEPV9"
   },
   "source": [
    "Adesso utilizzo il metodo describe() e noto che esso mi restituisce solo Rating come variabile quantitativa.\n",
    "\n"
   ]
  },
  {
   "cell_type": "code",
   "execution_count": 5,
   "metadata": {},
   "outputs": [
    {
     "data": {
      "text/html": [
       "<div>\n",
       "<style scoped>\n",
       "    .dataframe tbody tr th:only-of-type {\n",
       "        vertical-align: middle;\n",
       "    }\n",
       "\n",
       "    .dataframe tbody tr th {\n",
       "        vertical-align: top;\n",
       "    }\n",
       "\n",
       "    .dataframe thead th {\n",
       "        text-align: right;\n",
       "    }\n",
       "</style>\n",
       "<table border=\"1\" class=\"dataframe\">\n",
       "  <thead>\n",
       "    <tr style=\"text-align: right;\">\n",
       "      <th></th>\n",
       "      <th>Rating</th>\n",
       "    </tr>\n",
       "  </thead>\n",
       "  <tbody>\n",
       "    <tr>\n",
       "      <th>count</th>\n",
       "      <td>9367.000000</td>\n",
       "    </tr>\n",
       "    <tr>\n",
       "      <th>mean</th>\n",
       "      <td>4.193338</td>\n",
       "    </tr>\n",
       "    <tr>\n",
       "      <th>std</th>\n",
       "      <td>0.537431</td>\n",
       "    </tr>\n",
       "    <tr>\n",
       "      <th>min</th>\n",
       "      <td>1.000000</td>\n",
       "    </tr>\n",
       "    <tr>\n",
       "      <th>25%</th>\n",
       "      <td>4.000000</td>\n",
       "    </tr>\n",
       "    <tr>\n",
       "      <th>50%</th>\n",
       "      <td>4.300000</td>\n",
       "    </tr>\n",
       "    <tr>\n",
       "      <th>75%</th>\n",
       "      <td>4.500000</td>\n",
       "    </tr>\n",
       "    <tr>\n",
       "      <th>max</th>\n",
       "      <td>19.000000</td>\n",
       "    </tr>\n",
       "  </tbody>\n",
       "</table>\n",
       "</div>"
      ],
      "text/plain": [
       "            Rating\n",
       "count  9367.000000\n",
       "mean      4.193338\n",
       "std       0.537431\n",
       "min       1.000000\n",
       "25%       4.000000\n",
       "50%       4.300000\n",
       "75%       4.500000\n",
       "max      19.000000"
      ]
     },
     "execution_count": 5,
     "metadata": {},
     "output_type": "execute_result"
    }
   ],
   "source": [
    "# quantitative_playstore.describe()\n",
    "playstore.describe() # mi dovrebbe dare la stessa cosa (solo le quantitative)"
   ]
  },
  {
   "cell_type": "markdown",
   "metadata": {},
   "source": [
    "Probabilmente devo pulire la tabella in modo da rendere 'Reviews', 'Size', 'Installs', 'Price' quantitative.\n",
    "\n",
    "Quindi:\n",
    "1. Convertire la size delle app a MB per semplificare la visualizzazione\n",
    "2. Rimuovere il '+' da 'Installs' per renderlo quantitativo\n",
    "3. Scoprire perché reviews e price non sono quantitative\n",
    "4. Gestire i valori nulli se ci sono\n"
   ]
  },
  {
   "cell_type": "markdown",
   "metadata": {},
   "source": [
    "## Gestione delle Variabili Quantitative\n",
    "\n",
    "La size risulta non quantitativa: la colonna è composta da stringhe.\n",
    "\n",
    "Converto quindi queste stringhe in interi per rendere questa caratteristica quantitativa e poi converto la size delle app a MB per semplificare la visualizzazione:"
   ]
  },
  {
   "cell_type": "code",
   "execution_count": 6,
   "metadata": {},
   "outputs": [
    {
     "data": {
      "text/html": [
       "<div>\n",
       "<style scoped>\n",
       "    .dataframe tbody tr th:only-of-type {\n",
       "        vertical-align: middle;\n",
       "    }\n",
       "\n",
       "    .dataframe tbody tr th {\n",
       "        vertical-align: top;\n",
       "    }\n",
       "\n",
       "    .dataframe thead th {\n",
       "        text-align: right;\n",
       "    }\n",
       "</style>\n",
       "<table border=\"1\" class=\"dataframe\">\n",
       "  <thead>\n",
       "    <tr style=\"text-align: right;\">\n",
       "      <th></th>\n",
       "      <th>Rating</th>\n",
       "      <th>Size</th>\n",
       "    </tr>\n",
       "  </thead>\n",
       "  <tbody>\n",
       "    <tr>\n",
       "      <th>count</th>\n",
       "      <td>7730.000000</td>\n",
       "      <td>9146.000000</td>\n",
       "    </tr>\n",
       "    <tr>\n",
       "      <th>mean</th>\n",
       "      <td>4.175770</td>\n",
       "      <td>19.575341</td>\n",
       "    </tr>\n",
       "    <tr>\n",
       "      <th>std</th>\n",
       "      <td>0.570041</td>\n",
       "      <td>24.043197</td>\n",
       "    </tr>\n",
       "    <tr>\n",
       "      <th>min</th>\n",
       "      <td>1.000000</td>\n",
       "      <td>0.000001</td>\n",
       "    </tr>\n",
       "    <tr>\n",
       "      <th>25%</th>\n",
       "      <td>4.000000</td>\n",
       "      <td>0.000006</td>\n",
       "    </tr>\n",
       "    <tr>\n",
       "      <th>50%</th>\n",
       "      <td>4.300000</td>\n",
       "      <td>13.000000</td>\n",
       "    </tr>\n",
       "    <tr>\n",
       "      <th>75%</th>\n",
       "      <td>4.500000</td>\n",
       "      <td>30.000000</td>\n",
       "    </tr>\n",
       "    <tr>\n",
       "      <th>max</th>\n",
       "      <td>19.000000</td>\n",
       "      <td>100.000000</td>\n",
       "    </tr>\n",
       "  </tbody>\n",
       "</table>\n",
       "</div>"
      ],
      "text/plain": [
       "            Rating         Size\n",
       "count  7730.000000  9146.000000\n",
       "mean      4.175770    19.575341\n",
       "std       0.570041    24.043197\n",
       "min       1.000000     0.000001\n",
       "25%       4.000000     0.000006\n",
       "50%       4.300000    13.000000\n",
       "75%       4.500000    30.000000\n",
       "max      19.000000   100.000000"
      ]
     },
     "execution_count": 6,
     "metadata": {},
     "output_type": "execute_result"
    }
   ],
   "source": [
    "if(type(playstore['Size'][0]) is str):\n",
    "    playstore = playstore[playstore.Size != \"Varies with device\"] # rimuovo le righe con questo valore per Size\n",
    "    playstore['Size'] = [float(x.replace(\",\",\".\").replace(\"+\",\"\").replace(\"M\",\"000000\").replace(\"k\",\"000\")) for x in playstore['Size']]\n",
    "    playstore['Size'] = [(x / 10**6) for x in playstore['Size']]\n",
    "    \n",
    "playstore.describe()"
   ]
  },
  {
   "cell_type": "markdown",
   "metadata": {},
   "source": [
    "Rimuovo il '+' da 'Installs' per renderlo quantitativo:"
   ]
  },
  {
   "cell_type": "code",
   "execution_count": 7,
   "metadata": {},
   "outputs": [
    {
     "data": {
      "text/html": [
       "<div>\n",
       "<style scoped>\n",
       "    .dataframe tbody tr th:only-of-type {\n",
       "        vertical-align: middle;\n",
       "    }\n",
       "\n",
       "    .dataframe tbody tr th {\n",
       "        vertical-align: top;\n",
       "    }\n",
       "\n",
       "    .dataframe thead th {\n",
       "        text-align: right;\n",
       "    }\n",
       "</style>\n",
       "<table border=\"1\" class=\"dataframe\">\n",
       "  <thead>\n",
       "    <tr style=\"text-align: right;\">\n",
       "      <th></th>\n",
       "      <th>Rating</th>\n",
       "      <th>Size</th>\n",
       "      <th>Installs</th>\n",
       "    </tr>\n",
       "  </thead>\n",
       "  <tbody>\n",
       "    <tr>\n",
       "      <th>count</th>\n",
       "      <td>7729.000000</td>\n",
       "      <td>9145.000000</td>\n",
       "      <td>9.145000e+03</td>\n",
       "    </tr>\n",
       "    <tr>\n",
       "      <th>mean</th>\n",
       "      <td>4.173852</td>\n",
       "      <td>19.577482</td>\n",
       "      <td>7.114842e+06</td>\n",
       "    </tr>\n",
       "    <tr>\n",
       "      <th>std</th>\n",
       "      <td>0.544563</td>\n",
       "      <td>24.043640</td>\n",
       "      <td>4.619357e+07</td>\n",
       "    </tr>\n",
       "    <tr>\n",
       "      <th>min</th>\n",
       "      <td>1.000000</td>\n",
       "      <td>0.000001</td>\n",
       "      <td>0.000000e+00</td>\n",
       "    </tr>\n",
       "    <tr>\n",
       "      <th>25%</th>\n",
       "      <td>4.000000</td>\n",
       "      <td>0.000006</td>\n",
       "      <td>1.000000e+03</td>\n",
       "    </tr>\n",
       "    <tr>\n",
       "      <th>50%</th>\n",
       "      <td>4.300000</td>\n",
       "      <td>13.000000</td>\n",
       "      <td>1.000000e+05</td>\n",
       "    </tr>\n",
       "    <tr>\n",
       "      <th>75%</th>\n",
       "      <td>4.500000</td>\n",
       "      <td>30.000000</td>\n",
       "      <td>1.000000e+06</td>\n",
       "    </tr>\n",
       "    <tr>\n",
       "      <th>max</th>\n",
       "      <td>5.000000</td>\n",
       "      <td>100.000000</td>\n",
       "      <td>1.000000e+09</td>\n",
       "    </tr>\n",
       "  </tbody>\n",
       "</table>\n",
       "</div>"
      ],
      "text/plain": [
       "            Rating         Size      Installs\n",
       "count  7729.000000  9145.000000  9.145000e+03\n",
       "mean      4.173852    19.577482  7.114842e+06\n",
       "std       0.544563    24.043640  4.619357e+07\n",
       "min       1.000000     0.000001  0.000000e+00\n",
       "25%       4.000000     0.000006  1.000000e+03\n",
       "50%       4.300000    13.000000  1.000000e+05\n",
       "75%       4.500000    30.000000  1.000000e+06\n",
       "max       5.000000   100.000000  1.000000e+09"
      ]
     },
     "execution_count": 7,
     "metadata": {},
     "output_type": "execute_result"
    }
   ],
   "source": [
    "if(type(playstore['Installs'][0]) is str):\n",
    "    playstore = playstore[playstore.Installs != \"Free\"] # rimuovo le righe con questo valore per Installs\n",
    "    playstore['Installs'] = [float(x.replace(\"+\",\"\").replace(\",\",\".\").replace(\".\",\"\")) for x in playstore['Installs']]\n",
    "    \n",
    "playstore.describe()"
   ]
  },
  {
   "cell_type": "markdown",
   "metadata": {},
   "source": [
    "Analizzo ora le feature Reviews e P"
   ]
  },
  {
   "cell_type": "code",
   "execution_count": 8,
   "metadata": {},
   "outputs": [
    {
     "name": "stdout",
     "output_type": "stream",
     "text": [
      "<class 'str'>\n",
      "<class 'str'>\n"
     ]
    }
   ],
   "source": [
    "print(type(playstore['Reviews'][0]))\n",
    "print(type(playstore['Price'][0]))\n"
   ]
  },
  {
   "cell_type": "markdown",
   "metadata": {},
   "source": [
    "Devo convertire anche loro al fine di renderli quantitativi"
   ]
  },
  {
   "cell_type": "code",
   "execution_count": 9,
   "metadata": {},
   "outputs": [
    {
     "data": {
      "text/html": [
       "<div>\n",
       "<style scoped>\n",
       "    .dataframe tbody tr th:only-of-type {\n",
       "        vertical-align: middle;\n",
       "    }\n",
       "\n",
       "    .dataframe tbody tr th {\n",
       "        vertical-align: top;\n",
       "    }\n",
       "\n",
       "    .dataframe thead th {\n",
       "        text-align: right;\n",
       "    }\n",
       "</style>\n",
       "<table border=\"1\" class=\"dataframe\">\n",
       "  <thead>\n",
       "    <tr style=\"text-align: right;\">\n",
       "      <th></th>\n",
       "      <th>Rating</th>\n",
       "      <th>Reviews</th>\n",
       "      <th>Size</th>\n",
       "      <th>Installs</th>\n",
       "      <th>Price</th>\n",
       "    </tr>\n",
       "  </thead>\n",
       "  <tbody>\n",
       "    <tr>\n",
       "      <th>count</th>\n",
       "      <td>7729.000000</td>\n",
       "      <td>9.145000e+03</td>\n",
       "      <td>9145.000000</td>\n",
       "      <td>9.145000e+03</td>\n",
       "      <td>9145.000000</td>\n",
       "    </tr>\n",
       "    <tr>\n",
       "      <th>mean</th>\n",
       "      <td>4.173852</td>\n",
       "      <td>2.490487e+05</td>\n",
       "      <td>19.577482</td>\n",
       "      <td>7.114842e+06</td>\n",
       "      <td>1.184366</td>\n",
       "    </tr>\n",
       "    <tr>\n",
       "      <th>std</th>\n",
       "      <td>0.544563</td>\n",
       "      <td>1.716211e+06</td>\n",
       "      <td>24.043640</td>\n",
       "      <td>4.619357e+07</td>\n",
       "      <td>17.355754</td>\n",
       "    </tr>\n",
       "    <tr>\n",
       "      <th>min</th>\n",
       "      <td>1.000000</td>\n",
       "      <td>0.000000e+00</td>\n",
       "      <td>0.000001</td>\n",
       "      <td>0.000000e+00</td>\n",
       "      <td>0.000000</td>\n",
       "    </tr>\n",
       "    <tr>\n",
       "      <th>25%</th>\n",
       "      <td>4.000000</td>\n",
       "      <td>2.200000e+01</td>\n",
       "      <td>0.000006</td>\n",
       "      <td>1.000000e+03</td>\n",
       "      <td>0.000000</td>\n",
       "    </tr>\n",
       "    <tr>\n",
       "      <th>50%</th>\n",
       "      <td>4.300000</td>\n",
       "      <td>7.420000e+02</td>\n",
       "      <td>13.000000</td>\n",
       "      <td>1.000000e+05</td>\n",
       "      <td>0.000000</td>\n",
       "    </tr>\n",
       "    <tr>\n",
       "      <th>75%</th>\n",
       "      <td>4.500000</td>\n",
       "      <td>2.503700e+04</td>\n",
       "      <td>30.000000</td>\n",
       "      <td>1.000000e+06</td>\n",
       "      <td>0.000000</td>\n",
       "    </tr>\n",
       "    <tr>\n",
       "      <th>max</th>\n",
       "      <td>5.000000</td>\n",
       "      <td>4.489389e+07</td>\n",
       "      <td>100.000000</td>\n",
       "      <td>1.000000e+09</td>\n",
       "      <td>400.000000</td>\n",
       "    </tr>\n",
       "  </tbody>\n",
       "</table>\n",
       "</div>"
      ],
      "text/plain": [
       "            Rating       Reviews         Size      Installs        Price\n",
       "count  7729.000000  9.145000e+03  9145.000000  9.145000e+03  9145.000000\n",
       "mean      4.173852  2.490487e+05    19.577482  7.114842e+06     1.184366\n",
       "std       0.544563  1.716211e+06    24.043640  4.619357e+07    17.355754\n",
       "min       1.000000  0.000000e+00     0.000001  0.000000e+00     0.000000\n",
       "25%       4.000000  2.200000e+01     0.000006  1.000000e+03     0.000000\n",
       "50%       4.300000  7.420000e+02    13.000000  1.000000e+05     0.000000\n",
       "75%       4.500000  2.503700e+04    30.000000  1.000000e+06     0.000000\n",
       "max       5.000000  4.489389e+07   100.000000  1.000000e+09   400.000000"
      ]
     },
     "execution_count": 9,
     "metadata": {},
     "output_type": "execute_result"
    }
   ],
   "source": [
    "if(type(playstore['Reviews'][0]) is str):\n",
    "    playstore['Reviews'] = [float(x.replace(\"M\",\"000000\")) for x in playstore['Reviews']]\n",
    "\n",
    "if(type(playstore['Price'][0]) is str):\n",
    "    playstore = playstore[playstore.Price != \"Everyone\"] # rimuovo le righe con questo valore per Price\n",
    "    playstore['Price'] = [float(x.replace(\"$\",\"\")) for x in playstore['Price']]\n",
    "\n",
    "playstore.describe()"
   ]
  },
  {
   "cell_type": "markdown",
   "metadata": {},
   "source": [
    "## Gestione dei Valori Nulli"
   ]
  },
  {
   "cell_type": "code",
   "execution_count": 10,
   "metadata": {
    "colab": {
     "base_uri": "https://localhost:8080/",
     "height": 175
    },
    "id": "6MKNES8mF-kX",
    "outputId": "046bcfbe-5610-49fb-9d68-6fb772e1961a"
   },
   "outputs": [
    {
     "data": {
      "text/html": [
       "<div>\n",
       "<style scoped>\n",
       "    .dataframe tbody tr th:only-of-type {\n",
       "        vertical-align: middle;\n",
       "    }\n",
       "\n",
       "    .dataframe tbody tr th {\n",
       "        vertical-align: top;\n",
       "    }\n",
       "\n",
       "    .dataframe thead th {\n",
       "        text-align: right;\n",
       "    }\n",
       "</style>\n",
       "<table border=\"1\" class=\"dataframe\">\n",
       "  <thead>\n",
       "    <tr style=\"text-align: right;\">\n",
       "      <th></th>\n",
       "      <th>App</th>\n",
       "      <th>Category</th>\n",
       "      <th>Type</th>\n",
       "      <th>Content Rating</th>\n",
       "      <th>Genres</th>\n",
       "      <th>Last Updated</th>\n",
       "      <th>Current Ver</th>\n",
       "      <th>Android Ver</th>\n",
       "    </tr>\n",
       "  </thead>\n",
       "  <tbody>\n",
       "    <tr>\n",
       "      <th>count</th>\n",
       "      <td>10841</td>\n",
       "      <td>10841</td>\n",
       "      <td>10840</td>\n",
       "      <td>10840</td>\n",
       "      <td>10841</td>\n",
       "      <td>10841</td>\n",
       "      <td>10833</td>\n",
       "      <td>10838</td>\n",
       "    </tr>\n",
       "    <tr>\n",
       "      <th>unique</th>\n",
       "      <td>9660</td>\n",
       "      <td>34</td>\n",
       "      <td>3</td>\n",
       "      <td>6</td>\n",
       "      <td>120</td>\n",
       "      <td>1378</td>\n",
       "      <td>2832</td>\n",
       "      <td>33</td>\n",
       "    </tr>\n",
       "    <tr>\n",
       "      <th>top</th>\n",
       "      <td>ROBLOX</td>\n",
       "      <td>FAMILY</td>\n",
       "      <td>Free</td>\n",
       "      <td>Everyone</td>\n",
       "      <td>Tools</td>\n",
       "      <td>August 3, 2018</td>\n",
       "      <td>Varies with device</td>\n",
       "      <td>4.1 and up</td>\n",
       "    </tr>\n",
       "    <tr>\n",
       "      <th>freq</th>\n",
       "      <td>9</td>\n",
       "      <td>1972</td>\n",
       "      <td>10039</td>\n",
       "      <td>8714</td>\n",
       "      <td>842</td>\n",
       "      <td>326</td>\n",
       "      <td>1459</td>\n",
       "      <td>2451</td>\n",
       "    </tr>\n",
       "  </tbody>\n",
       "</table>\n",
       "</div>"
      ],
      "text/plain": [
       "           App Category   Type Content Rating Genres    Last Updated  \\\n",
       "count    10841    10841  10840          10840  10841           10841   \n",
       "unique    9660       34      3              6    120            1378   \n",
       "top     ROBLOX   FAMILY   Free       Everyone  Tools  August 3, 2018   \n",
       "freq         9     1972  10039           8714    842             326   \n",
       "\n",
       "               Current Ver Android Ver  \n",
       "count                10833       10838  \n",
       "unique                2832          33  \n",
       "top     Varies with device  4.1 and up  \n",
       "freq                  1459        2451  "
      ]
     },
     "execution_count": 10,
     "metadata": {},
     "output_type": "execute_result"
    }
   ],
   "source": [
    "qualitative_playstore.describe()"
   ]
  },
  {
   "cell_type": "markdown",
   "metadata": {
    "id": "3z7KAOD4v7Cb"
   },
   "source": [
    "Notiamo che le colonne hanno piu' o meno tutte lo stesso valore per count, quindi possiamo immaginare ci siano pochi valori nulli per le variabili quantitative, mentre i rating sembrano essere circa mille in meno; verifichiamo con:"
   ]
  },
  {
   "cell_type": "code",
   "execution_count": 11,
   "metadata": {
    "colab": {
     "base_uri": "https://localhost:8080/"
    },
    "id": "ZZ71CKCxwP1D",
    "outputId": "f591cef0-c43a-411b-e387-6906a092dc7a"
   },
   "outputs": [
    {
     "data": {
      "text/plain": [
       "App                  0\n",
       "Category             0\n",
       "Rating            1416\n",
       "Reviews              0\n",
       "Size                 0\n",
       "Installs             0\n",
       "Type                 0\n",
       "Price                0\n",
       "Content Rating       0\n",
       "Genres               0\n",
       "Last Updated         0\n",
       "Current Ver          8\n",
       "Android Ver          2\n",
       "dtype: int64"
      ]
     },
     "execution_count": 11,
     "metadata": {},
     "output_type": "execute_result"
    }
   ],
   "source": [
    "# dobbiamo verificare che le entry siano nulle e non NaN o qualcos'altro\n",
    "playstore.isnull().sum() # ci da tutte le occorrenze nulle"
   ]
  },
  {
   "cell_type": "markdown",
   "metadata": {
    "id": "oG9kN9Gswrx2"
   },
   "source": [
    "Prendiamo in considerazione quindi la colonna \"Rating\". Abbiamo due soluzioni:\n",
    "1. Eliminare le righe con elementi nulli oppure\n",
    "2. Provare a completarle. "
   ]
  },
  {
   "cell_type": "code",
   "execution_count": 12,
   "metadata": {
    "colab": {
     "base_uri": "https://localhost:8080/"
    },
    "id": "7M1fTy65xCrk",
    "outputId": "f6f5e5c5-7d8b-4274-e6f6-83268e1d1d05"
   },
   "outputs": [
    {
     "name": "stdout",
     "output_type": "stream",
     "text": [
      "4.173851727260969\n"
     ]
    },
    {
     "data": {
      "text/plain": [
       "App               0\n",
       "Category          0\n",
       "Rating            0\n",
       "Reviews           0\n",
       "Size              0\n",
       "Installs          0\n",
       "Type              0\n",
       "Price             0\n",
       "Content Rating    0\n",
       "Genres            0\n",
       "Last Updated      0\n",
       "Current Ver       0\n",
       "Android Ver       0\n",
       "dtype: int64"
      ]
     },
     "execution_count": 12,
     "metadata": {},
     "output_type": "execute_result"
    }
   ],
   "source": [
    "# Soluzione 2 (per Rating)\n",
    "average_rating = playstore['Rating'].mean()\n",
    "print(average_rating)\n",
    "playstore['Rating'].fillna(average_rating, inplace = True) # completa i mancanti con la media degli altri\n",
    "\n",
    "# Soluzione 1 (per i pochi altri valori nulli)\n",
    "playstore.dropna(how ='any', inplace = True)\n",
    "\n",
    "# Risultato\n",
    "playstore.isnull().sum()"
   ]
  },
  {
   "cell_type": "markdown",
   "metadata": {},
   "source": [
    "Ho quindi adottato la soluzione del completamento per Rating e di eliminazione per gli altri valori nulli.\n",
    "\n",
    "Guardiamo ora il dataset:"
   ]
  },
  {
   "cell_type": "code",
   "execution_count": 13,
   "metadata": {},
   "outputs": [
    {
     "name": "stdout",
     "output_type": "stream",
     "text": [
      "(9135, 13)\n"
     ]
    },
    {
     "data": {
      "text/html": [
       "<div>\n",
       "<style scoped>\n",
       "    .dataframe tbody tr th:only-of-type {\n",
       "        vertical-align: middle;\n",
       "    }\n",
       "\n",
       "    .dataframe tbody tr th {\n",
       "        vertical-align: top;\n",
       "    }\n",
       "\n",
       "    .dataframe thead th {\n",
       "        text-align: right;\n",
       "    }\n",
       "</style>\n",
       "<table border=\"1\" class=\"dataframe\">\n",
       "  <thead>\n",
       "    <tr style=\"text-align: right;\">\n",
       "      <th></th>\n",
       "      <th>Rating</th>\n",
       "      <th>Reviews</th>\n",
       "      <th>Size</th>\n",
       "      <th>Installs</th>\n",
       "      <th>Price</th>\n",
       "    </tr>\n",
       "  </thead>\n",
       "  <tbody>\n",
       "    <tr>\n",
       "      <th>count</th>\n",
       "      <td>9135.000000</td>\n",
       "      <td>9.135000e+03</td>\n",
       "      <td>9135.000000</td>\n",
       "      <td>9.135000e+03</td>\n",
       "      <td>9135.000000</td>\n",
       "    </tr>\n",
       "    <tr>\n",
       "      <th>mean</th>\n",
       "      <td>4.173922</td>\n",
       "      <td>2.493186e+05</td>\n",
       "      <td>19.596053</td>\n",
       "      <td>7.122458e+06</td>\n",
       "      <td>1.185283</td>\n",
       "    </tr>\n",
       "    <tr>\n",
       "      <th>std</th>\n",
       "      <td>0.500775</td>\n",
       "      <td>1.717130e+06</td>\n",
       "      <td>24.049674</td>\n",
       "      <td>4.621827e+07</td>\n",
       "      <td>17.365220</td>\n",
       "    </tr>\n",
       "    <tr>\n",
       "      <th>min</th>\n",
       "      <td>1.000000</td>\n",
       "      <td>0.000000e+00</td>\n",
       "      <td>0.000001</td>\n",
       "      <td>0.000000e+00</td>\n",
       "      <td>0.000000</td>\n",
       "    </tr>\n",
       "    <tr>\n",
       "      <th>25%</th>\n",
       "      <td>4.100000</td>\n",
       "      <td>2.200000e+01</td>\n",
       "      <td>0.000006</td>\n",
       "      <td>1.000000e+03</td>\n",
       "      <td>0.000000</td>\n",
       "    </tr>\n",
       "    <tr>\n",
       "      <th>50%</th>\n",
       "      <td>4.200000</td>\n",
       "      <td>7.420000e+02</td>\n",
       "      <td>13.000000</td>\n",
       "      <td>1.000000e+05</td>\n",
       "      <td>0.000000</td>\n",
       "    </tr>\n",
       "    <tr>\n",
       "      <th>75%</th>\n",
       "      <td>4.500000</td>\n",
       "      <td>2.516900e+04</td>\n",
       "      <td>30.000000</td>\n",
       "      <td>1.000000e+06</td>\n",
       "      <td>0.000000</td>\n",
       "    </tr>\n",
       "    <tr>\n",
       "      <th>max</th>\n",
       "      <td>5.000000</td>\n",
       "      <td>4.489389e+07</td>\n",
       "      <td>100.000000</td>\n",
       "      <td>1.000000e+09</td>\n",
       "      <td>400.000000</td>\n",
       "    </tr>\n",
       "  </tbody>\n",
       "</table>\n",
       "</div>"
      ],
      "text/plain": [
       "            Rating       Reviews         Size      Installs        Price\n",
       "count  9135.000000  9.135000e+03  9135.000000  9.135000e+03  9135.000000\n",
       "mean      4.173922  2.493186e+05    19.596053  7.122458e+06     1.185283\n",
       "std       0.500775  1.717130e+06    24.049674  4.621827e+07    17.365220\n",
       "min       1.000000  0.000000e+00     0.000001  0.000000e+00     0.000000\n",
       "25%       4.100000  2.200000e+01     0.000006  1.000000e+03     0.000000\n",
       "50%       4.200000  7.420000e+02    13.000000  1.000000e+05     0.000000\n",
       "75%       4.500000  2.516900e+04    30.000000  1.000000e+06     0.000000\n",
       "max       5.000000  4.489389e+07   100.000000  1.000000e+09   400.000000"
      ]
     },
     "execution_count": 13,
     "metadata": {},
     "output_type": "execute_result"
    }
   ],
   "source": [
    "print(playstore.shape)\n",
    "\n",
    "playstore.describe()"
   ]
  },
  {
   "cell_type": "markdown",
   "metadata": {},
   "source": [
    "Abbiamo rimosso circa mille righe ma i valori ora hanno un senso e il dataset è pulito e ordinato: siamo pronti ad una prima analisi delle feature."
   ]
  },
  {
   "cell_type": "markdown",
   "metadata": {},
   "source": [
    "# Analisi delle Feature"
   ]
  },
  {
   "cell_type": "markdown",
   "metadata": {},
   "source": [
    "Cerchiamo di analizzare alcune features, per estrapolare interessanti informazioni su di esse e le loro correlazioni. \n",
    "\n",
    "Andiamo inanzitutto a dare un'occhiata alla tabella delle correlazioni."
   ]
  },
  {
   "cell_type": "code",
   "execution_count": 14,
   "metadata": {},
   "outputs": [
    {
     "data": {
      "text/html": [
       "<style type=\"text/css\">\n",
       "#T_79175_row0_col0, #T_79175_row1_col1, #T_79175_row2_col2, #T_79175_row3_col3, #T_79175_row4_col4 {\n",
       "  background-color: #08306b;\n",
       "  color: #f1f1f1;\n",
       "}\n",
       "#T_79175_row0_col1 {\n",
       "  background-color: #e6f0f9;\n",
       "  color: #000000;\n",
       "}\n",
       "#T_79175_row0_col2 {\n",
       "  background-color: #e3eef9;\n",
       "  color: #000000;\n",
       "}\n",
       "#T_79175_row0_col3 {\n",
       "  background-color: #ebf3fb;\n",
       "  color: #000000;\n",
       "}\n",
       "#T_79175_row0_col4, #T_79175_row2_col4, #T_79175_row4_col0, #T_79175_row4_col1, #T_79175_row4_col2, #T_79175_row4_col3 {\n",
       "  background-color: #f7fbff;\n",
       "  color: #000000;\n",
       "}\n",
       "#T_79175_row1_col0, #T_79175_row2_col0 {\n",
       "  background-color: #e4eff9;\n",
       "  color: #000000;\n",
       "}\n",
       "#T_79175_row1_col2 {\n",
       "  background-color: #c6dbef;\n",
       "  color: #000000;\n",
       "}\n",
       "#T_79175_row1_col3, #T_79175_row3_col1 {\n",
       "  background-color: #4090c5;\n",
       "  color: #f1f1f1;\n",
       "}\n",
       "#T_79175_row1_col4, #T_79175_row3_col4 {\n",
       "  background-color: #f5f9fe;\n",
       "  color: #000000;\n",
       "}\n",
       "#T_79175_row2_col1 {\n",
       "  background-color: #c8dcf0;\n",
       "  color: #000000;\n",
       "}\n",
       "#T_79175_row2_col3 {\n",
       "  background-color: #d5e5f4;\n",
       "  color: #000000;\n",
       "}\n",
       "#T_79175_row3_col0 {\n",
       "  background-color: #e9f2fa;\n",
       "  color: #000000;\n",
       "}\n",
       "#T_79175_row3_col2 {\n",
       "  background-color: #d3e4f3;\n",
       "  color: #000000;\n",
       "}\n",
       "</style>\n",
       "<table id=\"T_79175_\">\n",
       "  <thead>\n",
       "    <tr>\n",
       "      <th class=\"blank level0\" >&nbsp;</th>\n",
       "      <th class=\"col_heading level0 col0\" >Rating</th>\n",
       "      <th class=\"col_heading level0 col1\" >Reviews</th>\n",
       "      <th class=\"col_heading level0 col2\" >Size</th>\n",
       "      <th class=\"col_heading level0 col3\" >Installs</th>\n",
       "      <th class=\"col_heading level0 col4\" >Price</th>\n",
       "    </tr>\n",
       "  </thead>\n",
       "  <tbody>\n",
       "    <tr>\n",
       "      <th id=\"T_79175_level0_row0\" class=\"row_heading level0 row0\" >Rating</th>\n",
       "      <td id=\"T_79175_row0_col0\" class=\"data row0 col0\" >1.000000</td>\n",
       "      <td id=\"T_79175_row0_col1\" class=\"data row0 col1\" >0.079669</td>\n",
       "      <td id=\"T_79175_row0_col2\" class=\"data row0 col2\" >0.078152</td>\n",
       "      <td id=\"T_79175_row0_col3\" class=\"data row0 col3\" >0.052583</td>\n",
       "      <td id=\"T_79175_row0_col4\" class=\"data row0 col4\" >-0.019652</td>\n",
       "    </tr>\n",
       "    <tr>\n",
       "      <th id=\"T_79175_level0_row1\" class=\"row_heading level0 row1\" >Reviews</th>\n",
       "      <td id=\"T_79175_row1_col0\" class=\"data row1 col0\" >0.079669</td>\n",
       "      <td id=\"T_79175_row1_col1\" class=\"data row1 col1\" >1.000000</td>\n",
       "      <td id=\"T_79175_row1_col2\" class=\"data row1 col2\" >0.233747</td>\n",
       "      <td id=\"T_79175_row1_col3\" class=\"data row1 col3\" >0.627711</td>\n",
       "      <td id=\"T_79175_row1_col4\" class=\"data row1 col4\" >-0.009846</td>\n",
       "    </tr>\n",
       "    <tr>\n",
       "      <th id=\"T_79175_level0_row2\" class=\"row_heading level0 row2\" >Size</th>\n",
       "      <td id=\"T_79175_row2_col0\" class=\"data row2 col0\" >0.078152</td>\n",
       "      <td id=\"T_79175_row2_col1\" class=\"data row2 col1\" >0.233747</td>\n",
       "      <td id=\"T_79175_row2_col2\" class=\"data row2 col2\" >1.000000</td>\n",
       "      <td id=\"T_79175_row2_col3\" class=\"data row2 col3\" >0.164542</td>\n",
       "      <td id=\"T_79175_row2_col4\" class=\"data row2 col4\" >-0.022822</td>\n",
       "    </tr>\n",
       "    <tr>\n",
       "      <th id=\"T_79175_level0_row3\" class=\"row_heading level0 row3\" >Installs</th>\n",
       "      <td id=\"T_79175_row3_col0\" class=\"data row3 col0\" >0.052583</td>\n",
       "      <td id=\"T_79175_row3_col1\" class=\"data row3 col1\" >0.627711</td>\n",
       "      <td id=\"T_79175_row3_col2\" class=\"data row3 col2\" >0.164542</td>\n",
       "      <td id=\"T_79175_row3_col3\" class=\"data row3 col3\" >1.000000</td>\n",
       "      <td id=\"T_79175_row3_col4\" class=\"data row3 col4\" >-0.010489</td>\n",
       "    </tr>\n",
       "    <tr>\n",
       "      <th id=\"T_79175_level0_row4\" class=\"row_heading level0 row4\" >Price</th>\n",
       "      <td id=\"T_79175_row4_col0\" class=\"data row4 col0\" >-0.019652</td>\n",
       "      <td id=\"T_79175_row4_col1\" class=\"data row4 col1\" >-0.009846</td>\n",
       "      <td id=\"T_79175_row4_col2\" class=\"data row4 col2\" >-0.022822</td>\n",
       "      <td id=\"T_79175_row4_col3\" class=\"data row4 col3\" >-0.010489</td>\n",
       "      <td id=\"T_79175_row4_col4\" class=\"data row4 col4\" >1.000000</td>\n",
       "    </tr>\n",
       "  </tbody>\n",
       "</table>\n"
      ],
      "text/plain": [
       "<pandas.io.formats.style.Styler at 0x115b460b5e0>"
      ]
     },
     "execution_count": 14,
     "metadata": {},
     "output_type": "execute_result"
    }
   ],
   "source": [
    "playstore.corr().style.background_gradient(cmap=\"Blues\")"
   ]
  },
  {
   "cell_type": "markdown",
   "metadata": {},
   "source": [
    "Notiamo:\n",
    "- una correlazione tra Reviews e Installs,\n",
    "- una leggera correlazione tra Size e Reviews,\n",
    "- una leggera correlazione tra Size e Installs.\n"
   ]
  },
  {
   "cell_type": "markdown",
   "metadata": {
    "id": "JjbBtPvIPQBR"
   },
   "source": [
    "# Analisi su Rating di App Gratuite o a Pagamento\n",
    "In questa prima analisi ci concentriamo principalmente sulle feature Rating e Price, pondendoci 3 domande:\n",
    "\n",
    "1. qual'è la distribuzione dei Rating?\n",
    "\n",
    "2. qual'è la percentuale di app a pagamento e app gratuite?\n",
    "\n",
    "3. T-Test: le app gratuite sono piu' gradite (in media) di quelle a pagamento?\n",
    "\n"
   ]
  },
  {
   "cell_type": "code",
   "execution_count": 15,
   "metadata": {
    "colab": {
     "base_uri": "https://localhost:8080/",
     "height": 721
    },
    "id": "jfHLGWskIOyA",
    "outputId": "08b94fc8-bb96-4105-8f4a-131420292e01"
   },
   "outputs": [
    {
     "name": "stdout",
     "output_type": "stream",
     "text": [
      "(0.995, 1.8]      43\n",
      "(1.8, 2.6]       127\n",
      "(2.6, 3.4]       516\n",
      "(3.4, 4.2]      4338\n",
      "(4.2, 5.0]      4111\n",
      "Name: Rating, dtype: int64\n"
     ]
    },
    {
     "data": {
      "text/plain": [
       "<AxesSubplot:>"
      ]
     },
     "execution_count": 15,
     "metadata": {},
     "output_type": "execute_result"
    },
    {
     "data": {
      "image/png": "[encoded data removed]",
      "text/plain": [
       "<Figure size 432x288 with 1 Axes>"
      ]
     },
     "metadata": {
      "needs_background": "light"
     },
     "output_type": "display_data"
    }
   ],
   "source": [
    "Ratings = playstore['Rating']\n",
    "Ratings = Ratings.value_counts(bins=5, sort=False) # divido in 20 classi di prezzo \n",
    "print(Ratings)\n",
    "Ratings.plot(kind = 'bar')"
   ]
  },
  {
   "cell_type": "markdown",
   "metadata": {},
   "source": [
    "Notiamo che la maggior parte delle valutazioni degli utenti sono positive.\n",
    "\n",
    "Andiamo ora ad osservare la percentuale di app a pagamento e app gratuite."
   ]
  },
  {
   "cell_type": "code",
   "execution_count": 16,
   "metadata": {
    "colab": {
     "base_uri": "https://localhost:8080/"
    },
    "id": "EtdlSKcqVMTb",
    "outputId": "6b8bbc39-2235-4c09-c306-141af73d4631"
   },
   "outputs": [
    {
     "name": "stdout",
     "output_type": "stream",
     "text": [
      "Percentuale di app gratis: 0.9210727969348659\n",
      "Percentuale di app a pagamento: 0.0789272030651341\n"
     ]
    }
   ],
   "source": [
    "free_apps = playstore[playstore['Price']==0]\n",
    "paid_apps = playstore[playstore['Price']>0]\n",
    "\n",
    "perc_app_gratis = len(free_apps) / playstore.shape[0]\n",
    "perc_app_pagate = len(paid_apps) / playstore.shape[0]\n",
    "\n",
    "print(\"Percentuale di app gratis: \" + str(perc_app_gratis))\n",
    "print(\"Percentuale di app a pagamento: \" + str(perc_app_pagate))"
   ]
  },
  {
   "cell_type": "markdown",
   "metadata": {
    "id": "yYU_DFA6DK3m"
   },
   "source": [
    "### T-Test: le app gratuite sono piu' gradite (in media) di quelle a pagamento?\n",
    "\n",
    "Formuliamo ora un'ipotesi circa il gradimento di app gratuite e a pagamento, usando la seguente notazione:\n",
    "\n",
    "H0 = \"il gradimento delle app gratuite è maggiore del gradimento delle app a pagamento\". \n",
    "\n",
    "A questo punto l'ipotesi alternativa è:\n",
    "\n",
    "HA = \"il gradimento delle app gratuite è minore o uguale del gradimento delle app a pagamento\". \n",
    "\n",
    "\n",
    "Ritengo un app gradita se ha almeno 3.5 di media tra le sue recensioni.\n",
    "\n",
    "\n",
    "Usiamo un **t-test a una coda** per verificare se l'ipotesi nulla è corretta.\n",
    "\n",
    "Sappiamo che si devono verificare alcune ipotesi:\n",
    "1. Campione con numero di elementi n > 30;\n",
    "2. Popolazione N almeno dieci volte superiore al campione N > 10*n.\n",
    "\n",
    "Per applicare al dataset Titanic, prima di tutto verifichiamo quante persone abbiamo nelle varie classi.\n",
    "\n"
   ]
  },
  {
   "cell_type": "code",
   "execution_count": 17,
   "metadata": {
    "colab": {
     "base_uri": "https://localhost:8080/"
    },
    "id": "UcbzGpcNuErH",
    "outputId": "22da627d-9ed0-403f-e1da-a7cc0d732e94"
   },
   "outputs": [
    {
     "name": "stdout",
     "output_type": "stream",
     "text": [
      "Grandezza campione:\t\t (500,)\n",
      "Media sul campione:\t\t 4.168720869452721\n",
      "Popolazione restante:\t\t (721,)\n",
      "Media sulla popolazione restante: 4.237079956623569\n"
     ]
    }
   ],
   "source": [
    "campione = free_apps['Rating'].sample(n = 500) # prendo un campione di 500 app scelte casualmente\n",
    "print(\"Grandezza campione:\\t\\t \" + str(campione.shape))\n",
    "print(\"Media sul campione:\\t\\t \" + str(np.mean(campione)))\n",
    "\n",
    "popolazione_restante = paid_apps['Rating']\n",
    "print(\"Popolazione restante:\\t\\t \" + str(popolazione_restante.shape))\n",
    "print(\"Media sulla popolazione restante: \" + str(np.mean(popolazione_restante)))"
   ]
  },
  {
   "cell_type": "markdown",
   "metadata": {
    "id": "y4yaqq0QEeKs"
   },
   "source": [
    "*??? le prendo tutte quelle a pagamento o solo un campione??*\n",
    "\n",
    "Abbiamo considerato un campione di 500 app gratuite, e di 721 app a pagamento. \n",
    "\n",
    "Le condizioni del t-test sono quindi verificate, infatti:\n",
    "\n",
    "Campione = 500 app gratuite;\n",
    "Popolazione totale = 9135\n",
    "\n",
    "Quindi le due condizioni sono verificate. \n",
    "Eseguiamo il t-test usando la libreria scipy. Scegliamo un intervallo di confidenza pari a 0.95. "
   ]
  },
  {
   "cell_type": "code",
   "execution_count": 18,
   "metadata": {
    "colab": {
     "base_uri": "https://localhost:8080/"
    },
    "id": "kpHoKGxPEdrb",
    "outputId": "957161f5-c233-4a7f-cf3a-eaeb22d667ce"
   },
   "outputs": [
    {
     "name": "stdout",
     "output_type": "stream",
     "text": [
      "-3.14061852157212\n",
      "0.9991070375791405\n"
     ]
    }
   ],
   "source": [
    "t_statistic, p_value = stats.ttest_1samp(a= campione, popmean= popolazione_restante.mean(),alternative='greater')\n",
    "print(t_statistic)\n",
    "print(p_value)"
   ]
  },
  {
   "cell_type": "markdown",
   "metadata": {
    "id": "eRDb0J-feqjh"
   },
   "source": [
    "*p-value > livello di confidenza*, infatti: 0.99 > 0.95\n",
    "\n",
    "H0 è quindi accettata, quindi **il gradimento delle app gratuite è maggiore del gradimento delle app a pagamento**.\n"
   ]
  },
  {
   "cell_type": "markdown",
   "metadata": {},
   "source": [
    "# Analisi su Installazioni e Categorie\n",
    "In questa seconda analisi ci concentriamo principalmente sulle feature Genres e Installs, pondendoci 2 domande:\n",
    "\n",
    "1. quali sono le categorie con piu' installazioni?\n",
    "\n",
    "2. t-test: le app di social network e messaggistica sono piu' installate di qualsiasi altra categoria?"
   ]
  },
  {
   "cell_type": "code",
   "execution_count": 19,
   "metadata": {
    "scrolled": true
   },
   "outputs": [
    {
     "data": {
      "text/plain": [
       "<matplotlib.collections.PathCollection at 0x115b4932670>"
      ]
     },
     "execution_count": 19,
     "metadata": {},
     "output_type": "execute_result"
    },
    {
     "data": {
      "image/png": "[encoded data removed]",
      "text/plain": [
       "<Figure size 432x288 with 1 Axes>"
      ]
     },
     "metadata": {
      "needs_background": "light"
     },
     "output_type": "display_data"
    }
   ],
   "source": [
    "plt.scatter(playstore['Category'], playstore['Installs'], color = 'y') # crea un grafico a dispersione (asse x, asse y)"
   ]
  },
  {
   "cell_type": "markdown",
   "metadata": {},
   "source": [
    "### T-Test:  le app di social network e messaggistica sono piu' installate di qualsiasi altra categoria?\n",
    "\n",
    "Formuliamo ora un'ipotesi circa il numero di installazioni di app di networking e messaggistica, usando la seguente notazione:\n",
    "\n",
    "H0 = \"il gradimento delle app gratuite è maggiore del gradimento delle app a pagamento\". \n",
    "\n",
    "A questo punto l'ipotesi alternativa è:\n",
    "\n",
    "HA = \"il gradimento delle app gratuite è minore o uguale del gradimento delle app a pagamento\". \n",
    "\n",
    "\n",
    "Ritengo un app gradita se ha almeno 3.5 di media tra le sue recensioni.\n",
    "\n",
    "\n",
    "Usiamo un **t-test a una coda** per verificare se l'ipotesi nulla è corretta.\n",
    "\n",
    "Sappiamo che si devono verificare alcune ipotesi:\n",
    "1. Campione con numero di elementi n > 30;\n",
    "2. Popolazione N almeno dieci volte superiore al campione N > 10*n.\n",
    "\n",
    "Per applicare al dataset Titanic, prima di tutto verifichiamo quante persone abbiamo nelle varie classi.\n",
    "\n"
   ]
  },
  {
   "cell_type": "markdown",
   "metadata": {
    "id": "KlgL_g8qHFYl"
   },
   "source": [
    "# Test del chi-quadrato\n",
    "\n",
    "Ora, supponiamo di avere i dati raccolti da un transatlantico simile al titanic in dimensioni, con tre classi a bordo. Sono stati raccolti i dati di vendite di diversi viaggi (totale di 10000 biglietti), ottenendo le seguenti stime: il 25% dei biglietti che saranno acquistati sara' in prima classe, il 15% in seconda classe, e il 60% in terza. \n",
    "\n",
    "Noi abbiamo ora questo campione (il dataset) e vogliamo verificare se la vendita di biglietti del titanic segua la stessa statistica di vendita del secondo transatlantico, oppure sia differente.\n",
    "\n",
    "Quindi ipotesi nulla:\n",
    "\n",
    "H0 = Le vendite di biglietti del titanic seguono la stessa statistica dell'altro transatlantico.\n",
    "HA = La distribuzione in classi passeggero e' diversa. \n",
    "\n",
    "\n",
    "Costruiamo una tabella di conteggi:"
   ]
  },
  {
   "cell_type": "code",
   "execution_count": 20,
   "metadata": {
    "colab": {
     "base_uri": "https://localhost:8080/"
    },
    "id": "WtXA-EbwJsgp",
    "outputId": "1467025e-e321-4520-bd00-ebeae4fcdfac"
   },
   "outputs": [
    {
     "ename": "NameError",
     "evalue": "name 'titanic' is not defined",
     "output_type": "error",
     "traceback": [
      "\u001b[1;31m---------------------------------------------------------------------------\u001b[0m",
      "\u001b[1;31mNameError\u001b[0m                                 Traceback (most recent call last)",
      "\u001b[1;32m~\\AppData\\Local\\Temp/ipykernel_15364/3228348621.py\u001b[0m in \u001b[0;36m<module>\u001b[1;34m\u001b[0m\n\u001b[0;32m      1\u001b[0m \u001b[1;31m# conteggi attesi\u001b[0m\u001b[1;33m\u001b[0m\u001b[1;33m\u001b[0m\u001b[0m\n\u001b[0;32m      2\u001b[0m \u001b[1;33m\u001b[0m\u001b[0m\n\u001b[1;32m----> 3\u001b[1;33m \u001b[0mtotal_passengers\u001b[0m \u001b[1;33m=\u001b[0m \u001b[0mtitanic\u001b[0m\u001b[1;33m.\u001b[0m\u001b[0mshape\u001b[0m\u001b[1;33m[\u001b[0m\u001b[1;36m0\u001b[0m\u001b[1;33m]\u001b[0m\u001b[1;33m\u001b[0m\u001b[1;33m\u001b[0m\u001b[0m\n\u001b[0m\u001b[0;32m      4\u001b[0m \u001b[0mclassi_Attese\u001b[0m \u001b[1;33m=\u001b[0m \u001b[1;33m[\u001b[0m\u001b[0mint\u001b[0m\u001b[1;33m(\u001b[0m\u001b[0mnp\u001b[0m\u001b[1;33m.\u001b[0m\u001b[0mround\u001b[0m\u001b[1;33m(\u001b[0m\u001b[0mtotal_passengers\u001b[0m\u001b[1;33m*\u001b[0m\u001b[1;36m0.25\u001b[0m\u001b[1;33m)\u001b[0m\u001b[1;33m)\u001b[0m\u001b[1;33m,\u001b[0m\u001b[0mint\u001b[0m\u001b[1;33m(\u001b[0m\u001b[0mnp\u001b[0m\u001b[1;33m.\u001b[0m\u001b[0mround\u001b[0m\u001b[1;33m(\u001b[0m\u001b[0mtotal_passengers\u001b[0m\u001b[1;33m*\u001b[0m\u001b[1;36m0.15\u001b[0m\u001b[1;33m)\u001b[0m\u001b[1;33m)\u001b[0m\u001b[1;33m,\u001b[0m\u001b[0mint\u001b[0m\u001b[1;33m(\u001b[0m\u001b[0mtotal_passengers\u001b[0m\u001b[1;33m*\u001b[0m\u001b[1;36m0.60\u001b[0m\u001b[1;33m)\u001b[0m\u001b[1;33m]\u001b[0m\u001b[1;33m\u001b[0m\u001b[1;33m\u001b[0m\u001b[0m\n\u001b[0;32m      5\u001b[0m \u001b[0mprint\u001b[0m\u001b[1;33m(\u001b[0m\u001b[0mclassi_Attese\u001b[0m\u001b[1;33m)\u001b[0m\u001b[1;33m\u001b[0m\u001b[1;33m\u001b[0m\u001b[0m\n",
      "\u001b[1;31mNameError\u001b[0m: name 'titanic' is not defined"
     ]
    }
   ],
   "source": [
    "# conteggi attesi\n",
    "\n",
    "total_passengers = titanic.shape[0]\n",
    "classi_Attese = [int(np.round(total_passengers*0.25)),int(np.round(total_passengers*0.15)),int(total_passengers*0.60)]\n",
    "print(classi_Attese)\n",
    "\n",
    "data = {'Prima classe': [216,classi_Attese[0]], 'Seconda classe': [184, classi_Attese[1]], 'Terza classe': [491, classi_Attese[2]]}\n",
    "df = pd.DataFrame(data)\n",
    "df.index = ['Observed', 'Expected']\n",
    "print(df)\n"
   ]
  },
  {
   "cell_type": "markdown",
   "metadata": {
    "id": "EYa0KKWaM1Z8"
   },
   "source": [
    "Vi viene in mente un test statistico che possiamo utilizzare?"
   ]
  },
  {
   "cell_type": "markdown",
   "metadata": {
    "id": "knMcu4CxOxRT"
   },
   "source": [
    "Usiamo un Chi-quadrato per l'idoneita'. \n",
    "Condizioni. \n",
    "1. Abbiamo almeno 5 conteggi? SI;\n",
    "2. Le singole osservazioni sono indipendenti e le dimensioni della popolazione devono essere pari ad almeno 10 volte quelle del campione (10n < N). Verificata, abbiamo 10000 biglietti.\n",
    "\n",
    "\n",
    "Usiamo Python e la libreria scipy nuovamente:"
   ]
  },
  {
   "cell_type": "code",
   "execution_count": null,
   "metadata": {
    "colab": {
     "base_uri": "https://localhost:8080/"
    },
    "id": "d9dKnCarM9Xj",
    "outputId": "66b120d6-6ebf-4bfe-8c0e-8deec9f61554"
   },
   "outputs": [],
   "source": [
    "observed = [216,184,491]\n",
    "expected = [223,134,534]\n",
    "chi_squared, p_value = stats.chisquare(f_obs= observed, f_exp= expected)\n",
    "\n",
    "print(chi_squared)\n",
    "print(p_value)"
   ]
  },
  {
   "cell_type": "markdown",
   "metadata": {
    "id": "gNM129JXP-Sf"
   },
   "source": [
    "Il p_value ottenuto e' inferiore al livello di significativita' fissato, quindi possiamo rigettare l'ipotesi nulla, in favore del fatto che la distribuzione di vendita' e' differente rispetto all'altro transatlantico. "
   ]
  },
  {
   "cell_type": "markdown",
   "metadata": {
    "id": "S9YwCv8QgE0L"
   },
   "source": [
    "**Compito per casa**\n",
    "Da fonte wikipedia, ritroviamo che: \n",
    "\n",
    "* *I passeggeri a bordo del titanic erano 1317: 324 in prima classe, 284 in seconda e 709 in terza*\n",
    "\n",
    "Ripetere il test chi-quadrato, verificando se le occorrenze nel dataset che abbiamo a dispozione rispecchiano questa ulteriore fonte di informazione.  "
   ]
  },
  {
   "cell_type": "markdown",
   "metadata": {},
   "source": [
    "# Analisi su Prezzo e Categorie\n",
    "In questa terza analisi ci concentriamo principalmente sulle feature Genres e Price:\n",
    "\n",
    "Dividiamo il dataset in 4 categorie di prezzo:\n",
    " \n",
    "- gratis\n",
    "- sotto i 20 dollari\n",
    "- tra i 20 e i 100 dollari\n",
    "- sopra i 100 dollari\n",
    "\n",
    "Eseguiamo un **test del chi-quadrato**, con le seguenti ipotesi:\n",
    "\n",
    "H0 = Il prezzo delle applicazioni nella categoria Family segue la stessa statistica della categoria .\n",
    "\n",
    "HA = La distribuzione dei prezzi e' diversa. "
   ]
  },
  {
   "cell_type": "code",
   "execution_count": 21,
   "metadata": {},
   "outputs": [
    {
     "ename": "ValueError",
     "evalue": "The truth value of a Series is ambiguous. Use a.empty, a.bool(), a.item(), a.any() or a.all().",
     "output_type": "error",
     "traceback": [
      "\u001b[1;31m---------------------------------------------------------------------------\u001b[0m",
      "\u001b[1;31mValueError\u001b[0m                                Traceback (most recent call last)",
      "\u001b[1;32m~\\AppData\\Local\\Temp/ipykernel_15364/4125711867.py\u001b[0m in \u001b[0;36m<module>\u001b[1;34m\u001b[0m\n\u001b[0;32m      1\u001b[0m \u001b[0mfree_apps\u001b[0m \u001b[1;33m=\u001b[0m \u001b[0mplaystore\u001b[0m\u001b[1;33m[\u001b[0m\u001b[0mplaystore\u001b[0m\u001b[1;33m[\u001b[0m\u001b[1;34m'Price'\u001b[0m\u001b[1;33m]\u001b[0m\u001b[1;33m==\u001b[0m\u001b[1;36m0\u001b[0m\u001b[1;33m]\u001b[0m\u001b[1;33m\u001b[0m\u001b[1;33m\u001b[0m\u001b[0m\n\u001b[1;32m----> 2\u001b[1;33m \u001b[0mcheap_apps\u001b[0m \u001b[1;33m=\u001b[0m \u001b[0mplaystore\u001b[0m\u001b[1;33m[\u001b[0m\u001b[0mplaystore\u001b[0m\u001b[1;33m[\u001b[0m\u001b[1;34m'Price'\u001b[0m\u001b[1;33m]\u001b[0m\u001b[1;33m>\u001b[0m\u001b[1;36m0\u001b[0m \u001b[1;32mand\u001b[0m \u001b[0mplaystore\u001b[0m\u001b[1;33m[\u001b[0m\u001b[1;34m'Price'\u001b[0m\u001b[1;33m]\u001b[0m\u001b[1;33m<=\u001b[0m\u001b[1;36m20\u001b[0m\u001b[1;33m]\u001b[0m\u001b[1;33m\u001b[0m\u001b[1;33m\u001b[0m\u001b[0m\n\u001b[0m\u001b[0;32m      3\u001b[0m \u001b[0maffordable_apps\u001b[0m \u001b[1;33m=\u001b[0m  \u001b[0mplaystore\u001b[0m\u001b[1;33m[\u001b[0m\u001b[0mplaystore\u001b[0m\u001b[1;33m[\u001b[0m\u001b[1;34m'Price'\u001b[0m\u001b[1;33m]\u001b[0m\u001b[1;33m>\u001b[0m\u001b[1;36m20\u001b[0m \u001b[1;32mand\u001b[0m \u001b[0mplaystore\u001b[0m\u001b[1;33m[\u001b[0m\u001b[1;34m'Price'\u001b[0m\u001b[1;33m]\u001b[0m\u001b[1;33m<=\u001b[0m\u001b[1;36m100\u001b[0m\u001b[1;33m]\u001b[0m\u001b[1;33m\u001b[0m\u001b[1;33m\u001b[0m\u001b[0m\n\u001b[0;32m      4\u001b[0m \u001b[0mexpensive_apps\u001b[0m \u001b[1;33m=\u001b[0m \u001b[0mplaystore\u001b[0m\u001b[1;33m[\u001b[0m\u001b[0mplaystore\u001b[0m\u001b[1;33m[\u001b[0m\u001b[1;34m'Price'\u001b[0m\u001b[1;33m]\u001b[0m\u001b[1;33m>\u001b[0m\u001b[1;36m100\u001b[0m\u001b[1;33m]\u001b[0m\u001b[1;33m\u001b[0m\u001b[1;33m\u001b[0m\u001b[0m\n\u001b[0;32m      5\u001b[0m \u001b[1;33m\u001b[0m\u001b[0m\n",
      "\u001b[1;32m~\\anaconda3\\lib\\site-packages\\pandas\\core\\generic.py\u001b[0m in \u001b[0;36m__nonzero__\u001b[1;34m(self)\u001b[0m\n\u001b[0;32m   1535\u001b[0m     \u001b[1;33m@\u001b[0m\u001b[0mfinal\u001b[0m\u001b[1;33m\u001b[0m\u001b[1;33m\u001b[0m\u001b[0m\n\u001b[0;32m   1536\u001b[0m     \u001b[1;32mdef\u001b[0m \u001b[0m__nonzero__\u001b[0m\u001b[1;33m(\u001b[0m\u001b[0mself\u001b[0m\u001b[1;33m)\u001b[0m\u001b[1;33m:\u001b[0m\u001b[1;33m\u001b[0m\u001b[1;33m\u001b[0m\u001b[0m\n\u001b[1;32m-> 1537\u001b[1;33m         raise ValueError(\n\u001b[0m\u001b[0;32m   1538\u001b[0m             \u001b[1;34mf\"The truth value of a {type(self).__name__} is ambiguous. \"\u001b[0m\u001b[1;33m\u001b[0m\u001b[1;33m\u001b[0m\u001b[0m\n\u001b[0;32m   1539\u001b[0m             \u001b[1;34m\"Use a.empty, a.bool(), a.item(), a.any() or a.all().\"\u001b[0m\u001b[1;33m\u001b[0m\u001b[1;33m\u001b[0m\u001b[0m\n",
      "\u001b[1;31mValueError\u001b[0m: The truth value of a Series is ambiguous. Use a.empty, a.bool(), a.item(), a.any() or a.all()."
     ]
    }
   ],
   "source": [
    "free_apps = playstore[playstore['Price']==0]\n",
    "cheap_apps = playstore[playstore['Price']>0 and playstore['Price']<=20]\n",
    "affordable_apps =  playstore[playstore['Price']>20 and playstore['Price']<=100]\n",
    "expensive_apps = playstore[playstore['Price']>100]\n",
    "\n",
    "perc_free_apps = len(free_apps) / playstore.shape[0]\n",
    "perc_cheap_apps = len(cheap_apps) / playstore.shape[0]\n",
    "perc_affordable_apps = len(affordable_apps) / playstore.shape[0]\n",
    "perc_expensive_apps = len(expensive_apps) / playstore.shape[0]\n",
    "\n",
    "print(\"Percentuale di app gratis: \" + str(perc_free_apps))\n",
    "print(\"Percentuale di app a pagamento: \" + str(perc_cheap_apps))\n",
    "print(\"Percentuale di app a pagamento: \" + str(perc_affordable_apps))\n",
    "print(\"Percentuale di app a pagamento: \" + str(perc_expensive_apps))"
   ]
  },
  {
   "cell_type": "code",
   "execution_count": null,
   "metadata": {},
   "outputs": [],
   "source": []
  }
 ],
 "metadata": {
  "colab": {
   "collapsed_sections": [],
   "name": "IDS_lab1.ipynb",
   "provenance": []
  },
  "kernelspec": {
   "display_name": "Python 3 (ipykernel)",
   "language": "python",
   "name": "python3"
  },
  "language_info": {
   "codemirror_mode": {
    "name": "ipython",
    "version": 3
   },
   "file_extension": ".py",
   "mimetype": "text/x-python",
   "name": "python",
   "nbconvert_exporter": "python",
   "pygments_lexer": "ipython3",
   "version": "3.9.7"
  }
 },
 "nbformat": 4,
 "nbformat_minor": 1
}
