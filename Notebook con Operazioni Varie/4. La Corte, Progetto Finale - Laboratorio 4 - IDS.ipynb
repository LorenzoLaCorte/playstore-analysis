{
 "cells": [
  {
   "cell_type": "markdown",
   "metadata": {},
   "source": [
    "# Partecipanti al Gruppo:\n",
    "Lorenzo Brizzi - S4865720\n",
    "\n",
    "Lorenzo La Corte - S4784539\n",
    "\n",
    "Davide Scarrà - S4798949"
   ]
  },
  {
   "cell_type": "markdown",
   "metadata": {
    "id": "vi2CpC-0cx62"
   },
   "source": [
    "# Laboratorio 4: Apprendimento Non Supervisionato"
   ]
  },
  {
   "cell_type": "code",
   "execution_count": 1,
   "metadata": {
    "id": "S5ndR9Geds9W"
   },
   "outputs": [],
   "source": [
    "import os\n",
    "import numpy as np\n",
    "import sklearn.datasets \n",
    "import matplotlib.pyplot as plt \n",
    "import random\n",
    "from sklearn import preprocessing\n",
    "import pandas as pd\n",
    "from sklearn.cluster import KMeans"
   ]
  },
  {
   "cell_type": "markdown",
   "metadata": {
    "id": "CpyH9hM9e6Ut"
   },
   "source": [
    "Oggi vediamo tecniche di machine learning non supervisionato.\n",
    "Prima di tutto, generiamo dei dati sintetici, utilizzando una distribuzione gaussiana, che immaginiamo rappresenti una caratteristica estratta da un qualche dataset. \n",
    "\n",
    "La funzione da utilizzare e':\n",
    "\n",
    "    sklearn.datasets.make_blobs\n",
    "  \n",
    "Quindi, generate per il momento 4 cluster."
   ]
  },
  {
   "cell_type": "code",
   "execution_count": 2,
   "metadata": {
    "id": "-fA67yVtfpRB"
   },
   "outputs": [],
   "source": [
    "from sklearn.datasets import make_blobs\n",
    "\n",
    "num_elements =  100\n",
    "n_features = 2 # consideriamo dati bidimensionali\n",
    "centers = [(-7, 0), (0, 0), (0, 8), (9, 3)]\n",
    "\n",
    "# codice qui per generare i dati (usate la documentazione su make_blobs)\n",
    "X, y = make_blobs(n_samples=num_elements, centers=centers, n_features=n_features)\n",
    "\n",
    "# X sono i dati generati\n",
    "# y sono le label delle entry della matrice X"
   ]
  },
  {
   "cell_type": "markdown",
   "metadata": {
    "id": "NqYR5Nx3kEO-"
   },
   "source": [
    "ora plottiamo il dataset da noi generato, usando un grafico a dispersione. \n",
    "Riuscite a rappresentare ogni cluster con un colore diverso?"
   ]
  },
  {
   "cell_type": "code",
   "execution_count": 3,
   "metadata": {
    "id": "67Up3Y-3kPsJ"
   },
   "outputs": [
    {
     "data": {
      "image/png": "[encoded data removed]",
      "text/plain": [
       "<Figure size 432x288 with 1 Axes>"
      ]
     },
     "metadata": {
      "needs_background": "light"
     },
     "output_type": "display_data"
    }
   ],
   "source": [
    "#codice qui \n",
    "for i in range(4):\n",
    "    # prendo X della classe i, sulle ascisse per i valori di sx della matrice, sulle ordinate per i valori di dx\n",
    "    plt.scatter(X[np.where(y==i),0], X[np.where(y==i),1]) # prendo mano a mano i dati dai diversi cluster"
   ]
  },
  {
   "cell_type": "markdown",
   "metadata": {
    "id": "XvO15_eUknxp"
   },
   "source": [
    "Adesso, supponiamo di non conoscere le label. Quindi, dimentichiamo il vettore y. (**in questo modo lo rendiamo NON SUPERVISIONATO**)"
   ]
  },
  {
   "cell_type": "code",
   "execution_count": 4,
   "metadata": {
    "id": "G1jz9vRVkvIp"
   },
   "outputs": [],
   "source": [
    "y=[] # azzeriamo il vettore y in modo da renderlo non supervisionato"
   ]
  },
  {
   "cell_type": "markdown",
   "metadata": {
    "id": "Qtb7ZPafkw-Q"
   },
   "source": [
    "# K-Means\n",
    "\n",
    "Riusciamo ad utilizzare un algoritmo di machine learning che permetta di associare i dati in base alla similarita'? \n",
    "possiamo usare un algoritmo di k-means. \n",
    "Quindi, proviamo ad implementarlo insieme.\n",
    "Cominciamo con un caso semplice, passando i centroidi che abbiamo usato per la generazione.\n",
    "Scriviamo una funzione:\n",
    "\n",
    "    def k_means(centroids, X, max_iter):\n",
    "    return y\n",
    "\n",
    "            "
   ]
  },
  {
   "cell_type": "markdown",
   "metadata": {
    "id": "hVlQLxkGlNu9"
   },
   "source": [
    "## Definizione dell'Algoritmo\n",
    "\n",
    "Siccome i centroidi li conosciamo (e questa è una super semplificazione), li usiamo.\n",
    "Dobbiamo seguire il seguente algoritmo:\n",
    "\n",
    "1. Calcoliamo la distanza di tutti i punti dai nostri centroidi, assegnando ciascun punto a quello piu' vicino;\n",
    "2. Calcoliamo i nuovi centroidi, come media dei punti assegnati a ciascun cluster;\n",
    "3. Iteriamo il procedimento fino a max_iter. \n",
    "4. Ritorniamo i cluster ottenuti.\n",
    "\n",
    "\n",
    "Scriviamo una funzione per il punto 1.\n",
    "\n",
    "tip. possiamo usare la funzione np.linalg.norm, considerando che la distanza euclidea corrisponde alla norma 2 della differenza tra due punti. "
   ]
  },
  {
   "cell_type": "code",
   "execution_count": 5,
   "metadata": {
    "id": "ef4S967LlpgK"
   },
   "outputs": [],
   "source": [
    "def return_distances(x,centroids):\n",
    "    distances = np.zeros((x.shape[0],len(centroids)))\n",
    "    \n",
    "    #codice qui\n",
    "    for i in range(0,x.shape[0]):\n",
    "        \n",
    "        for j in range(0,len(centroids)):\n",
    "\n",
    "            # devo calcolare la distanza tra il punto i e il centroide j\n",
    "            distances[i,j] = np.linalg.norm((x[i]-centroids[j]))\n",
    "\n",
    "    return distances"
   ]
  },
  {
   "cell_type": "code",
   "execution_count": 6,
   "metadata": {
    "id": "bkNfG1xVlh-u"
   },
   "outputs": [],
   "source": [
    "def k_means(X,max_iter, centroids = None):\n",
    "    \n",
    "    for i in range(0,max_iter):\n",
    "\n",
    "        distances = return_distances(X,centroids)\n",
    "\n",
    "        # a questo punto guardo qual'è il minimo della riga\n",
    "        y_pred = np.argmin(distances, axis=1)\n",
    "        \n",
    "        for c in range(0,len(centroids)):\n",
    "            centroids[c] = np.mean(X[y_pred==c],axis=0)\n",
    "    \n",
    "    return y_pred, centroids"
   ]
  },
  {
   "cell_type": "code",
   "execution_count": 7,
   "metadata": {
    "id": "Z7_A0G-DnYa5"
   },
   "outputs": [],
   "source": [
    "y,centroids = k_means(X,10,np.asarray(centers))"
   ]
  },
  {
   "cell_type": "markdown",
   "metadata": {
    "id": "zWXp79ImoioA"
   },
   "source": [
    "ora rappresentiamo quanto abbiamo trovato, e vediamo se il nostro algoritmo ha avuto successo"
   ]
  },
  {
   "cell_type": "code",
   "execution_count": 8,
   "metadata": {
    "id": "3qg-MoNElNH7"
   },
   "outputs": [
    {
     "data": {
      "image/png": "[encoded data removed]",
      "text/plain": [
       "<Figure size 432x288 with 1 Axes>"
      ]
     },
     "metadata": {
      "needs_background": "light"
     },
     "output_type": "display_data"
    }
   ],
   "source": [
    "#codice qui \n",
    "for i in range(4):\n",
    "    plt.scatter(X[np.where(y==i),0], X[np.where(y==i),1])"
   ]
  },
  {
   "cell_type": "markdown",
   "metadata": {
    "id": "gqgjcub6sl2L"
   },
   "source": [
    "adesso riscriviamo la funzione, usando centroidi random. \n",
    "Usiamo la funzione:\n",
    "    random.uniform(min,max)\n",
    "per generare i centroidi. Possiamo usare come range, il minimo e il massimo di ogni feature. "
   ]
  },
  {
   "cell_type": "code",
   "execution_count": 9,
   "metadata": {
    "id": "CStcCxI3srLm"
   },
   "outputs": [],
   "source": [
    "def k_means(X,max_iter,num_clusters):\n",
    "    centroids = np.zeros((4,X.shape[1]),dtype='float')\n",
    "    \n",
    "    # generazione dei centroidi\n",
    "    for i in range(0,num_clusters):\n",
    "        for j in range(0,X.shape[1]):\n",
    "\n",
    "            centroids[i,j] = (random.uniform(np.min(X[:, j]),np.max(X[:, j])))\n",
    "\n",
    "    #classico kmeans\n",
    "    for i in range(0,max_iter):\n",
    "        distances = return_distances(X,centroids)\n",
    "        y_pred = np.argmin(distances,axis=1)\n",
    "        for c in range(0,len(centroids)):\n",
    "                centroids[c] = np.mean(X[y_pred==c],axis=0)\n",
    "               \n",
    "    return y_pred,centroids "
   ]
  },
  {
   "cell_type": "markdown",
   "metadata": {
    "id": "FcAiktust0y4"
   },
   "source": [
    "verifichiamo ora il funzionamento"
   ]
  },
  {
   "cell_type": "code",
   "execution_count": 10,
   "metadata": {
    "id": "F7tBhx93t2Al"
   },
   "outputs": [],
   "source": [
    "y,centroids = k_means(X,10,4)"
   ]
  },
  {
   "cell_type": "code",
   "execution_count": 11,
   "metadata": {
    "id": "YSK3YuyGt24K"
   },
   "outputs": [
    {
     "name": "stdout",
     "output_type": "stream",
     "text": [
      "(4, 2)\n"
     ]
    },
    {
     "data": {
      "image/png": "[encoded data removed]",
      "text/plain": [
       "<Figure size 432x288 with 1 Axes>"
      ]
     },
     "metadata": {
      "needs_background": "light"
     },
     "output_type": "display_data"
    }
   ],
   "source": [
    "print(np.asarray(centroids).shape)\n",
    "plt.scatter(X[:,0],X[:,1])\n",
    "color = ['r','b','y','g']\n",
    "for i in range(0,4):\n",
    "    plt.scatter(X[np.where(y==i),0],X[np.where(y==i),1],color=color[i])"
   ]
  },
  {
   "cell_type": "markdown",
   "metadata": {
    "id": "P6z_Yiu0vDeN"
   },
   "source": [
    "Provate a runnare diverse volte, e traete qualche conclusione.\n",
    "\n",
    "Potevamo usare direttamente la funzione KMeans messa a disposizione da scikit-learn."
   ]
  },
  {
   "cell_type": "code",
   "execution_count": 12,
   "metadata": {
    "id": "doWKs4FKvHp-"
   },
   "outputs": [
    {
     "name": "stdout",
     "output_type": "stream",
     "text": [
      "(4, 2)\n"
     ]
    },
    {
     "data": {
      "image/png": "[encoded data removed]",
      "text/plain": [
       "<Figure size 432x288 with 1 Axes>"
      ]
     },
     "metadata": {
      "needs_background": "light"
     },
     "output_type": "display_data"
    }
   ],
   "source": [
    "kmeans = KMeans(n_clusters=4, random_state=0).fit(X)\n",
    "y=  kmeans.labels_ # sono i cluster a cui ciascun punto è stato assegnato\n",
    "\n",
    "print(np.asarray(centroids).shape)\n",
    "plt.scatter(X[:,0],X[:,1])\n",
    "color = ['r','b','y','g']\n",
    "for i in range(0,4):\n",
    "    plt.scatter(X[np.where(y==i),0],X[np.where(y==i),1],color=color[i])"
   ]
  },
  {
   "cell_type": "markdown",
   "metadata": {
    "id": "Z6BcP5P7wyq1"
   },
   "source": [
    "# Coefficiente di Silhouette\n",
    "## Procedimento senza conoscere il numero dei Cluster\n",
    "\n",
    "Abbiamo usato 4 cluster, perchè conosciamo già il numero (abbiamo generato noi il dataset). **Ma se non lo conoscessimo?** \n",
    "Vediamo insieme questa implementazione. Abbiamo usato il *silhouette score* di scikit_learn."
   ]
  },
  {
   "cell_type": "code",
   "execution_count": 13,
   "metadata": {
    "id": "sm4XDurTwzC2"
   },
   "outputs": [],
   "source": [
    "from sklearn.metrics import silhouette_samples, silhouette_score\n",
    "def silhouette(x):\n",
    "  silhouette_avg = []\n",
    "  for i in range(2, 11):\n",
    "      kmeans = KMeans(n_clusters = i, max_iter = 20, random_state = 0)\n",
    "      cluster_labels = kmeans.fit_predict(x)\n",
    "      silhouette_avg.append(silhouette_score(x, cluster_labels))\n",
    "\n",
    "    # The silhouette_score gives the average value for all the samples.\n",
    "    # This gives a perspective into the density and separation of the formed\n",
    "    # clusters\n",
    "    \n",
    "  plt.plot(range(2, 11), silhouette_avg,'-o')\n",
    "  plt.title('The silhouette method')\n",
    "  plt.xlabel('Number of clusters')\n",
    "  plt.ylabel('silhouette coefficient') #within cluster sum of squares\n",
    "  plt.show()"
   ]
  },
  {
   "cell_type": "markdown",
   "metadata": {
    "id": "2fL_Zr_yxY2B"
   },
   "source": [
    "vediamo ora il risultato!"
   ]
  },
  {
   "cell_type": "code",
   "execution_count": 14,
   "metadata": {
    "id": "6Jljlstbw-iB"
   },
   "outputs": [
    {
     "data": {
      "image/png": "[encoded data removed]",
      "text/plain": [
       "<Figure size 432x288 with 1 Axes>"
      ]
     },
     "metadata": {
      "needs_background": "light"
     },
     "output_type": "display_data"
    }
   ],
   "source": [
    "#codice qui \n",
    "silhouette(X)"
   ]
  },
  {
   "cell_type": "markdown",
   "metadata": {
    "id": "40LowGyHwW12"
   },
   "source": [
    "Ci risulta proprio che 4 sono i cluster adatti."
   ]
  },
  {
   "cell_type": "markdown",
   "metadata": {},
   "source": [
    "# Un Dataset Reale\n",
    "\n",
    "Ora ci spostiamo su un vero dataset. \n",
    "\n",
    "Il dataset iris racchiude caratteristiche di petalo e sepalo di diverse specie di iris. \n",
    "\n",
    "Carichiamo il dataset e, al solito, estraiamo informazioni di base. "
   ]
  },
  {
   "cell_type": "code",
   "execution_count": 15,
   "metadata": {
    "id": "LEhKWLwOgbDi"
   },
   "outputs": [
    {
     "data": {
      "text/html": [
       "<div>\n",
       "<style scoped>\n",
       "    .dataframe tbody tr th:only-of-type {\n",
       "        vertical-align: middle;\n",
       "    }\n",
       "\n",
       "    .dataframe tbody tr th {\n",
       "        vertical-align: top;\n",
       "    }\n",
       "\n",
       "    .dataframe thead th {\n",
       "        text-align: right;\n",
       "    }\n",
       "</style>\n",
       "<table border=\"1\" class=\"dataframe\">\n",
       "  <thead>\n",
       "    <tr style=\"text-align: right;\">\n",
       "      <th></th>\n",
       "      <th>Id</th>\n",
       "      <th>SepalLengthCm</th>\n",
       "      <th>SepalWidthCm</th>\n",
       "      <th>PetalLengthCm</th>\n",
       "      <th>PetalWidthCm</th>\n",
       "      <th>Species</th>\n",
       "    </tr>\n",
       "  </thead>\n",
       "  <tbody>\n",
       "    <tr>\n",
       "      <th>0</th>\n",
       "      <td>1</td>\n",
       "      <td>5.1</td>\n",
       "      <td>3.5</td>\n",
       "      <td>1.4</td>\n",
       "      <td>0.2</td>\n",
       "      <td>Iris-setosa</td>\n",
       "    </tr>\n",
       "    <tr>\n",
       "      <th>1</th>\n",
       "      <td>2</td>\n",
       "      <td>4.9</td>\n",
       "      <td>3.0</td>\n",
       "      <td>1.4</td>\n",
       "      <td>0.2</td>\n",
       "      <td>Iris-setosa</td>\n",
       "    </tr>\n",
       "    <tr>\n",
       "      <th>2</th>\n",
       "      <td>3</td>\n",
       "      <td>4.7</td>\n",
       "      <td>3.2</td>\n",
       "      <td>1.3</td>\n",
       "      <td>0.2</td>\n",
       "      <td>Iris-setosa</td>\n",
       "    </tr>\n",
       "    <tr>\n",
       "      <th>3</th>\n",
       "      <td>4</td>\n",
       "      <td>4.6</td>\n",
       "      <td>3.1</td>\n",
       "      <td>1.5</td>\n",
       "      <td>0.2</td>\n",
       "      <td>Iris-setosa</td>\n",
       "    </tr>\n",
       "    <tr>\n",
       "      <th>4</th>\n",
       "      <td>5</td>\n",
       "      <td>5.0</td>\n",
       "      <td>3.6</td>\n",
       "      <td>1.4</td>\n",
       "      <td>0.2</td>\n",
       "      <td>Iris-setosa</td>\n",
       "    </tr>\n",
       "  </tbody>\n",
       "</table>\n",
       "</div>"
      ],
      "text/plain": [
       "   Id  SepalLengthCm  SepalWidthCm  PetalLengthCm  PetalWidthCm      Species\n",
       "0   1            5.1           3.5            1.4           0.2  Iris-setosa\n",
       "1   2            4.9           3.0            1.4           0.2  Iris-setosa\n",
       "2   3            4.7           3.2            1.3           0.2  Iris-setosa\n",
       "3   4            4.6           3.1            1.5           0.2  Iris-setosa\n",
       "4   5            5.0           3.6            1.4           0.2  Iris-setosa"
      ]
     },
     "execution_count": 15,
     "metadata": {},
     "output_type": "execute_result"
    }
   ],
   "source": [
    "#codice qui \n",
    "iris = pd.read_csv('Iris.csv') \n",
    "iris.head()"
   ]
  },
  {
   "cell_type": "markdown",
   "metadata": {
    "id": "Dcjrq-3wrYZX"
   },
   "source": [
    "Verifichiamo quante diverse specie di iris siano incluse nel dataset "
   ]
  },
  {
   "cell_type": "code",
   "execution_count": 16,
   "metadata": {
    "id": "U1jt808Brfd2"
   },
   "outputs": [
    {
     "name": "stdout",
     "output_type": "stream",
     "text": [
      "['Iris-setosa' 'Iris-versicolor' 'Iris-virginica']\n"
     ]
    }
   ],
   "source": [
    "#codice qui\n",
    "species = np.unique(iris['Species'])\n",
    "\n",
    "print(species)"
   ]
  },
  {
   "cell_type": "markdown",
   "metadata": {},
   "source": [
    "**Ci sono 3 diverse specie.**"
   ]
  },
  {
   "cell_type": "markdown",
   "metadata": {
    "id": "SqzRSg4Rrf5-"
   },
   "source": [
    "## Grafico a dispersione per le diverse specie\n",
    "\n",
    "Ok, ora proviamo a rappresentare su un grafico a dispersione le diverse specie, considerando, per visualizzazione, solo due di queste features. \n",
    "\n",
    "*SepalLengthCm* e *PetalLengthCm*\n",
    "\n",
    "Provate a trovare un modo per rappresentare le varie specie con colori diversi. "
   ]
  },
  {
   "cell_type": "code",
   "execution_count": 17,
   "metadata": {
    "id": "Q-oGrMMugwqo"
   },
   "outputs": [
    {
     "data": {
      "image/png": "[encoded data removed]",
      "text/plain": [
       "<Figure size 432x288 with 1 Axes>"
      ]
     },
     "metadata": {
      "needs_background": "light"
     },
     "output_type": "display_data"
    }
   ],
   "source": [
    "color = ['r','g','b']\n",
    "\n",
    "#codice qui \n",
    "for i in range(0, len(species)):\n",
    "    plt.scatter(iris['SepalLengthCm'][np.where(iris['Species']==species[i])[0]], iris['PetalLengthCm'][np.where(iris['Species']==species[i])[0]], color=color[i])"
   ]
  },
  {
   "cell_type": "markdown",
   "metadata": {
    "id": "rrmY-hg-sni-"
   },
   "source": [
    "## Approccio non Supervisionato\n",
    "\n",
    "Ora verifichiamo se sia possibile usare un approccio non supervisionato per ritrovare le 3 specie. \n",
    "\n",
    "Prima di tutto, costruiamo un array X che useremo come input per il Kmeans, considerando le 4 caratteristiche a disposizione"
   ]
  },
  {
   "cell_type": "code",
   "execution_count": 18,
   "metadata": {
    "id": "I8zY0Y9ps6Eu"
   },
   "outputs": [],
   "source": [
    "#codice qui per costruire X dal dataframe \n",
    "X = iris[['SepalLengthCm','SepalWidthCm','PetalLengthCm','PetalWidthCm']]\n",
    "X = np.asarray(X)"
   ]
  },
  {
   "cell_type": "markdown",
   "metadata": {
    "id": "JhgYISYnuyiV"
   },
   "source": [
    "Prima di tutto standardizziamo il dato."
   ]
  },
  {
   "cell_type": "code",
   "execution_count": 19,
   "metadata": {
    "id": "dA8gsNQOu0Q2"
   },
   "outputs": [],
   "source": [
    "scaler = preprocessing.StandardScaler().fit(X)\n",
    "X = scaler.transform(X)"
   ]
  },
  {
   "cell_type": "markdown",
   "metadata": {
    "id": "Zlsrxsu7s762"
   },
   "source": [
    "Quindi usiamo il KMeans di scikit-learn per fittare i nostri dati, e predire le species. Usiamo 3 cluster."
   ]
  },
  {
   "cell_type": "code",
   "execution_count": 20,
   "metadata": {
    "id": "j0Jz3rHBqo_F"
   },
   "outputs": [
    {
     "data": {
      "image/png": "[encoded data removed]",
      "text/plain": [
       "<Figure size 432x288 with 1 Axes>"
      ]
     },
     "metadata": {
      "needs_background": "light"
     },
     "output_type": "display_data"
    }
   ],
   "source": [
    "#codice qui per kmeans \n",
    "kmeans = KMeans(n_clusters = 3, random_state = 0).fit(X)\n",
    "y = kmeans.labels_\n",
    "\n",
    "for i in range(0,3):\n",
    "    plt.scatter(X[np.where(y==i),0],X[np.where(y==i),2], color = color[i])"
   ]
  },
  {
   "cell_type": "markdown",
   "metadata": {
    "id": "i97aR_r4tUG-"
   },
   "source": [
    "# Un altro Dataset\n",
    "\n",
    "Bene! proviamo a fare qualcosa di simile, usando un altro dataset. Il dataset housing, racchiude informazioni circa la vendita e le caratteristiche di abitazioni in california. "
   ]
  },
  {
   "cell_type": "code",
   "execution_count": 21,
   "metadata": {
    "id": "njubUvJHwhBT"
   },
   "outputs": [
    {
     "data": {
      "text/html": [
       "<div>\n",
       "<style scoped>\n",
       "    .dataframe tbody tr th:only-of-type {\n",
       "        vertical-align: middle;\n",
       "    }\n",
       "\n",
       "    .dataframe tbody tr th {\n",
       "        vertical-align: top;\n",
       "    }\n",
       "\n",
       "    .dataframe thead th {\n",
       "        text-align: right;\n",
       "    }\n",
       "</style>\n",
       "<table border=\"1\" class=\"dataframe\">\n",
       "  <thead>\n",
       "    <tr style=\"text-align: right;\">\n",
       "      <th></th>\n",
       "      <th>longitude</th>\n",
       "      <th>latitude</th>\n",
       "      <th>housing_median_age</th>\n",
       "      <th>total_rooms</th>\n",
       "      <th>total_bedrooms</th>\n",
       "      <th>population</th>\n",
       "      <th>households</th>\n",
       "      <th>median_income</th>\n",
       "      <th>median_house_value</th>\n",
       "      <th>ocean_proximity</th>\n",
       "    </tr>\n",
       "  </thead>\n",
       "  <tbody>\n",
       "    <tr>\n",
       "      <th>0</th>\n",
       "      <td>-122.23</td>\n",
       "      <td>37.88</td>\n",
       "      <td>41.0</td>\n",
       "      <td>880.0</td>\n",
       "      <td>129.0</td>\n",
       "      <td>322.0</td>\n",
       "      <td>126.0</td>\n",
       "      <td>8.3252</td>\n",
       "      <td>452600.0</td>\n",
       "      <td>NEAR BAY</td>\n",
       "    </tr>\n",
       "    <tr>\n",
       "      <th>1</th>\n",
       "      <td>-122.22</td>\n",
       "      <td>37.86</td>\n",
       "      <td>21.0</td>\n",
       "      <td>7099.0</td>\n",
       "      <td>1106.0</td>\n",
       "      <td>2401.0</td>\n",
       "      <td>1138.0</td>\n",
       "      <td>8.3014</td>\n",
       "      <td>358500.0</td>\n",
       "      <td>NEAR BAY</td>\n",
       "    </tr>\n",
       "    <tr>\n",
       "      <th>2</th>\n",
       "      <td>-122.24</td>\n",
       "      <td>37.85</td>\n",
       "      <td>52.0</td>\n",
       "      <td>1467.0</td>\n",
       "      <td>190.0</td>\n",
       "      <td>496.0</td>\n",
       "      <td>177.0</td>\n",
       "      <td>7.2574</td>\n",
       "      <td>352100.0</td>\n",
       "      <td>NEAR BAY</td>\n",
       "    </tr>\n",
       "    <tr>\n",
       "      <th>3</th>\n",
       "      <td>-122.25</td>\n",
       "      <td>37.85</td>\n",
       "      <td>52.0</td>\n",
       "      <td>1274.0</td>\n",
       "      <td>235.0</td>\n",
       "      <td>558.0</td>\n",
       "      <td>219.0</td>\n",
       "      <td>5.6431</td>\n",
       "      <td>341300.0</td>\n",
       "      <td>NEAR BAY</td>\n",
       "    </tr>\n",
       "    <tr>\n",
       "      <th>4</th>\n",
       "      <td>-122.25</td>\n",
       "      <td>37.85</td>\n",
       "      <td>52.0</td>\n",
       "      <td>1627.0</td>\n",
       "      <td>280.0</td>\n",
       "      <td>565.0</td>\n",
       "      <td>259.0</td>\n",
       "      <td>3.8462</td>\n",
       "      <td>342200.0</td>\n",
       "      <td>NEAR BAY</td>\n",
       "    </tr>\n",
       "  </tbody>\n",
       "</table>\n",
       "</div>"
      ],
      "text/plain": [
       "   longitude  latitude  housing_median_age  total_rooms  total_bedrooms  \\\n",
       "0    -122.23     37.88                41.0        880.0           129.0   \n",
       "1    -122.22     37.86                21.0       7099.0          1106.0   \n",
       "2    -122.24     37.85                52.0       1467.0           190.0   \n",
       "3    -122.25     37.85                52.0       1274.0           235.0   \n",
       "4    -122.25     37.85                52.0       1627.0           280.0   \n",
       "\n",
       "   population  households  median_income  median_house_value ocean_proximity  \n",
       "0       322.0       126.0         8.3252            452600.0        NEAR BAY  \n",
       "1      2401.0      1138.0         8.3014            358500.0        NEAR BAY  \n",
       "2       496.0       177.0         7.2574            352100.0        NEAR BAY  \n",
       "3       558.0       219.0         5.6431            341300.0        NEAR BAY  \n",
       "4       565.0       259.0         3.8462            342200.0        NEAR BAY  "
      ]
     },
     "execution_count": 21,
     "metadata": {},
     "output_type": "execute_result"
    }
   ],
   "source": [
    "#codice qui \n",
    "house = pd.read_csv('housing.csv') \n",
    "house.head()"
   ]
  },
  {
   "cell_type": "markdown",
   "metadata": {
    "id": "KgMX5wwzar4_"
   },
   "source": [
    "Ora, selezioniamo soltanto le colonne longitude, latitude e median income. In sostanza, vogliamo utilizzare il learning non supervisionato per dividere le regioni della california in base a questi tre parametri. \n",
    "Usiamo un numero di cluster uguale a 6 per questo esercizio. "
   ]
  },
  {
   "cell_type": "code",
   "execution_count": 22,
   "metadata": {
    "id": "RylOJUY8xZnu"
   },
   "outputs": [],
   "source": [
    "#codice qui\n",
    "X = house[['longitude','latitude','median_income']]\n",
    "X = np.asarray(X)"
   ]
  },
  {
   "cell_type": "markdown",
   "metadata": {
    "id": "9fWvxbPxx_vn"
   },
   "source": [
    "standardizziamo il dataset"
   ]
  },
  {
   "cell_type": "code",
   "execution_count": 23,
   "metadata": {
    "id": "Lnfxs6-XyDa6"
   },
   "outputs": [],
   "source": [
    "scaler = preprocessing.StandardScaler().fit(X)\n",
    "X = scaler.transform(X)"
   ]
  },
  {
   "cell_type": "markdown",
   "metadata": {
    "id": "kt0gmMSja6TU"
   },
   "source": [
    "Runnate quindi un KMeans usando la libreria sklearn, con 6 cluster e sul dataset appena creato. "
   ]
  },
  {
   "cell_type": "code",
   "execution_count": 27,
   "metadata": {
    "id": "mey62klIbDDp"
   },
   "outputs": [],
   "source": [
    "kmeans = KMeans(n_clusters = 6, random_state = 0).fit(X)\n",
    "y=  kmeans.labels_"
   ]
  },
  {
   "cell_type": "markdown",
   "metadata": {
    "id": "QIjTMrT5bGns"
   },
   "source": [
    "visualizziamo i cluster identificati usando longitudine e latitudine "
   ]
  },
  {
   "cell_type": "code",
   "execution_count": 32,
   "metadata": {
    "id": "X179BjbFbIJy"
   },
   "outputs": [
    {
     "name": "stdout",
     "output_type": "stream",
     "text": [
      "(4, 2)\n"
     ]
    },
    {
     "data": {
      "image/png": "[encoded data removed]",
      "text/plain": [
       "<Figure size 432x288 with 1 Axes>"
      ]
     },
     "metadata": {
      "needs_background": "light"
     },
     "output_type": "display_data"
    }
   ],
   "source": [
    "plt.scatter(X[:,0],X[:,1])\n",
    "print(np.asarray(centroids).shape)\n",
    "color = ['r','b','y','g','m','c']\n",
    "for i in range(0,6):\n",
    "    plt.scatter(X[np.where(y==i),0],X[np.where(y==i),1],color=color[i],alpha=0.3)"
   ]
  },
  {
   "cell_type": "markdown",
   "metadata": {},
   "source": [
    "Osserviamo che i punti di maggior ricchezza corrispondo ai dintorni di Los Angeles e la silicon valley."
   ]
  },
  {
   "cell_type": "markdown",
   "metadata": {
    "id": "KXlYv2UIbKEt"
   },
   "source": [
    "# Box Plot\n",
    "\n",
    "La variabile di output del nostro dataset è il costo mediano delle case. Quindi, una buona idea per valutare il nostro clustering è di visualizzare con un opportuna modalità, la variabile median_house_value in base ai cluster trovati.\n",
    "\n",
    "1. Prima di tutto, creiamo una colonna cluster nel dataframe, riportando i cluster stimati dal kmeans;\n",
    "  - quindi dobbiamo predire X usando il kmeans \n",
    "2. Visualizziamo il median_house_value in base al cluster. \n",
    "\n",
    "\n",
    "Siamo riusciti a separare i nostri dati rispetto a questa variabile?"
   ]
  },
  {
   "cell_type": "code",
   "execution_count": 33,
   "metadata": {
    "id": "COvmkNyrzjcd"
   },
   "outputs": [
    {
     "data": {
      "text/plain": [
       "<AxesSubplot:title={'center':'median_house_value'}, xlabel='Cluster'>"
      ]
     },
     "execution_count": 33,
     "metadata": {},
     "output_type": "execute_result"
    },
    {
     "data": {
      "image/png": "[encoded data removed]",
      "text/plain": [
       "<Figure size 432x288 with 1 Axes>"
      ]
     },
     "metadata": {
      "needs_background": "light"
     },
     "output_type": "display_data"
    }
   ],
   "source": [
    "#codice qui \n",
    "house[\"Cluster\"] = kmeans.predict(X)\n",
    "house.boxplot(column='median_house_value', by='Cluster')"
   ]
  }
 ],
 "metadata": {
  "colab": {
   "collapsed_sections": [],
   "name": "Lab4.ipynb",
   "provenance": []
  },
  "kernelspec": {
   "display_name": "Python 3 (ipykernel)",
   "language": "python",
   "name": "python3"
  },
  "language_info": {
   "codemirror_mode": {
    "name": "ipython",
    "version": 3
   },
   "file_extension": ".py",
   "mimetype": "text/x-python",
   "name": "python",
   "nbconvert_exporter": "python",
   "pygments_lexer": "ipython3",
   "version": "3.9.7"
  }
 },
 "nbformat": 4,
 "nbformat_minor": 1
}
